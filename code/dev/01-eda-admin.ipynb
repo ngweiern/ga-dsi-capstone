{
 "cells": [
  {
   "cell_type": "markdown",
   "metadata": {},
   "source": [
    "## Import libraries"
   ]
  },
  {
   "cell_type": "code",
   "execution_count": null,
   "metadata": {},
   "outputs": [],
   "source": [
    "import pandas as pd\n",
    "import numpy as np\n",
    "import matplotlib.pyplot as plt\n",
    "import seaborn as sns\n",
    "from datetime import datetime\n",
    "\n",
    "%matplotlib inline"
   ]
  },
  {
   "cell_type": "code",
   "execution_count": null,
   "metadata": {},
   "outputs": [],
   "source": [
    "# import tensorflow as tf\n",
    "# print(\"tf version = \", tf.__version__)\n",
    "# with tf.device(\"/gpu:0\"):\n",
    "#     a = tf.constant([1.0, 2.0, 3.0, 4.0, 5.0, 6.0], shape=[2, 3], name='a')\n",
    "#     b = tf.constant([1.0, 2.0, 3.0, 4.0, 5.0, 6.0], shape=[3, 2], name='b')\n",
    "#     c = tf.matmul(a, b)\n",
    "# with tf.Session() as sess:\n",
    "#     print (sess.run(c))"
   ]
  },
  {
   "cell_type": "markdown",
   "metadata": {},
   "source": [
    "## Read data"
   ]
  },
  {
   "cell_type": "code",
   "execution_count": null,
   "metadata": {},
   "outputs": [],
   "source": [
    "admin = pd.read_csv('./AirTracks/all_csv/Jan2017/admin.csv')"
   ]
  },
  {
   "cell_type": "code",
   "execution_count": null,
   "metadata": {},
   "outputs": [],
   "source": [
    "admin.head(2)"
   ]
  },
  {
   "cell_type": "code",
   "execution_count": null,
   "metadata": {},
   "outputs": [],
   "source": [
    "# trails = pd.read_feather('./AirTracks/all_csv/Jan2017/trails.feather')\n",
    "# trails = pd.read_csv('./AirTracks/all_csv/Jan2017/trails.csv', low_memory=True)"
   ]
  },
  {
   "cell_type": "markdown",
   "metadata": {},
   "source": [
    "## Rename columns"
   ]
  },
  {
   "cell_type": "code",
   "execution_count": null,
   "metadata": {},
   "outputs": [],
   "source": [
    "admin.rename(columns={\n",
    "    'FlightId': 'flight_id',\n",
    "    'FlightCallsign': 'flight_callsign',\n",
    "    'AircraftModel': 'aircraft_model',\n",
    "    'AircraftRegistration': 'aircraft_registration',\n",
    "    'SchdeuledDeparture': 'scheduled_departure',\n",
    "    'ScheduledArrival': 'scheduled_arrival',\n",
    "    'RealDeparture': 'real_departure',\n",
    "    'EstimatedArrival': 'estimated_arrival',\n",
    "    'FlightTime': 'flight_time'\n",
    "     }, inplace=True)\n",
    "\n",
    "admin.columns = admin.columns.map(lambda x: x.lower())"
   ]
  },
  {
   "cell_type": "code",
   "execution_count": null,
   "metadata": {
    "scrolled": true
   },
   "outputs": [],
   "source": [
    "admin.columns"
   ]
  },
  {
   "cell_type": "code",
   "execution_count": null,
   "metadata": {},
   "outputs": [],
   "source": [
    "admin.dtypes"
   ]
  },
  {
   "cell_type": "markdown",
   "metadata": {},
   "source": [
    "## Handling null data"
   ]
  },
  {
   "cell_type": "code",
   "execution_count": null,
   "metadata": {},
   "outputs": [],
   "source": [
    "admin.isnull().sum()"
   ]
  },
  {
   "cell_type": "code",
   "execution_count": null,
   "metadata": {},
   "outputs": [],
   "source": [
    "admin.info()"
   ]
  },
  {
   "cell_type": "code",
   "execution_count": null,
   "metadata": {},
   "outputs": [],
   "source": [
    "# Drop rows where both origin and destination are NaN\n",
    "# admin[~(admin['origin'].isnull() & admin['destination'].isnull())]"
   ]
  },
  {
   "cell_type": "code",
   "execution_count": null,
   "metadata": {},
   "outputs": [],
   "source": [
    "# Drop rows where either origin and destination are NaN\n",
    "admin.dropna(subset=['origin', 'destination'], inplace=True)"
   ]
  },
  {
   "cell_type": "code",
   "execution_count": null,
   "metadata": {},
   "outputs": [],
   "source": [
    "# ls_object_columns = admin.loc[:, admin.dtypes == object].columns.tolist()\n",
    "str_cols = admin.columns[admin.dtypes==object]"
   ]
  },
  {
   "cell_type": "code",
   "execution_count": null,
   "metadata": {},
   "outputs": [],
   "source": [
    "# Fill NaN with empty string\n",
    "admin[str_cols] = admin[str_cols].fillna('')"
   ]
  },
  {
   "cell_type": "code",
   "execution_count": null,
   "metadata": {},
   "outputs": [],
   "source": [
    "# Strip leading and trailing spaces in object columns\n",
    "admin[str_cols] = admin[str_cols].apply(lambda x: x.str.strip())"
   ]
  },
  {
   "cell_type": "markdown",
   "metadata": {},
   "source": [
    "## Convert to datetime"
   ]
  },
  {
   "cell_type": "code",
   "execution_count": null,
   "metadata": {},
   "outputs": [],
   "source": [
    "def get_utc_datetime(value):\n",
    "    try:\n",
    "        return datetime.fromtimestamp(value)\n",
    "    except:\n",
    "        return pd.NaT\n",
    "    \n",
    "admin['scheduled_departure'] = admin['scheduled_departure'].map(get_utc_datetime)\n",
    "admin['scheduled_arrival'] = admin['scheduled_arrival'].map(get_utc_datetime)\n",
    "admin['real_departure'] = admin['real_departure'].map(get_utc_datetime)\n",
    "admin['estimated_arrival'] = admin['estimated_arrival'].map(get_utc_datetime)"
   ]
  },
  {
   "cell_type": "markdown",
   "metadata": {},
   "source": [
    "**ScheduledArrival and ScheduledDeparture**"
   ]
  },
  {
   "cell_type": "code",
   "execution_count": null,
   "metadata": {},
   "outputs": [],
   "source": [
    "admin['scheduled_arrival'][:5]"
   ]
  },
  {
   "cell_type": "code",
   "execution_count": null,
   "metadata": {},
   "outputs": [],
   "source": [
    "admin['scheduled_departure'][:5]"
   ]
  },
  {
   "cell_type": "markdown",
   "metadata": {},
   "source": [
    "Observation: There are some dates where year = 1970. Check if there are dates that do not fall within Jan 2017"
   ]
  },
  {
   "cell_type": "code",
   "execution_count": null,
   "metadata": {},
   "outputs": [],
   "source": [
    "admin['scheduled_arrival_year'] = admin['scheduled_arrival'].dt.year\n",
    "admin['scheduled_arrival_month'] = admin['scheduled_arrival'].dt.month\n",
    "admin['scheduled_arrival_day'] = admin['scheduled_arrival'].dt.day"
   ]
  },
  {
   "cell_type": "code",
   "execution_count": null,
   "metadata": {},
   "outputs": [],
   "source": [
    "admin['scheduled_departure_year'] = admin['scheduled_departure'].dt.year\n",
    "admin['scheduled_departure_month'] = admin['scheduled_departure'].dt.month\n",
    "admin['scheduled_departure_day'] = admin['scheduled_departure'].dt.day"
   ]
  },
  {
   "cell_type": "code",
   "execution_count": null,
   "metadata": {},
   "outputs": [],
   "source": [
    "admin['scheduled_arrival_year'].value_counts(dropna=False).sort_index()"
   ]
  },
  {
   "cell_type": "code",
   "execution_count": null,
   "metadata": {},
   "outputs": [],
   "source": [
    "admin['scheduled_arrival_month'].value_counts(dropna=False).sort_index()"
   ]
  },
  {
   "cell_type": "code",
   "execution_count": null,
   "metadata": {},
   "outputs": [],
   "source": [
    "admin['scheduled_arrival_day'].value_counts(dropna=False).sort_index()"
   ]
  },
  {
   "cell_type": "code",
   "execution_count": null,
   "metadata": {},
   "outputs": [],
   "source": [
    "admin['scheduled_arrival'].isnull().sum()"
   ]
  },
  {
   "cell_type": "code",
   "execution_count": null,
   "metadata": {},
   "outputs": [],
   "source": [
    "admin['scheduled_departure'].isnull().sum()"
   ]
  },
  {
   "cell_type": "code",
   "execution_count": null,
   "metadata": {},
   "outputs": [],
   "source": [
    "schedule_arrival_missing_index = admin.loc[admin['scheduled_arrival'].isnull(),'scheduled_arrival'].index.tolist()\n",
    "# # returns the same result\n",
    "# admin['ScheduledArrival'][admin['ScheduledArrival'].isnull()].index"
   ]
  },
  {
   "cell_type": "code",
   "execution_count": null,
   "metadata": {},
   "outputs": [],
   "source": [
    "schedule_departure_missing_index = admin.loc[admin['scheduled_departure'].isnull(),'scheduled_departure'].index.tolist()"
   ]
  },
  {
   "cell_type": "code",
   "execution_count": null,
   "metadata": {},
   "outputs": [],
   "source": [
    "np.array_equal(schedule_departure_missing_index, schedule_arrival_missing_index)"
   ]
  },
  {
   "cell_type": "markdown",
   "metadata": {},
   "source": [
    "Observation: Rows with NaT for ScheduledArrival also had NaT for ScheduledDeparture"
   ]
  },
  {
   "cell_type": "code",
   "execution_count": null,
   "metadata": {},
   "outputs": [],
   "source": [
    "estimated_arrival_missing_index = admin.loc[admin['estimated_arrival'].isnull(), 'estimated_arrival'].index.tolist()"
   ]
  },
  {
   "cell_type": "code",
   "execution_count": null,
   "metadata": {},
   "outputs": [],
   "source": [
    "len(estimated_arrival_missing_index)"
   ]
  },
  {
   "cell_type": "code",
   "execution_count": null,
   "metadata": {},
   "outputs": [],
   "source": [
    "len(list(set(estimated_arrival_missing_index).intersection(set(schedule_departure_missing_index))))"
   ]
  },
  {
   "cell_type": "markdown",
   "metadata": {},
   "source": [
    "EstimatedArrival shares common missing values for ScheduledArrival and ScheduledDeparture"
   ]
  },
  {
   "cell_type": "code",
   "execution_count": null,
   "metadata": {},
   "outputs": [],
   "source": [
    "# Calculate scheduled flight time in timedelta type\n",
    "admin['scheduled_flight_time'] = admin['scheduled_arrival'] - admin['scheduled_departure']"
   ]
  },
  {
   "cell_type": "code",
   "execution_count": null,
   "metadata": {},
   "outputs": [],
   "source": [
    "# Convert scheduled flight time from timedelta to seconds\n",
    "admin['scheduled_flight_time'] = admin['scheduled_flight_time'].map(lambda x: x.total_seconds())"
   ]
  },
  {
   "cell_type": "markdown",
   "metadata": {},
   "source": [
    "**FlightTime**"
   ]
  },
  {
   "cell_type": "code",
   "execution_count": null,
   "metadata": {},
   "outputs": [],
   "source": [
    "(admin['estimated_arrival'] - admin['real_departure'])[1].total_seconds()"
   ]
  },
  {
   "cell_type": "code",
   "execution_count": null,
   "metadata": {},
   "outputs": [],
   "source": [
    "admin.shape"
   ]
  },
  {
   "cell_type": "code",
   "execution_count": null,
   "metadata": {},
   "outputs": [],
   "source": [
    "admin.dropna(subset=['flight_time'], inplace=True)"
   ]
  },
  {
   "cell_type": "code",
   "execution_count": null,
   "metadata": {},
   "outputs": [],
   "source": [
    "admin['flight_time'].isnull().sum()"
   ]
  },
  {
   "cell_type": "code",
   "execution_count": null,
   "metadata": {},
   "outputs": [],
   "source": [
    "admin['real_departure'].isnull().sum()"
   ]
  },
  {
   "cell_type": "code",
   "execution_count": null,
   "metadata": {},
   "outputs": [],
   "source": [
    "def get_h_m_s(value):\n",
    "    h = value // 3600\n",
    "    m = value % 3600 // 60\n",
    "    s = value % 60\n",
    "    try:\n",
    "        return int(h), int(m), int(s)\n",
    "    except:\n",
    "        return np.nan"
   ]
  },
  {
   "cell_type": "code",
   "execution_count": null,
   "metadata": {},
   "outputs": [],
   "source": [
    "admin['flight_time'].apply(get_h_m_s)"
   ]
  },
  {
   "cell_type": "code",
   "execution_count": null,
   "metadata": {},
   "outputs": [],
   "source": [
    "import datetime\n",
    "str(datetime.timedelta(seconds=7144))"
   ]
  },
  {
   "cell_type": "code",
   "execution_count": null,
   "metadata": {},
   "outputs": [],
   "source": [
    "# Reference: https://stackoverflow.com/questions/775049/how-do-i-convert-seconds-to-hours-minutes-and-seconds\n",
    "m, s = divmod(7144, 60)\n",
    "h, m = divmod(m, 60)\n",
    "h, m, s"
   ]
  },
  {
   "cell_type": "code",
   "execution_count": null,
   "metadata": {},
   "outputs": [],
   "source": [
    "# Reference: https://stackoverflow.com/questions/1384406/convert-seconds-to-hhmmss-in-python\n",
    "s = 7144\n",
    "m = s // 60\n",
    "h = m // 60\n",
    "h, m%60, s%60"
   ]
  },
  {
   "cell_type": "markdown",
   "metadata": {},
   "source": [
    "## Analysis of a single flight (flight_id = c244ac4)"
   ]
  },
  {
   "cell_type": "code",
   "execution_count": null,
   "metadata": {},
   "outputs": [],
   "source": [
    "admin.columns"
   ]
  },
  {
   "cell_type": "code",
   "execution_count": null,
   "metadata": {},
   "outputs": [],
   "source": [
    "admin[admin.flight_id == 'c244ac4']"
   ]
  },
  {
   "cell_type": "code",
   "execution_count": null,
   "metadata": {},
   "outputs": [],
   "source": [
    "str(datetime.timedelta(seconds=admin.loc[admin.flight_id == 'c244ac4', 'flight_time'].values[0]))"
   ]
  },
  {
   "cell_type": "markdown",
   "metadata": {},
   "source": [
    "## Singapore Changi Airport"
   ]
  },
  {
   "cell_type": "code",
   "execution_count": null,
   "metadata": {},
   "outputs": [],
   "source": [
    "df_origin_sca = admin.loc[admin.origin.str.contains('Changi', na=False)]"
   ]
  },
  {
   "cell_type": "code",
   "execution_count": null,
   "metadata": {},
   "outputs": [],
   "source": [
    "df_dest_sca = admin.loc[admin.destination.str.contains('Changi', na=False)]"
   ]
  },
  {
   "cell_type": "code",
   "execution_count": null,
   "metadata": {},
   "outputs": [],
   "source": [
    "print(df_origin_sca.shape)\n",
    "df_dest_sca.shape"
   ]
  },
  {
   "cell_type": "code",
   "execution_count": null,
   "metadata": {},
   "outputs": [],
   "source": [
    "df_origin_sca.destination.value_counts()[:10]"
   ]
  },
  {
   "cell_type": "code",
   "execution_count": null,
   "metadata": {},
   "outputs": [],
   "source": [
    "df_dest_sca.origin.value_counts()[:10]"
   ]
  },
  {
   "cell_type": "markdown",
   "metadata": {},
   "source": [
    "## Route"
   ]
  },
  {
   "cell_type": "code",
   "execution_count": null,
   "metadata": {},
   "outputs": [],
   "source": [
    "admin['route'] = admin.origin + \" -> \" + admin.destination"
   ]
  },
  {
   "cell_type": "code",
   "execution_count": null,
   "metadata": {},
   "outputs": [],
   "source": [
    "admin['route'].value_counts()[:20]"
   ]
  },
  {
   "cell_type": "code",
   "execution_count": null,
   "metadata": {},
   "outputs": [],
   "source": [
    "# admin.dropna(subset=['flight_time']).isnull().sum()"
   ]
  },
  {
   "cell_type": "code",
   "execution_count": null,
   "metadata": {},
   "outputs": [],
   "source": [
    "admin.isnull().sum()"
   ]
  },
  {
   "cell_type": "code",
   "execution_count": null,
   "metadata": {},
   "outputs": [],
   "source": [
    "# mask = df_dest_sca.origin.str.contains('Jakarta Soekarno Hatta International Airport')\n",
    "# df_jkt_sin = df_dest_sca.loc[mask]\n",
    "# del admin"
   ]
  },
  {
   "cell_type": "code",
   "execution_count": null,
   "metadata": {},
   "outputs": [],
   "source": [
    "mask = admin['route'] == 'Taiwan Taoyuan International Airport -> Hong Kong International Airport'\n",
    "df_twn_hkg = admin[mask]\n",
    "del admin"
   ]
  },
  {
   "cell_type": "code",
   "execution_count": null,
   "metadata": {},
   "outputs": [],
   "source": [
    "df_twn_hkg.sort_values(by='scheduled_departure').head(20)"
   ]
  },
  {
   "cell_type": "code",
   "execution_count": null,
   "metadata": {},
   "outputs": [],
   "source": [
    "df_twn_hkg['scheduled_departure'].sort_values()[:15]"
   ]
  },
  {
   "cell_type": "code",
   "execution_count": null,
   "metadata": {},
   "outputs": [],
   "source": [
    "df_twn_hkg['scheduled_arrival'].sort_values()[:15]"
   ]
  },
  {
   "cell_type": "code",
   "execution_count": null,
   "metadata": {},
   "outputs": [],
   "source": [
    "df_twn_hkg[df_twn_hkg['scheduled_departure'].isnull()].index"
   ]
  },
  {
   "cell_type": "code",
   "execution_count": null,
   "metadata": {},
   "outputs": [],
   "source": [
    "df_twn_hkg.loc[841654]"
   ]
  },
  {
   "cell_type": "code",
   "execution_count": null,
   "metadata": {},
   "outputs": [],
   "source": [
    "# (df_twn_hkg['scheduled_arrival_year'].dropna().astype(int).astype(str) + '-' + \\\n",
    "# df_twn_hkg['scheduled_arrival_month'].dropna().astype(int).astype(str) + '-' + \\\n",
    "# df_twn_hkg['scheduled_arrival_day'].dropna().astype(int).astype(str)) \\\n",
    "# .value_counts() \\\n",
    "# .sort_index()\n",
    "df_twn_hkg['scheduled_arrival'].dt.date.value_counts(dropna=False).sort_index()"
   ]
  },
  {
   "cell_type": "code",
   "execution_count": null,
   "metadata": {},
   "outputs": [],
   "source": [
    "df_twn_hkg['scheduled_departure'].dt.date.value_counts(dropna=False).sort_index()"
   ]
  },
  {
   "cell_type": "code",
   "execution_count": null,
   "metadata": {},
   "outputs": [],
   "source": [
    "flights_in_1970 = df_twn_hkg[(df_twn_hkg['scheduled_arrival'].dt.date == pd.Timestamp(\"1970-01-01 00:00:00\")) & \n",
    "                             (df_twn_hkg['scheduled_departure'].dt.date == pd.Timestamp(\"1970-01-01 00:00:00\"))]\n",
    "flights_in_1970.sort_values(by='real_departure')"
   ]
  },
  {
   "cell_type": "code",
   "execution_count": null,
   "metadata": {},
   "outputs": [],
   "source": [
    "flights_in_1970['flight_callsign'].value_counts()"
   ]
  },
  {
   "cell_type": "code",
   "execution_count": null,
   "metadata": {},
   "outputs": [],
   "source": [
    "flights_in_1970['aircraft_model'].value_counts()"
   ]
  },
  {
   "cell_type": "code",
   "execution_count": null,
   "metadata": {},
   "outputs": [],
   "source": [
    "flights_in_1970['aircraft_registration'].value_counts()"
   ]
  },
  {
   "cell_type": "code",
   "execution_count": null,
   "metadata": {},
   "outputs": [],
   "source": [
    "flights_in_1970['airline'].value_counts()"
   ]
  },
  {
   "cell_type": "code",
   "execution_count": null,
   "metadata": {},
   "outputs": [],
   "source": [
    "df_twn_hkg.loc[df_twn_hkg['airline'] == 'EVA Air Cargo', 'flight_time'].value_counts()"
   ]
  },
  {
   "cell_type": "code",
   "execution_count": null,
   "metadata": {},
   "outputs": [],
   "source": [
    "trails = pd.read_feather('./AirTracks/all_csv/Jan2017/trails.feather')"
   ]
  },
  {
   "cell_type": "code",
   "execution_count": null,
   "metadata": {},
   "outputs": [],
   "source": [
    "trails.rename(columns={\n",
    "    'FlightId': 'flight_id'\n",
    "     }, inplace=True)\n",
    "\n",
    "trails.columns = trails.columns.map(lambda x: x.lower())"
   ]
  },
  {
   "cell_type": "code",
   "execution_count": null,
   "metadata": {},
   "outputs": [],
   "source": [
    "trails.loc[trails['flight_id'] == 'c0b7b08', 'timestamp'].max() - \\\n",
    "trails.loc[trails['flight_id'] == 'c0b7b08', 'timestamp'].min()"
   ]
  },
  {
   "cell_type": "code",
   "execution_count": null,
   "metadata": {},
   "outputs": [],
   "source": [
    "flight_c24c29f = trails.loc[trails['flight_id'] == 'c24c29f', :]"
   ]
  },
  {
   "cell_type": "code",
   "execution_count": null,
   "metadata": {},
   "outputs": [],
   "source": [
    "flight_c24c29f.head()"
   ]
  },
  {
   "cell_type": "code",
   "execution_count": null,
   "metadata": {},
   "outputs": [],
   "source": [
    "datetime.fromtimestamp(flight_c24c29f.loc[71866, 'timestamp'].astype(float))"
   ]
  },
  {
   "cell_type": "code",
   "execution_count": null,
   "metadata": {},
   "outputs": [],
   "source": [
    "admin.loc[admin['flight_id'] == 'c24c29f', 'real_departure'].values[0]"
   ]
  },
  {
   "cell_type": "code",
   "execution_count": null,
   "metadata": {},
   "outputs": [],
   "source": [
    "from datetime import datetime\n",
    "(datetime.fromtimestamp(flight_c24c29f.loc[71866, 'timestamp'].astype(float)) - \\\n",
    "admin.loc[admin['flight_id'] == 'c24c29f', 'real_departure']).map(lambda x: int(x.total_seconds()))"
   ]
  },
  {
   "cell_type": "code",
   "execution_count": null,
   "metadata": {},
   "outputs": [],
   "source": [
    "combined_jkt_sin = pd.merge(trails,\n",
    "                            df_jkt_sin,\n",
    "                            on='flight_id')\n",
    "del trails, df_jkt_sin"
   ]
  },
  {
   "cell_type": "code",
   "execution_count": null,
   "metadata": {},
   "outputs": [],
   "source": [
    "combined_jkt_sin.head(3)"
   ]
  },
  {
   "cell_type": "markdown",
   "metadata": {},
   "source": [
    "## Plot of all flights (Jakarta Soekarno Hatta International Airport -> Singapore Changi Airport)"
   ]
  },
  {
   "cell_type": "code",
   "execution_count": null,
   "metadata": {},
   "outputs": [],
   "source": [
    "# Reference: https://pbpython.com/pandas-qcut-cut.html\n",
    "# Reference: https://stackoverflow.com/questions/50145702/pandas-cut-doesnt-bin-zero-values\n",
    "cut_labels = ['0 <= speed < 100', \n",
    "              '100 <= speed < 200',\n",
    "              '200 <= speed < 300',\n",
    "              '300 <= speed < 400',\n",
    "              '400 <= speed < 500',\n",
    "              '500 <= speed < 600',\n",
    "              '600 <= speed < 700',\n",
    "              '700 <= speed < 800']\n",
    "cut_bins = [-np.inf, 99, 199, 299, 399, 499, 599, 699, 799]\n",
    "combined_jkt_sin['speed_interval'] = pd.cut(combined_jkt_sin['speed'], bins=cut_bins, labels=cut_labels)\n",
    "\n",
    "# pd.cut(combined_jkt_sin['speed'], bins=np.linspace(0, 800, 9))"
   ]
  },
  {
   "cell_type": "code",
   "execution_count": null,
   "metadata": {},
   "outputs": [],
   "source": [
    "fig, ax = plt.subplots(figsize=(12, 8))\n",
    "sns.scatterplot(ax = ax, x='longitude', y='latitude', data=combined_jkt_sin)\n",
    "plt.show()"
   ]
  },
  {
   "cell_type": "code",
   "execution_count": null,
   "metadata": {},
   "outputs": [],
   "source": [
    "holding_stack_flight_ids = combined_jkt_sin.loc[combined_jkt_sin['latitude'] > 1.5, 'flight_id'].unique().tolist()"
   ]
  },
  {
   "cell_type": "markdown",
   "metadata": {},
   "source": [
    "## Plot of all flights that did not fly a holding pattern (Jakarta Soekarno Hatta International Airport -> Singapore Changi Airport)"
   ]
  },
  {
   "cell_type": "code",
   "execution_count": null,
   "metadata": {},
   "outputs": [],
   "source": [
    "fig, ax = plt.subplots(figsize=(12, 8))\n",
    "sns.scatterplot(ax = ax, x='longitude', y='latitude', hue='speed_interval', marker='<',\n",
    "#                 palette=sns.color_palette(\"Blues\", 8),\n",
    "                palette=sns.cubehelix_palette(8),\n",
    "                data=combined_jkt_sin[~combined_jkt_sin['flight_id'].isin(holding_stack_flight_ids)])\n",
    "plt.show();"
   ]
  },
  {
   "cell_type": "markdown",
   "metadata": {},
   "source": [
    "## Plot of all flights that flew a holding pattern (Jakarta Soekarno Hatta International Airport -> Singapore Changi Airport)"
   ]
  },
  {
   "cell_type": "code",
   "execution_count": null,
   "metadata": {},
   "outputs": [],
   "source": [
    "combined_jkt_sin.loc[combined_jkt_sin['flight_id'].isin(holding_stack_flight_ids), 'speed_interval'].unique()"
   ]
  },
  {
   "cell_type": "code",
   "execution_count": null,
   "metadata": {},
   "outputs": [],
   "source": [
    "fig, ax = plt.subplots(figsize=(12, 8))\n",
    "sns.scatterplot(ax = ax, x='longitude', y='latitude', hue='speed_interval', marker='<',\n",
    "#                 palette=sns.color_palette(\"Blues\", 7),\n",
    "                palette=sns.cubehelix_palette(7),\n",
    "                data=combined_jkt_sin[combined_jkt_sin['flight_id'].isin(holding_stack_flight_ids)])\n",
    "plt.show();"
   ]
  },
  {
   "cell_type": "code",
   "execution_count": null,
   "metadata": {},
   "outputs": [],
   "source": [
    "combined_jkt_sin['real_departure'].min()"
   ]
  },
  {
   "cell_type": "code",
   "execution_count": null,
   "metadata": {},
   "outputs": [],
   "source": [
    "combined_jkt_sin['real_departure'].max()"
   ]
  }
 ],
 "metadata": {
  "kernelspec": {
   "display_name": "Python 3",
   "language": "python",
   "name": "python3"
  },
  "language_info": {
   "codemirror_mode": {
    "name": "ipython",
    "version": 3
   },
   "file_extension": ".py",
   "mimetype": "text/x-python",
   "name": "python",
   "nbconvert_exporter": "python",
   "pygments_lexer": "ipython3",
   "version": "3.6.9"
  }
 },
 "nbformat": 4,
 "nbformat_minor": 2
}
