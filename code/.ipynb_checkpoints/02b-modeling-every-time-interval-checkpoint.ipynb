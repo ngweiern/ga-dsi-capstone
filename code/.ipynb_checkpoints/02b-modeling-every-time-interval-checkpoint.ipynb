{
 "cells": [
  {
   "cell_type": "markdown",
   "metadata": {},
   "source": [
    "## Import libraries"
   ]
  },
  {
   "cell_type": "code",
   "execution_count": 1,
   "metadata": {},
   "outputs": [],
   "source": [
    "import pandas as pd\n",
    "import numpy as np\n",
    "import matplotlib.pyplot as plt\n",
    "import seaborn as sns\n",
    "from scipy import stats\n",
    "from math import radians, cos, sin, asin, sqrt\n",
    "import datetime as dt\n",
    "\n",
    "import sklearn.metrics as metrics\n",
    "\n",
    "from sklearn.linear_model import LinearRegression, Ridge, Lasso, ElasticNet, RidgeCV, LassoCV, ElasticNetCV\n",
    "from sklearn.svm import SVR\n",
    "from sklearn.tree import DecisionTreeRegressor\n",
    "from sklearn.ensemble import RandomForestRegressor, AdaBoostRegressor\n",
    "from sklearn.metrics import mean_squared_error, r2_score\n",
    "from sklearn.model_selection import train_test_split, cross_val_score, KFold, GridSearchCV\n",
    "from sklearn.preprocessing import StandardScaler, PolynomialFeatures, LabelEncoder\n",
    "from sklearn.feature_selection import f_classif, SelectKBest\n",
    "from sklearn.pipeline import Pipeline\n",
    "from xgboost.sklearn import XGBRegressor\n",
    "\n",
    "import warnings\n",
    "warnings.filterwarnings('ignore')\n",
    "\n",
    "pd.set_option(\"display.max_columns\", 60)\n",
    "pd.set_option(\"display.max_rows\", 500)\n",
    "%matplotlib inline\n",
    "sns.set()"
   ]
  },
  {
   "cell_type": "markdown",
   "metadata": {},
   "source": [
    "## Read Data"
   ]
  },
  {
   "cell_type": "code",
   "execution_count": 2,
   "metadata": {},
   "outputs": [],
   "source": [
    "df_twn_hkg_flights = pd.read_csv('../data/filtered_flights_twn_hkg.csv', index_col=0)"
   ]
  },
  {
   "cell_type": "code",
   "execution_count": 3,
   "metadata": {},
   "outputs": [],
   "source": [
    "df_twn_hkg_flights['scheduled_departure_dt'] = pd.to_datetime(df_twn_hkg_flights['scheduled_departure_dt'])\n",
    "df_twn_hkg_flights['scheduled_arrival_dt'] = pd.to_datetime(df_twn_hkg_flights['scheduled_arrival_dt'])\n",
    "df_twn_hkg_flights['real_departure_dt'] = pd.to_datetime(df_twn_hkg_flights['real_departure_dt'])\n",
    "df_twn_hkg_flights['estimated_arrival_dt'] = pd.to_datetime(df_twn_hkg_flights['estimated_arrival_dt'])"
   ]
  },
  {
   "cell_type": "code",
   "execution_count": 4,
   "metadata": {},
   "outputs": [
    {
     "data": {
      "text/plain": [
       "aircraft_model               1038\n",
       "aircraft_registration        1038\n",
       "airline                      1038\n",
       "scheduled_departure_utc      5766\n",
       "scheduled_arrival_utc        5766\n",
       "estimated_arrival_utc      167191\n",
       "scheduled_departure_dt       5766\n",
       "scheduled_arrival_dt         5766\n",
       "weather_codes              147141\n",
       "prev_latitude                   3\n",
       "prev_longitude                  3\n",
       "dtype: int64"
      ]
     },
     "execution_count": 4,
     "metadata": {},
     "output_type": "execute_result"
    }
   ],
   "source": [
    "df_twn_hkg_flights.isnull().sum()[df_twn_hkg_flights.isnull().sum() > 0]"
   ]
  },
  {
   "cell_type": "markdown",
   "metadata": {},
   "source": [
    "## Feature Engineering"
   ]
  },
  {
   "cell_type": "code",
   "execution_count": 5,
   "metadata": {},
   "outputs": [
    {
     "data": {
      "text/plain": [
       "0 <= min <= 10      29067\n",
       "10 < min <= 20       8202\n",
       "100 < min <= 110     3880\n",
       "110 < min <= 120      328\n",
       "20 < min <=30        8881\n",
       "30 < min <= 40       7532\n",
       "40 < min <= 50       8446\n",
       "50 < min <= 60       8480\n",
       "60 < min <= 70      14669\n",
       "70 < min <= 80      34607\n",
       "80 < min <= 90      32189\n",
       "90 < min <= 100     15485\n",
       "Name: minutes_since_real_departure_interval, dtype: int64"
      ]
     },
     "execution_count": 5,
     "metadata": {},
     "output_type": "execute_result"
    }
   ],
   "source": [
    "df_twn_hkg_flights['minutes_since_real_departure_interval'].value_counts().sort_index()"
   ]
  },
  {
   "cell_type": "code",
   "execution_count": 6,
   "metadata": {},
   "outputs": [
    {
     "data": {
      "text/html": [
       "<div>\n",
       "<style scoped>\n",
       "    .dataframe tbody tr th:only-of-type {\n",
       "        vertical-align: middle;\n",
       "    }\n",
       "\n",
       "    .dataframe tbody tr th {\n",
       "        vertical-align: top;\n",
       "    }\n",
       "\n",
       "    .dataframe thead th {\n",
       "        text-align: right;\n",
       "    }\n",
       "</style>\n",
       "<table border=\"1\" class=\"dataframe\">\n",
       "  <thead>\n",
       "    <tr style=\"text-align: right;\">\n",
       "      <th></th>\n",
       "      <th>flight_id</th>\n",
       "      <th>minutes_since_real_departure_interval</th>\n",
       "      <th>time_since_real_departure</th>\n",
       "      <th>mean_speed</th>\n",
       "      <th>std_dev_speed</th>\n",
       "    </tr>\n",
       "  </thead>\n",
       "  <tbody>\n",
       "    <tr>\n",
       "      <th>0</th>\n",
       "      <td>c0aabc0</td>\n",
       "      <td>0 &lt;= min &lt;= 10</td>\n",
       "      <td>583.0</td>\n",
       "      <td>266.609756</td>\n",
       "      <td>78.348541</td>\n",
       "    </tr>\n",
       "    <tr>\n",
       "      <th>1</th>\n",
       "      <td>c0aabc0</td>\n",
       "      <td>10 &lt; min &lt;= 20</td>\n",
       "      <td>1196.0</td>\n",
       "      <td>437.400000</td>\n",
       "      <td>8.221922</td>\n",
       "    </tr>\n",
       "    <tr>\n",
       "      <th>2</th>\n",
       "      <td>c0aabc0</td>\n",
       "      <td>20 &lt; min &lt;=30</td>\n",
       "      <td>1781.0</td>\n",
       "      <td>432.444444</td>\n",
       "      <td>1.236033</td>\n",
       "    </tr>\n",
       "    <tr>\n",
       "      <th>3</th>\n",
       "      <td>c0aabc0</td>\n",
       "      <td>30 &lt; min &lt;= 40</td>\n",
       "      <td>2358.0</td>\n",
       "      <td>431.666667</td>\n",
       "      <td>1.732051</td>\n",
       "    </tr>\n",
       "    <tr>\n",
       "      <th>4</th>\n",
       "      <td>c0aabc0</td>\n",
       "      <td>40 &lt; min &lt;= 50</td>\n",
       "      <td>2964.0</td>\n",
       "      <td>437.214286</td>\n",
       "      <td>2.044827</td>\n",
       "    </tr>\n",
       "  </tbody>\n",
       "</table>\n",
       "</div>"
      ],
      "text/plain": [
       "  flight_id minutes_since_real_departure_interval  time_since_real_departure  \\\n",
       "0   c0aabc0                        0 <= min <= 10                      583.0   \n",
       "1   c0aabc0                        10 < min <= 20                     1196.0   \n",
       "2   c0aabc0                         20 < min <=30                     1781.0   \n",
       "3   c0aabc0                        30 < min <= 40                     2358.0   \n",
       "4   c0aabc0                        40 < min <= 50                     2964.0   \n",
       "\n",
       "   mean_speed  std_dev_speed  \n",
       "0  266.609756      78.348541  \n",
       "1  437.400000       8.221922  \n",
       "2  432.444444       1.236033  \n",
       "3  431.666667       1.732051  \n",
       "4  437.214286       2.044827  "
      ]
     },
     "execution_count": 6,
     "metadata": {},
     "output_type": "execute_result"
    }
   ],
   "source": [
    "df_for_modeling = df_twn_hkg_flights.groupby(['flight_id', 'minutes_since_real_departure_interval']).agg(\n",
    "    time_since_real_departure=('time_since_real_departure', max),\n",
    "    mean_speed=('speed', np.mean),\n",
    "    std_dev_speed=('speed', np.std)).reset_index()\n",
    "\n",
    "df_for_modeling.head()"
   ]
  },
  {
   "cell_type": "code",
   "execution_count": 7,
   "metadata": {},
   "outputs": [
    {
     "data": {
      "text/html": [
       "<div>\n",
       "<style scoped>\n",
       "    .dataframe tbody tr th:only-of-type {\n",
       "        vertical-align: middle;\n",
       "    }\n",
       "\n",
       "    .dataframe tbody tr th {\n",
       "        vertical-align: top;\n",
       "    }\n",
       "\n",
       "    .dataframe thead th {\n",
       "        text-align: right;\n",
       "    }\n",
       "</style>\n",
       "<table border=\"1\" class=\"dataframe\">\n",
       "  <thead>\n",
       "    <tr style=\"text-align: right;\">\n",
       "      <th></th>\n",
       "      <th>flight_id</th>\n",
       "      <th>minutes_since_real_departure_interval</th>\n",
       "      <th>time_since_real_departure</th>\n",
       "      <th>mean_speed</th>\n",
       "      <th>std_dev_speed</th>\n",
       "      <th>timestamp_utc</th>\n",
       "      <th>latitude</th>\n",
       "      <th>longitude</th>\n",
       "      <th>altitude</th>\n",
       "      <th>heading</th>\n",
       "      <th>speed</th>\n",
       "      <th>flight_callsign</th>\n",
       "      <th>aircraft_model</th>\n",
       "      <th>aircraft_registration</th>\n",
       "      <th>airline</th>\n",
       "      <th>origin</th>\n",
       "      <th>destination</th>\n",
       "      <th>scheduled_departure_utc</th>\n",
       "      <th>scheduled_arrival_utc</th>\n",
       "      <th>real_departure_utc</th>\n",
       "      <th>estimated_arrival_utc</th>\n",
       "      <th>real_flight_duration</th>\n",
       "      <th>scheduled_departure_dt</th>\n",
       "      <th>scheduled_arrival_dt</th>\n",
       "      <th>real_departure_dt</th>\n",
       "      <th>estimated_arrival_dt</th>\n",
       "      <th>route</th>\n",
       "      <th>scheduled_flight_duration</th>\n",
       "      <th>forecasted_arrival_dt</th>\n",
       "      <th>forecasted_arrival_dt_nearest_hr</th>\n",
       "      <th>...</th>\n",
       "      <th>rel_humidity</th>\n",
       "      <th>wind_dir</th>\n",
       "      <th>wind_speed</th>\n",
       "      <th>altimeter_pressure</th>\n",
       "      <th>visibility</th>\n",
       "      <th>gust_speed</th>\n",
       "      <th>sky_level_1_coverage</th>\n",
       "      <th>sky_level_1_altitude</th>\n",
       "      <th>weather_codes</th>\n",
       "      <th>apparent_temp</th>\n",
       "      <th>weather_codes_+SHRA</th>\n",
       "      <th>weather_codes_+TSRA</th>\n",
       "      <th>weather_codes_-BR</th>\n",
       "      <th>weather_codes_-DZ</th>\n",
       "      <th>weather_codes_-RA</th>\n",
       "      <th>weather_codes_-SHRA</th>\n",
       "      <th>weather_codes_BR</th>\n",
       "      <th>weather_codes_DZ</th>\n",
       "      <th>weather_codes_HZ</th>\n",
       "      <th>weather_codes_RA</th>\n",
       "      <th>weather_codes_SHRA</th>\n",
       "      <th>weather_codes_TSRA</th>\n",
       "      <th>weather_codes_VCTS</th>\n",
       "      <th>speed_interval</th>\n",
       "      <th>prev_latitude</th>\n",
       "      <th>prev_longitude</th>\n",
       "      <th>calculated_flight_duration</th>\n",
       "      <th>calculated_time_before_arrival</th>\n",
       "      <th>displacement_to_hkg</th>\n",
       "      <th>displacement_fr_twn</th>\n",
       "    </tr>\n",
       "  </thead>\n",
       "  <tbody>\n",
       "    <tr>\n",
       "      <th>0</th>\n",
       "      <td>c0aabc0</td>\n",
       "      <td>0 &lt;= min &lt;= 10</td>\n",
       "      <td>583.0</td>\n",
       "      <td>266.609756</td>\n",
       "      <td>78.348541</td>\n",
       "      <td>1483195308</td>\n",
       "      <td>24.916599</td>\n",
       "      <td>120.714203</td>\n",
       "      <td>25725</td>\n",
       "      <td>225</td>\n",
       "      <td>432</td>\n",
       "      <td>CAL</td>\n",
       "      <td>Boeing 747</td>\n",
       "      <td>B-18717</td>\n",
       "      <td>China Airlines Cargo</td>\n",
       "      <td>Taiwan Taoyuan International Airport</td>\n",
       "      <td>Hong Kong International Airport</td>\n",
       "      <td>1.483193e+09</td>\n",
       "      <td>1.483198e+09</td>\n",
       "      <td>1.483195e+09</td>\n",
       "      <td>NaN</td>\n",
       "      <td>4663.0</td>\n",
       "      <td>2016-12-31 14:00:00</td>\n",
       "      <td>2016-12-31 15:30:00</td>\n",
       "      <td>2016-12-31 14:32:05</td>\n",
       "      <td>2016-12-31 15:49:48</td>\n",
       "      <td>Taiwan Taoyuan International Airport -&gt; Hong K...</td>\n",
       "      <td>5400.0</td>\n",
       "      <td>2016-12-31 15:49:48</td>\n",
       "      <td>2016-12-31 15:00:00</td>\n",
       "      <td>...</td>\n",
       "      <td>77.6</td>\n",
       "      <td>110</td>\n",
       "      <td>10.0</td>\n",
       "      <td>30.18</td>\n",
       "      <td>6.21</td>\n",
       "      <td>0</td>\n",
       "      <td>FEW</td>\n",
       "      <td>2500.0</td>\n",
       "      <td>NaN</td>\n",
       "      <td>66.2</td>\n",
       "      <td>0.0</td>\n",
       "      <td>0.0</td>\n",
       "      <td>0.0</td>\n",
       "      <td>0.0</td>\n",
       "      <td>0.0</td>\n",
       "      <td>0.0</td>\n",
       "      <td>0.0</td>\n",
       "      <td>0.0</td>\n",
       "      <td>0.0</td>\n",
       "      <td>0.0</td>\n",
       "      <td>0.0</td>\n",
       "      <td>0.0</td>\n",
       "      <td>0.0</td>\n",
       "      <td>400 &lt; speed &lt;= 500</td>\n",
       "      <td>25.004745</td>\n",
       "      <td>120.811821</td>\n",
       "      <td>5115.0</td>\n",
       "      <td>4532.0</td>\n",
       "      <td>750.539171</td>\n",
       "      <td>53.937310</td>\n",
       "    </tr>\n",
       "    <tr>\n",
       "      <th>1</th>\n",
       "      <td>c0aabc0</td>\n",
       "      <td>10 &lt; min &lt;= 20</td>\n",
       "      <td>1196.0</td>\n",
       "      <td>437.400000</td>\n",
       "      <td>8.221922</td>\n",
       "      <td>1483195921</td>\n",
       "      <td>24.045250</td>\n",
       "      <td>119.740303</td>\n",
       "      <td>38000</td>\n",
       "      <td>225</td>\n",
       "      <td>430</td>\n",
       "      <td>CAL</td>\n",
       "      <td>Boeing 747</td>\n",
       "      <td>B-18717</td>\n",
       "      <td>China Airlines Cargo</td>\n",
       "      <td>Taiwan Taoyuan International Airport</td>\n",
       "      <td>Hong Kong International Airport</td>\n",
       "      <td>1.483193e+09</td>\n",
       "      <td>1.483198e+09</td>\n",
       "      <td>1.483195e+09</td>\n",
       "      <td>NaN</td>\n",
       "      <td>4663.0</td>\n",
       "      <td>2016-12-31 14:00:00</td>\n",
       "      <td>2016-12-31 15:30:00</td>\n",
       "      <td>2016-12-31 14:32:05</td>\n",
       "      <td>2016-12-31 15:49:48</td>\n",
       "      <td>Taiwan Taoyuan International Airport -&gt; Hong K...</td>\n",
       "      <td>5400.0</td>\n",
       "      <td>2016-12-31 15:49:48</td>\n",
       "      <td>2016-12-31 15:00:00</td>\n",
       "      <td>...</td>\n",
       "      <td>77.6</td>\n",
       "      <td>110</td>\n",
       "      <td>10.0</td>\n",
       "      <td>30.18</td>\n",
       "      <td>6.21</td>\n",
       "      <td>0</td>\n",
       "      <td>FEW</td>\n",
       "      <td>2500.0</td>\n",
       "      <td>NaN</td>\n",
       "      <td>66.2</td>\n",
       "      <td>0.0</td>\n",
       "      <td>0.0</td>\n",
       "      <td>0.0</td>\n",
       "      <td>0.0</td>\n",
       "      <td>0.0</td>\n",
       "      <td>0.0</td>\n",
       "      <td>0.0</td>\n",
       "      <td>0.0</td>\n",
       "      <td>0.0</td>\n",
       "      <td>0.0</td>\n",
       "      <td>0.0</td>\n",
       "      <td>0.0</td>\n",
       "      <td>0.0</td>\n",
       "      <td>400 &lt; speed &lt;= 500</td>\n",
       "      <td>24.136030</td>\n",
       "      <td>119.841408</td>\n",
       "      <td>5115.0</td>\n",
       "      <td>3919.0</td>\n",
       "      <td>625.606802</td>\n",
       "      <td>188.339027</td>\n",
       "    </tr>\n",
       "    <tr>\n",
       "      <th>2</th>\n",
       "      <td>c0aabc0</td>\n",
       "      <td>20 &lt; min &lt;=30</td>\n",
       "      <td>1781.0</td>\n",
       "      <td>432.444444</td>\n",
       "      <td>1.236033</td>\n",
       "      <td>1483196506</td>\n",
       "      <td>23.224211</td>\n",
       "      <td>118.834839</td>\n",
       "      <td>38000</td>\n",
       "      <td>225</td>\n",
       "      <td>434</td>\n",
       "      <td>CAL</td>\n",
       "      <td>Boeing 747</td>\n",
       "      <td>B-18717</td>\n",
       "      <td>China Airlines Cargo</td>\n",
       "      <td>Taiwan Taoyuan International Airport</td>\n",
       "      <td>Hong Kong International Airport</td>\n",
       "      <td>1.483193e+09</td>\n",
       "      <td>1.483198e+09</td>\n",
       "      <td>1.483195e+09</td>\n",
       "      <td>NaN</td>\n",
       "      <td>4663.0</td>\n",
       "      <td>2016-12-31 14:00:00</td>\n",
       "      <td>2016-12-31 15:30:00</td>\n",
       "      <td>2016-12-31 14:32:05</td>\n",
       "      <td>2016-12-31 15:49:48</td>\n",
       "      <td>Taiwan Taoyuan International Airport -&gt; Hong K...</td>\n",
       "      <td>5400.0</td>\n",
       "      <td>2016-12-31 15:49:48</td>\n",
       "      <td>2016-12-31 15:00:00</td>\n",
       "      <td>...</td>\n",
       "      <td>77.6</td>\n",
       "      <td>110</td>\n",
       "      <td>10.0</td>\n",
       "      <td>30.18</td>\n",
       "      <td>6.21</td>\n",
       "      <td>0</td>\n",
       "      <td>FEW</td>\n",
       "      <td>2500.0</td>\n",
       "      <td>NaN</td>\n",
       "      <td>66.2</td>\n",
       "      <td>0.0</td>\n",
       "      <td>0.0</td>\n",
       "      <td>0.0</td>\n",
       "      <td>0.0</td>\n",
       "      <td>0.0</td>\n",
       "      <td>0.0</td>\n",
       "      <td>0.0</td>\n",
       "      <td>0.0</td>\n",
       "      <td>0.0</td>\n",
       "      <td>0.0</td>\n",
       "      <td>0.0</td>\n",
       "      <td>0.0</td>\n",
       "      <td>0.0</td>\n",
       "      <td>400 &lt; speed &lt;= 500</td>\n",
       "      <td>23.318529</td>\n",
       "      <td>118.937943</td>\n",
       "      <td>5115.0</td>\n",
       "      <td>3334.0</td>\n",
       "      <td>514.244163</td>\n",
       "      <td>317.562958</td>\n",
       "    </tr>\n",
       "    <tr>\n",
       "      <th>3</th>\n",
       "      <td>c0aabc0</td>\n",
       "      <td>30 &lt; min &lt;= 40</td>\n",
       "      <td>2358.0</td>\n",
       "      <td>431.666667</td>\n",
       "      <td>1.732051</td>\n",
       "      <td>1483197083</td>\n",
       "      <td>22.537901</td>\n",
       "      <td>117.843002</td>\n",
       "      <td>38000</td>\n",
       "      <td>237</td>\n",
       "      <td>431</td>\n",
       "      <td>CAL</td>\n",
       "      <td>Boeing 747</td>\n",
       "      <td>B-18717</td>\n",
       "      <td>China Airlines Cargo</td>\n",
       "      <td>Taiwan Taoyuan International Airport</td>\n",
       "      <td>Hong Kong International Airport</td>\n",
       "      <td>1.483193e+09</td>\n",
       "      <td>1.483198e+09</td>\n",
       "      <td>1.483195e+09</td>\n",
       "      <td>NaN</td>\n",
       "      <td>4663.0</td>\n",
       "      <td>2016-12-31 14:00:00</td>\n",
       "      <td>2016-12-31 15:30:00</td>\n",
       "      <td>2016-12-31 14:32:05</td>\n",
       "      <td>2016-12-31 15:49:48</td>\n",
       "      <td>Taiwan Taoyuan International Airport -&gt; Hong K...</td>\n",
       "      <td>5400.0</td>\n",
       "      <td>2016-12-31 15:49:48</td>\n",
       "      <td>2016-12-31 15:00:00</td>\n",
       "      <td>...</td>\n",
       "      <td>77.6</td>\n",
       "      <td>110</td>\n",
       "      <td>10.0</td>\n",
       "      <td>30.18</td>\n",
       "      <td>6.21</td>\n",
       "      <td>0</td>\n",
       "      <td>FEW</td>\n",
       "      <td>2500.0</td>\n",
       "      <td>NaN</td>\n",
       "      <td>66.2</td>\n",
       "      <td>0.0</td>\n",
       "      <td>0.0</td>\n",
       "      <td>0.0</td>\n",
       "      <td>0.0</td>\n",
       "      <td>0.0</td>\n",
       "      <td>0.0</td>\n",
       "      <td>0.0</td>\n",
       "      <td>0.0</td>\n",
       "      <td>0.0</td>\n",
       "      <td>0.0</td>\n",
       "      <td>0.0</td>\n",
       "      <td>0.0</td>\n",
       "      <td>0.0</td>\n",
       "      <td>400 &lt; speed &lt;= 500</td>\n",
       "      <td>22.611099</td>\n",
       "      <td>117.966003</td>\n",
       "      <td>5115.0</td>\n",
       "      <td>2757.0</td>\n",
       "      <td>404.190118</td>\n",
       "      <td>444.406110</td>\n",
       "    </tr>\n",
       "    <tr>\n",
       "      <th>4</th>\n",
       "      <td>c0aabc0</td>\n",
       "      <td>40 &lt; min &lt;= 50</td>\n",
       "      <td>2964.0</td>\n",
       "      <td>437.214286</td>\n",
       "      <td>2.044827</td>\n",
       "      <td>1483197689</td>\n",
       "      <td>22.315187</td>\n",
       "      <td>116.577507</td>\n",
       "      <td>31625</td>\n",
       "      <td>268</td>\n",
       "      <td>440</td>\n",
       "      <td>CAL</td>\n",
       "      <td>Boeing 747</td>\n",
       "      <td>B-18717</td>\n",
       "      <td>China Airlines Cargo</td>\n",
       "      <td>Taiwan Taoyuan International Airport</td>\n",
       "      <td>Hong Kong International Airport</td>\n",
       "      <td>1.483193e+09</td>\n",
       "      <td>1.483198e+09</td>\n",
       "      <td>1.483195e+09</td>\n",
       "      <td>NaN</td>\n",
       "      <td>4663.0</td>\n",
       "      <td>2016-12-31 14:00:00</td>\n",
       "      <td>2016-12-31 15:30:00</td>\n",
       "      <td>2016-12-31 14:32:05</td>\n",
       "      <td>2016-12-31 15:49:48</td>\n",
       "      <td>Taiwan Taoyuan International Airport -&gt; Hong K...</td>\n",
       "      <td>5400.0</td>\n",
       "      <td>2016-12-31 15:49:48</td>\n",
       "      <td>2016-12-31 15:00:00</td>\n",
       "      <td>...</td>\n",
       "      <td>77.6</td>\n",
       "      <td>110</td>\n",
       "      <td>10.0</td>\n",
       "      <td>30.18</td>\n",
       "      <td>6.21</td>\n",
       "      <td>0</td>\n",
       "      <td>FEW</td>\n",
       "      <td>2500.0</td>\n",
       "      <td>NaN</td>\n",
       "      <td>66.2</td>\n",
       "      <td>0.0</td>\n",
       "      <td>0.0</td>\n",
       "      <td>0.0</td>\n",
       "      <td>0.0</td>\n",
       "      <td>0.0</td>\n",
       "      <td>0.0</td>\n",
       "      <td>0.0</td>\n",
       "      <td>0.0</td>\n",
       "      <td>0.0</td>\n",
       "      <td>0.0</td>\n",
       "      <td>0.0</td>\n",
       "      <td>0.0</td>\n",
       "      <td>0.0</td>\n",
       "      <td>400 &lt; speed &lt;= 500</td>\n",
       "      <td>22.318268</td>\n",
       "      <td>116.714355</td>\n",
       "      <td>5115.0</td>\n",
       "      <td>2151.0</td>\n",
       "      <td>273.531907</td>\n",
       "      <td>563.439050</td>\n",
       "    </tr>\n",
       "  </tbody>\n",
       "</table>\n",
       "<p>5 rows × 64 columns</p>\n",
       "</div>"
      ],
      "text/plain": [
       "  flight_id minutes_since_real_departure_interval  time_since_real_departure  \\\n",
       "0   c0aabc0                        0 <= min <= 10                      583.0   \n",
       "1   c0aabc0                        10 < min <= 20                     1196.0   \n",
       "2   c0aabc0                         20 < min <=30                     1781.0   \n",
       "3   c0aabc0                        30 < min <= 40                     2358.0   \n",
       "4   c0aabc0                        40 < min <= 50                     2964.0   \n",
       "\n",
       "   mean_speed  std_dev_speed  timestamp_utc   latitude   longitude  altitude  \\\n",
       "0  266.609756      78.348541     1483195308  24.916599  120.714203     25725   \n",
       "1  437.400000       8.221922     1483195921  24.045250  119.740303     38000   \n",
       "2  432.444444       1.236033     1483196506  23.224211  118.834839     38000   \n",
       "3  431.666667       1.732051     1483197083  22.537901  117.843002     38000   \n",
       "4  437.214286       2.044827     1483197689  22.315187  116.577507     31625   \n",
       "\n",
       "   heading  speed flight_callsign aircraft_model aircraft_registration  \\\n",
       "0      225    432             CAL     Boeing 747               B-18717   \n",
       "1      225    430             CAL     Boeing 747               B-18717   \n",
       "2      225    434             CAL     Boeing 747               B-18717   \n",
       "3      237    431             CAL     Boeing 747               B-18717   \n",
       "4      268    440             CAL     Boeing 747               B-18717   \n",
       "\n",
       "                airline                                origin  \\\n",
       "0  China Airlines Cargo  Taiwan Taoyuan International Airport   \n",
       "1  China Airlines Cargo  Taiwan Taoyuan International Airport   \n",
       "2  China Airlines Cargo  Taiwan Taoyuan International Airport   \n",
       "3  China Airlines Cargo  Taiwan Taoyuan International Airport   \n",
       "4  China Airlines Cargo  Taiwan Taoyuan International Airport   \n",
       "\n",
       "                       destination  scheduled_departure_utc  \\\n",
       "0  Hong Kong International Airport             1.483193e+09   \n",
       "1  Hong Kong International Airport             1.483193e+09   \n",
       "2  Hong Kong International Airport             1.483193e+09   \n",
       "3  Hong Kong International Airport             1.483193e+09   \n",
       "4  Hong Kong International Airport             1.483193e+09   \n",
       "\n",
       "   scheduled_arrival_utc  real_departure_utc  estimated_arrival_utc  \\\n",
       "0           1.483198e+09        1.483195e+09                    NaN   \n",
       "1           1.483198e+09        1.483195e+09                    NaN   \n",
       "2           1.483198e+09        1.483195e+09                    NaN   \n",
       "3           1.483198e+09        1.483195e+09                    NaN   \n",
       "4           1.483198e+09        1.483195e+09                    NaN   \n",
       "\n",
       "   real_flight_duration scheduled_departure_dt scheduled_arrival_dt  \\\n",
       "0                4663.0    2016-12-31 14:00:00  2016-12-31 15:30:00   \n",
       "1                4663.0    2016-12-31 14:00:00  2016-12-31 15:30:00   \n",
       "2                4663.0    2016-12-31 14:00:00  2016-12-31 15:30:00   \n",
       "3                4663.0    2016-12-31 14:00:00  2016-12-31 15:30:00   \n",
       "4                4663.0    2016-12-31 14:00:00  2016-12-31 15:30:00   \n",
       "\n",
       "    real_departure_dt estimated_arrival_dt  \\\n",
       "0 2016-12-31 14:32:05  2016-12-31 15:49:48   \n",
       "1 2016-12-31 14:32:05  2016-12-31 15:49:48   \n",
       "2 2016-12-31 14:32:05  2016-12-31 15:49:48   \n",
       "3 2016-12-31 14:32:05  2016-12-31 15:49:48   \n",
       "4 2016-12-31 14:32:05  2016-12-31 15:49:48   \n",
       "\n",
       "                                               route  \\\n",
       "0  Taiwan Taoyuan International Airport -> Hong K...   \n",
       "1  Taiwan Taoyuan International Airport -> Hong K...   \n",
       "2  Taiwan Taoyuan International Airport -> Hong K...   \n",
       "3  Taiwan Taoyuan International Airport -> Hong K...   \n",
       "4  Taiwan Taoyuan International Airport -> Hong K...   \n",
       "\n",
       "   scheduled_flight_duration forecasted_arrival_dt  \\\n",
       "0                     5400.0   2016-12-31 15:49:48   \n",
       "1                     5400.0   2016-12-31 15:49:48   \n",
       "2                     5400.0   2016-12-31 15:49:48   \n",
       "3                     5400.0   2016-12-31 15:49:48   \n",
       "4                     5400.0   2016-12-31 15:49:48   \n",
       "\n",
       "  forecasted_arrival_dt_nearest_hr  ...  rel_humidity wind_dir  wind_speed  \\\n",
       "0              2016-12-31 15:00:00  ...          77.6      110        10.0   \n",
       "1              2016-12-31 15:00:00  ...          77.6      110        10.0   \n",
       "2              2016-12-31 15:00:00  ...          77.6      110        10.0   \n",
       "3              2016-12-31 15:00:00  ...          77.6      110        10.0   \n",
       "4              2016-12-31 15:00:00  ...          77.6      110        10.0   \n",
       "\n",
       "   altimeter_pressure  visibility  gust_speed  sky_level_1_coverage  \\\n",
       "0               30.18        6.21           0                   FEW   \n",
       "1               30.18        6.21           0                   FEW   \n",
       "2               30.18        6.21           0                   FEW   \n",
       "3               30.18        6.21           0                   FEW   \n",
       "4               30.18        6.21           0                   FEW   \n",
       "\n",
       "   sky_level_1_altitude  weather_codes  apparent_temp weather_codes_+SHRA  \\\n",
       "0                2500.0            NaN           66.2                 0.0   \n",
       "1                2500.0            NaN           66.2                 0.0   \n",
       "2                2500.0            NaN           66.2                 0.0   \n",
       "3                2500.0            NaN           66.2                 0.0   \n",
       "4                2500.0            NaN           66.2                 0.0   \n",
       "\n",
       "   weather_codes_+TSRA weather_codes_-BR  weather_codes_-DZ  \\\n",
       "0                  0.0               0.0                0.0   \n",
       "1                  0.0               0.0                0.0   \n",
       "2                  0.0               0.0                0.0   \n",
       "3                  0.0               0.0                0.0   \n",
       "4                  0.0               0.0                0.0   \n",
       "\n",
       "   weather_codes_-RA  weather_codes_-SHRA  weather_codes_BR  weather_codes_DZ  \\\n",
       "0                0.0                  0.0               0.0               0.0   \n",
       "1                0.0                  0.0               0.0               0.0   \n",
       "2                0.0                  0.0               0.0               0.0   \n",
       "3                0.0                  0.0               0.0               0.0   \n",
       "4                0.0                  0.0               0.0               0.0   \n",
       "\n",
       "   weather_codes_HZ  weather_codes_RA  weather_codes_SHRA  weather_codes_TSRA  \\\n",
       "0               0.0               0.0                 0.0                 0.0   \n",
       "1               0.0               0.0                 0.0                 0.0   \n",
       "2               0.0               0.0                 0.0                 0.0   \n",
       "3               0.0               0.0                 0.0                 0.0   \n",
       "4               0.0               0.0                 0.0                 0.0   \n",
       "\n",
       "   weather_codes_VCTS      speed_interval  prev_latitude  prev_longitude  \\\n",
       "0                 0.0  400 < speed <= 500      25.004745      120.811821   \n",
       "1                 0.0  400 < speed <= 500      24.136030      119.841408   \n",
       "2                 0.0  400 < speed <= 500      23.318529      118.937943   \n",
       "3                 0.0  400 < speed <= 500      22.611099      117.966003   \n",
       "4                 0.0  400 < speed <= 500      22.318268      116.714355   \n",
       "\n",
       "   calculated_flight_duration calculated_time_before_arrival  \\\n",
       "0                      5115.0                         4532.0   \n",
       "1                      5115.0                         3919.0   \n",
       "2                      5115.0                         3334.0   \n",
       "3                      5115.0                         2757.0   \n",
       "4                      5115.0                         2151.0   \n",
       "\n",
       "   displacement_to_hkg  displacement_fr_twn  \n",
       "0           750.539171            53.937310  \n",
       "1           625.606802           188.339027  \n",
       "2           514.244163           317.562958  \n",
       "3           404.190118           444.406110  \n",
       "4           273.531907           563.439050  \n",
       "\n",
       "[5 rows x 64 columns]"
      ]
     },
     "execution_count": 7,
     "metadata": {},
     "output_type": "execute_result"
    }
   ],
   "source": [
    "df_combined = pd.merge(df_for_modeling,\n",
    "                      df_twn_hkg_flights,\n",
    "                      on=['flight_id', 'minutes_since_real_departure_interval', \n",
    "                          'time_since_real_departure'])\n",
    "\n",
    "df_combined.head()"
   ]
  },
  {
   "cell_type": "code",
   "execution_count": 8,
   "metadata": {},
   "outputs": [],
   "source": [
    "df_first_10_min = df_combined[df_combined['minutes_since_real_departure_interval'] == '0 <= min <= 10']"
   ]
  },
  {
   "cell_type": "markdown",
   "metadata": {},
   "source": [
    "max flight time since departure in 10 min interval"
   ]
  },
  {
   "cell_type": "code",
   "execution_count": 9,
   "metadata": {},
   "outputs": [
    {
     "data": {
      "text/plain": [
       "600.0"
      ]
     },
     "execution_count": 9,
     "metadata": {},
     "output_type": "execute_result"
    }
   ],
   "source": [
    "df_first_10_min['time_since_real_departure'].max()"
   ]
  },
  {
   "cell_type": "code",
   "execution_count": 10,
   "metadata": {},
   "outputs": [],
   "source": [
    "df_first_10_min['average_velocity'] = df_first_10_min['displacement_fr_twn'] / df_first_10_min['time_since_real_departure']"
   ]
  },
  {
   "cell_type": "markdown",
   "metadata": {},
   "source": [
    "**Correlation of numerical variables**"
   ]
  },
  {
   "cell_type": "code",
   "execution_count": 12,
   "metadata": {},
   "outputs": [
    {
     "data": {
      "text/plain": [
       "flight_id                                        object\n",
       "minutes_since_real_departure_interval            object\n",
       "time_since_real_departure                       float64\n",
       "mean_speed                                      float64\n",
       "std_dev_speed                                   float64\n",
       "timestamp_utc                                     int64\n",
       "latitude                                        float64\n",
       "longitude                                       float64\n",
       "altitude                                          int64\n",
       "heading                                           int64\n",
       "speed                                             int64\n",
       "flight_callsign                                  object\n",
       "aircraft_model                                   object\n",
       "aircraft_registration                            object\n",
       "airline                                          object\n",
       "origin                                           object\n",
       "destination                                      object\n",
       "scheduled_departure_utc                         float64\n",
       "scheduled_arrival_utc                           float64\n",
       "real_departure_utc                              float64\n",
       "estimated_arrival_utc                           float64\n",
       "real_flight_duration                            float64\n",
       "scheduled_departure_dt                   datetime64[ns]\n",
       "scheduled_arrival_dt                     datetime64[ns]\n",
       "real_departure_dt                        datetime64[ns]\n",
       "estimated_arrival_dt                     datetime64[ns]\n",
       "route                                            object\n",
       "scheduled_flight_duration                       float64\n",
       "forecasted_arrival_dt                            object\n",
       "forecasted_arrival_dt_nearest_hr                 object\n",
       "arrivals                                          int64\n",
       "timestamp                                        object\n",
       "air_temp                                        float64\n",
       "dewpoint_temp                                   float64\n",
       "rel_humidity                                    float64\n",
       "wind_dir                                          int64\n",
       "wind_speed                                      float64\n",
       "altimeter_pressure                              float64\n",
       "visibility                                      float64\n",
       "gust_speed                                        int64\n",
       "sky_level_1_coverage                             object\n",
       "sky_level_1_altitude                            float64\n",
       "weather_codes                                    object\n",
       "apparent_temp                                   float64\n",
       "weather_codes_+SHRA                             float64\n",
       "weather_codes_+TSRA                             float64\n",
       "weather_codes_-BR                               float64\n",
       "weather_codes_-DZ                               float64\n",
       "weather_codes_-RA                               float64\n",
       "weather_codes_-SHRA                             float64\n",
       "weather_codes_BR                                float64\n",
       "weather_codes_DZ                                float64\n",
       "weather_codes_HZ                                float64\n",
       "weather_codes_RA                                float64\n",
       "weather_codes_SHRA                              float64\n",
       "weather_codes_TSRA                              float64\n",
       "weather_codes_VCTS                              float64\n",
       "speed_interval                                   object\n",
       "prev_latitude                                   float64\n",
       "prev_longitude                                  float64\n",
       "calculated_flight_duration                      float64\n",
       "calculated_time_before_arrival                  float64\n",
       "displacement_to_hkg                             float64\n",
       "displacement_fr_twn                             float64\n",
       "average_velocity                                float64\n",
       "dtype: object"
      ]
     },
     "execution_count": 12,
     "metadata": {},
     "output_type": "execute_result"
    }
   ],
   "source": [
    "df_first_10_min.dtypes"
   ]
  },
  {
   "cell_type": "code",
   "execution_count": null,
   "metadata": {},
   "outputs": [],
   "source": [
    "# sky_level_1_coverage NEEDS TO BE DUMMY CONVERTED"
   ]
  },
  {
   "cell_type": "code",
   "execution_count": null,
   "metadata": {},
   "outputs": [],
   "source": [
    "target_var = 'calculated_time_before_arrival'"
   ]
  },
  {
   "cell_type": "code",
   "execution_count": null,
   "metadata": {},
   "outputs": [],
   "source": [
    "numeric_features = ['time_since_real_departure', 'latitude', 'longitude',\n",
    "                    'altitude', 'heading', 'speed',\n",
    "                    'prev_latitude', 'prev_longitude', \n",
    "                    'displacement_to_hkg', 'displacement_fr_twn',\n",
    "                    'average_velocity', 'mean_speed', 'std_dev_speed',\n",
    "                    'arrivals',\n",
    "                    'air_temp', 'dewpoint_temp', 'rel_humidity']\n",
    "\n",
    "air_temp                                        float64\n",
    "dewpoint_temp                                   float64\n",
    "rel_humidity                                    float64\n",
    "wind_dir                                          int64\n",
    "wind_speed                                      float64\n",
    "altimeter_pressure                              float64\n",
    "visibility                                      float64\n",
    "gust_speed                                        int64\n",
    "sky_level_1_altitude                            float64\n",
    "displacement_to_hkg                             float64\n",
    "displacement_fr_twn                             float64\n",
    "average_velocity                                float64"
   ]
  },
  {
   "cell_type": "code",
   "execution_count": null,
   "metadata": {},
   "outputs": [],
   "source": [
    "# numeric_features = df_first_10_min.dtypes[(df_first_10_min.dtypes == np.int)|\n",
    "#                                           (df_first_10_min.dtypes == np.float)].index.tolist()\n",
    "# numeric_features.remove('calculated_time_before_arrival')"
   ]
  },
  {
   "cell_type": "code",
   "execution_count": null,
   "metadata": {},
   "outputs": [],
   "source": [
    "nominal_features = [\n",
    "    'flight_callsign', \n",
    "    'aircraft_registration',\n",
    "    'aircraft_model', \n",
    "    'airline'\n",
    "]"
   ]
  },
  {
   "cell_type": "code",
   "execution_count": null,
   "metadata": {},
   "outputs": [],
   "source": [
    "corr = df_first_10_min[numeric_features + [target_var]].corr()[target_var]\n",
    "corr.sort_values()"
   ]
  },
  {
   "cell_type": "code",
   "execution_count": null,
   "metadata": {},
   "outputs": [],
   "source": [
    "sns.pairplot(df_first_10_min, y_vars=numeric_features, x_vars=[target_var])"
   ]
  },
  {
   "cell_type": "code",
   "execution_count": null,
   "metadata": {},
   "outputs": [],
   "source": [
    "# # Set the default matplotlib figure size to 7x7:\n",
    "# fix, ax = plt.subplots(figsize=(7,7))\n",
    "\n",
    "# # Generate a mask for the upper triangle (taken from seaborn example gallery)\n",
    "# mask = np.zeros_like(wine_corr, dtype=np.bool)\n",
    "# mask[np.triu_indices_from(mask)] = True\n",
    "\n",
    "# # Plot the heatmap with seaborn.\n",
    "# # Assign the matplotlib axis the function returns. This will let us resize the labels.\n",
    "# ax = sns.heatmap(wine_corr, mask=mask, ax=ax)\n",
    "\n",
    "# # Resize the labels.\n",
    "# ax.set_xticklabels(ax.xaxis.get_ticklabels(), fontsize=14)\n",
    "# ax.set_yticklabels(ax.yaxis.get_ticklabels(), fontsize=14)\n",
    "\n",
    "# # If you put plt.show() at the bottom, it prevents those useless printouts from matplotlib.\n",
    "# plt.show()"
   ]
  },
  {
   "cell_type": "markdown",
   "metadata": {},
   "source": [
    "**ANOVA of categorical (nominal) variables**"
   ]
  },
  {
   "cell_type": "code",
   "execution_count": null,
   "metadata": {},
   "outputs": [],
   "source": [
    "df_minus_cat_nan = df_first_10_min.dropna(subset=nominal_features)"
   ]
  },
  {
   "cell_type": "code",
   "execution_count": null,
   "metadata": {},
   "outputs": [],
   "source": [
    "df_cat_features = df_minus_cat_nan[nominal_features]"
   ]
  },
  {
   "cell_type": "code",
   "execution_count": null,
   "metadata": {},
   "outputs": [],
   "source": [
    "f_values, p_values = f_classif(df_cat_features.apply(LabelEncoder().fit_transform), \n",
    "                               df_minus_cat_nan[target_var])\n",
    "\n",
    "p_values"
   ]
  },
  {
   "cell_type": "code",
   "execution_count": null,
   "metadata": {},
   "outputs": [],
   "source": [
    "df_minus_cat_nan.iloc[:, np.where(p_values < 0.05)[0]].columns.tolist()"
   ]
  },
  {
   "cell_type": "code",
   "execution_count": null,
   "metadata": {},
   "outputs": [],
   "source": [
    "selected_features = [\n",
    "    'latitude', 'longitude', \n",
    "    'altitude', \n",
    "#     'heading', \n",
    "    'speed',\n",
    "#     'flight_callsign', \n",
    "#     'aircraft_registration', \n",
    "#     'aircraft_model', \n",
    "#     'airline', \n",
    "#     'average_velocity',\n",
    "    'displacement_to_hkg',\n",
    "    'mean_speed',\n",
    "    'std_dev_speed'\n",
    "]\n",
    "\n",
    "# selected_features = ['time_since_real_departure', 'latitude', 'longitude',\n",
    "#                     'altitude', 'heading', 'speed',\n",
    "#                     'prev_latitude', 'prev_longitude', \n",
    "#                     'displacement_to_hkg', 'displacement_fr_twn',\n",
    "#                     'average_velocity']\n",
    "\n",
    "nominal_features = [\n",
    "#     'flight_callsign', \n",
    "#     'aircraft_registration',\n",
    "#     'aircraft_model', \n",
    "#     'airline'\n",
    "]\n",
    "\n",
    "df_first_10_min[selected_features].head()"
   ]
  },
  {
   "cell_type": "code",
   "execution_count": null,
   "metadata": {},
   "outputs": [],
   "source": [
    "df_twn_hkg_flights.loc[df_twn_hkg_flights['flight_id'] == 'c0aabc0', 'calculated_time_before_arrival'].plot()"
   ]
  },
  {
   "cell_type": "markdown",
   "metadata": {},
   "source": [
    "## Modeling"
   ]
  },
  {
   "cell_type": "code",
   "execution_count": null,
   "metadata": {},
   "outputs": [],
   "source": [
    "def r2_adj(y_true, y_preds, p):\n",
    "    n = len(y_true)\n",
    "    y_mean = np.mean(y_true)\n",
    "    numerator = np.sum(np.square(y_true - y_preds)) / (n - p - 1)\n",
    "    denominator = np.sum(np.square(y_true - y_mean)) / (n - 1)\n",
    "    return (1 - (numerator / denominator))\n",
    "\n",
    "def get_regression_metrics(y_true, y_pred, p):\n",
    "    mse = metrics.mean_squared_error(y_true, y_pred)\n",
    "    rmse = np.sqrt(mse)\n",
    "#     msle = metrics.mean_squared_log_error(y_true, y_pred)\n",
    "    mae = metrics.median_absolute_error(y_true, y_pred)\n",
    "    r2 = metrics.r2_score(y_true, y_pred)\n",
    "    r2a = r2_adj(y_true, y_pred, p)\n",
    "    \n",
    "    print('Mean squared error      = ', mse)\n",
    "    print('Root mean squared error = ', rmse)\n",
    "#     print('Mean squared log error  = ', msle)\n",
    "    print('Median absolute error   = ', mae)\n",
    "    print('R^2                     = ', r2)\n",
    "    print('Adjusted R^2            = ', r2a)\n",
    "    \n",
    "    return {\n",
    "        'mse': mse,\n",
    "        'rmse': rmse,\n",
    "#         'msle': msle,\n",
    "        'mae': mae,\n",
    "        'r2': r2,\n",
    "        'r2_adjusted': r2a\n",
    "    }"
   ]
  },
  {
   "cell_type": "code",
   "execution_count": null,
   "metadata": {},
   "outputs": [],
   "source": [
    "# Train data\n",
    "\n",
    "# mask = df_twn_hkg_flights['time_since_real_departure'] <= (40*60)\n",
    "# df_for_modeling = df_twn_hkg_flights[mask].copy()\n",
    "X = df_first_10_min[selected_features].copy()\n",
    "y = df_first_10_min['calculated_time_before_arrival'].copy()"
   ]
  },
  {
   "cell_type": "code",
   "execution_count": null,
   "metadata": {},
   "outputs": [],
   "source": [
    "y.hist()"
   ]
  },
  {
   "cell_type": "code",
   "execution_count": null,
   "metadata": {},
   "outputs": [],
   "source": [
    "X = pd.get_dummies(X, columns=nominal_features, drop_first=True)"
   ]
  },
  {
   "cell_type": "code",
   "execution_count": null,
   "metadata": {},
   "outputs": [],
   "source": [
    "X_train, X_test, y_train, y_test = train_test_split(X, y, test_size=0.2, random_state=0, shuffle=True)"
   ]
  },
  {
   "cell_type": "markdown",
   "metadata": {},
   "source": [
    "### Linear Regression"
   ]
  },
  {
   "cell_type": "code",
   "execution_count": null,
   "metadata": {},
   "outputs": [],
   "source": [
    "linreg = LinearRegression()\n",
    "linreg.fit(X_train, y_train)"
   ]
  },
  {
   "cell_type": "code",
   "execution_count": null,
   "metadata": {},
   "outputs": [],
   "source": [
    "# X_train.columns"
   ]
  },
  {
   "cell_type": "code",
   "execution_count": null,
   "metadata": {},
   "outputs": [],
   "source": [
    "# plt.figure(figsize=(12,10))\n",
    "# plt.barh(X_train.columns, linreg.coef_)"
   ]
  },
  {
   "cell_type": "code",
   "execution_count": null,
   "metadata": {},
   "outputs": [],
   "source": [
    "y_train_pred = linreg.predict(X_train)\n",
    "\n",
    "train_regression_metrics = get_regression_metrics(y_train, y_train_pred, X_train.shape[1])"
   ]
  },
  {
   "cell_type": "code",
   "execution_count": null,
   "metadata": {},
   "outputs": [],
   "source": [
    "X_test.shape"
   ]
  },
  {
   "cell_type": "code",
   "execution_count": null,
   "metadata": {},
   "outputs": [],
   "source": [
    "y_test_pred = linreg.predict(X_test)\n",
    "\n",
    "test_regression_metrics = get_regression_metrics(y_test, y_test_pred, X_test.shape[1])\n",
    "\n",
    "df_test_true_pred = pd.DataFrame(columns=['true', 'pred'])\n",
    "df_test_true_pred = df_test_true_pred.assign(true=y_test)\n",
    "df_test_true_pred = df_test_true_pred.assign(pred=y_test_pred)\n",
    "df_test_true_pred['diff'] = df_test_true_pred['true'] - df_test_true_pred['pred']"
   ]
  },
  {
   "cell_type": "code",
   "execution_count": null,
   "metadata": {},
   "outputs": [],
   "source": [
    "df_test_true_pred.shape"
   ]
  },
  {
   "cell_type": "code",
   "execution_count": null,
   "metadata": {},
   "outputs": [],
   "source": [
    "df_test_true_pred[df_test_true_pred['diff'] < 0].shape # if true < pred => earlier than expected"
   ]
  },
  {
   "cell_type": "code",
   "execution_count": null,
   "metadata": {},
   "outputs": [],
   "source": [
    "# df_test_true_pred[df_test_true_pred.pred < 0].shape"
   ]
  },
  {
   "cell_type": "code",
   "execution_count": null,
   "metadata": {},
   "outputs": [],
   "source": [
    "sorted(list(zip(X_test.columns, abs(linreg.coef_))), \n",
    "    key=lambda item:item[1],\n",
    "      reverse=True)"
   ]
  },
  {
   "cell_type": "code",
   "execution_count": null,
   "metadata": {},
   "outputs": [],
   "source": [
    "pd.Series(linreg.coef_, index=X_test.columns).plot.bar(figsize=(15, 7))"
   ]
  },
  {
   "cell_type": "code",
   "execution_count": null,
   "metadata": {},
   "outputs": [],
   "source": [
    "df_test_true_pred.true.hist()"
   ]
  },
  {
   "cell_type": "code",
   "execution_count": null,
   "metadata": {},
   "outputs": [],
   "source": [
    "def regression_diagnostic_plots(df_true_pred):\n",
    "    fig, axes = plt.subplots(nrows=2, ncols=2, figsize=(12, 8))\n",
    "    axes = axes.ravel()\n",
    "    \n",
    "    \n",
    "    # Residual Plot: Validating the assumption of linearity\n",
    "    sns.residplot('pred', 'true', data=df_true_pred,lowess=True,\n",
    "                  line_kws={'color': 'red', 'lw': 1, 'alpha': 1}, \n",
    "                  ax=axes[0])\n",
    "    axes[0].set_title('Residual Plot')\n",
    "    axes[0].set_ylabel('Residuals')\n",
    "    axes[0].set_xlabel('Fitted Values')\n",
    "    \n",
    "    residuals = df_true_pred['true'] - df_true_pred['pred']\n",
    "    \n",
    "    # Normal Q-Q Plot: Validating the assumption of normally distributed residuals (errors)\n",
    "    stats.probplot(residuals, dist='norm', plot=axes[1])\n",
    "    axes[1].set_title('Normal Q-Q Plot')\n",
    "    \n",
    "    \n",
    "    # Scale-Location plot: Validating the assumption of homoscedasticity of residuals\n",
    "    model_norm_residuals_abs_sqrt=np.sqrt(np.abs(residuals))\n",
    "\n",
    "    sns.regplot(df_true_pred['pred'], model_norm_residuals_abs_sqrt,\n",
    "                scatter=True,\n",
    "                lowess=True,\n",
    "                line_kws={'color': 'red', 'lw': 1, 'alpha': 0.8}, \n",
    "                ax=axes[2])\n",
    "    axes[2].set_title(\"Scale-Location Plot\")\n",
    "    axes[2].set_ylabel(\"Standarized Residuals\")\n",
    "    axes[2].set_xlabel(\"Fitted Values\")\n",
    "    \n",
    "    axes[3].axis('off')\n",
    "    \n",
    "    fig.tight_layout()"
   ]
  },
  {
   "cell_type": "code",
   "execution_count": null,
   "metadata": {},
   "outputs": [],
   "source": [
    "regression_diagnostic_plots(df_test_true_pred)"
   ]
  },
  {
   "cell_type": "markdown",
   "metadata": {},
   "source": [
    "**Standardization of features**"
   ]
  },
  {
   "cell_type": "code",
   "execution_count": null,
   "metadata": {},
   "outputs": [],
   "source": [
    "ss = StandardScaler()\n",
    "ss.fit(X_train)\n",
    "X_train_sc = ss.transform(X_train)\n",
    "X_test_sc = ss.transform(X_test)"
   ]
  },
  {
   "cell_type": "code",
   "execution_count": null,
   "metadata": {
    "scrolled": true
   },
   "outputs": [],
   "source": [
    "r_alphas = np.logspace(0, 5, 200)\n",
    "ridge_model = RidgeCV(alphas=r_alphas, store_cv_values=True)\n",
    "ridge_model = ridge_model.fit(X_train_sc, y_train)\n",
    "\n",
    "y_test_pred = ridge_model.predict(X_test_sc)\n",
    "\n",
    "test_regression_metrics = get_regression_metrics(y_test, y_test_pred, X_test.shape[1])\n",
    "df_test_true_pred = pd.DataFrame(columns=['true', 'pred'])\n",
    "df_test_true_pred = df_test_true_pred.assign(true=y_test)\n",
    "df_test_true_pred = df_test_true_pred.assign(pred=y_test_pred)\n",
    "df_test_true_pred['diff'] = df_test_true_pred['true'] - df_test_true_pred['pred']"
   ]
  },
  {
   "cell_type": "code",
   "execution_count": null,
   "metadata": {},
   "outputs": [],
   "source": [
    "df_test_regression_metrics = pd.DataFrame()\n",
    "df_test_true_pred = pd.DataFrame(columns=['model_name', 'true', 'pred'])"
   ]
  },
  {
   "cell_type": "code",
   "execution_count": null,
   "metadata": {},
   "outputs": [],
   "source": [
    "def gridsearch_model_evaluation(model_name, model, hyper_param):\n",
    "    clf_pipe = Pipeline([\n",
    "        ('reg', model)\n",
    "    ])\n",
    "#   \n",
    "    print(clf_pipe.get_params().keys())\n",
    "    gs = GridSearchCV(clf_pipe, \n",
    "                      param_grid=hyper_param, \n",
    "#                       cv=cv, \n",
    "                      verbose=10, n_jobs=-1)\n",
    "    gs.fit(X_train_sc, y_train)\n",
    "    \n",
    "    print(model_name)\n",
    "    print('Best Score: {}'.format(gs.best_score_))\n",
    "    print('Best Params: {}'.format(gs.best_params_))\n",
    "    \n",
    "    # Best Model\n",
    "    grid_model = gs.best_estimator_\n",
    "    \n",
    "    print('Model Score on X_train: {}'.format(grid_model.score(X_train_sc, y_train)))\n",
    "    \n",
    "    # Prediction and score\n",
    "    y_test_pred = grid_model.predict(X_test_sc)\n",
    "\n",
    "    test_regression_metrics = get_regression_metrics(y_test, y_test_pred, X_test.shape[1])\n",
    "    test_regression_metrics['model_name'] = model_name\n",
    "    \n",
    "\n",
    "    test_regression_metrics = get_regression_metrics(y_test, y_test_pred, X_test.shape[1])\n",
    "\n",
    "    df_test_true_pred = pd.DataFrame(columns=['true', 'pred'])\n",
    "    df_test_true_pred = df_test_true_pred.assign(true=y_test)\n",
    "    df_test_true_pred = df_test_true_pred.assign(pred=y_test_pred)\n",
    "    df_test_true_pred['diff'] = df_test_true_pred['true'] - df_test_true_pred['pred']\n",
    "    regression_diagnostic_plots(df_test_true_pred)\n",
    "    \n",
    "    return test_regression_metrics, y_test_pred"
   ]
  },
  {
   "cell_type": "markdown",
   "metadata": {},
   "source": [
    "## Ridge Regression"
   ]
  },
  {
   "cell_type": "code",
   "execution_count": null,
   "metadata": {},
   "outputs": [],
   "source": [
    "test_regression_metrics, y_test_pred = gridsearch_model_evaluation('Ridge Regression',\n",
    "                                                                    Ridge(),\n",
    "                                                                    {'reg__alpha': np.logspace(0, 5, 200)})\n",
    "\n",
    "df_test_regression_metrics = df_test_regression_metrics.append(test_regression_metrics, ignore_index=True)"
   ]
  },
  {
   "cell_type": "markdown",
   "metadata": {},
   "source": [
    "## Lasso Regression"
   ]
  },
  {
   "cell_type": "code",
   "execution_count": null,
   "metadata": {},
   "outputs": [],
   "source": [
    "test_regression_metrics, y_test_pred = gridsearch_model_evaluation('Lasso Regression',\n",
    "                                                                    Lasso(),\n",
    "                                                                    {'reg__alpha': np.arange(0.001, 0.15, 0.0025)}\n",
    "                                                                   )\n",
    "\n",
    "df_test_regression_metrics = df_test_regression_metrics.append(test_regression_metrics, ignore_index=True)"
   ]
  },
  {
   "cell_type": "markdown",
   "metadata": {},
   "source": [
    "## ElasticNet Regression"
   ]
  },
  {
   "cell_type": "code",
   "execution_count": null,
   "metadata": {},
   "outputs": [],
   "source": [
    "test_regression_metrics, y_test_pred = gridsearch_model_evaluation('ElasticNet Regression',\n",
    "                                                                    ElasticNet(),\n",
    "                                                                    {'reg__alpha': np.arange(0.5, 1.0, 0.005),\n",
    "                                                                     'reg__l1_ratio': [0.5]}\n",
    "                                                                   )\n",
    "\n",
    "df_test_regression_metrics = df_test_regression_metrics.append(test_regression_metrics, ignore_index=True)"
   ]
  },
  {
   "cell_type": "markdown",
   "metadata": {},
   "source": [
    "## Random Forest Regression"
   ]
  },
  {
   "cell_type": "code",
   "execution_count": null,
   "metadata": {},
   "outputs": [],
   "source": [
    "# https://gdcoder.com/decision-tree-regressor-explained-in-depth/\n",
    "# https://medium.com/datadriveninvestor/random-forest-regression-9871bc9a25eb\n",
    "test_regression_metrics, y_test_pred = gridsearch_model_evaluation('Random Forest Regression',\n",
    "                                                                    RandomForestRegressor(),\n",
    "                                                                    {'reg__max_depth': range(3,7),\n",
    "                                                                     'reg__n_estimators': np.arange(10, 70, 10)}\n",
    "                                                                   )\n",
    "\n",
    "df_test_regression_metrics = df_test_regression_metrics.append(test_regression_metrics, ignore_index=True)"
   ]
  },
  {
   "cell_type": "markdown",
   "metadata": {},
   "source": [
    "## Support Vector Regression"
   ]
  },
  {
   "cell_type": "code",
   "execution_count": null,
   "metadata": {},
   "outputs": [],
   "source": [
    "# https://medium.com/pursuitnotes/support-vector-regression-in-6-steps-with-python-c4569acd062d\n",
    "# https://stackoverflow.com/questions/40568808/coefficient-in-support-vector-regression-svr-using-grid-search-gridsearchcv\n",
    "\n",
    "test_regression_metrics, y_test_pred = gridsearch_model_evaluation('Support Vector Regression',\n",
    "                                                                    SVR(),\n",
    "                                                                    {'reg__kernel': ['linear', 'rbf', 'poly', 'sigmoid'],\n",
    "                                                                     'reg__C': np.logspace(-3, 2, 2),\n",
    "                                                                     'reg__gamma': np.logspace(-5, 2, 2)}\n",
    "                                                                   )\n",
    "\n",
    "df_test_regression_metrics = df_test_regression_metrics.append(test_regression_metrics, ignore_index=True)"
   ]
  },
  {
   "cell_type": "markdown",
   "metadata": {},
   "source": [
    "## AdaBoost Regression"
   ]
  },
  {
   "cell_type": "code",
   "execution_count": null,
   "metadata": {},
   "outputs": [],
   "source": [
    "# https://www.programcreek.com/python/example/86712/sklearn.ensemble.AdaBoostRegressor\n",
    "ada = AdaBoostRegressor(base_estimator=DecisionTreeRegressor()) \n",
    "test_regression_metrics, y_test_pred = gridsearch_model_evaluation('AdaBoost Regression',\n",
    "                                                                    ada,\n",
    "                                                                    {'reg__n_estimators': [25, 50],\n",
    "                                                                     'reg__base_estimator__max_depth': [1,2],\n",
    "                                                                     'reg__learning_rate': np.arange(0.4, 1.1, 0.1)\n",
    "                                                                    }\n",
    "                                                                   )\n",
    "\n",
    "df_test_regression_metrics = df_test_regression_metrics.append(test_regression_metrics, ignore_index=True)"
   ]
  },
  {
   "cell_type": "markdown",
   "metadata": {},
   "source": [
    "## XGBoost"
   ]
  },
  {
   "cell_type": "code",
   "execution_count": null,
   "metadata": {},
   "outputs": [],
   "source": [
    "# https://www.datacamp.com/community/tutorials/xgboost-in-python\n",
    "# https://www.kaggle.com/phunter/xgboost-with-gridsearchcv\n",
    "# https://www.analyticsvidhya.com/blog/2016/03/complete-guide-parameter-tuning-xgboost-with-codes-python/\n",
    "\n",
    "test_regression_metrics, y_test_pred = gridsearch_model_evaluation('XGBoost Regression',\n",
    "                                                                    XGBRegressor(\n",
    "                                                                        objective='reg:linear',\n",
    "                                                                        nthread=12,\n",
    "                                                                        eval_metric='rmse'\n",
    "                                                                    ),\n",
    "                                                                    {\n",
    "                                                                      'reg__learning_rate': [.03, 0.05, .07], #so called `eta` value\n",
    "                                                                      'reg__max_depth': [5, 6, 7],\n",
    "                                                                      'reg__min_child_weight': [4],\n",
    "                                                                      'reg__subsample': [0.7],\n",
    "                                                                      'reg__colsample_bytree': [0.7],\n",
    "                                                                      'reg__n_estimators': [500],\n",
    "                                                                      'reg_'\n",
    "                                                                    }\n",
    "                                                                   )\n",
    "\n",
    "df_test_regression_metrics = df_test_regression_metrics.append(test_regression_metrics, ignore_index=True)"
   ]
  },
  {
   "cell_type": "code",
   "execution_count": null,
   "metadata": {},
   "outputs": [],
   "source": []
  },
  {
   "cell_type": "code",
   "execution_count": null,
   "metadata": {},
   "outputs": [],
   "source": [
    "# model_names = [\n",
    "#                'Linear Regression',\n",
    "#                'Ridge Regression',\n",
    "#                'Lasso Regression'\n",
    "# ]\n",
    "\n",
    "# models = [\n",
    "#          LinearRegression(),\n",
    "#          Ridge(),\n",
    "#          Lasso()\n",
    "         \n",
    "#         ]\n",
    "\n",
    "# hyper_params = [\n",
    "#                 {},\n",
    "#                 {\n",
    "#                     'clf__alpha': np.logspace(0, 5, 10)\n",
    "#                 },\n",
    "#                 {\n",
    "#                     'clf__alpha': np.arange(0.001, 0.15, 0.0025)\n",
    "#                     'clf__alpha': np.arange(0.001, 0.005, 0.0025)\n",
    "#                 }\n",
    "# ]"
   ]
  },
  {
   "cell_type": "code",
   "execution_count": null,
   "metadata": {},
   "outputs": [],
   "source": [
    "# # df_test_regression_metrics = pd.DataFrame()\n",
    "\n",
    "# for model_name, model, hyper_param in zip(model_names, models, hyper_params):\n",
    "    "
   ]
  },
  {
   "cell_type": "code",
   "execution_count": null,
   "metadata": {},
   "outputs": [],
   "source": []
  }
 ],
 "metadata": {
  "kernelspec": {
   "display_name": "Python 3",
   "language": "python",
   "name": "python3"
  },
  "language_info": {
   "codemirror_mode": {
    "name": "ipython",
    "version": 3
   },
   "file_extension": ".py",
   "mimetype": "text/x-python",
   "name": "python",
   "nbconvert_exporter": "python",
   "pygments_lexer": "ipython3",
   "version": "3.6.9"
  }
 },
 "nbformat": 4,
 "nbformat_minor": 4
}
