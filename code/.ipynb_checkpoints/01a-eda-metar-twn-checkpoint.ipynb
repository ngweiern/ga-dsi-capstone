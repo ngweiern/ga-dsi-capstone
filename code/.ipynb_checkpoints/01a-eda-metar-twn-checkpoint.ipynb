{
 "cells": [
  {
   "cell_type": "code",
   "execution_count": 1,
   "metadata": {},
   "outputs": [],
   "source": [
    "import pandas as pd\n",
    "import numpy as np\n",
    "import datetime as dt\n",
    "import matplotlib.pyplot as plt\n",
    "import seaborn as sns\n",
    "from sklearn.feature_extraction.text import CountVectorizer\n",
    "\n",
    "pd.set_option(\"display.max_columns\", 60)\n",
    "%matplotlib inline"
   ]
  },
  {
   "cell_type": "code",
   "execution_count": 2,
   "metadata": {},
   "outputs": [
    {
     "data": {
      "text/html": [
       "<div>\n",
       "<style scoped>\n",
       "    .dataframe tbody tr th:only-of-type {\n",
       "        vertical-align: middle;\n",
       "    }\n",
       "\n",
       "    .dataframe tbody tr th {\n",
       "        vertical-align: top;\n",
       "    }\n",
       "\n",
       "    .dataframe thead th {\n",
       "        text-align: right;\n",
       "    }\n",
       "</style>\n",
       "<table border=\"1\" class=\"dataframe\">\n",
       "  <thead>\n",
       "    <tr style=\"text-align: right;\">\n",
       "      <th></th>\n",
       "      <th>station</th>\n",
       "      <th>valid</th>\n",
       "      <th>tmpf</th>\n",
       "      <th>dwpf</th>\n",
       "      <th>relh</th>\n",
       "      <th>drct</th>\n",
       "      <th>sknt</th>\n",
       "      <th>p01i</th>\n",
       "      <th>alti</th>\n",
       "      <th>mslp</th>\n",
       "      <th>vsby</th>\n",
       "      <th>gust</th>\n",
       "      <th>skyc1</th>\n",
       "      <th>skyc2</th>\n",
       "      <th>skyc3</th>\n",
       "      <th>skyc4</th>\n",
       "      <th>skyl1</th>\n",
       "      <th>skyl2</th>\n",
       "      <th>skyl3</th>\n",
       "      <th>skyl4</th>\n",
       "      <th>wxcodes</th>\n",
       "      <th>ice_accretion_1hr</th>\n",
       "      <th>ice_accretion_3hr</th>\n",
       "      <th>ice_accretion_6hr</th>\n",
       "      <th>peak_wind_gust</th>\n",
       "      <th>peak_wind_drct</th>\n",
       "      <th>peak_wind_time</th>\n",
       "      <th>feel</th>\n",
       "      <th>metar</th>\n",
       "    </tr>\n",
       "  </thead>\n",
       "  <tbody>\n",
       "    <tr>\n",
       "      <th>0</th>\n",
       "      <td>RCTP</td>\n",
       "      <td>2016-12-31 00:00</td>\n",
       "      <td>68.0</td>\n",
       "      <td>62.6</td>\n",
       "      <td>82.86</td>\n",
       "      <td>40.00</td>\n",
       "      <td>17.0</td>\n",
       "      <td>0.0</td>\n",
       "      <td>30.24</td>\n",
       "      <td>M</td>\n",
       "      <td>6.21</td>\n",
       "      <td>M</td>\n",
       "      <td>FEW</td>\n",
       "      <td>SCT</td>\n",
       "      <td>M</td>\n",
       "      <td>M</td>\n",
       "      <td>1500.00</td>\n",
       "      <td>2200.00</td>\n",
       "      <td>M</td>\n",
       "      <td>M</td>\n",
       "      <td>M</td>\n",
       "      <td>M</td>\n",
       "      <td>M</td>\n",
       "      <td>M</td>\n",
       "      <td>M</td>\n",
       "      <td>M</td>\n",
       "      <td>M</td>\n",
       "      <td>68.0</td>\n",
       "      <td>RCTP 310000Z 04017KT 9999 FEW015 SCT022 20/17 ...</td>\n",
       "    </tr>\n",
       "    <tr>\n",
       "      <th>1</th>\n",
       "      <td>RCTP</td>\n",
       "      <td>2016-12-31 00:30</td>\n",
       "      <td>69.8</td>\n",
       "      <td>62.6</td>\n",
       "      <td>77.90</td>\n",
       "      <td>40.00</td>\n",
       "      <td>19.0</td>\n",
       "      <td>0.0</td>\n",
       "      <td>30.24</td>\n",
       "      <td>M</td>\n",
       "      <td>6.21</td>\n",
       "      <td>M</td>\n",
       "      <td>BKN</td>\n",
       "      <td>M</td>\n",
       "      <td>M</td>\n",
       "      <td>M</td>\n",
       "      <td>1900.00</td>\n",
       "      <td>M</td>\n",
       "      <td>M</td>\n",
       "      <td>M</td>\n",
       "      <td>M</td>\n",
       "      <td>M</td>\n",
       "      <td>M</td>\n",
       "      <td>M</td>\n",
       "      <td>M</td>\n",
       "      <td>M</td>\n",
       "      <td>M</td>\n",
       "      <td>69.8</td>\n",
       "      <td>RCTP 310030Z 04019KT 9999 BKN019 21/17 Q1024 N...</td>\n",
       "    </tr>\n",
       "  </tbody>\n",
       "</table>\n",
       "</div>"
      ],
      "text/plain": [
       "  station             valid  tmpf  dwpf   relh   drct  sknt  p01i   alti mslp  \\\n",
       "0    RCTP  2016-12-31 00:00  68.0  62.6  82.86  40.00  17.0   0.0  30.24    M   \n",
       "1    RCTP  2016-12-31 00:30  69.8  62.6  77.90  40.00  19.0   0.0  30.24    M   \n",
       "\n",
       "   vsby gust skyc1 skyc2 skyc3 skyc4    skyl1    skyl2 skyl3 skyl4 wxcodes  \\\n",
       "0  6.21    M   FEW   SCT     M     M  1500.00  2200.00     M     M       M   \n",
       "1  6.21    M   BKN     M     M     M  1900.00        M     M     M       M   \n",
       "\n",
       "  ice_accretion_1hr ice_accretion_3hr ice_accretion_6hr peak_wind_gust  \\\n",
       "0                 M                 M                 M              M   \n",
       "1                 M                 M                 M              M   \n",
       "\n",
       "  peak_wind_drct peak_wind_time  feel  \\\n",
       "0              M              M  68.0   \n",
       "1              M              M  69.8   \n",
       "\n",
       "                                               metar  \n",
       "0  RCTP 310000Z 04017KT 9999 FEW015 SCT022 20/17 ...  \n",
       "1  RCTP 310030Z 04019KT 9999 BKN019 21/17 Q1024 N...  "
      ]
     },
     "execution_count": 2,
     "metadata": {},
     "output_type": "execute_result"
    }
   ],
   "source": [
    "twn_weather = pd.read_csv('../data/metar-rctp.csv')\n",
    "twn_weather.head(2)"
   ]
  },
  {
   "cell_type": "code",
   "execution_count": 3,
   "metadata": {},
   "outputs": [],
   "source": [
    "twn_weather.rename(columns={\n",
    "    'valid': 'timestamp',\n",
    "    'tmpf': 'air_temp',\n",
    "    'dwpf': 'dewpoint_temp',\n",
    "    'relh': 'rel_humidity',\n",
    "    'drct': 'wind_dir',\n",
    "    'sknt': 'wind_speed',\n",
    "    'p01i': 'precipitation',\n",
    "    'alti': 'altimeter_pressure',\n",
    "    'mslp': 'sealevel_pressure',\n",
    "    'vsby': 'visibility',\n",
    "    'gust': 'gust_speed',\n",
    "    'skyc1': 'sky_level_1_coverage',\n",
    "    'skyc2': 'sky_level_2_coverage',\n",
    "    'skyc3': 'sky_level_3_coverage',\n",
    "    'skyc4': 'sky_level_4_coverage',\n",
    "    'skyl1': 'sky_level_1_altitude',\n",
    "    'skyl2': 'sky_level_2_altitude',\n",
    "    'skyl3': 'sky_level_3_altitude',\n",
    "    'skyl4': 'sky_level_4_altitude',\n",
    "    'wxcodes': 'weather_codes',\n",
    "    'feel': 'apparent_temp'\n",
    "}, inplace=True)"
   ]
  },
  {
   "cell_type": "code",
   "execution_count": 4,
   "metadata": {},
   "outputs": [
    {
     "data": {
      "text/plain": [
       "(3012, 29)"
      ]
     },
     "execution_count": 4,
     "metadata": {},
     "output_type": "execute_result"
    }
   ],
   "source": [
    "twn_weather.shape"
   ]
  },
  {
   "cell_type": "code",
   "execution_count": 5,
   "metadata": {},
   "outputs": [
    {
     "data": {
      "text/plain": [
       "Index(['station', 'timestamp', 'air_temp', 'dewpoint_temp', 'rel_humidity',\n",
       "       'wind_dir', 'wind_speed', 'precipitation', 'altimeter_pressure',\n",
       "       'sealevel_pressure', 'visibility', 'gust_speed', 'sky_level_1_coverage',\n",
       "       'sky_level_2_coverage', 'sky_level_3_coverage', 'sky_level_4_coverage',\n",
       "       'sky_level_1_altitude', 'sky_level_2_altitude', 'sky_level_3_altitude',\n",
       "       'sky_level_4_altitude', 'weather_codes', 'ice_accretion_1hr',\n",
       "       'ice_accretion_3hr', 'ice_accretion_6hr', 'peak_wind_gust',\n",
       "       'peak_wind_drct', 'peak_wind_time', 'apparent_temp', 'metar'],\n",
       "      dtype='object')"
      ]
     },
     "execution_count": 5,
     "metadata": {},
     "output_type": "execute_result"
    }
   ],
   "source": [
    "twn_weather.columns"
   ]
  },
  {
   "cell_type": "code",
   "execution_count": 6,
   "metadata": {},
   "outputs": [
    {
     "name": "stdout",
     "output_type": "stream",
     "text": [
      "<class 'pandas.core.frame.DataFrame'>\n",
      "RangeIndex: 3012 entries, 0 to 3011\n",
      "Data columns (total 29 columns):\n",
      " #   Column                Non-Null Count  Dtype  \n",
      "---  ------                --------------  -----  \n",
      " 0   station               3012 non-null   object \n",
      " 1   timestamp             3012 non-null   object \n",
      " 2   air_temp              3012 non-null   float64\n",
      " 3   dewpoint_temp         3012 non-null   float64\n",
      " 4   rel_humidity          3012 non-null   float64\n",
      " 5   wind_dir              3012 non-null   object \n",
      " 6   wind_speed            3012 non-null   float64\n",
      " 7   precipitation         3012 non-null   float64\n",
      " 8   altimeter_pressure    3012 non-null   float64\n",
      " 9   sealevel_pressure     3012 non-null   object \n",
      " 10  visibility            3012 non-null   float64\n",
      " 11  gust_speed            3012 non-null   object \n",
      " 12  sky_level_1_coverage  3012 non-null   object \n",
      " 13  sky_level_2_coverage  3012 non-null   object \n",
      " 14  sky_level_3_coverage  3012 non-null   object \n",
      " 15  sky_level_4_coverage  3012 non-null   object \n",
      " 16  sky_level_1_altitude  3012 non-null   object \n",
      " 17  sky_level_2_altitude  3012 non-null   object \n",
      " 18  sky_level_3_altitude  3012 non-null   object \n",
      " 19  sky_level_4_altitude  3012 non-null   object \n",
      " 20  weather_codes         3012 non-null   object \n",
      " 21  ice_accretion_1hr     3012 non-null   object \n",
      " 22  ice_accretion_3hr     3012 non-null   object \n",
      " 23  ice_accretion_6hr     3012 non-null   object \n",
      " 24  peak_wind_gust        3012 non-null   object \n",
      " 25  peak_wind_drct        3012 non-null   object \n",
      " 26  peak_wind_time        3012 non-null   object \n",
      " 27  apparent_temp         3012 non-null   float64\n",
      " 28  metar                 3012 non-null   object \n",
      "dtypes: float64(8), object(21)\n",
      "memory usage: 682.5+ KB\n"
     ]
    }
   ],
   "source": [
    "twn_weather.info()"
   ]
  },
  {
   "cell_type": "markdown",
   "metadata": {},
   "source": [
    "## Handling null values"
   ]
  },
  {
   "cell_type": "code",
   "execution_count": 7,
   "metadata": {},
   "outputs": [],
   "source": [
    "twn_weather.replace('M', np.NaN, inplace=True)"
   ]
  },
  {
   "cell_type": "code",
   "execution_count": 8,
   "metadata": {},
   "outputs": [
    {
     "data": {
      "text/plain": [
       "station                    0\n",
       "timestamp                  0\n",
       "air_temp                   0\n",
       "dewpoint_temp              0\n",
       "rel_humidity               0\n",
       "wind_dir                  56\n",
       "wind_speed                 0\n",
       "precipitation              0\n",
       "altimeter_pressure         0\n",
       "sealevel_pressure       3012\n",
       "visibility                 0\n",
       "gust_speed              2896\n",
       "sky_level_1_coverage      69\n",
       "sky_level_2_coverage     592\n",
       "sky_level_3_coverage    1478\n",
       "sky_level_4_coverage    2986\n",
       "sky_level_1_altitude      70\n",
       "sky_level_2_altitude     592\n",
       "sky_level_3_altitude    1478\n",
       "sky_level_4_altitude    2986\n",
       "weather_codes           2233\n",
       "ice_accretion_1hr       3012\n",
       "ice_accretion_3hr       3012\n",
       "ice_accretion_6hr       3012\n",
       "peak_wind_gust          3012\n",
       "peak_wind_drct          3012\n",
       "peak_wind_time          3012\n",
       "apparent_temp              0\n",
       "metar                      0\n",
       "dtype: int64"
      ]
     },
     "execution_count": 8,
     "metadata": {},
     "output_type": "execute_result"
    }
   ],
   "source": [
    "twn_weather.isnull().sum()"
   ]
  },
  {
   "cell_type": "code",
   "execution_count": 9,
   "metadata": {},
   "outputs": [
    {
     "data": {
      "text/plain": [
       "station                   0.000000\n",
       "timestamp                 0.000000\n",
       "air_temp                  0.000000\n",
       "dewpoint_temp             0.000000\n",
       "rel_humidity              0.000000\n",
       "wind_dir                  1.859230\n",
       "wind_speed                0.000000\n",
       "precipitation             0.000000\n",
       "altimeter_pressure        0.000000\n",
       "sealevel_pressure       100.000000\n",
       "visibility                0.000000\n",
       "gust_speed               96.148738\n",
       "sky_level_1_coverage      2.290837\n",
       "sky_level_2_coverage     19.654714\n",
       "sky_level_3_coverage     49.070385\n",
       "sky_level_4_coverage     99.136786\n",
       "sky_level_1_altitude      2.324037\n",
       "sky_level_2_altitude     19.654714\n",
       "sky_level_3_altitude     49.070385\n",
       "sky_level_4_altitude     99.136786\n",
       "weather_codes            74.136786\n",
       "ice_accretion_1hr       100.000000\n",
       "ice_accretion_3hr       100.000000\n",
       "ice_accretion_6hr       100.000000\n",
       "peak_wind_gust          100.000000\n",
       "peak_wind_drct          100.000000\n",
       "peak_wind_time          100.000000\n",
       "apparent_temp             0.000000\n",
       "metar                     0.000000\n",
       "dtype: float64"
      ]
     },
     "execution_count": 9,
     "metadata": {},
     "output_type": "execute_result"
    }
   ],
   "source": [
    "twn_weather.isnull().sum() / twn_weather.shape[0] * 100"
   ]
  },
  {
   "cell_type": "code",
   "execution_count": 10,
   "metadata": {},
   "outputs": [],
   "source": [
    "# Drop features with 100% NaN values\n",
    "twn_weather.drop(['sealevel_pressure', \n",
    "                  'ice_accretion_1hr', 'ice_accretion_3hr', 'ice_accretion_6hr',\n",
    "                  'peak_wind_gust', 'peak_wind_drct', 'peak_wind_time'], axis=1, inplace=True)\n",
    "\n",
    "twn_weather.drop(['metar'], axis=1, inplace=True)\n",
    "# twn_weather.drop(['precipitation'], axis=1, inplace=True)\n",
    "\n",
    "# twn_weather.drop(['sky_level_2_coverage', 'sky_level_3_coverage', 'sky_level_4_coverage',\n",
    "#                   'sky_level_2_altitude', 'sky_level_3_altitude', 'sky_level_4_altitude'], \n",
    "#                   axis=1, inplace=True)\n",
    "\n",
    "# twn_weather.timestamp = pd.to_datetime(twn_weather.timestamp)\n",
    "\n",
    "# twn_weather.wind_dir = pd.to_numeric(twn_weather.wind_dir, errors='coerce').astype('Int64')\n",
    "\n",
    "# twn_weather.gust_speed = pd.to_numeric(twn_weather.gust_speed, errors='coerce').astype('Int64')\n",
    "# twn_weather.gust_speed = twn_weather.gust_speed.fillna(0)\n",
    "\n",
    "# twn_weather.wind_dir = twn_weather.wind_dir.fillna(method='ffill')\n",
    "\n",
    "# twn_weather.sky_level_1_coverage = twn_weather.sky_level_1_coverage.fillna(method='ffill')\n",
    "# twn_weather.sky_level_1_altitude = twn_weather.sky_level_1_altitude.fillna(method='ffill')"
   ]
  },
  {
   "cell_type": "code",
   "execution_count": 11,
   "metadata": {},
   "outputs": [
    {
     "data": {
      "text/plain": [
       "station                  0.000000\n",
       "timestamp                0.000000\n",
       "air_temp                 0.000000\n",
       "dewpoint_temp            0.000000\n",
       "rel_humidity             0.000000\n",
       "wind_dir                 1.859230\n",
       "wind_speed               0.000000\n",
       "precipitation            0.000000\n",
       "altimeter_pressure       0.000000\n",
       "visibility               0.000000\n",
       "gust_speed              96.148738\n",
       "sky_level_1_coverage     2.290837\n",
       "sky_level_2_coverage    19.654714\n",
       "sky_level_3_coverage    49.070385\n",
       "sky_level_4_coverage    99.136786\n",
       "sky_level_1_altitude     2.324037\n",
       "sky_level_2_altitude    19.654714\n",
       "sky_level_3_altitude    49.070385\n",
       "sky_level_4_altitude    99.136786\n",
       "weather_codes           74.136786\n",
       "apparent_temp            0.000000\n",
       "dtype: float64"
      ]
     },
     "execution_count": 11,
     "metadata": {},
     "output_type": "execute_result"
    }
   ],
   "source": [
    "twn_weather.isnull().sum() / twn_weather.shape[0] * 100"
   ]
  },
  {
   "cell_type": "markdown",
   "metadata": {},
   "source": [
    "## station\n",
    "three or four character site identifier"
   ]
  },
  {
   "cell_type": "code",
   "execution_count": 12,
   "metadata": {},
   "outputs": [
    {
     "data": {
      "text/plain": [
       "RCTP    3012\n",
       "Name: station, dtype: int64"
      ]
     },
     "execution_count": 12,
     "metadata": {},
     "output_type": "execute_result"
    }
   ],
   "source": [
    "twn_weather.station.value_counts()"
   ]
  },
  {
   "cell_type": "markdown",
   "metadata": {},
   "source": [
    "## timestamp\n",
    "timestamp of observation"
   ]
  },
  {
   "cell_type": "code",
   "execution_count": 13,
   "metadata": {},
   "outputs": [],
   "source": [
    "twn_weather.timestamp = pd.to_datetime(twn_weather.timestamp)"
   ]
  },
  {
   "cell_type": "code",
   "execution_count": 14,
   "metadata": {},
   "outputs": [
    {
     "data": {
      "text/plain": [
       "0      2016-12-31 00:00:00\n",
       "1      2016-12-31 00:30:00\n",
       "2      2016-12-31 01:00:00\n",
       "3      2016-12-31 01:30:00\n",
       "4      2016-12-31 02:00:00\n",
       "               ...        \n",
       "3007   2017-02-27 22:47:00\n",
       "3008   2017-02-27 23:00:00\n",
       "3009   2017-02-27 23:20:00\n",
       "3010   2017-02-27 23:24:00\n",
       "3011   2017-02-27 23:30:00\n",
       "Name: timestamp, Length: 3012, dtype: datetime64[ns]"
      ]
     },
     "execution_count": 14,
     "metadata": {},
     "output_type": "execute_result"
    }
   ],
   "source": [
    "twn_weather.timestamp.sort_values()"
   ]
  },
  {
   "cell_type": "markdown",
   "metadata": {},
   "source": [
    "## air_temp\n",
    "Air Temperature in Fahrenheit, typically @ 2 meters"
   ]
  },
  {
   "cell_type": "code",
   "execution_count": 15,
   "metadata": {},
   "outputs": [
    {
     "data": {
      "text/plain": [
       "dtype('float64')"
      ]
     },
     "execution_count": 15,
     "metadata": {},
     "output_type": "execute_result"
    }
   ],
   "source": [
    "twn_weather.air_temp.dtype"
   ]
  },
  {
   "cell_type": "code",
   "execution_count": 16,
   "metadata": {},
   "outputs": [
    {
     "data": {
      "text/plain": [
       "48.2      1\n",
       "50.0     21\n",
       "51.8     74\n",
       "53.6    156\n",
       "55.4    144\n",
       "57.2    267\n",
       "59.0    304\n",
       "60.8    294\n",
       "62.6    392\n",
       "64.4    395\n",
       "66.2    262\n",
       "68.0    293\n",
       "69.8    195\n",
       "71.6     99\n",
       "73.4     63\n",
       "75.2     16\n",
       "77.0     18\n",
       "78.8     10\n",
       "80.6      8\n",
       "Name: air_temp, dtype: int64"
      ]
     },
     "execution_count": 16,
     "metadata": {},
     "output_type": "execute_result"
    }
   ],
   "source": [
    "twn_weather.air_temp.value_counts().sort_index()"
   ]
  },
  {
   "cell_type": "code",
   "execution_count": 17,
   "metadata": {},
   "outputs": [
    {
     "data": {
      "image/png": "[encoded data removed]",
      "text/plain": [
       "<Figure size 576x360 with 1 Axes>"
      ]
     },
     "metadata": {
      "needs_background": "light"
     },
     "output_type": "display_data"
    }
   ],
   "source": [
    "plt.figure(figsize=(8, 5))\n",
    "twn_weather.air_temp.hist()\n",
    "plt.xlabel('air_temp')\n",
    "plt.ylabel('Counts')\n",
    "plt.title('Histogram of air_temp');"
   ]
  },
  {
   "cell_type": "markdown",
   "metadata": {},
   "source": [
    "## dewpoint_temp\n",
    "Dew Point Temperature in Fahrenheit, typically @ 2 meters"
   ]
  },
  {
   "cell_type": "code",
   "execution_count": 18,
   "metadata": {},
   "outputs": [
    {
     "data": {
      "text/plain": [
       "dtype('float64')"
      ]
     },
     "execution_count": 18,
     "metadata": {},
     "output_type": "execute_result"
    }
   ],
   "source": [
    "twn_weather.dewpoint_temp.dtype"
   ]
  },
  {
   "cell_type": "code",
   "execution_count": 19,
   "metadata": {},
   "outputs": [
    {
     "data": {
      "text/plain": [
       "35.6      8\n",
       "37.4     46\n",
       "39.2     36\n",
       "41.0     29\n",
       "42.8     47\n",
       "44.6     53\n",
       "46.4    123\n",
       "48.2    125\n",
       "50.0    205\n",
       "51.8    319\n",
       "53.6    260\n",
       "55.4    204\n",
       "57.2    244\n",
       "59.0    214\n",
       "60.8    331\n",
       "62.6    352\n",
       "64.4    198\n",
       "66.2    168\n",
       "68.0     50\n",
       "Name: dewpoint_temp, dtype: int64"
      ]
     },
     "execution_count": 19,
     "metadata": {},
     "output_type": "execute_result"
    }
   ],
   "source": [
    "twn_weather.dewpoint_temp.value_counts().sort_index()"
   ]
  },
  {
   "cell_type": "code",
   "execution_count": 20,
   "metadata": {},
   "outputs": [
    {
     "data": {
      "image/png": "[encoded data removed]",
      "text/plain": [
       "<Figure size 576x360 with 1 Axes>"
      ]
     },
     "metadata": {
      "needs_background": "light"
     },
     "output_type": "display_data"
    }
   ],
   "source": [
    "plt.figure(figsize=(8, 5))\n",
    "twn_weather.dewpoint_temp.hist()\n",
    "plt.xlabel('dewpoint_temp')\n",
    "plt.ylabel('Counts')\n",
    "plt.title('Histogram of dewpoint_temp');"
   ]
  },
  {
   "cell_type": "markdown",
   "metadata": {},
   "source": [
    "## rel_humidity\n",
    "Relative Humidity in %"
   ]
  },
  {
   "cell_type": "code",
   "execution_count": 21,
   "metadata": {},
   "outputs": [
    {
     "data": {
      "text/plain": [
       "dtype('float64')"
      ]
     },
     "execution_count": 21,
     "metadata": {},
     "output_type": "execute_result"
    }
   ],
   "source": [
    "twn_weather.rel_humidity.dtype"
   ]
  },
  {
   "cell_type": "code",
   "execution_count": 22,
   "metadata": {},
   "outputs": [
    {
     "data": {
      "text/plain": [
       "42.85       1\n",
       "43.13       2\n",
       "44.25       1\n",
       "44.52       1\n",
       "44.80       1\n",
       "         ... \n",
       "93.88     113\n",
       "93.92      36\n",
       "93.97      82\n",
       "94.01      26\n",
       "100.00    125\n",
       "Name: rel_humidity, Length: 168, dtype: int64"
      ]
     },
     "execution_count": 22,
     "metadata": {},
     "output_type": "execute_result"
    }
   ],
   "source": [
    "twn_weather.rel_humidity.value_counts().sort_index()"
   ]
  },
  {
   "cell_type": "code",
   "execution_count": 23,
   "metadata": {},
   "outputs": [
    {
     "data": {
      "image/png": "[encoded data removed]",
      "text/plain": [
       "<Figure size 576x360 with 1 Axes>"
      ]
     },
     "metadata": {
      "needs_background": "light"
     },
     "output_type": "display_data"
    }
   ],
   "source": [
    "plt.figure(figsize=(8, 5))\n",
    "twn_weather.rel_humidity.hist()\n",
    "plt.xlabel('rel_humidity')\n",
    "plt.ylabel('Counts')\n",
    "plt.title('Histogram of rel_humidity');"
   ]
  },
  {
   "cell_type": "markdown",
   "metadata": {},
   "source": [
    "## wind_dir\n",
    "Wind Direction in degrees from north"
   ]
  },
  {
   "cell_type": "code",
   "execution_count": 24,
   "metadata": {},
   "outputs": [
    {
     "data": {
      "text/plain": [
       "dtype('O')"
      ]
     },
     "execution_count": 24,
     "metadata": {},
     "output_type": "execute_result"
    }
   ],
   "source": [
    "twn_weather.wind_dir.dtype"
   ]
  },
  {
   "cell_type": "code",
   "execution_count": 25,
   "metadata": {},
   "outputs": [],
   "source": [
    "twn_weather.wind_dir = pd.to_numeric(twn_weather.wind_dir, errors='coerce').astype('Int64')"
   ]
  },
  {
   "cell_type": "code",
   "execution_count": 26,
   "metadata": {},
   "outputs": [
    {
     "data": {
      "text/plain": [
       "56"
      ]
     },
     "execution_count": 26,
     "metadata": {},
     "output_type": "execute_result"
    }
   ],
   "source": [
    "twn_weather.wind_dir.isnull().sum()"
   ]
  },
  {
   "cell_type": "code",
   "execution_count": 27,
   "metadata": {},
   "outputs": [
    {
     "data": {
      "text/plain": [
       "0        8\n",
       "10     129\n",
       "20     228\n",
       "30     377\n",
       "40     481\n",
       "50     495\n",
       "60     357\n",
       "70     204\n",
       "80      47\n",
       "90      12\n",
       "100     21\n",
       "110      7\n",
       "120      8\n",
       "130     18\n",
       "140     16\n",
       "150     24\n",
       "160     21\n",
       "170     26\n",
       "180     14\n",
       "190     16\n",
       "200     12\n",
       "210     14\n",
       "220     31\n",
       "230     39\n",
       "240     32\n",
       "250      9\n",
       "260     14\n",
       "270      9\n",
       "280     14\n",
       "290     34\n",
       "300     25\n",
       "310     37\n",
       "320     32\n",
       "330     21\n",
       "340     32\n",
       "350     41\n",
       "360     51\n",
       "NaN     56\n",
       "Name: wind_dir, dtype: Int64"
      ]
     },
     "execution_count": 27,
     "metadata": {},
     "output_type": "execute_result"
    }
   ],
   "source": [
    "twn_weather.wind_dir.value_counts(dropna=False).sort_index()"
   ]
  },
  {
   "cell_type": "code",
   "execution_count": 28,
   "metadata": {},
   "outputs": [
    {
     "data": {
      "text/plain": [
       "Int64Index([ 107,  239,  245,  289,  291,  293,  294,  295,  296,  300,  304,\n",
       "             305,  361,  365,  369,  370,  372,  399,  923,  984, 1451, 1452,\n",
       "            1496, 1512, 1519, 1762, 1807, 1809, 1811, 1814, 1821, 2308, 2326,\n",
       "            2331, 2362, 2375, 2377, 2378, 2380, 2395, 2530, 2532, 2533, 2535,\n",
       "            2537, 2588, 2659, 2660, 2673, 2680, 2681, 2682, 2685, 2695, 2696,\n",
       "            2704],\n",
       "           dtype='int64')"
      ]
     },
     "execution_count": 28,
     "metadata": {},
     "output_type": "execute_result"
    }
   ],
   "source": [
    "twn_weather.wind_dir[twn_weather.wind_dir.isnull()].index"
   ]
  },
  {
   "cell_type": "code",
   "execution_count": 29,
   "metadata": {},
   "outputs": [
    {
     "data": {
      "text/html": [
       "<div>\n",
       "<style scoped>\n",
       "    .dataframe tbody tr th:only-of-type {\n",
       "        vertical-align: middle;\n",
       "    }\n",
       "\n",
       "    .dataframe tbody tr th {\n",
       "        vertical-align: top;\n",
       "    }\n",
       "\n",
       "    .dataframe thead th {\n",
       "        text-align: right;\n",
       "    }\n",
       "</style>\n",
       "<table border=\"1\" class=\"dataframe\">\n",
       "  <thead>\n",
       "    <tr style=\"text-align: right;\">\n",
       "      <th></th>\n",
       "      <th>timestamp</th>\n",
       "      <th>wind_dir</th>\n",
       "    </tr>\n",
       "  </thead>\n",
       "  <tbody>\n",
       "    <tr>\n",
       "      <th>236</th>\n",
       "      <td>2017-01-04 14:00:00</td>\n",
       "      <td>80</td>\n",
       "    </tr>\n",
       "    <tr>\n",
       "      <th>237</th>\n",
       "      <td>2017-01-04 14:30:00</td>\n",
       "      <td>140</td>\n",
       "    </tr>\n",
       "    <tr>\n",
       "      <th>238</th>\n",
       "      <td>2017-01-04 15:00:00</td>\n",
       "      <td>120</td>\n",
       "    </tr>\n",
       "    <tr>\n",
       "      <th>239</th>\n",
       "      <td>2017-01-04 15:30:00</td>\n",
       "      <td>&lt;NA&gt;</td>\n",
       "    </tr>\n",
       "    <tr>\n",
       "      <th>240</th>\n",
       "      <td>2017-01-04 16:00:00</td>\n",
       "      <td>190</td>\n",
       "    </tr>\n",
       "    <tr>\n",
       "      <th>241</th>\n",
       "      <td>2017-01-04 16:30:00</td>\n",
       "      <td>130</td>\n",
       "    </tr>\n",
       "    <tr>\n",
       "      <th>242</th>\n",
       "      <td>2017-01-04 17:00:00</td>\n",
       "      <td>170</td>\n",
       "    </tr>\n",
       "  </tbody>\n",
       "</table>\n",
       "</div>"
      ],
      "text/plain": [
       "              timestamp  wind_dir\n",
       "236 2017-01-04 14:00:00        80\n",
       "237 2017-01-04 14:30:00       140\n",
       "238 2017-01-04 15:00:00       120\n",
       "239 2017-01-04 15:30:00      <NA>\n",
       "240 2017-01-04 16:00:00       190\n",
       "241 2017-01-04 16:30:00       130\n",
       "242 2017-01-04 17:00:00       170"
      ]
     },
     "execution_count": 29,
     "metadata": {},
     "output_type": "execute_result"
    }
   ],
   "source": [
    "twn_weather.loc[236:242, ['timestamp', 'wind_dir']]"
   ]
  },
  {
   "cell_type": "code",
   "execution_count": 30,
   "metadata": {},
   "outputs": [
    {
     "data": {
      "text/plain": [
       "Text(0.5, 1.0, 'Histogram of wind_dir')"
      ]
     },
     "execution_count": 30,
     "metadata": {},
     "output_type": "execute_result"
    },
    {
     "data": {
      "image/png": "[encoded data removed]",
      "text/plain": [
       "<Figure size 576x360 with 1 Axes>"
      ]
     },
     "metadata": {
      "needs_background": "light"
     },
     "output_type": "display_data"
    }
   ],
   "source": [
    "plt.figure(figsize=(8, 5))\n",
    "twn_weather.wind_dir.hist()\n",
    "plt.xlabel('wind_dir')\n",
    "plt.ylabel('Counts')\n",
    "plt.title('Histogram of wind_dir')"
   ]
  },
  {
   "cell_type": "markdown",
   "metadata": {},
   "source": [
    "## wind_speed\n",
    "Wind Speed in knots"
   ]
  },
  {
   "cell_type": "code",
   "execution_count": 31,
   "metadata": {},
   "outputs": [
    {
     "data": {
      "text/plain": [
       "dtype('float64')"
      ]
     },
     "execution_count": 31,
     "metadata": {},
     "output_type": "execute_result"
    }
   ],
   "source": [
    "twn_weather.wind_speed.dtype"
   ]
  },
  {
   "cell_type": "code",
   "execution_count": 32,
   "metadata": {},
   "outputs": [
    {
     "data": {
      "text/plain": [
       "0"
      ]
     },
     "execution_count": 32,
     "metadata": {},
     "output_type": "execute_result"
    }
   ],
   "source": [
    "twn_weather.wind_speed.isnull().sum()"
   ]
  },
  {
   "cell_type": "code",
   "execution_count": 33,
   "metadata": {},
   "outputs": [
    {
     "data": {
      "text/plain": [
       "0.0"
      ]
     },
     "execution_count": 33,
     "metadata": {},
     "output_type": "execute_result"
    }
   ],
   "source": [
    "twn_weather.wind_speed.min()"
   ]
  },
  {
   "cell_type": "code",
   "execution_count": 34,
   "metadata": {},
   "outputs": [
    {
     "data": {
      "text/plain": [
       "30.0"
      ]
     },
     "execution_count": 34,
     "metadata": {},
     "output_type": "execute_result"
    }
   ],
   "source": [
    "twn_weather.wind_speed.max()"
   ]
  },
  {
   "cell_type": "code",
   "execution_count": 35,
   "metadata": {},
   "outputs": [
    {
     "data": {
      "text/plain": [
       "Text(0.5, 1.0, 'Histogram of wind_speed')"
      ]
     },
     "execution_count": 35,
     "metadata": {},
     "output_type": "execute_result"
    },
    {
     "data": {
      "image/png": "[encoded data removed]",
      "text/plain": [
       "<Figure size 576x360 with 1 Axes>"
      ]
     },
     "metadata": {
      "needs_background": "light"
     },
     "output_type": "display_data"
    }
   ],
   "source": [
    "plt.figure(figsize=(8, 5))\n",
    "twn_weather.wind_speed.hist()\n",
    "plt.xlabel('wind_speed')\n",
    "plt.ylabel('Counts')\n",
    "plt.title('Histogram of wind_speed')"
   ]
  },
  {
   "cell_type": "markdown",
   "metadata": {},
   "source": [
    "## precipitation\n",
    "One hour precipitation for the period from the observation time to the time of the previous hourly precipitation reset. This varies slightly by site. Values are in inches. This value may or may not contain frozen precipitation melted by some device on the sensor or estimated by some other means. Unfortunately, we do not know of an authoritative database denoting which station has which sensor."
   ]
  },
  {
   "cell_type": "code",
   "execution_count": 36,
   "metadata": {},
   "outputs": [
    {
     "data": {
      "text/plain": [
       "dtype('float64')"
      ]
     },
     "execution_count": 36,
     "metadata": {},
     "output_type": "execute_result"
    }
   ],
   "source": [
    "twn_weather.precipitation.dtype"
   ]
  },
  {
   "cell_type": "code",
   "execution_count": 37,
   "metadata": {},
   "outputs": [
    {
     "data": {
      "text/plain": [
       "0"
      ]
     },
     "execution_count": 37,
     "metadata": {},
     "output_type": "execute_result"
    }
   ],
   "source": [
    "twn_weather.precipitation.isnull().sum()"
   ]
  },
  {
   "cell_type": "code",
   "execution_count": 38,
   "metadata": {},
   "outputs": [
    {
     "data": {
      "text/plain": [
       "0.0"
      ]
     },
     "execution_count": 38,
     "metadata": {},
     "output_type": "execute_result"
    }
   ],
   "source": [
    "twn_weather.precipitation.min()"
   ]
  },
  {
   "cell_type": "code",
   "execution_count": 39,
   "metadata": {},
   "outputs": [
    {
     "data": {
      "text/plain": [
       "0.0"
      ]
     },
     "execution_count": 39,
     "metadata": {},
     "output_type": "execute_result"
    }
   ],
   "source": [
    "twn_weather.precipitation.max()"
   ]
  },
  {
   "cell_type": "code",
   "execution_count": 40,
   "metadata": {},
   "outputs": [],
   "source": [
    "# Handling precipitation\n",
    "twn_weather.drop(['precipitation'], axis=1, inplace=True)"
   ]
  },
  {
   "cell_type": "markdown",
   "metadata": {},
   "source": [
    "## altimeter_pressure\n",
    "Pressure altimeter in inches"
   ]
  },
  {
   "cell_type": "code",
   "execution_count": 41,
   "metadata": {},
   "outputs": [
    {
     "data": {
      "text/plain": [
       "dtype('float64')"
      ]
     },
     "execution_count": 41,
     "metadata": {},
     "output_type": "execute_result"
    }
   ],
   "source": [
    "twn_weather.altimeter_pressure.dtype"
   ]
  },
  {
   "cell_type": "code",
   "execution_count": 42,
   "metadata": {},
   "outputs": [
    {
     "data": {
      "text/plain": [
       "0"
      ]
     },
     "execution_count": 42,
     "metadata": {},
     "output_type": "execute_result"
    }
   ],
   "source": [
    "twn_weather.altimeter_pressure.isnull().sum()"
   ]
  },
  {
   "cell_type": "code",
   "execution_count": 43,
   "metadata": {},
   "outputs": [
    {
     "data": {
      "text/plain": [
       "29.85"
      ]
     },
     "execution_count": 43,
     "metadata": {},
     "output_type": "execute_result"
    }
   ],
   "source": [
    "twn_weather.altimeter_pressure.min()"
   ]
  },
  {
   "cell_type": "code",
   "execution_count": 44,
   "metadata": {},
   "outputs": [
    {
     "data": {
      "text/plain": [
       "30.42"
      ]
     },
     "execution_count": 44,
     "metadata": {},
     "output_type": "execute_result"
    }
   ],
   "source": [
    "twn_weather.altimeter_pressure.max()"
   ]
  },
  {
   "cell_type": "code",
   "execution_count": 45,
   "metadata": {},
   "outputs": [
    {
     "data": {
      "text/plain": [
       "Text(0.5, 1.0, 'Histogram of altimeter_pressure')"
      ]
     },
     "execution_count": 45,
     "metadata": {},
     "output_type": "execute_result"
    },
    {
     "data": {
      "image/png": "[encoded data removed]",
      "text/plain": [
       "<Figure size 576x360 with 1 Axes>"
      ]
     },
     "metadata": {
      "needs_background": "light"
     },
     "output_type": "display_data"
    }
   ],
   "source": [
    "plt.figure(figsize=(8, 5))\n",
    "twn_weather.altimeter_pressure.hist()\n",
    "plt.xlabel('altimeter_pressure')\n",
    "plt.ylabel('Counts')\n",
    "plt.title('Histogram of altimeter_pressure')"
   ]
  },
  {
   "cell_type": "markdown",
   "metadata": {},
   "source": [
    "## visibility\n",
    "Visibility in miles"
   ]
  },
  {
   "cell_type": "code",
   "execution_count": 46,
   "metadata": {},
   "outputs": [
    {
     "data": {
      "text/plain": [
       "0.19"
      ]
     },
     "execution_count": 46,
     "metadata": {},
     "output_type": "execute_result"
    }
   ],
   "source": [
    "twn_weather.visibility.min()"
   ]
  },
  {
   "cell_type": "code",
   "execution_count": 47,
   "metadata": {},
   "outputs": [
    {
     "data": {
      "text/plain": [
       "6.21"
      ]
     },
     "execution_count": 47,
     "metadata": {},
     "output_type": "execute_result"
    }
   ],
   "source": [
    "twn_weather.visibility.max()"
   ]
  },
  {
   "cell_type": "code",
   "execution_count": 48,
   "metadata": {},
   "outputs": [
    {
     "data": {
      "text/plain": [
       "Text(0.5, 1.0, 'Histogram of visibility')"
      ]
     },
     "execution_count": 48,
     "metadata": {},
     "output_type": "execute_result"
    },
    {
     "data": {
      "image/png": "[encoded data removed]",
      "text/plain": [
       "<Figure size 576x360 with 1 Axes>"
      ]
     },
     "metadata": {
      "needs_background": "light"
     },
     "output_type": "display_data"
    }
   ],
   "source": [
    "plt.figure(figsize=(8, 5))\n",
    "twn_weather.visibility.hist()\n",
    "plt.xlabel('visibility')\n",
    "plt.ylabel('Counts')\n",
    "plt.title('Histogram of visibility')"
   ]
  },
  {
   "cell_type": "markdown",
   "metadata": {},
   "source": [
    "## gust_speed\n",
    "Wind Gust in knots"
   ]
  },
  {
   "cell_type": "code",
   "execution_count": 49,
   "metadata": {},
   "outputs": [
    {
     "data": {
      "text/plain": [
       "2896"
      ]
     },
     "execution_count": 49,
     "metadata": {},
     "output_type": "execute_result"
    }
   ],
   "source": [
    "twn_weather.gust_speed.isnull().sum()"
   ]
  },
  {
   "cell_type": "code",
   "execution_count": 50,
   "metadata": {},
   "outputs": [
    {
     "data": {
      "text/plain": [
       "14.00       1\n",
       "20.00       1\n",
       "22.00       2\n",
       "23.00       1\n",
       "25.00       3\n",
       "26.00       2\n",
       "27.00       3\n",
       "28.00       7\n",
       "29.00       9\n",
       "30.00       6\n",
       "31.00      12\n",
       "32.00       7\n",
       "33.00      12\n",
       "34.00       6\n",
       "35.00       8\n",
       "36.00      10\n",
       "37.00       9\n",
       "38.00      10\n",
       "39.00       6\n",
       "40.00       1\n",
       "NaN      2896\n",
       "Name: gust_speed, dtype: int64"
      ]
     },
     "execution_count": 50,
     "metadata": {},
     "output_type": "execute_result"
    }
   ],
   "source": [
    "twn_weather.gust_speed.value_counts(dropna=False).sort_index()"
   ]
  },
  {
   "cell_type": "code",
   "execution_count": 51,
   "metadata": {},
   "outputs": [],
   "source": [
    "twn_weather.gust_speed = pd.to_numeric(twn_weather.gust_speed, errors='coerce').astype('Int64')\n",
    "twn_weather.gust_speed = twn_weather.gust_speed.fillna(0)"
   ]
  },
  {
   "cell_type": "markdown",
   "metadata": {},
   "source": [
    "## sky_level_1_coverage\n",
    "Sky Level 1 Coverage"
   ]
  },
  {
   "cell_type": "code",
   "execution_count": 52,
   "metadata": {},
   "outputs": [
    {
     "data": {
      "text/plain": [
       "BKN     134\n",
       "FEW    1965\n",
       "NSC       1\n",
       "SCT     839\n",
       "VV        4\n",
       "NaN      69\n",
       "Name: sky_level_1_coverage, dtype: int64"
      ]
     },
     "execution_count": 52,
     "metadata": {},
     "output_type": "execute_result"
    }
   ],
   "source": [
    "twn_weather.sky_level_1_coverage.value_counts(dropna=False).sort_index()"
   ]
  },
  {
   "cell_type": "code",
   "execution_count": 53,
   "metadata": {},
   "outputs": [
    {
     "data": {
      "text/plain": [
       "Int64Index([  37,   48,   49,   50,   51,   52,   53,   54,   55,   56,   57,\n",
       "              58,   59,  544,  545,  546,  547, 1161, 1162, 1163, 1164, 1165,\n",
       "            1341, 1342, 1343, 1360, 1361, 1362, 1363, 1366, 1367, 1370, 1371,\n",
       "            1933, 1934, 1937, 1938, 2261, 2262, 2263, 2264, 2265, 2266, 2267,\n",
       "            2268, 2269, 2270, 2271, 2272, 2273, 2274, 2275, 2276, 2277, 2278,\n",
       "            2279, 2280, 2281, 2282, 2283, 2284, 2285, 2286, 2287, 2288, 2289,\n",
       "            2497, 2498, 2499],\n",
       "           dtype='int64')"
      ]
     },
     "execution_count": 53,
     "metadata": {},
     "output_type": "execute_result"
    }
   ],
   "source": [
    "twn_weather.sky_level_1_coverage[twn_weather.sky_level_1_coverage.isnull()].index"
   ]
  },
  {
   "cell_type": "code",
   "execution_count": 54,
   "metadata": {},
   "outputs": [
    {
     "data": {
      "text/html": [
       "<div>\n",
       "<style scoped>\n",
       "    .dataframe tbody tr th:only-of-type {\n",
       "        vertical-align: middle;\n",
       "    }\n",
       "\n",
       "    .dataframe tbody tr th {\n",
       "        vertical-align: top;\n",
       "    }\n",
       "\n",
       "    .dataframe thead th {\n",
       "        text-align: right;\n",
       "    }\n",
       "</style>\n",
       "<table border=\"1\" class=\"dataframe\">\n",
       "  <thead>\n",
       "    <tr style=\"text-align: right;\">\n",
       "      <th></th>\n",
       "      <th>timestamp</th>\n",
       "      <th>sky_level_1_coverage</th>\n",
       "    </tr>\n",
       "  </thead>\n",
       "  <tbody>\n",
       "    <tr>\n",
       "      <th>540</th>\n",
       "      <td>2017-01-10 05:00:00</td>\n",
       "      <td>FEW</td>\n",
       "    </tr>\n",
       "    <tr>\n",
       "      <th>541</th>\n",
       "      <td>2017-01-10 05:30:00</td>\n",
       "      <td>FEW</td>\n",
       "    </tr>\n",
       "    <tr>\n",
       "      <th>542</th>\n",
       "      <td>2017-01-10 06:00:00</td>\n",
       "      <td>FEW</td>\n",
       "    </tr>\n",
       "    <tr>\n",
       "      <th>543</th>\n",
       "      <td>2017-01-10 06:30:00</td>\n",
       "      <td>FEW</td>\n",
       "    </tr>\n",
       "    <tr>\n",
       "      <th>544</th>\n",
       "      <td>2017-01-10 07:00:00</td>\n",
       "      <td>NaN</td>\n",
       "    </tr>\n",
       "    <tr>\n",
       "      <th>545</th>\n",
       "      <td>2017-01-10 07:30:00</td>\n",
       "      <td>NaN</td>\n",
       "    </tr>\n",
       "    <tr>\n",
       "      <th>546</th>\n",
       "      <td>2017-01-10 08:00:00</td>\n",
       "      <td>NaN</td>\n",
       "    </tr>\n",
       "    <tr>\n",
       "      <th>547</th>\n",
       "      <td>2017-01-10 08:30:00</td>\n",
       "      <td>NaN</td>\n",
       "    </tr>\n",
       "    <tr>\n",
       "      <th>548</th>\n",
       "      <td>2017-01-10 09:00:00</td>\n",
       "      <td>NSC</td>\n",
       "    </tr>\n",
       "    <tr>\n",
       "      <th>549</th>\n",
       "      <td>2017-01-10 09:30:00</td>\n",
       "      <td>FEW</td>\n",
       "    </tr>\n",
       "    <tr>\n",
       "      <th>550</th>\n",
       "      <td>2017-01-10 10:00:00</td>\n",
       "      <td>FEW</td>\n",
       "    </tr>\n",
       "  </tbody>\n",
       "</table>\n",
       "</div>"
      ],
      "text/plain": [
       "              timestamp sky_level_1_coverage\n",
       "540 2017-01-10 05:00:00                  FEW\n",
       "541 2017-01-10 05:30:00                  FEW\n",
       "542 2017-01-10 06:00:00                  FEW\n",
       "543 2017-01-10 06:30:00                  FEW\n",
       "544 2017-01-10 07:00:00                  NaN\n",
       "545 2017-01-10 07:30:00                  NaN\n",
       "546 2017-01-10 08:00:00                  NaN\n",
       "547 2017-01-10 08:30:00                  NaN\n",
       "548 2017-01-10 09:00:00                  NSC\n",
       "549 2017-01-10 09:30:00                  FEW\n",
       "550 2017-01-10 10:00:00                  FEW"
      ]
     },
     "execution_count": 54,
     "metadata": {},
     "output_type": "execute_result"
    }
   ],
   "source": [
    "twn_weather.loc[540:550, ['timestamp', 'sky_level_1_coverage']]"
   ]
  },
  {
   "cell_type": "code",
   "execution_count": 55,
   "metadata": {},
   "outputs": [],
   "source": [
    "# Handling NaN\n",
    "# twn_weather.sky_level_1_coverage = twn_weather.sky_level_1_coverage.fillna(method='ffill')"
   ]
  },
  {
   "cell_type": "markdown",
   "metadata": {},
   "source": [
    "## sky_level_2_coverage\n",
    "Sky Level 2 Coverage"
   ]
  },
  {
   "cell_type": "code",
   "execution_count": 56,
   "metadata": {},
   "outputs": [
    {
     "data": {
      "text/plain": [
       "BKN    1874\n",
       "FEW       4\n",
       "OVC      69\n",
       "SCT     473\n",
       "NaN     592\n",
       "Name: sky_level_2_coverage, dtype: int64"
      ]
     },
     "execution_count": 56,
     "metadata": {},
     "output_type": "execute_result"
    }
   ],
   "source": [
    "twn_weather.sky_level_2_coverage.value_counts(dropna=False).sort_index()"
   ]
  },
  {
   "cell_type": "code",
   "execution_count": 57,
   "metadata": {},
   "outputs": [
    {
     "data": {
      "text/plain": [
       "Int64Index([   1,    2,    4,    5,    6,    7,    8,    9,   10,   11,\n",
       "            ...\n",
       "            2528, 2529, 2530, 2531, 2532, 2533, 2534, 2535, 2536, 2537],\n",
       "           dtype='int64', length=592)"
      ]
     },
     "execution_count": 57,
     "metadata": {},
     "output_type": "execute_result"
    }
   ],
   "source": [
    "twn_weather.sky_level_2_coverage[twn_weather.sky_level_2_coverage.isnull()].index"
   ]
  },
  {
   "cell_type": "code",
   "execution_count": 58,
   "metadata": {},
   "outputs": [
    {
     "data": {
      "text/html": [
       "<div>\n",
       "<style scoped>\n",
       "    .dataframe tbody tr th:only-of-type {\n",
       "        vertical-align: middle;\n",
       "    }\n",
       "\n",
       "    .dataframe tbody tr th {\n",
       "        vertical-align: top;\n",
       "    }\n",
       "\n",
       "    .dataframe thead th {\n",
       "        text-align: right;\n",
       "    }\n",
       "</style>\n",
       "<table border=\"1\" class=\"dataframe\">\n",
       "  <thead>\n",
       "    <tr style=\"text-align: right;\">\n",
       "      <th></th>\n",
       "      <th>timestamp</th>\n",
       "      <th>sky_level_2_coverage</th>\n",
       "    </tr>\n",
       "  </thead>\n",
       "  <tbody>\n",
       "    <tr>\n",
       "      <th>0</th>\n",
       "      <td>2016-12-31 00:00:00</td>\n",
       "      <td>SCT</td>\n",
       "    </tr>\n",
       "    <tr>\n",
       "      <th>1</th>\n",
       "      <td>2016-12-31 00:30:00</td>\n",
       "      <td>NaN</td>\n",
       "    </tr>\n",
       "    <tr>\n",
       "      <th>2</th>\n",
       "      <td>2016-12-31 01:00:00</td>\n",
       "      <td>NaN</td>\n",
       "    </tr>\n",
       "    <tr>\n",
       "      <th>3</th>\n",
       "      <td>2016-12-31 01:30:00</td>\n",
       "      <td>BKN</td>\n",
       "    </tr>\n",
       "    <tr>\n",
       "      <th>4</th>\n",
       "      <td>2016-12-31 02:00:00</td>\n",
       "      <td>NaN</td>\n",
       "    </tr>\n",
       "    <tr>\n",
       "      <th>5</th>\n",
       "      <td>2016-12-31 03:00:00</td>\n",
       "      <td>NaN</td>\n",
       "    </tr>\n",
       "    <tr>\n",
       "      <th>6</th>\n",
       "      <td>2016-12-31 03:30:00</td>\n",
       "      <td>NaN</td>\n",
       "    </tr>\n",
       "    <tr>\n",
       "      <th>7</th>\n",
       "      <td>2016-12-31 04:00:00</td>\n",
       "      <td>NaN</td>\n",
       "    </tr>\n",
       "    <tr>\n",
       "      <th>8</th>\n",
       "      <td>2016-12-31 04:30:00</td>\n",
       "      <td>NaN</td>\n",
       "    </tr>\n",
       "    <tr>\n",
       "      <th>9</th>\n",
       "      <td>2016-12-31 05:00:00</td>\n",
       "      <td>NaN</td>\n",
       "    </tr>\n",
       "    <tr>\n",
       "      <th>10</th>\n",
       "      <td>2016-12-31 05:30:00</td>\n",
       "      <td>NaN</td>\n",
       "    </tr>\n",
       "    <tr>\n",
       "      <th>11</th>\n",
       "      <td>2016-12-31 06:00:00</td>\n",
       "      <td>NaN</td>\n",
       "    </tr>\n",
       "    <tr>\n",
       "      <th>12</th>\n",
       "      <td>2016-12-31 06:30:00</td>\n",
       "      <td>NaN</td>\n",
       "    </tr>\n",
       "    <tr>\n",
       "      <th>13</th>\n",
       "      <td>2016-12-31 07:00:00</td>\n",
       "      <td>NaN</td>\n",
       "    </tr>\n",
       "    <tr>\n",
       "      <th>14</th>\n",
       "      <td>2016-12-31 07:30:00</td>\n",
       "      <td>NaN</td>\n",
       "    </tr>\n",
       "    <tr>\n",
       "      <th>15</th>\n",
       "      <td>2016-12-31 08:00:00</td>\n",
       "      <td>NaN</td>\n",
       "    </tr>\n",
       "    <tr>\n",
       "      <th>16</th>\n",
       "      <td>2016-12-31 08:30:00</td>\n",
       "      <td>NaN</td>\n",
       "    </tr>\n",
       "    <tr>\n",
       "      <th>17</th>\n",
       "      <td>2016-12-31 09:00:00</td>\n",
       "      <td>NaN</td>\n",
       "    </tr>\n",
       "    <tr>\n",
       "      <th>18</th>\n",
       "      <td>2016-12-31 09:30:00</td>\n",
       "      <td>NaN</td>\n",
       "    </tr>\n",
       "    <tr>\n",
       "      <th>19</th>\n",
       "      <td>2016-12-31 10:00:00</td>\n",
       "      <td>NaN</td>\n",
       "    </tr>\n",
       "    <tr>\n",
       "      <th>20</th>\n",
       "      <td>2016-12-31 10:30:00</td>\n",
       "      <td>NaN</td>\n",
       "    </tr>\n",
       "    <tr>\n",
       "      <th>21</th>\n",
       "      <td>2016-12-31 11:00:00</td>\n",
       "      <td>NaN</td>\n",
       "    </tr>\n",
       "    <tr>\n",
       "      <th>22</th>\n",
       "      <td>2016-12-31 11:30:00</td>\n",
       "      <td>NaN</td>\n",
       "    </tr>\n",
       "    <tr>\n",
       "      <th>23</th>\n",
       "      <td>2016-12-31 12:00:00</td>\n",
       "      <td>NaN</td>\n",
       "    </tr>\n",
       "    <tr>\n",
       "      <th>24</th>\n",
       "      <td>2016-12-31 12:30:00</td>\n",
       "      <td>NaN</td>\n",
       "    </tr>\n",
       "    <tr>\n",
       "      <th>25</th>\n",
       "      <td>2016-12-31 13:00:00</td>\n",
       "      <td>NaN</td>\n",
       "    </tr>\n",
       "    <tr>\n",
       "      <th>26</th>\n",
       "      <td>2016-12-31 13:30:00</td>\n",
       "      <td>NaN</td>\n",
       "    </tr>\n",
       "    <tr>\n",
       "      <th>27</th>\n",
       "      <td>2016-12-31 14:00:00</td>\n",
       "      <td>NaN</td>\n",
       "    </tr>\n",
       "    <tr>\n",
       "      <th>28</th>\n",
       "      <td>2016-12-31 14:30:00</td>\n",
       "      <td>NaN</td>\n",
       "    </tr>\n",
       "    <tr>\n",
       "      <th>29</th>\n",
       "      <td>2016-12-31 15:00:00</td>\n",
       "      <td>NaN</td>\n",
       "    </tr>\n",
       "    <tr>\n",
       "      <th>30</th>\n",
       "      <td>2016-12-31 15:30:00</td>\n",
       "      <td>NaN</td>\n",
       "    </tr>\n",
       "    <tr>\n",
       "      <th>31</th>\n",
       "      <td>2016-12-31 16:00:00</td>\n",
       "      <td>NaN</td>\n",
       "    </tr>\n",
       "    <tr>\n",
       "      <th>32</th>\n",
       "      <td>2016-12-31 16:30:00</td>\n",
       "      <td>NaN</td>\n",
       "    </tr>\n",
       "    <tr>\n",
       "      <th>33</th>\n",
       "      <td>2016-12-31 17:00:00</td>\n",
       "      <td>NaN</td>\n",
       "    </tr>\n",
       "    <tr>\n",
       "      <th>34</th>\n",
       "      <td>2016-12-31 17:30:00</td>\n",
       "      <td>NaN</td>\n",
       "    </tr>\n",
       "    <tr>\n",
       "      <th>35</th>\n",
       "      <td>2016-12-31 18:00:00</td>\n",
       "      <td>NaN</td>\n",
       "    </tr>\n",
       "    <tr>\n",
       "      <th>36</th>\n",
       "      <td>2016-12-31 18:30:00</td>\n",
       "      <td>NaN</td>\n",
       "    </tr>\n",
       "    <tr>\n",
       "      <th>37</th>\n",
       "      <td>2016-12-31 19:00:00</td>\n",
       "      <td>NaN</td>\n",
       "    </tr>\n",
       "    <tr>\n",
       "      <th>38</th>\n",
       "      <td>2016-12-31 19:30:00</td>\n",
       "      <td>NaN</td>\n",
       "    </tr>\n",
       "    <tr>\n",
       "      <th>39</th>\n",
       "      <td>2016-12-31 20:00:00</td>\n",
       "      <td>NaN</td>\n",
       "    </tr>\n",
       "    <tr>\n",
       "      <th>40</th>\n",
       "      <td>2016-12-31 20:30:00</td>\n",
       "      <td>NaN</td>\n",
       "    </tr>\n",
       "    <tr>\n",
       "      <th>41</th>\n",
       "      <td>2016-12-31 21:00:00</td>\n",
       "      <td>NaN</td>\n",
       "    </tr>\n",
       "    <tr>\n",
       "      <th>42</th>\n",
       "      <td>2016-12-31 21:30:00</td>\n",
       "      <td>NaN</td>\n",
       "    </tr>\n",
       "    <tr>\n",
       "      <th>43</th>\n",
       "      <td>2016-12-31 22:00:00</td>\n",
       "      <td>NaN</td>\n",
       "    </tr>\n",
       "    <tr>\n",
       "      <th>44</th>\n",
       "      <td>2016-12-31 22:30:00</td>\n",
       "      <td>NaN</td>\n",
       "    </tr>\n",
       "    <tr>\n",
       "      <th>45</th>\n",
       "      <td>2016-12-31 23:00:00</td>\n",
       "      <td>NaN</td>\n",
       "    </tr>\n",
       "    <tr>\n",
       "      <th>46</th>\n",
       "      <td>2016-12-31 23:30:00</td>\n",
       "      <td>NaN</td>\n",
       "    </tr>\n",
       "    <tr>\n",
       "      <th>47</th>\n",
       "      <td>2017-01-01 00:00:00</td>\n",
       "      <td>NaN</td>\n",
       "    </tr>\n",
       "    <tr>\n",
       "      <th>48</th>\n",
       "      <td>2017-01-01 00:30:00</td>\n",
       "      <td>NaN</td>\n",
       "    </tr>\n",
       "    <tr>\n",
       "      <th>49</th>\n",
       "      <td>2017-01-01 01:00:00</td>\n",
       "      <td>NaN</td>\n",
       "    </tr>\n",
       "    <tr>\n",
       "      <th>50</th>\n",
       "      <td>2017-01-01 01:30:00</td>\n",
       "      <td>NaN</td>\n",
       "    </tr>\n",
       "  </tbody>\n",
       "</table>\n",
       "</div>"
      ],
      "text/plain": [
       "             timestamp sky_level_2_coverage\n",
       "0  2016-12-31 00:00:00                  SCT\n",
       "1  2016-12-31 00:30:00                  NaN\n",
       "2  2016-12-31 01:00:00                  NaN\n",
       "3  2016-12-31 01:30:00                  BKN\n",
       "4  2016-12-31 02:00:00                  NaN\n",
       "5  2016-12-31 03:00:00                  NaN\n",
       "6  2016-12-31 03:30:00                  NaN\n",
       "7  2016-12-31 04:00:00                  NaN\n",
       "8  2016-12-31 04:30:00                  NaN\n",
       "9  2016-12-31 05:00:00                  NaN\n",
       "10 2016-12-31 05:30:00                  NaN\n",
       "11 2016-12-31 06:00:00                  NaN\n",
       "12 2016-12-31 06:30:00                  NaN\n",
       "13 2016-12-31 07:00:00                  NaN\n",
       "14 2016-12-31 07:30:00                  NaN\n",
       "15 2016-12-31 08:00:00                  NaN\n",
       "16 2016-12-31 08:30:00                  NaN\n",
       "17 2016-12-31 09:00:00                  NaN\n",
       "18 2016-12-31 09:30:00                  NaN\n",
       "19 2016-12-31 10:00:00                  NaN\n",
       "20 2016-12-31 10:30:00                  NaN\n",
       "21 2016-12-31 11:00:00                  NaN\n",
       "22 2016-12-31 11:30:00                  NaN\n",
       "23 2016-12-31 12:00:00                  NaN\n",
       "24 2016-12-31 12:30:00                  NaN\n",
       "25 2016-12-31 13:00:00                  NaN\n",
       "26 2016-12-31 13:30:00                  NaN\n",
       "27 2016-12-31 14:00:00                  NaN\n",
       "28 2016-12-31 14:30:00                  NaN\n",
       "29 2016-12-31 15:00:00                  NaN\n",
       "30 2016-12-31 15:30:00                  NaN\n",
       "31 2016-12-31 16:00:00                  NaN\n",
       "32 2016-12-31 16:30:00                  NaN\n",
       "33 2016-12-31 17:00:00                  NaN\n",
       "34 2016-12-31 17:30:00                  NaN\n",
       "35 2016-12-31 18:00:00                  NaN\n",
       "36 2016-12-31 18:30:00                  NaN\n",
       "37 2016-12-31 19:00:00                  NaN\n",
       "38 2016-12-31 19:30:00                  NaN\n",
       "39 2016-12-31 20:00:00                  NaN\n",
       "40 2016-12-31 20:30:00                  NaN\n",
       "41 2016-12-31 21:00:00                  NaN\n",
       "42 2016-12-31 21:30:00                  NaN\n",
       "43 2016-12-31 22:00:00                  NaN\n",
       "44 2016-12-31 22:30:00                  NaN\n",
       "45 2016-12-31 23:00:00                  NaN\n",
       "46 2016-12-31 23:30:00                  NaN\n",
       "47 2017-01-01 00:00:00                  NaN\n",
       "48 2017-01-01 00:30:00                  NaN\n",
       "49 2017-01-01 01:00:00                  NaN\n",
       "50 2017-01-01 01:30:00                  NaN"
      ]
     },
     "execution_count": 58,
     "metadata": {},
     "output_type": "execute_result"
    }
   ],
   "source": [
    "twn_weather.loc[0:50, ['timestamp', 'sky_level_2_coverage']]"
   ]
  },
  {
   "cell_type": "code",
   "execution_count": 59,
   "metadata": {},
   "outputs": [],
   "source": [
    "# Handling NaN (DROP)\n",
    "# twn_weather.drop(columns=['sky_level_2_coverage'], axis=1, inplace=True)"
   ]
  },
  {
   "cell_type": "markdown",
   "metadata": {},
   "source": [
    "## sky_level_1_altitude"
   ]
  },
  {
   "cell_type": "code",
   "execution_count": 60,
   "metadata": {},
   "outputs": [
    {
     "data": {
      "text/plain": [
       "100.00      21\n",
       "1000.00    118\n",
       "1100.00      9\n",
       "1200.00    315\n",
       "1300.00     13\n",
       "1400.00     30\n",
       "1500.00    414\n",
       "1600.00     73\n",
       "1800.00     17\n",
       "1900.00      3\n",
       "200.00      40\n",
       "2000.00    506\n",
       "2100.00      3\n",
       "2200.00      9\n",
       "2300.00      8\n",
       "2400.00      2\n",
       "2500.00    179\n",
       "2600.00     23\n",
       "2700.00      1\n",
       "2800.00     11\n",
       "300.00     129\n",
       "3000.00     42\n",
       "3200.00      3\n",
       "3300.00      5\n",
       "3500.00     16\n",
       "3600.00     10\n",
       "3700.00      1\n",
       "3800.00      8\n",
       "3900.00      1\n",
       "400.00     136\n",
       "4000.00     16\n",
       "4200.00     11\n",
       "4500.00      1\n",
       "500.00     228\n",
       "600.00     228\n",
       "700.00      73\n",
       "800.00     208\n",
       "900.00      31\n",
       "NaN         70\n",
       "Name: sky_level_1_altitude, dtype: int64"
      ]
     },
     "execution_count": 60,
     "metadata": {},
     "output_type": "execute_result"
    }
   ],
   "source": [
    "twn_weather.sky_level_1_altitude.value_counts(dropna=False).sort_index()"
   ]
  },
  {
   "cell_type": "code",
   "execution_count": 61,
   "metadata": {},
   "outputs": [
    {
     "data": {
      "text/plain": [
       "Int64Index([  37,   48,   49,   50,   51,   52,   53,   54,   55,   56,   57,\n",
       "              58,   59,  544,  545,  546,  547,  548, 1161, 1162, 1163, 1164,\n",
       "            1165, 1341, 1342, 1343, 1360, 1361, 1362, 1363, 1366, 1367, 1370,\n",
       "            1371, 1933, 1934, 1937, 1938, 2261, 2262, 2263, 2264, 2265, 2266,\n",
       "            2267, 2268, 2269, 2270, 2271, 2272, 2273, 2274, 2275, 2276, 2277,\n",
       "            2278, 2279, 2280, 2281, 2282, 2283, 2284, 2285, 2286, 2287, 2288,\n",
       "            2289, 2497, 2498, 2499],\n",
       "           dtype='int64')"
      ]
     },
     "execution_count": 61,
     "metadata": {},
     "output_type": "execute_result"
    }
   ],
   "source": [
    "twn_weather.sky_level_1_altitude[twn_weather.sky_level_1_altitude.isnull()].index"
   ]
  },
  {
   "cell_type": "code",
   "execution_count": 62,
   "metadata": {},
   "outputs": [
    {
     "data": {
      "text/html": [
       "<div>\n",
       "<style scoped>\n",
       "    .dataframe tbody tr th:only-of-type {\n",
       "        vertical-align: middle;\n",
       "    }\n",
       "\n",
       "    .dataframe tbody tr th {\n",
       "        vertical-align: top;\n",
       "    }\n",
       "\n",
       "    .dataframe thead th {\n",
       "        text-align: right;\n",
       "    }\n",
       "</style>\n",
       "<table border=\"1\" class=\"dataframe\">\n",
       "  <thead>\n",
       "    <tr style=\"text-align: right;\">\n",
       "      <th></th>\n",
       "      <th>timestamp</th>\n",
       "      <th>sky_level_1_altitude</th>\n",
       "    </tr>\n",
       "  </thead>\n",
       "  <tbody>\n",
       "    <tr>\n",
       "      <th>34</th>\n",
       "      <td>2016-12-31 17:30:00</td>\n",
       "      <td>2500.00</td>\n",
       "    </tr>\n",
       "    <tr>\n",
       "      <th>35</th>\n",
       "      <td>2016-12-31 18:00:00</td>\n",
       "      <td>3000.00</td>\n",
       "    </tr>\n",
       "    <tr>\n",
       "      <th>36</th>\n",
       "      <td>2016-12-31 18:30:00</td>\n",
       "      <td>4000.00</td>\n",
       "    </tr>\n",
       "    <tr>\n",
       "      <th>37</th>\n",
       "      <td>2016-12-31 19:00:00</td>\n",
       "      <td>NaN</td>\n",
       "    </tr>\n",
       "    <tr>\n",
       "      <th>38</th>\n",
       "      <td>2016-12-31 19:30:00</td>\n",
       "      <td>2300.00</td>\n",
       "    </tr>\n",
       "    <tr>\n",
       "      <th>39</th>\n",
       "      <td>2016-12-31 20:00:00</td>\n",
       "      <td>2300.00</td>\n",
       "    </tr>\n",
       "    <tr>\n",
       "      <th>40</th>\n",
       "      <td>2016-12-31 20:30:00</td>\n",
       "      <td>2300.00</td>\n",
       "    </tr>\n",
       "  </tbody>\n",
       "</table>\n",
       "</div>"
      ],
      "text/plain": [
       "             timestamp sky_level_1_altitude\n",
       "34 2016-12-31 17:30:00              2500.00\n",
       "35 2016-12-31 18:00:00              3000.00\n",
       "36 2016-12-31 18:30:00              4000.00\n",
       "37 2016-12-31 19:00:00                  NaN\n",
       "38 2016-12-31 19:30:00              2300.00\n",
       "39 2016-12-31 20:00:00              2300.00\n",
       "40 2016-12-31 20:30:00              2300.00"
      ]
     },
     "execution_count": 62,
     "metadata": {},
     "output_type": "execute_result"
    }
   ],
   "source": [
    "twn_weather.loc[34:40, ['timestamp', 'sky_level_1_altitude']]"
   ]
  },
  {
   "cell_type": "code",
   "execution_count": 63,
   "metadata": {},
   "outputs": [],
   "source": [
    "twn_weather.drop(['sky_level_2_coverage', 'sky_level_3_coverage', 'sky_level_4_coverage',\n",
    "                  'sky_level_2_altitude', 'sky_level_3_altitude', 'sky_level_4_altitude'], \n",
    "                  axis=1, inplace=True)"
   ]
  },
  {
   "cell_type": "markdown",
   "metadata": {},
   "source": [
    "## weather_codes\n",
    "Present Weather Codes (space seperated)"
   ]
  },
  {
   "cell_type": "code",
   "execution_count": 64,
   "metadata": {},
   "outputs": [
    {
     "data": {
      "text/plain": [
       "NaN         2233\n",
       "BR           318\n",
       "-RA          250\n",
       "-DZ           52\n",
       "-RA BR        48\n",
       "RA            24\n",
       "-DZ BR        20\n",
       "-SHRA BR      17\n",
       "-SHRA         16\n",
       "SHRA BR        9\n",
       "FG             9\n",
       "SHRA           4\n",
       "HZ             4\n",
       "-TSRA          2\n",
       "TSRA           2\n",
       "VCSH           2\n",
       "+SHRA          1\n",
       "+TSRA          1\n",
       "Name: weather_codes, dtype: int64"
      ]
     },
     "execution_count": 64,
     "metadata": {},
     "output_type": "execute_result"
    }
   ],
   "source": [
    "twn_weather.weather_codes.value_counts(dropna=False)"
   ]
  },
  {
   "cell_type": "code",
   "execution_count": 65,
   "metadata": {},
   "outputs": [],
   "source": [
    "twn_weather.weather_codes = twn_weather.weather_codes.fillna('')"
   ]
  },
  {
   "cell_type": "code",
   "execution_count": 66,
   "metadata": {},
   "outputs": [
    {
     "data": {
      "text/html": [
       "<div>\n",
       "<style scoped>\n",
       "    .dataframe tbody tr th:only-of-type {\n",
       "        vertical-align: middle;\n",
       "    }\n",
       "\n",
       "    .dataframe tbody tr th {\n",
       "        vertical-align: top;\n",
       "    }\n",
       "\n",
       "    .dataframe thead th {\n",
       "        text-align: right;\n",
       "    }\n",
       "</style>\n",
       "<table border=\"1\" class=\"dataframe\">\n",
       "  <thead>\n",
       "    <tr style=\"text-align: right;\">\n",
       "      <th></th>\n",
       "      <th>weather_codes_+SHRA</th>\n",
       "      <th>weather_codes_+TSRA</th>\n",
       "      <th>weather_codes_-DZ</th>\n",
       "      <th>weather_codes_-RA</th>\n",
       "      <th>weather_codes_-SHRA</th>\n",
       "      <th>weather_codes_-TSRA</th>\n",
       "      <th>weather_codes_BR</th>\n",
       "      <th>weather_codes_FG</th>\n",
       "      <th>weather_codes_HZ</th>\n",
       "      <th>weather_codes_RA</th>\n",
       "      <th>weather_codes_SHRA</th>\n",
       "      <th>weather_codes_TSRA</th>\n",
       "      <th>weather_codes_VCSH</th>\n",
       "    </tr>\n",
       "  </thead>\n",
       "  <tbody>\n",
       "    <tr>\n",
       "      <th>0</th>\n",
       "      <td>0</td>\n",
       "      <td>0</td>\n",
       "      <td>0</td>\n",
       "      <td>0</td>\n",
       "      <td>0</td>\n",
       "      <td>0</td>\n",
       "      <td>0</td>\n",
       "      <td>0</td>\n",
       "      <td>0</td>\n",
       "      <td>0</td>\n",
       "      <td>0</td>\n",
       "      <td>0</td>\n",
       "      <td>0</td>\n",
       "    </tr>\n",
       "    <tr>\n",
       "      <th>1</th>\n",
       "      <td>0</td>\n",
       "      <td>0</td>\n",
       "      <td>0</td>\n",
       "      <td>0</td>\n",
       "      <td>0</td>\n",
       "      <td>0</td>\n",
       "      <td>0</td>\n",
       "      <td>0</td>\n",
       "      <td>0</td>\n",
       "      <td>0</td>\n",
       "      <td>0</td>\n",
       "      <td>0</td>\n",
       "      <td>0</td>\n",
       "    </tr>\n",
       "    <tr>\n",
       "      <th>2</th>\n",
       "      <td>0</td>\n",
       "      <td>0</td>\n",
       "      <td>0</td>\n",
       "      <td>0</td>\n",
       "      <td>0</td>\n",
       "      <td>0</td>\n",
       "      <td>0</td>\n",
       "      <td>0</td>\n",
       "      <td>0</td>\n",
       "      <td>0</td>\n",
       "      <td>0</td>\n",
       "      <td>0</td>\n",
       "      <td>0</td>\n",
       "    </tr>\n",
       "    <tr>\n",
       "      <th>3</th>\n",
       "      <td>0</td>\n",
       "      <td>0</td>\n",
       "      <td>0</td>\n",
       "      <td>0</td>\n",
       "      <td>0</td>\n",
       "      <td>0</td>\n",
       "      <td>0</td>\n",
       "      <td>0</td>\n",
       "      <td>0</td>\n",
       "      <td>0</td>\n",
       "      <td>0</td>\n",
       "      <td>0</td>\n",
       "      <td>0</td>\n",
       "    </tr>\n",
       "    <tr>\n",
       "      <th>4</th>\n",
       "      <td>0</td>\n",
       "      <td>0</td>\n",
       "      <td>0</td>\n",
       "      <td>0</td>\n",
       "      <td>0</td>\n",
       "      <td>0</td>\n",
       "      <td>0</td>\n",
       "      <td>0</td>\n",
       "      <td>0</td>\n",
       "      <td>0</td>\n",
       "      <td>0</td>\n",
       "      <td>0</td>\n",
       "      <td>0</td>\n",
       "    </tr>\n",
       "    <tr>\n",
       "      <th>...</th>\n",
       "      <td>...</td>\n",
       "      <td>...</td>\n",
       "      <td>...</td>\n",
       "      <td>...</td>\n",
       "      <td>...</td>\n",
       "      <td>...</td>\n",
       "      <td>...</td>\n",
       "      <td>...</td>\n",
       "      <td>...</td>\n",
       "      <td>...</td>\n",
       "      <td>...</td>\n",
       "      <td>...</td>\n",
       "      <td>...</td>\n",
       "    </tr>\n",
       "    <tr>\n",
       "      <th>3007</th>\n",
       "      <td>0</td>\n",
       "      <td>0</td>\n",
       "      <td>0</td>\n",
       "      <td>0</td>\n",
       "      <td>0</td>\n",
       "      <td>0</td>\n",
       "      <td>1</td>\n",
       "      <td>0</td>\n",
       "      <td>0</td>\n",
       "      <td>0</td>\n",
       "      <td>0</td>\n",
       "      <td>0</td>\n",
       "      <td>0</td>\n",
       "    </tr>\n",
       "    <tr>\n",
       "      <th>3008</th>\n",
       "      <td>0</td>\n",
       "      <td>0</td>\n",
       "      <td>0</td>\n",
       "      <td>0</td>\n",
       "      <td>0</td>\n",
       "      <td>0</td>\n",
       "      <td>0</td>\n",
       "      <td>0</td>\n",
       "      <td>0</td>\n",
       "      <td>0</td>\n",
       "      <td>0</td>\n",
       "      <td>0</td>\n",
       "      <td>0</td>\n",
       "    </tr>\n",
       "    <tr>\n",
       "      <th>3009</th>\n",
       "      <td>0</td>\n",
       "      <td>0</td>\n",
       "      <td>0</td>\n",
       "      <td>0</td>\n",
       "      <td>0</td>\n",
       "      <td>0</td>\n",
       "      <td>0</td>\n",
       "      <td>0</td>\n",
       "      <td>0</td>\n",
       "      <td>0</td>\n",
       "      <td>0</td>\n",
       "      <td>0</td>\n",
       "      <td>0</td>\n",
       "    </tr>\n",
       "    <tr>\n",
       "      <th>3010</th>\n",
       "      <td>0</td>\n",
       "      <td>0</td>\n",
       "      <td>0</td>\n",
       "      <td>1</td>\n",
       "      <td>0</td>\n",
       "      <td>0</td>\n",
       "      <td>0</td>\n",
       "      <td>0</td>\n",
       "      <td>0</td>\n",
       "      <td>0</td>\n",
       "      <td>0</td>\n",
       "      <td>0</td>\n",
       "      <td>0</td>\n",
       "    </tr>\n",
       "    <tr>\n",
       "      <th>3011</th>\n",
       "      <td>0</td>\n",
       "      <td>0</td>\n",
       "      <td>0</td>\n",
       "      <td>1</td>\n",
       "      <td>0</td>\n",
       "      <td>0</td>\n",
       "      <td>0</td>\n",
       "      <td>0</td>\n",
       "      <td>0</td>\n",
       "      <td>0</td>\n",
       "      <td>0</td>\n",
       "      <td>0</td>\n",
       "      <td>0</td>\n",
       "    </tr>\n",
       "  </tbody>\n",
       "</table>\n",
       "<p>3012 rows × 13 columns</p>\n",
       "</div>"
      ],
      "text/plain": [
       "      weather_codes_+SHRA  weather_codes_+TSRA  weather_codes_-DZ  \\\n",
       "0                       0                    0                  0   \n",
       "1                       0                    0                  0   \n",
       "2                       0                    0                  0   \n",
       "3                       0                    0                  0   \n",
       "4                       0                    0                  0   \n",
       "...                   ...                  ...                ...   \n",
       "3007                    0                    0                  0   \n",
       "3008                    0                    0                  0   \n",
       "3009                    0                    0                  0   \n",
       "3010                    0                    0                  0   \n",
       "3011                    0                    0                  0   \n",
       "\n",
       "      weather_codes_-RA  weather_codes_-SHRA  weather_codes_-TSRA  \\\n",
       "0                     0                    0                    0   \n",
       "1                     0                    0                    0   \n",
       "2                     0                    0                    0   \n",
       "3                     0                    0                    0   \n",
       "4                     0                    0                    0   \n",
       "...                 ...                  ...                  ...   \n",
       "3007                  0                    0                    0   \n",
       "3008                  0                    0                    0   \n",
       "3009                  0                    0                    0   \n",
       "3010                  1                    0                    0   \n",
       "3011                  1                    0                    0   \n",
       "\n",
       "      weather_codes_BR  weather_codes_FG  weather_codes_HZ  weather_codes_RA  \\\n",
       "0                    0                 0                 0                 0   \n",
       "1                    0                 0                 0                 0   \n",
       "2                    0                 0                 0                 0   \n",
       "3                    0                 0                 0                 0   \n",
       "4                    0                 0                 0                 0   \n",
       "...                ...               ...               ...               ...   \n",
       "3007                 1                 0                 0                 0   \n",
       "3008                 0                 0                 0                 0   \n",
       "3009                 0                 0                 0                 0   \n",
       "3010                 0                 0                 0                 0   \n",
       "3011                 0                 0                 0                 0   \n",
       "\n",
       "      weather_codes_SHRA  weather_codes_TSRA  weather_codes_VCSH  \n",
       "0                      0                   0                   0  \n",
       "1                      0                   0                   0  \n",
       "2                      0                   0                   0  \n",
       "3                      0                   0                   0  \n",
       "4                      0                   0                   0  \n",
       "...                  ...                 ...                 ...  \n",
       "3007                   0                   0                   0  \n",
       "3008                   0                   0                   0  \n",
       "3009                   0                   0                   0  \n",
       "3010                   0                   0                   0  \n",
       "3011                   0                   0                   0  \n",
       "\n",
       "[3012 rows x 13 columns]"
      ]
     },
     "execution_count": 66,
     "metadata": {},
     "output_type": "execute_result"
    }
   ],
   "source": [
    "# Count Vectorize\n",
    "\n",
    "# Instantiate a CountVectorizer\n",
    "cvec = CountVectorizer(token_pattern=r'(?u)[\\w+-]+')\n",
    "\n",
    "# Fit the vectorizer on our corpus\n",
    "cvec.fit(twn_weather['weather_codes'])\n",
    "\n",
    "# Transform the corpus\n",
    "X_weather_codes = cvec.transform(twn_weather['weather_codes'])\n",
    "\n",
    "# Convert X_train into a DataFrame\n",
    "X_weather_codes_df = pd.DataFrame(X_weather_codes.toarray(),\n",
    "                                  columns=list(map(lambda x: \"weather_codes_\" + x.upper(), cvec.get_feature_names())))\n",
    "X_weather_codes_df"
   ]
  },
  {
   "cell_type": "code",
   "execution_count": 67,
   "metadata": {},
   "outputs": [
    {
     "data": {
      "text/plain": [
       "Text(0, 0.5, 'Count')"
      ]
     },
     "execution_count": 67,
     "metadata": {},
     "output_type": "execute_result"
    },
    {
     "data": {
      "image/png": "[encoded data removed]",
      "text/plain": [
       "<Figure size 576x360 with 1 Axes>"
      ]
     },
     "metadata": {
      "needs_background": "light"
     },
     "output_type": "display_data"
    }
   ],
   "source": [
    "X_weather_num_series = X_weather_codes_df.sum(axis=1).value_counts()\n",
    "\n",
    "# Plot barchart\n",
    "\n",
    "plt.figure(figsize=(8, 5))\n",
    "sns.barplot(X_weather_num_series.index, X_weather_num_series.values)\n",
    "\n",
    "plt.title('Barplot of Weather Phenomena Count', fontsize=12)\n",
    "plt.xlabel('Weather Phenomena Count', fontsize=12)\n",
    "plt.ylabel('Count', fontsize=12)\n",
    "# plt.savefig('../images/9_bar_cool.png', transparent=True)"
   ]
  },
  {
   "cell_type": "code",
   "execution_count": 68,
   "metadata": {},
   "outputs": [
    {
     "data": {
      "text/plain": [
       "Text(0.5, 0, 'Count')"
      ]
     },
     "execution_count": 68,
     "metadata": {},
     "output_type": "execute_result"
    },
    {
     "data": {
      "image/png": "[encoded data removed]",
      "text/plain": [
       "<Figure size 576x360 with 1 Axes>"
      ]
     },
     "metadata": {
      "needs_background": "light"
     },
     "output_type": "display_data"
    }
   ],
   "source": [
    "X_weather_series = X_weather_codes_df.sum(axis=0)\n",
    "\n",
    "# Plot barchart\n",
    "plt.figure(figsize=(8, 5))\n",
    "sns.barplot(X_weather_series.values, X_weather_series.index)\n",
    "\n",
    "plt.title('Barplot of Weather Phenomena', fontsize=12)\n",
    "plt.ylabel('Weather Phenomena', fontsize=12)\n",
    "plt.xlabel('Count', fontsize=12)\n",
    "# plt.savefig('../images/11_bar_weather_phenomena.png', transparent=True)"
   ]
  },
  {
   "cell_type": "code",
   "execution_count": 69,
   "metadata": {},
   "outputs": [],
   "source": [
    "twn_weather = pd.concat([twn_weather, X_weather_codes_df], axis=1)"
   ]
  },
  {
   "cell_type": "markdown",
   "metadata": {},
   "source": [
    "## apparent_temp\n",
    "Apparent Temperature (Wind Chill or Heat Index) in Fahrenheit"
   ]
  },
  {
   "cell_type": "code",
   "execution_count": 70,
   "metadata": {},
   "outputs": [
    {
     "data": {
      "text/plain": [
       "43.05"
      ]
     },
     "execution_count": 70,
     "metadata": {},
     "output_type": "execute_result"
    }
   ],
   "source": [
    "twn_weather.apparent_temp.min()"
   ]
  },
  {
   "cell_type": "code",
   "execution_count": 71,
   "metadata": {},
   "outputs": [
    {
     "data": {
      "text/plain": [
       "82.75"
      ]
     },
     "execution_count": 71,
     "metadata": {},
     "output_type": "execute_result"
    }
   ],
   "source": [
    "twn_weather.apparent_temp.max()"
   ]
  },
  {
   "cell_type": "code",
   "execution_count": 72,
   "metadata": {},
   "outputs": [
    {
     "data": {
      "text/plain": [
       "Text(0.5, 1.0, 'Histogram of apparent_temp')"
      ]
     },
     "execution_count": 72,
     "metadata": {},
     "output_type": "execute_result"
    },
    {
     "data": {
      "image/png": "[encoded data removed]",
      "text/plain": [
       "<Figure size 576x360 with 1 Axes>"
      ]
     },
     "metadata": {
      "needs_background": "light"
     },
     "output_type": "display_data"
    }
   ],
   "source": [
    "plt.figure(figsize=(8, 5))\n",
    "twn_weather.apparent_temp.hist()\n",
    "plt.xlabel('apparent_temp')\n",
    "plt.ylabel('Counts')\n",
    "plt.title('Histogram of apparent_temp')"
   ]
  },
  {
   "cell_type": "code",
   "execution_count": 73,
   "metadata": {},
   "outputs": [
    {
     "data": {
      "text/plain": [
       "station                  0\n",
       "timestamp                0\n",
       "air_temp                 0\n",
       "dewpoint_temp            0\n",
       "rel_humidity             0\n",
       "wind_dir                56\n",
       "wind_speed               0\n",
       "altimeter_pressure       0\n",
       "visibility               0\n",
       "gust_speed               0\n",
       "sky_level_1_coverage    69\n",
       "sky_level_1_altitude    70\n",
       "weather_codes            0\n",
       "apparent_temp            0\n",
       "weather_codes_+SHRA      0\n",
       "weather_codes_+TSRA      0\n",
       "weather_codes_-DZ        0\n",
       "weather_codes_-RA        0\n",
       "weather_codes_-SHRA      0\n",
       "weather_codes_-TSRA      0\n",
       "weather_codes_BR         0\n",
       "weather_codes_FG         0\n",
       "weather_codes_HZ         0\n",
       "weather_codes_RA         0\n",
       "weather_codes_SHRA       0\n",
       "weather_codes_TSRA       0\n",
       "weather_codes_VCSH       0\n",
       "dtype: int64"
      ]
     },
     "execution_count": 73,
     "metadata": {},
     "output_type": "execute_result"
    }
   ],
   "source": [
    "twn_weather.isnull().sum()"
   ]
  },
  {
   "cell_type": "code",
   "execution_count": 74,
   "metadata": {},
   "outputs": [],
   "source": [
    "twn_weather.wind_dir = twn_weather.wind_dir.fillna(method='ffill')\n",
    "twn_weather.sky_level_1_coverage = twn_weather.sky_level_1_coverage.fillna(method='ffill')\n",
    "twn_weather.sky_level_1_altitude = twn_weather.sky_level_1_altitude.fillna(method='ffill')"
   ]
  },
  {
   "cell_type": "code",
   "execution_count": 75,
   "metadata": {},
   "outputs": [],
   "source": [
    "# twn_weather.loc[(twn_weather.valid.dt.minute != 0) & (twn_weather.valid.dt.minute != 30)].index.tolist()"
   ]
  },
  {
   "cell_type": "code",
   "execution_count": 76,
   "metadata": {},
   "outputs": [],
   "source": [
    "# twn_weather.loc[75:78]"
   ]
  },
  {
   "cell_type": "code",
   "execution_count": 77,
   "metadata": {},
   "outputs": [],
   "source": [
    "# start_dt = dt.datetime(2016, 12, 31, 0, 0, 0)\n",
    "# + dt.timedelta(minutes=30)"
   ]
  },
  {
   "cell_type": "code",
   "execution_count": 78,
   "metadata": {},
   "outputs": [],
   "source": [
    "twn_weather_resampled = twn_weather.set_index('timestamp').resample('30Min').first()"
   ]
  },
  {
   "cell_type": "code",
   "execution_count": 79,
   "metadata": {},
   "outputs": [],
   "source": [
    "twn_weather_resampled.reset_index(inplace=True)"
   ]
  },
  {
   "cell_type": "code",
   "execution_count": 80,
   "metadata": {},
   "outputs": [
    {
     "data": {
      "text/plain": [
       "timestamp                0\n",
       "station                 98\n",
       "air_temp                98\n",
       "dewpoint_temp           98\n",
       "rel_humidity            98\n",
       "wind_dir                98\n",
       "wind_speed              98\n",
       "altimeter_pressure      98\n",
       "visibility              98\n",
       "gust_speed              98\n",
       "sky_level_1_coverage    98\n",
       "sky_level_1_altitude    98\n",
       "weather_codes           98\n",
       "apparent_temp           98\n",
       "weather_codes_+SHRA     98\n",
       "weather_codes_+TSRA     98\n",
       "weather_codes_-DZ       98\n",
       "weather_codes_-RA       98\n",
       "weather_codes_-SHRA     98\n",
       "weather_codes_-TSRA     98\n",
       "weather_codes_BR        98\n",
       "weather_codes_FG        98\n",
       "weather_codes_HZ        98\n",
       "weather_codes_RA        98\n",
       "weather_codes_SHRA      98\n",
       "weather_codes_TSRA      98\n",
       "weather_codes_VCSH      98\n",
       "dtype: int64"
      ]
     },
     "execution_count": 80,
     "metadata": {},
     "output_type": "execute_result"
    }
   ],
   "source": [
    "twn_weather_resampled.isnull().sum()"
   ]
  },
  {
   "cell_type": "code",
   "execution_count": 81,
   "metadata": {},
   "outputs": [],
   "source": [
    "twn_weather_resampled.fillna(method='ffill', inplace=True)"
   ]
  },
  {
   "cell_type": "code",
   "execution_count": 82,
   "metadata": {},
   "outputs": [
    {
     "name": "stdout",
     "output_type": "stream",
     "text": [
      "<class 'pandas.core.frame.DataFrame'>\n",
      "RangeIndex: 2832 entries, 0 to 2831\n",
      "Data columns (total 27 columns):\n",
      " #   Column                Non-Null Count  Dtype         \n",
      "---  ------                --------------  -----         \n",
      " 0   timestamp             2832 non-null   datetime64[ns]\n",
      " 1   station               2832 non-null   object        \n",
      " 2   air_temp              2832 non-null   float64       \n",
      " 3   dewpoint_temp         2832 non-null   float64       \n",
      " 4   rel_humidity          2832 non-null   float64       \n",
      " 5   wind_dir              2832 non-null   Int64         \n",
      " 6   wind_speed            2832 non-null   float64       \n",
      " 7   altimeter_pressure    2832 non-null   float64       \n",
      " 8   visibility            2832 non-null   float64       \n",
      " 9   gust_speed            2832 non-null   Int64         \n",
      " 10  sky_level_1_coverage  2832 non-null   object        \n",
      " 11  sky_level_1_altitude  2832 non-null   object        \n",
      " 12  weather_codes         2832 non-null   object        \n",
      " 13  apparent_temp         2832 non-null   float64       \n",
      " 14  weather_codes_+SHRA   2832 non-null   float64       \n",
      " 15  weather_codes_+TSRA   2832 non-null   float64       \n",
      " 16  weather_codes_-DZ     2832 non-null   float64       \n",
      " 17  weather_codes_-RA     2832 non-null   float64       \n",
      " 18  weather_codes_-SHRA   2832 non-null   float64       \n",
      " 19  weather_codes_-TSRA   2832 non-null   float64       \n",
      " 20  weather_codes_BR      2832 non-null   float64       \n",
      " 21  weather_codes_FG      2832 non-null   float64       \n",
      " 22  weather_codes_HZ      2832 non-null   float64       \n",
      " 23  weather_codes_RA      2832 non-null   float64       \n",
      " 24  weather_codes_SHRA    2832 non-null   float64       \n",
      " 25  weather_codes_TSRA    2832 non-null   float64       \n",
      " 26  weather_codes_VCSH    2832 non-null   float64       \n",
      "dtypes: Int64(2), datetime64[ns](1), float64(20), object(4)\n",
      "memory usage: 603.0+ KB\n"
     ]
    }
   ],
   "source": [
    "twn_weather_resampled.info()"
   ]
  },
  {
   "cell_type": "code",
   "execution_count": 83,
   "metadata": {},
   "outputs": [],
   "source": [
    "twn_weather_resampled.to_csv('../data/metar-rctp-clean.csv')"
   ]
  },
  {
   "cell_type": "code",
   "execution_count": 84,
   "metadata": {},
   "outputs": [
    {
     "data": {
      "text/html": [
       "<div>\n",
       "<style scoped>\n",
       "    .dataframe tbody tr th:only-of-type {\n",
       "        vertical-align: middle;\n",
       "    }\n",
       "\n",
       "    .dataframe tbody tr th {\n",
       "        vertical-align: top;\n",
       "    }\n",
       "\n",
       "    .dataframe thead th {\n",
       "        text-align: right;\n",
       "    }\n",
       "</style>\n",
       "<table border=\"1\" class=\"dataframe\">\n",
       "  <thead>\n",
       "    <tr style=\"text-align: right;\">\n",
       "      <th></th>\n",
       "      <th>timestamp</th>\n",
       "      <th>station</th>\n",
       "      <th>air_temp</th>\n",
       "      <th>dewpoint_temp</th>\n",
       "      <th>rel_humidity</th>\n",
       "      <th>wind_dir</th>\n",
       "      <th>wind_speed</th>\n",
       "      <th>altimeter_pressure</th>\n",
       "      <th>visibility</th>\n",
       "      <th>gust_speed</th>\n",
       "      <th>sky_level_1_coverage</th>\n",
       "      <th>sky_level_1_altitude</th>\n",
       "      <th>weather_codes</th>\n",
       "      <th>apparent_temp</th>\n",
       "      <th>weather_codes_+SHRA</th>\n",
       "      <th>weather_codes_+TSRA</th>\n",
       "      <th>weather_codes_-DZ</th>\n",
       "      <th>weather_codes_-RA</th>\n",
       "      <th>weather_codes_-SHRA</th>\n",
       "      <th>weather_codes_-TSRA</th>\n",
       "      <th>weather_codes_BR</th>\n",
       "      <th>weather_codes_FG</th>\n",
       "      <th>weather_codes_HZ</th>\n",
       "      <th>weather_codes_RA</th>\n",
       "      <th>weather_codes_SHRA</th>\n",
       "      <th>weather_codes_TSRA</th>\n",
       "      <th>weather_codes_VCSH</th>\n",
       "    </tr>\n",
       "  </thead>\n",
       "  <tbody>\n",
       "    <tr>\n",
       "      <th>0</th>\n",
       "      <td>2016-12-31 00:00:00</td>\n",
       "      <td>RCTP</td>\n",
       "      <td>68.0</td>\n",
       "      <td>62.6</td>\n",
       "      <td>82.86</td>\n",
       "      <td>40</td>\n",
       "      <td>17.0</td>\n",
       "      <td>30.24</td>\n",
       "      <td>6.21</td>\n",
       "      <td>0</td>\n",
       "      <td>FEW</td>\n",
       "      <td>1500.0</td>\n",
       "      <td>NaN</td>\n",
       "      <td>68.0</td>\n",
       "      <td>0.0</td>\n",
       "      <td>0.0</td>\n",
       "      <td>0.0</td>\n",
       "      <td>0.0</td>\n",
       "      <td>0.0</td>\n",
       "      <td>0.0</td>\n",
       "      <td>0.0</td>\n",
       "      <td>0.0</td>\n",
       "      <td>0.0</td>\n",
       "      <td>0.0</td>\n",
       "      <td>0.0</td>\n",
       "      <td>0.0</td>\n",
       "      <td>0.0</td>\n",
       "    </tr>\n",
       "    <tr>\n",
       "      <th>1</th>\n",
       "      <td>2016-12-31 00:30:00</td>\n",
       "      <td>RCTP</td>\n",
       "      <td>69.8</td>\n",
       "      <td>62.6</td>\n",
       "      <td>77.90</td>\n",
       "      <td>40</td>\n",
       "      <td>19.0</td>\n",
       "      <td>30.24</td>\n",
       "      <td>6.21</td>\n",
       "      <td>0</td>\n",
       "      <td>BKN</td>\n",
       "      <td>1900.0</td>\n",
       "      <td>NaN</td>\n",
       "      <td>69.8</td>\n",
       "      <td>0.0</td>\n",
       "      <td>0.0</td>\n",
       "      <td>0.0</td>\n",
       "      <td>0.0</td>\n",
       "      <td>0.0</td>\n",
       "      <td>0.0</td>\n",
       "      <td>0.0</td>\n",
       "      <td>0.0</td>\n",
       "      <td>0.0</td>\n",
       "      <td>0.0</td>\n",
       "      <td>0.0</td>\n",
       "      <td>0.0</td>\n",
       "      <td>0.0</td>\n",
       "    </tr>\n",
       "    <tr>\n",
       "      <th>2</th>\n",
       "      <td>2016-12-31 01:00:00</td>\n",
       "      <td>RCTP</td>\n",
       "      <td>69.8</td>\n",
       "      <td>62.6</td>\n",
       "      <td>77.90</td>\n",
       "      <td>50</td>\n",
       "      <td>18.0</td>\n",
       "      <td>30.24</td>\n",
       "      <td>6.21</td>\n",
       "      <td>0</td>\n",
       "      <td>BKN</td>\n",
       "      <td>2200.0</td>\n",
       "      <td>NaN</td>\n",
       "      <td>69.8</td>\n",
       "      <td>0.0</td>\n",
       "      <td>0.0</td>\n",
       "      <td>0.0</td>\n",
       "      <td>0.0</td>\n",
       "      <td>0.0</td>\n",
       "      <td>0.0</td>\n",
       "      <td>0.0</td>\n",
       "      <td>0.0</td>\n",
       "      <td>0.0</td>\n",
       "      <td>0.0</td>\n",
       "      <td>0.0</td>\n",
       "      <td>0.0</td>\n",
       "      <td>0.0</td>\n",
       "    </tr>\n",
       "    <tr>\n",
       "      <th>3</th>\n",
       "      <td>2016-12-31 01:30:00</td>\n",
       "      <td>RCTP</td>\n",
       "      <td>69.8</td>\n",
       "      <td>62.6</td>\n",
       "      <td>77.90</td>\n",
       "      <td>40</td>\n",
       "      <td>16.0</td>\n",
       "      <td>30.24</td>\n",
       "      <td>6.21</td>\n",
       "      <td>0</td>\n",
       "      <td>FEW</td>\n",
       "      <td>2100.0</td>\n",
       "      <td>NaN</td>\n",
       "      <td>69.8</td>\n",
       "      <td>0.0</td>\n",
       "      <td>0.0</td>\n",
       "      <td>0.0</td>\n",
       "      <td>0.0</td>\n",
       "      <td>0.0</td>\n",
       "      <td>0.0</td>\n",
       "      <td>0.0</td>\n",
       "      <td>0.0</td>\n",
       "      <td>0.0</td>\n",
       "      <td>0.0</td>\n",
       "      <td>0.0</td>\n",
       "      <td>0.0</td>\n",
       "      <td>0.0</td>\n",
       "    </tr>\n",
       "    <tr>\n",
       "      <th>4</th>\n",
       "      <td>2016-12-31 02:00:00</td>\n",
       "      <td>RCTP</td>\n",
       "      <td>71.6</td>\n",
       "      <td>62.6</td>\n",
       "      <td>73.27</td>\n",
       "      <td>40</td>\n",
       "      <td>16.0</td>\n",
       "      <td>30.24</td>\n",
       "      <td>6.21</td>\n",
       "      <td>0</td>\n",
       "      <td>BKN</td>\n",
       "      <td>2300.0</td>\n",
       "      <td>NaN</td>\n",
       "      <td>71.6</td>\n",
       "      <td>0.0</td>\n",
       "      <td>0.0</td>\n",
       "      <td>0.0</td>\n",
       "      <td>0.0</td>\n",
       "      <td>0.0</td>\n",
       "      <td>0.0</td>\n",
       "      <td>0.0</td>\n",
       "      <td>0.0</td>\n",
       "      <td>0.0</td>\n",
       "      <td>0.0</td>\n",
       "      <td>0.0</td>\n",
       "      <td>0.0</td>\n",
       "      <td>0.0</td>\n",
       "    </tr>\n",
       "    <tr>\n",
       "      <th>...</th>\n",
       "      <td>...</td>\n",
       "      <td>...</td>\n",
       "      <td>...</td>\n",
       "      <td>...</td>\n",
       "      <td>...</td>\n",
       "      <td>...</td>\n",
       "      <td>...</td>\n",
       "      <td>...</td>\n",
       "      <td>...</td>\n",
       "      <td>...</td>\n",
       "      <td>...</td>\n",
       "      <td>...</td>\n",
       "      <td>...</td>\n",
       "      <td>...</td>\n",
       "      <td>...</td>\n",
       "      <td>...</td>\n",
       "      <td>...</td>\n",
       "      <td>...</td>\n",
       "      <td>...</td>\n",
       "      <td>...</td>\n",
       "      <td>...</td>\n",
       "      <td>...</td>\n",
       "      <td>...</td>\n",
       "      <td>...</td>\n",
       "      <td>...</td>\n",
       "      <td>...</td>\n",
       "      <td>...</td>\n",
       "    </tr>\n",
       "    <tr>\n",
       "      <th>2827</th>\n",
       "      <td>2017-02-27 21:30:00</td>\n",
       "      <td>RCTP</td>\n",
       "      <td>59.0</td>\n",
       "      <td>50.0</td>\n",
       "      <td>72.01</td>\n",
       "      <td>60</td>\n",
       "      <td>9.0</td>\n",
       "      <td>30.18</td>\n",
       "      <td>3.73</td>\n",
       "      <td>0</td>\n",
       "      <td>FEW</td>\n",
       "      <td>2000.0</td>\n",
       "      <td>NaN</td>\n",
       "      <td>59.0</td>\n",
       "      <td>0.0</td>\n",
       "      <td>0.0</td>\n",
       "      <td>0.0</td>\n",
       "      <td>0.0</td>\n",
       "      <td>0.0</td>\n",
       "      <td>0.0</td>\n",
       "      <td>0.0</td>\n",
       "      <td>0.0</td>\n",
       "      <td>0.0</td>\n",
       "      <td>0.0</td>\n",
       "      <td>0.0</td>\n",
       "      <td>0.0</td>\n",
       "      <td>0.0</td>\n",
       "    </tr>\n",
       "    <tr>\n",
       "      <th>2828</th>\n",
       "      <td>2017-02-27 22:00:00</td>\n",
       "      <td>RCTP</td>\n",
       "      <td>59.0</td>\n",
       "      <td>53.6</td>\n",
       "      <td>82.25</td>\n",
       "      <td>60</td>\n",
       "      <td>12.0</td>\n",
       "      <td>30.18</td>\n",
       "      <td>3.73</td>\n",
       "      <td>0</td>\n",
       "      <td>FEW</td>\n",
       "      <td>1600.0</td>\n",
       "      <td>NaN</td>\n",
       "      <td>59.0</td>\n",
       "      <td>0.0</td>\n",
       "      <td>0.0</td>\n",
       "      <td>0.0</td>\n",
       "      <td>0.0</td>\n",
       "      <td>0.0</td>\n",
       "      <td>0.0</td>\n",
       "      <td>0.0</td>\n",
       "      <td>0.0</td>\n",
       "      <td>0.0</td>\n",
       "      <td>0.0</td>\n",
       "      <td>0.0</td>\n",
       "      <td>0.0</td>\n",
       "      <td>0.0</td>\n",
       "    </tr>\n",
       "    <tr>\n",
       "      <th>2829</th>\n",
       "      <td>2017-02-27 22:30:00</td>\n",
       "      <td>RCTP</td>\n",
       "      <td>59.0</td>\n",
       "      <td>53.6</td>\n",
       "      <td>82.25</td>\n",
       "      <td>60</td>\n",
       "      <td>8.0</td>\n",
       "      <td>30.18</td>\n",
       "      <td>3.73</td>\n",
       "      <td>0</td>\n",
       "      <td>FEW</td>\n",
       "      <td>1600.0</td>\n",
       "      <td>NaN</td>\n",
       "      <td>59.0</td>\n",
       "      <td>0.0</td>\n",
       "      <td>0.0</td>\n",
       "      <td>0.0</td>\n",
       "      <td>0.0</td>\n",
       "      <td>0.0</td>\n",
       "      <td>0.0</td>\n",
       "      <td>0.0</td>\n",
       "      <td>0.0</td>\n",
       "      <td>0.0</td>\n",
       "      <td>0.0</td>\n",
       "      <td>0.0</td>\n",
       "      <td>0.0</td>\n",
       "      <td>0.0</td>\n",
       "    </tr>\n",
       "    <tr>\n",
       "      <th>2830</th>\n",
       "      <td>2017-02-27 23:00:00</td>\n",
       "      <td>RCTP</td>\n",
       "      <td>59.0</td>\n",
       "      <td>53.6</td>\n",
       "      <td>82.25</td>\n",
       "      <td>50</td>\n",
       "      <td>15.0</td>\n",
       "      <td>30.18</td>\n",
       "      <td>4.35</td>\n",
       "      <td>0</td>\n",
       "      <td>FEW</td>\n",
       "      <td>1600.0</td>\n",
       "      <td>NaN</td>\n",
       "      <td>59.0</td>\n",
       "      <td>0.0</td>\n",
       "      <td>0.0</td>\n",
       "      <td>0.0</td>\n",
       "      <td>0.0</td>\n",
       "      <td>0.0</td>\n",
       "      <td>0.0</td>\n",
       "      <td>0.0</td>\n",
       "      <td>0.0</td>\n",
       "      <td>0.0</td>\n",
       "      <td>0.0</td>\n",
       "      <td>0.0</td>\n",
       "      <td>0.0</td>\n",
       "      <td>0.0</td>\n",
       "    </tr>\n",
       "    <tr>\n",
       "      <th>2831</th>\n",
       "      <td>2017-02-27 23:30:00</td>\n",
       "      <td>RCTP</td>\n",
       "      <td>59.0</td>\n",
       "      <td>53.6</td>\n",
       "      <td>82.25</td>\n",
       "      <td>40</td>\n",
       "      <td>15.0</td>\n",
       "      <td>30.21</td>\n",
       "      <td>3.73</td>\n",
       "      <td>0</td>\n",
       "      <td>FEW</td>\n",
       "      <td>1400.0</td>\n",
       "      <td>-RA</td>\n",
       "      <td>59.0</td>\n",
       "      <td>0.0</td>\n",
       "      <td>0.0</td>\n",
       "      <td>0.0</td>\n",
       "      <td>1.0</td>\n",
       "      <td>0.0</td>\n",
       "      <td>0.0</td>\n",
       "      <td>0.0</td>\n",
       "      <td>0.0</td>\n",
       "      <td>0.0</td>\n",
       "      <td>0.0</td>\n",
       "      <td>0.0</td>\n",
       "      <td>0.0</td>\n",
       "      <td>0.0</td>\n",
       "    </tr>\n",
       "  </tbody>\n",
       "</table>\n",
       "<p>2832 rows × 27 columns</p>\n",
       "</div>"
      ],
      "text/plain": [
       "                timestamp station  air_temp  dewpoint_temp  rel_humidity  \\\n",
       "0     2016-12-31 00:00:00    RCTP      68.0           62.6         82.86   \n",
       "1     2016-12-31 00:30:00    RCTP      69.8           62.6         77.90   \n",
       "2     2016-12-31 01:00:00    RCTP      69.8           62.6         77.90   \n",
       "3     2016-12-31 01:30:00    RCTP      69.8           62.6         77.90   \n",
       "4     2016-12-31 02:00:00    RCTP      71.6           62.6         73.27   \n",
       "...                   ...     ...       ...            ...           ...   \n",
       "2827  2017-02-27 21:30:00    RCTP      59.0           50.0         72.01   \n",
       "2828  2017-02-27 22:00:00    RCTP      59.0           53.6         82.25   \n",
       "2829  2017-02-27 22:30:00    RCTP      59.0           53.6         82.25   \n",
       "2830  2017-02-27 23:00:00    RCTP      59.0           53.6         82.25   \n",
       "2831  2017-02-27 23:30:00    RCTP      59.0           53.6         82.25   \n",
       "\n",
       "      wind_dir  wind_speed  altimeter_pressure  visibility  gust_speed  \\\n",
       "0           40        17.0               30.24        6.21           0   \n",
       "1           40        19.0               30.24        6.21           0   \n",
       "2           50        18.0               30.24        6.21           0   \n",
       "3           40        16.0               30.24        6.21           0   \n",
       "4           40        16.0               30.24        6.21           0   \n",
       "...        ...         ...                 ...         ...         ...   \n",
       "2827        60         9.0               30.18        3.73           0   \n",
       "2828        60        12.0               30.18        3.73           0   \n",
       "2829        60         8.0               30.18        3.73           0   \n",
       "2830        50        15.0               30.18        4.35           0   \n",
       "2831        40        15.0               30.21        3.73           0   \n",
       "\n",
       "     sky_level_1_coverage  sky_level_1_altitude weather_codes  apparent_temp  \\\n",
       "0                     FEW                1500.0           NaN           68.0   \n",
       "1                     BKN                1900.0           NaN           69.8   \n",
       "2                     BKN                2200.0           NaN           69.8   \n",
       "3                     FEW                2100.0           NaN           69.8   \n",
       "4                     BKN                2300.0           NaN           71.6   \n",
       "...                   ...                   ...           ...            ...   \n",
       "2827                  FEW                2000.0           NaN           59.0   \n",
       "2828                  FEW                1600.0           NaN           59.0   \n",
       "2829                  FEW                1600.0           NaN           59.0   \n",
       "2830                  FEW                1600.0           NaN           59.0   \n",
       "2831                  FEW                1400.0           -RA           59.0   \n",
       "\n",
       "      weather_codes_+SHRA  weather_codes_+TSRA  weather_codes_-DZ  \\\n",
       "0                     0.0                  0.0                0.0   \n",
       "1                     0.0                  0.0                0.0   \n",
       "2                     0.0                  0.0                0.0   \n",
       "3                     0.0                  0.0                0.0   \n",
       "4                     0.0                  0.0                0.0   \n",
       "...                   ...                  ...                ...   \n",
       "2827                  0.0                  0.0                0.0   \n",
       "2828                  0.0                  0.0                0.0   \n",
       "2829                  0.0                  0.0                0.0   \n",
       "2830                  0.0                  0.0                0.0   \n",
       "2831                  0.0                  0.0                0.0   \n",
       "\n",
       "      weather_codes_-RA  weather_codes_-SHRA  weather_codes_-TSRA  \\\n",
       "0                   0.0                  0.0                  0.0   \n",
       "1                   0.0                  0.0                  0.0   \n",
       "2                   0.0                  0.0                  0.0   \n",
       "3                   0.0                  0.0                  0.0   \n",
       "4                   0.0                  0.0                  0.0   \n",
       "...                 ...                  ...                  ...   \n",
       "2827                0.0                  0.0                  0.0   \n",
       "2828                0.0                  0.0                  0.0   \n",
       "2829                0.0                  0.0                  0.0   \n",
       "2830                0.0                  0.0                  0.0   \n",
       "2831                1.0                  0.0                  0.0   \n",
       "\n",
       "      weather_codes_BR  weather_codes_FG  weather_codes_HZ  weather_codes_RA  \\\n",
       "0                  0.0               0.0               0.0               0.0   \n",
       "1                  0.0               0.0               0.0               0.0   \n",
       "2                  0.0               0.0               0.0               0.0   \n",
       "3                  0.0               0.0               0.0               0.0   \n",
       "4                  0.0               0.0               0.0               0.0   \n",
       "...                ...               ...               ...               ...   \n",
       "2827               0.0               0.0               0.0               0.0   \n",
       "2828               0.0               0.0               0.0               0.0   \n",
       "2829               0.0               0.0               0.0               0.0   \n",
       "2830               0.0               0.0               0.0               0.0   \n",
       "2831               0.0               0.0               0.0               0.0   \n",
       "\n",
       "      weather_codes_SHRA  weather_codes_TSRA  weather_codes_VCSH  \n",
       "0                    0.0                 0.0                 0.0  \n",
       "1                    0.0                 0.0                 0.0  \n",
       "2                    0.0                 0.0                 0.0  \n",
       "3                    0.0                 0.0                 0.0  \n",
       "4                    0.0                 0.0                 0.0  \n",
       "...                  ...                 ...                 ...  \n",
       "2827                 0.0                 0.0                 0.0  \n",
       "2828                 0.0                 0.0                 0.0  \n",
       "2829                 0.0                 0.0                 0.0  \n",
       "2830                 0.0                 0.0                 0.0  \n",
       "2831                 0.0                 0.0                 0.0  \n",
       "\n",
       "[2832 rows x 27 columns]"
      ]
     },
     "execution_count": 84,
     "metadata": {},
     "output_type": "execute_result"
    }
   ],
   "source": [
    "pd.read_csv('../data/metar-rctp-clean.csv', index_col=0)"
   ]
  }
 ],
 "metadata": {
  "kernelspec": {
   "display_name": "Python 3",
   "language": "python",
   "name": "python3"
  },
  "language_info": {
   "codemirror_mode": {
    "name": "ipython",
    "version": 3
   },
   "file_extension": ".py",
   "mimetype": "text/x-python",
   "name": "python",
   "nbconvert_exporter": "python",
   "pygments_lexer": "ipython3",
   "version": "3.6.9"
  }
 },
 "nbformat": 4,
 "nbformat_minor": 4
}
