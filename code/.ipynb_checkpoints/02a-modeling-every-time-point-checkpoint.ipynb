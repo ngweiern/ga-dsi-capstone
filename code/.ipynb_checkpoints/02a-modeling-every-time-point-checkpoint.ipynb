{
 "cells": [
  {
   "cell_type": "markdown",
   "metadata": {},
   "source": [
    "## Import libraries"
   ]
  },
  {
   "cell_type": "code",
   "execution_count": 1,
   "metadata": {},
   "outputs": [],
   "source": [
    "import pandas as pd\n",
    "import numpy as np\n",
    "import matplotlib.pyplot as plt\n",
    "import seaborn as sns\n",
    "from scipy import stats\n",
    "from math import radians, cos, sin, asin, sqrt\n",
    "import datetime as dt\n",
    "\n",
    "import sklearn.metrics as metrics\n",
    "\n",
    "from sklearn.linear_model import LinearRegression, Ridge, Lasso, ElasticNet, RidgeCV, LassoCV, ElasticNetCV\n",
    "from sklearn.svm import SVR\n",
    "from sklearn.tree import DecisionTreeRegressor\n",
    "from sklearn.ensemble import RandomForestRegressor, AdaBoostRegressor\n",
    "from sklearn.metrics import mean_squared_error, r2_score\n",
    "from sklearn.model_selection import train_test_split, cross_val_score, KFold, GridSearchCV\n",
    "from sklearn.preprocessing import StandardScaler, PolynomialFeatures, LabelEncoder\n",
    "from sklearn.feature_selection import f_classif, SelectKBest\n",
    "from sklearn.pipeline import Pipeline\n",
    "\n",
    "import warnings\n",
    "warnings.filterwarnings('ignore')\n",
    "\n",
    "pd.set_option(\"display.max_columns\", 60)\n",
    "pd.set_option(\"display.max_rows\", 500)\n",
    "%matplotlib inline\n",
    "sns.set()"
   ]
  },
  {
   "cell_type": "markdown",
   "metadata": {},
   "source": [
    "## Read Data"
   ]
  },
  {
   "cell_type": "code",
   "execution_count": 2,
   "metadata": {},
   "outputs": [],
   "source": [
    "df_twn_hkg_flights = pd.read_csv('../data/filtered_flights_twn_hkg.csv', index_col=0)"
   ]
  },
  {
   "cell_type": "code",
   "execution_count": 3,
   "metadata": {},
   "outputs": [
    {
     "data": {
      "text/html": [
       "<div>\n",
       "<style scoped>\n",
       "    .dataframe tbody tr th:only-of-type {\n",
       "        vertical-align: middle;\n",
       "    }\n",
       "\n",
       "    .dataframe tbody tr th {\n",
       "        vertical-align: top;\n",
       "    }\n",
       "\n",
       "    .dataframe thead th {\n",
       "        text-align: right;\n",
       "    }\n",
       "</style>\n",
       "<table border=\"1\" class=\"dataframe\">\n",
       "  <thead>\n",
       "    <tr style=\"text-align: right;\">\n",
       "      <th></th>\n",
       "      <th>flight_id</th>\n",
       "      <th>timestamp_utc</th>\n",
       "      <th>latitude</th>\n",
       "      <th>longitude</th>\n",
       "      <th>altitude</th>\n",
       "      <th>heading</th>\n",
       "      <th>speed</th>\n",
       "      <th>flight_callsign</th>\n",
       "      <th>aircraft_model</th>\n",
       "      <th>aircraft_registration</th>\n",
       "      <th>airline</th>\n",
       "      <th>origin</th>\n",
       "      <th>destination</th>\n",
       "      <th>scheduled_departure_utc</th>\n",
       "      <th>scheduled_arrival_utc</th>\n",
       "      <th>real_departure_utc</th>\n",
       "      <th>estimated_arrival_utc</th>\n",
       "      <th>real_flight_duration</th>\n",
       "      <th>scheduled_departure_dt</th>\n",
       "      <th>scheduled_arrival_dt</th>\n",
       "      <th>real_departure_dt</th>\n",
       "      <th>estimated_arrival_dt</th>\n",
       "      <th>scheduled_arrival_year</th>\n",
       "      <th>scheduled_arrival_month</th>\n",
       "      <th>scheduled_arrival_day</th>\n",
       "      <th>scheduled_departure_year</th>\n",
       "      <th>scheduled_departure_month</th>\n",
       "      <th>scheduled_departure_day</th>\n",
       "      <th>scheduled_flight_duration</th>\n",
       "      <th>route</th>\n",
       "      <th>speed_interval</th>\n",
       "      <th>time_since_real_departure</th>\n",
       "      <th>prev_latitude</th>\n",
       "      <th>prev_longitude</th>\n",
       "      <th>calculated_flight_duration</th>\n",
       "      <th>calculated_time_before_arrival</th>\n",
       "      <th>displacement_to_hkg</th>\n",
       "      <th>displacement_fr_twn</th>\n",
       "      <th>minutes_since_real_departure_interval</th>\n",
       "    </tr>\n",
       "  </thead>\n",
       "  <tbody>\n",
       "    <tr>\n",
       "      <th>0</th>\n",
       "      <td>c0aabc0</td>\n",
       "      <td>1483194745</td>\n",
       "      <td>25.090073</td>\n",
       "      <td>121.237190</td>\n",
       "      <td>950</td>\n",
       "      <td>46</td>\n",
       "      <td>143</td>\n",
       "      <td>CAL</td>\n",
       "      <td>Boeing 747</td>\n",
       "      <td>B-18717</td>\n",
       "      <td>China Airlines Cargo</td>\n",
       "      <td>Taiwan Taoyuan International Airport</td>\n",
       "      <td>Hong Kong International Airport</td>\n",
       "      <td>1.483193e+09</td>\n",
       "      <td>1.483198e+09</td>\n",
       "      <td>1.483195e+09</td>\n",
       "      <td>NaN</td>\n",
       "      <td>4663.0</td>\n",
       "      <td>2016-12-31 14:00:00</td>\n",
       "      <td>2016-12-31 15:30:00</td>\n",
       "      <td>2016-12-31 14:32:05</td>\n",
       "      <td>NaN</td>\n",
       "      <td>2016</td>\n",
       "      <td>12</td>\n",
       "      <td>31</td>\n",
       "      <td>2016</td>\n",
       "      <td>12</td>\n",
       "      <td>31</td>\n",
       "      <td>5400.0</td>\n",
       "      <td>Taiwan Taoyuan International Airport -&gt; Hong K...</td>\n",
       "      <td>100 &lt; speed &lt;= 200</td>\n",
       "      <td>20.0</td>\n",
       "      <td>25.072781</td>\n",
       "      <td>121.218529</td>\n",
       "      <td>5115.0</td>\n",
       "      <td>5095.0</td>\n",
       "      <td>806.651564</td>\n",
       "      <td>2.544945</td>\n",
       "      <td>0 &lt;= min &lt;= 10</td>\n",
       "    </tr>\n",
       "    <tr>\n",
       "      <th>1</th>\n",
       "      <td>c0aabc0</td>\n",
       "      <td>1483194754</td>\n",
       "      <td>25.093964</td>\n",
       "      <td>121.242012</td>\n",
       "      <td>1375</td>\n",
       "      <td>48</td>\n",
       "      <td>145</td>\n",
       "      <td>CAL</td>\n",
       "      <td>Boeing 747</td>\n",
       "      <td>B-18717</td>\n",
       "      <td>China Airlines Cargo</td>\n",
       "      <td>Taiwan Taoyuan International Airport</td>\n",
       "      <td>Hong Kong International Airport</td>\n",
       "      <td>1.483193e+09</td>\n",
       "      <td>1.483198e+09</td>\n",
       "      <td>1.483195e+09</td>\n",
       "      <td>NaN</td>\n",
       "      <td>4663.0</td>\n",
       "      <td>2016-12-31 14:00:00</td>\n",
       "      <td>2016-12-31 15:30:00</td>\n",
       "      <td>2016-12-31 14:32:05</td>\n",
       "      <td>NaN</td>\n",
       "      <td>2016</td>\n",
       "      <td>12</td>\n",
       "      <td>31</td>\n",
       "      <td>2016</td>\n",
       "      <td>12</td>\n",
       "      <td>31</td>\n",
       "      <td>5400.0</td>\n",
       "      <td>Taiwan Taoyuan International Airport -&gt; Hong K...</td>\n",
       "      <td>100 &lt; speed &lt;= 200</td>\n",
       "      <td>29.0</td>\n",
       "      <td>25.090073</td>\n",
       "      <td>121.237190</td>\n",
       "      <td>5115.0</td>\n",
       "      <td>5086.0</td>\n",
       "      <td>807.260143</td>\n",
       "      <td>3.189686</td>\n",
       "      <td>0 &lt;= min &lt;= 10</td>\n",
       "    </tr>\n",
       "    <tr>\n",
       "      <th>2</th>\n",
       "      <td>c0aabc0</td>\n",
       "      <td>1483194770</td>\n",
       "      <td>25.101013</td>\n",
       "      <td>121.251183</td>\n",
       "      <td>2100</td>\n",
       "      <td>50</td>\n",
       "      <td>153</td>\n",
       "      <td>CAL</td>\n",
       "      <td>Boeing 747</td>\n",
       "      <td>B-18717</td>\n",
       "      <td>China Airlines Cargo</td>\n",
       "      <td>Taiwan Taoyuan International Airport</td>\n",
       "      <td>Hong Kong International Airport</td>\n",
       "      <td>1.483193e+09</td>\n",
       "      <td>1.483198e+09</td>\n",
       "      <td>1.483195e+09</td>\n",
       "      <td>NaN</td>\n",
       "      <td>4663.0</td>\n",
       "      <td>2016-12-31 14:00:00</td>\n",
       "      <td>2016-12-31 15:30:00</td>\n",
       "      <td>2016-12-31 14:32:05</td>\n",
       "      <td>NaN</td>\n",
       "      <td>2016</td>\n",
       "      <td>12</td>\n",
       "      <td>31</td>\n",
       "      <td>2016</td>\n",
       "      <td>12</td>\n",
       "      <td>31</td>\n",
       "      <td>5400.0</td>\n",
       "      <td>Taiwan Taoyuan International Airport -&gt; Hong K...</td>\n",
       "      <td>100 &lt; speed &lt;= 200</td>\n",
       "      <td>45.0</td>\n",
       "      <td>25.093964</td>\n",
       "      <td>121.242012</td>\n",
       "      <td>5115.0</td>\n",
       "      <td>5070.0</td>\n",
       "      <td>808.403669</td>\n",
       "      <td>4.392177</td>\n",
       "      <td>0 &lt;= min &lt;= 10</td>\n",
       "    </tr>\n",
       "    <tr>\n",
       "      <th>3</th>\n",
       "      <td>c0aabc0</td>\n",
       "      <td>1483194776</td>\n",
       "      <td>25.103577</td>\n",
       "      <td>121.254631</td>\n",
       "      <td>2300</td>\n",
       "      <td>50</td>\n",
       "      <td>159</td>\n",
       "      <td>CAL</td>\n",
       "      <td>Boeing 747</td>\n",
       "      <td>B-18717</td>\n",
       "      <td>China Airlines Cargo</td>\n",
       "      <td>Taiwan Taoyuan International Airport</td>\n",
       "      <td>Hong Kong International Airport</td>\n",
       "      <td>1.483193e+09</td>\n",
       "      <td>1.483198e+09</td>\n",
       "      <td>1.483195e+09</td>\n",
       "      <td>NaN</td>\n",
       "      <td>4663.0</td>\n",
       "      <td>2016-12-31 14:00:00</td>\n",
       "      <td>2016-12-31 15:30:00</td>\n",
       "      <td>2016-12-31 14:32:05</td>\n",
       "      <td>NaN</td>\n",
       "      <td>2016</td>\n",
       "      <td>12</td>\n",
       "      <td>31</td>\n",
       "      <td>2016</td>\n",
       "      <td>12</td>\n",
       "      <td>31</td>\n",
       "      <td>5400.0</td>\n",
       "      <td>Taiwan Taoyuan International Airport -&gt; Hong K...</td>\n",
       "      <td>100 &lt; speed &lt;= 200</td>\n",
       "      <td>51.0</td>\n",
       "      <td>25.101013</td>\n",
       "      <td>121.251183</td>\n",
       "      <td>5115.0</td>\n",
       "      <td>5064.0</td>\n",
       "      <td>808.830179</td>\n",
       "      <td>4.838551</td>\n",
       "      <td>0 &lt;= min &lt;= 10</td>\n",
       "    </tr>\n",
       "    <tr>\n",
       "      <th>4</th>\n",
       "      <td>c0aabc0</td>\n",
       "      <td>1483194782</td>\n",
       "      <td>25.107010</td>\n",
       "      <td>121.259155</td>\n",
       "      <td>2525</td>\n",
       "      <td>50</td>\n",
       "      <td>171</td>\n",
       "      <td>CAL</td>\n",
       "      <td>Boeing 747</td>\n",
       "      <td>B-18717</td>\n",
       "      <td>China Airlines Cargo</td>\n",
       "      <td>Taiwan Taoyuan International Airport</td>\n",
       "      <td>Hong Kong International Airport</td>\n",
       "      <td>1.483193e+09</td>\n",
       "      <td>1.483198e+09</td>\n",
       "      <td>1.483195e+09</td>\n",
       "      <td>NaN</td>\n",
       "      <td>4663.0</td>\n",
       "      <td>2016-12-31 14:00:00</td>\n",
       "      <td>2016-12-31 15:30:00</td>\n",
       "      <td>2016-12-31 14:32:05</td>\n",
       "      <td>NaN</td>\n",
       "      <td>2016</td>\n",
       "      <td>12</td>\n",
       "      <td>31</td>\n",
       "      <td>2016</td>\n",
       "      <td>12</td>\n",
       "      <td>31</td>\n",
       "      <td>5400.0</td>\n",
       "      <td>Taiwan Taoyuan International Airport -&gt; Hong K...</td>\n",
       "      <td>100 &lt; speed &lt;= 200</td>\n",
       "      <td>57.0</td>\n",
       "      <td>25.103577</td>\n",
       "      <td>121.254631</td>\n",
       "      <td>5115.0</td>\n",
       "      <td>5058.0</td>\n",
       "      <td>809.392567</td>\n",
       "      <td>5.430343</td>\n",
       "      <td>0 &lt;= min &lt;= 10</td>\n",
       "    </tr>\n",
       "  </tbody>\n",
       "</table>\n",
       "</div>"
      ],
      "text/plain": [
       "  flight_id  timestamp_utc   latitude   longitude  altitude  heading  speed  \\\n",
       "0   c0aabc0     1483194745  25.090073  121.237190       950       46    143   \n",
       "1   c0aabc0     1483194754  25.093964  121.242012      1375       48    145   \n",
       "2   c0aabc0     1483194770  25.101013  121.251183      2100       50    153   \n",
       "3   c0aabc0     1483194776  25.103577  121.254631      2300       50    159   \n",
       "4   c0aabc0     1483194782  25.107010  121.259155      2525       50    171   \n",
       "\n",
       "  flight_callsign aircraft_model aircraft_registration               airline  \\\n",
       "0             CAL     Boeing 747               B-18717  China Airlines Cargo   \n",
       "1             CAL     Boeing 747               B-18717  China Airlines Cargo   \n",
       "2             CAL     Boeing 747               B-18717  China Airlines Cargo   \n",
       "3             CAL     Boeing 747               B-18717  China Airlines Cargo   \n",
       "4             CAL     Boeing 747               B-18717  China Airlines Cargo   \n",
       "\n",
       "                                 origin                      destination  \\\n",
       "0  Taiwan Taoyuan International Airport  Hong Kong International Airport   \n",
       "1  Taiwan Taoyuan International Airport  Hong Kong International Airport   \n",
       "2  Taiwan Taoyuan International Airport  Hong Kong International Airport   \n",
       "3  Taiwan Taoyuan International Airport  Hong Kong International Airport   \n",
       "4  Taiwan Taoyuan International Airport  Hong Kong International Airport   \n",
       "\n",
       "   scheduled_departure_utc  scheduled_arrival_utc  real_departure_utc  \\\n",
       "0             1.483193e+09           1.483198e+09        1.483195e+09   \n",
       "1             1.483193e+09           1.483198e+09        1.483195e+09   \n",
       "2             1.483193e+09           1.483198e+09        1.483195e+09   \n",
       "3             1.483193e+09           1.483198e+09        1.483195e+09   \n",
       "4             1.483193e+09           1.483198e+09        1.483195e+09   \n",
       "\n",
       "   estimated_arrival_utc  real_flight_duration scheduled_departure_dt  \\\n",
       "0                    NaN                4663.0    2016-12-31 14:00:00   \n",
       "1                    NaN                4663.0    2016-12-31 14:00:00   \n",
       "2                    NaN                4663.0    2016-12-31 14:00:00   \n",
       "3                    NaN                4663.0    2016-12-31 14:00:00   \n",
       "4                    NaN                4663.0    2016-12-31 14:00:00   \n",
       "\n",
       "  scheduled_arrival_dt    real_departure_dt estimated_arrival_dt  \\\n",
       "0  2016-12-31 15:30:00  2016-12-31 14:32:05                  NaN   \n",
       "1  2016-12-31 15:30:00  2016-12-31 14:32:05                  NaN   \n",
       "2  2016-12-31 15:30:00  2016-12-31 14:32:05                  NaN   \n",
       "3  2016-12-31 15:30:00  2016-12-31 14:32:05                  NaN   \n",
       "4  2016-12-31 15:30:00  2016-12-31 14:32:05                  NaN   \n",
       "\n",
       "   scheduled_arrival_year  scheduled_arrival_month  scheduled_arrival_day  \\\n",
       "0                    2016                       12                     31   \n",
       "1                    2016                       12                     31   \n",
       "2                    2016                       12                     31   \n",
       "3                    2016                       12                     31   \n",
       "4                    2016                       12                     31   \n",
       "\n",
       "   scheduled_departure_year  scheduled_departure_month  \\\n",
       "0                      2016                         12   \n",
       "1                      2016                         12   \n",
       "2                      2016                         12   \n",
       "3                      2016                         12   \n",
       "4                      2016                         12   \n",
       "\n",
       "   scheduled_departure_day  scheduled_flight_duration  \\\n",
       "0                       31                     5400.0   \n",
       "1                       31                     5400.0   \n",
       "2                       31                     5400.0   \n",
       "3                       31                     5400.0   \n",
       "4                       31                     5400.0   \n",
       "\n",
       "                                               route      speed_interval  \\\n",
       "0  Taiwan Taoyuan International Airport -> Hong K...  100 < speed <= 200   \n",
       "1  Taiwan Taoyuan International Airport -> Hong K...  100 < speed <= 200   \n",
       "2  Taiwan Taoyuan International Airport -> Hong K...  100 < speed <= 200   \n",
       "3  Taiwan Taoyuan International Airport -> Hong K...  100 < speed <= 200   \n",
       "4  Taiwan Taoyuan International Airport -> Hong K...  100 < speed <= 200   \n",
       "\n",
       "   time_since_real_departure  prev_latitude  prev_longitude  \\\n",
       "0                       20.0      25.072781      121.218529   \n",
       "1                       29.0      25.090073      121.237190   \n",
       "2                       45.0      25.093964      121.242012   \n",
       "3                       51.0      25.101013      121.251183   \n",
       "4                       57.0      25.103577      121.254631   \n",
       "\n",
       "   calculated_flight_duration  calculated_time_before_arrival  \\\n",
       "0                      5115.0                          5095.0   \n",
       "1                      5115.0                          5086.0   \n",
       "2                      5115.0                          5070.0   \n",
       "3                      5115.0                          5064.0   \n",
       "4                      5115.0                          5058.0   \n",
       "\n",
       "   displacement_to_hkg  displacement_fr_twn  \\\n",
       "0           806.651564             2.544945   \n",
       "1           807.260143             3.189686   \n",
       "2           808.403669             4.392177   \n",
       "3           808.830179             4.838551   \n",
       "4           809.392567             5.430343   \n",
       "\n",
       "  minutes_since_real_departure_interval  \n",
       "0                        0 <= min <= 10  \n",
       "1                        0 <= min <= 10  \n",
       "2                        0 <= min <= 10  \n",
       "3                        0 <= min <= 10  \n",
       "4                        0 <= min <= 10  "
      ]
     },
     "execution_count": 3,
     "metadata": {},
     "output_type": "execute_result"
    }
   ],
   "source": [
    "df_twn_hkg_flights.head()"
   ]
  },
  {
   "cell_type": "code",
   "execution_count": 4,
   "metadata": {},
   "outputs": [],
   "source": [
    "df_twn_hkg_flights['scheduled_departure_dt'] = pd.to_datetime(df_twn_hkg_flights['scheduled_departure_dt'])\n",
    "df_twn_hkg_flights['scheduled_arrival_dt'] = pd.to_datetime(df_twn_hkg_flights['scheduled_arrival_dt'])\n",
    "df_twn_hkg_flights['real_departure_dt'] = pd.to_datetime(df_twn_hkg_flights['real_departure_dt'])\n",
    "df_twn_hkg_flights['estimated_arrival_dt'] = pd.to_datetime(df_twn_hkg_flights['estimated_arrival_dt'])"
   ]
  },
  {
   "cell_type": "code",
   "execution_count": 5,
   "metadata": {
    "scrolled": true
   },
   "outputs": [
    {
     "data": {
      "text/plain": [
       "flight_id                                        object\n",
       "timestamp_utc                                     int64\n",
       "latitude                                        float64\n",
       "longitude                                       float64\n",
       "altitude                                          int64\n",
       "heading                                           int64\n",
       "speed                                             int64\n",
       "flight_callsign                                  object\n",
       "aircraft_model                                   object\n",
       "aircraft_registration                            object\n",
       "airline                                          object\n",
       "origin                                           object\n",
       "destination                                      object\n",
       "scheduled_departure_utc                         float64\n",
       "scheduled_arrival_utc                           float64\n",
       "real_departure_utc                              float64\n",
       "estimated_arrival_utc                           float64\n",
       "real_flight_duration                            float64\n",
       "scheduled_departure_dt                   datetime64[ns]\n",
       "scheduled_arrival_dt                     datetime64[ns]\n",
       "real_departure_dt                        datetime64[ns]\n",
       "estimated_arrival_dt                     datetime64[ns]\n",
       "scheduled_arrival_year                            int64\n",
       "scheduled_arrival_month                           int64\n",
       "scheduled_arrival_day                             int64\n",
       "scheduled_departure_year                          int64\n",
       "scheduled_departure_month                         int64\n",
       "scheduled_departure_day                           int64\n",
       "scheduled_flight_duration                       float64\n",
       "route                                            object\n",
       "speed_interval                                   object\n",
       "time_since_real_departure                       float64\n",
       "prev_latitude                                   float64\n",
       "prev_longitude                                  float64\n",
       "calculated_flight_duration                      float64\n",
       "calculated_time_before_arrival                  float64\n",
       "displacement_to_hkg                             float64\n",
       "displacement_fr_twn                             float64\n",
       "minutes_since_real_departure_interval            object\n",
       "dtype: object"
      ]
     },
     "execution_count": 5,
     "metadata": {},
     "output_type": "execute_result"
    }
   ],
   "source": [
    "df_twn_hkg_flights.dtypes"
   ]
  },
  {
   "cell_type": "markdown",
   "metadata": {},
   "source": [
    "**Correlation of numerical variables**"
   ]
  },
  {
   "cell_type": "code",
   "execution_count": 6,
   "metadata": {},
   "outputs": [],
   "source": [
    "# # Set the default matplotlib figure size to 7x7:\n",
    "# fix, ax = plt.subplots(figsize=(7,7))\n",
    "\n",
    "# # Generate a mask for the upper triangle (taken from seaborn example gallery)\n",
    "# mask = np.zeros_like(wine_corr, dtype=np.bool)\n",
    "# mask[np.triu_indices_from(mask)] = True\n",
    "\n",
    "# # Plot the heatmap with seaborn.\n",
    "# # Assign the matplotlib axis the function returns. This will let us resize the labels.\n",
    "# ax = sns.heatmap(wine_corr, mask=mask, ax=ax)\n",
    "\n",
    "# # Resize the labels.\n",
    "# ax.set_xticklabels(ax.xaxis.get_ticklabels(), fontsize=14)\n",
    "# ax.set_yticklabels(ax.yaxis.get_ticklabels(), fontsize=14)\n",
    "\n",
    "# # If you put plt.show() at the bottom, it prevents those useless printouts from matplotlib.\n",
    "# plt.show()"
   ]
  },
  {
   "cell_type": "markdown",
   "metadata": {},
   "source": [
    "**ANOVA of categorical (nominal) variables**"
   ]
  },
  {
   "cell_type": "code",
   "execution_count": null,
   "metadata": {},
   "outputs": [],
   "source": []
  },
  {
   "cell_type": "markdown",
   "metadata": {},
   "source": [
    "## Modeling"
   ]
  },
  {
   "cell_type": "code",
   "execution_count": 7,
   "metadata": {},
   "outputs": [
    {
     "data": {
      "text/plain": [
       "Index(['flight_id', 'timestamp_utc', 'latitude', 'longitude', 'altitude',\n",
       "       'heading', 'speed', 'flight_callsign', 'aircraft_model',\n",
       "       'aircraft_registration', 'airline', 'origin', 'destination',\n",
       "       'scheduled_departure_utc', 'scheduled_arrival_utc',\n",
       "       'real_departure_utc', 'estimated_arrival_utc', 'real_flight_duration',\n",
       "       'scheduled_departure_dt', 'scheduled_arrival_dt', 'real_departure_dt',\n",
       "       'estimated_arrival_dt', 'scheduled_arrival_year',\n",
       "       'scheduled_arrival_month', 'scheduled_arrival_day',\n",
       "       'scheduled_departure_year', 'scheduled_departure_month',\n",
       "       'scheduled_departure_day', 'scheduled_flight_duration', 'route',\n",
       "       'speed_interval', 'time_since_real_departure', 'prev_latitude',\n",
       "       'prev_longitude', 'calculated_flight_duration',\n",
       "       'calculated_time_before_arrival', 'displacement_to_hkg',\n",
       "       'displacement_fr_twn', 'minutes_since_real_departure_interval'],\n",
       "      dtype='object')"
      ]
     },
     "execution_count": 7,
     "metadata": {},
     "output_type": "execute_result"
    }
   ],
   "source": [
    "df_twn_hkg_flights.columns"
   ]
  },
  {
   "cell_type": "code",
   "execution_count": 8,
   "metadata": {},
   "outputs": [
    {
     "data": {
      "text/html": [
       "<div>\n",
       "<style scoped>\n",
       "    .dataframe tbody tr th:only-of-type {\n",
       "        vertical-align: middle;\n",
       "    }\n",
       "\n",
       "    .dataframe tbody tr th {\n",
       "        vertical-align: top;\n",
       "    }\n",
       "\n",
       "    .dataframe thead th {\n",
       "        text-align: right;\n",
       "    }\n",
       "</style>\n",
       "<table border=\"1\" class=\"dataframe\">\n",
       "  <thead>\n",
       "    <tr style=\"text-align: right;\">\n",
       "      <th></th>\n",
       "      <th>latitude</th>\n",
       "      <th>longitude</th>\n",
       "      <th>altitude</th>\n",
       "      <th>heading</th>\n",
       "      <th>speed</th>\n",
       "      <th>flight_callsign</th>\n",
       "      <th>aircraft_model</th>\n",
       "      <th>airline</th>\n",
       "    </tr>\n",
       "  </thead>\n",
       "  <tbody>\n",
       "    <tr>\n",
       "      <th>0</th>\n",
       "      <td>25.090073</td>\n",
       "      <td>121.237190</td>\n",
       "      <td>950</td>\n",
       "      <td>46</td>\n",
       "      <td>143</td>\n",
       "      <td>CAL</td>\n",
       "      <td>Boeing 747</td>\n",
       "      <td>China Airlines Cargo</td>\n",
       "    </tr>\n",
       "    <tr>\n",
       "      <th>1</th>\n",
       "      <td>25.093964</td>\n",
       "      <td>121.242012</td>\n",
       "      <td>1375</td>\n",
       "      <td>48</td>\n",
       "      <td>145</td>\n",
       "      <td>CAL</td>\n",
       "      <td>Boeing 747</td>\n",
       "      <td>China Airlines Cargo</td>\n",
       "    </tr>\n",
       "    <tr>\n",
       "      <th>2</th>\n",
       "      <td>25.101013</td>\n",
       "      <td>121.251183</td>\n",
       "      <td>2100</td>\n",
       "      <td>50</td>\n",
       "      <td>153</td>\n",
       "      <td>CAL</td>\n",
       "      <td>Boeing 747</td>\n",
       "      <td>China Airlines Cargo</td>\n",
       "    </tr>\n",
       "    <tr>\n",
       "      <th>3</th>\n",
       "      <td>25.103577</td>\n",
       "      <td>121.254631</td>\n",
       "      <td>2300</td>\n",
       "      <td>50</td>\n",
       "      <td>159</td>\n",
       "      <td>CAL</td>\n",
       "      <td>Boeing 747</td>\n",
       "      <td>China Airlines Cargo</td>\n",
       "    </tr>\n",
       "    <tr>\n",
       "      <th>4</th>\n",
       "      <td>25.107010</td>\n",
       "      <td>121.259155</td>\n",
       "      <td>2525</td>\n",
       "      <td>50</td>\n",
       "      <td>171</td>\n",
       "      <td>CAL</td>\n",
       "      <td>Boeing 747</td>\n",
       "      <td>China Airlines Cargo</td>\n",
       "    </tr>\n",
       "  </tbody>\n",
       "</table>\n",
       "</div>"
      ],
      "text/plain": [
       "    latitude   longitude  altitude  heading  speed flight_callsign  \\\n",
       "0  25.090073  121.237190       950       46    143             CAL   \n",
       "1  25.093964  121.242012      1375       48    145             CAL   \n",
       "2  25.101013  121.251183      2100       50    153             CAL   \n",
       "3  25.103577  121.254631      2300       50    159             CAL   \n",
       "4  25.107010  121.259155      2525       50    171             CAL   \n",
       "\n",
       "  aircraft_model               airline  \n",
       "0     Boeing 747  China Airlines Cargo  \n",
       "1     Boeing 747  China Airlines Cargo  \n",
       "2     Boeing 747  China Airlines Cargo  \n",
       "3     Boeing 747  China Airlines Cargo  \n",
       "4     Boeing 747  China Airlines Cargo  "
      ]
     },
     "execution_count": 8,
     "metadata": {},
     "output_type": "execute_result"
    }
   ],
   "source": [
    "selected_features = [\n",
    "    'latitude', 'longitude', \n",
    "    'altitude', 'heading', 'speed',\n",
    "    'flight_callsign', \n",
    "#     'aircraft_registration', \n",
    "    'aircraft_model', 'airline']\n",
    "\n",
    "nominal_features = [\n",
    "    'flight_callsign', \n",
    "    'aircraft_model', \n",
    "#     'aircraft_registration',\n",
    "    'airline']\n",
    "\n",
    "df_twn_hkg_flights[selected_features].head()"
   ]
  },
  {
   "cell_type": "code",
   "execution_count": 9,
   "metadata": {},
   "outputs": [
    {
     "data": {
      "text/plain": [
       "<matplotlib.axes._subplots.AxesSubplot at 0x7fbe8f7b0780>"
      ]
     },
     "execution_count": 9,
     "metadata": {},
     "output_type": "execute_result"
    },
    {
     "data": {
      "image/png": "[encoded data removed]",
      "text/plain": [
       "<Figure size 432x288 with 1 Axes>"
      ]
     },
     "metadata": {},
     "output_type": "display_data"
    }
   ],
   "source": [
    "df_twn_hkg_flights.loc[df_twn_hkg_flights['flight_id'] == 'c0aabc0', 'calculated_time_before_arrival'].plot()"
   ]
  },
  {
   "cell_type": "code",
   "execution_count": 10,
   "metadata": {},
   "outputs": [],
   "source": [
    "def r2_adj(y_true, y_preds, p):\n",
    "    n = len(y_true)\n",
    "    y_mean = np.mean(y_true)\n",
    "    numerator = np.sum(np.square(y_true - y_preds)) / (n - p - 1)\n",
    "    denominator = np.sum(np.square(y_true - y_mean)) / (n - 1)\n",
    "    return (1 - (numerator / denominator))\n",
    "\n",
    "def get_regression_metrics(y_true, y_pred, p):\n",
    "    mse = metrics.mean_squared_error(y_true, y_pred)\n",
    "    rmse = np.sqrt(mse)\n",
    "#     msle = metrics.mean_squared_log_error(y_true, y_pred)\n",
    "    mae = metrics.median_absolute_error(y_true, y_pred)\n",
    "    r2 = metrics.r2_score(y_true, y_pred)\n",
    "    r2a = r2_adj(y_true, y_pred, p)\n",
    "    \n",
    "    print('Mean squared error      = ', mse)\n",
    "    print('Root mean squared error = ', rmse)\n",
    "#     print('Mean squared log error  = ', msle)\n",
    "    print('Median absolute error   = ', mae)\n",
    "    print('R^2                     = ', r2)\n",
    "    print('Adjusted R^2            = ', r2a)\n",
    "    \n",
    "    return {\n",
    "        'mse': mse,\n",
    "        'rmse': rmse,\n",
    "#         'msle': msle,\n",
    "        'mae': mae,\n",
    "        'r2': r2,\n",
    "        'r2_adjusted': r2a\n",
    "    }"
   ]
  },
  {
   "cell_type": "code",
   "execution_count": 14,
   "metadata": {},
   "outputs": [],
   "source": [
    "# Train data\n",
    "\n",
    "mask = df_twn_hkg_flights['time_since_real_departure'] <= (140*60)\n",
    "df_for_modeling = df_twn_hkg_flights[mask].copy()\n",
    "X = df_for_modeling[selected_features].copy()\n",
    "y = df_for_modeling['calculated_time_before_arrival'].copy()"
   ]
  },
  {
   "cell_type": "code",
   "execution_count": 15,
   "metadata": {},
   "outputs": [],
   "source": [
    "X = pd.get_dummies(X, columns=nominal_features, drop_first=True)"
   ]
  },
  {
   "cell_type": "code",
   "execution_count": 16,
   "metadata": {},
   "outputs": [],
   "source": [
    "X_train, X_test, y_train, y_test = train_test_split(X, y, test_size=0.2, random_state=0, shuffle=True)"
   ]
  },
  {
   "cell_type": "code",
   "execution_count": null,
   "metadata": {},
   "outputs": [],
   "source": []
  },
  {
   "cell_type": "code",
   "execution_count": 17,
   "metadata": {},
   "outputs": [
    {
     "data": {
      "text/plain": [
       "LinearRegression(copy_X=True, fit_intercept=True, n_jobs=None, normalize=False)"
      ]
     },
     "execution_count": 17,
     "metadata": {},
     "output_type": "execute_result"
    }
   ],
   "source": [
    "linreg = LinearRegression()\n",
    "linreg.fit(X_train, y_train)"
   ]
  },
  {
   "cell_type": "code",
   "execution_count": 18,
   "metadata": {},
   "outputs": [],
   "source": [
    "# X_train.columns"
   ]
  },
  {
   "cell_type": "code",
   "execution_count": 19,
   "metadata": {},
   "outputs": [],
   "source": [
    "# plt.figure(figsize=(12,10))\n",
    "# plt.barh(X_train.columns, linreg.coef_)"
   ]
  },
  {
   "cell_type": "code",
   "execution_count": 20,
   "metadata": {},
   "outputs": [
    {
     "name": "stdout",
     "output_type": "stream",
     "text": [
      "Mean squared error      =  128125.13405896576\n",
      "Root mean squared error =  357.94571384354606\n",
      "Median absolute error   =  193.8331378946823\n",
      "R^2                     =  0.9651901714912174\n",
      "Adjusted R^2            =  0.9651802889583008\n"
     ]
    }
   ],
   "source": [
    "y_train_pred = linreg.predict(X_train)\n",
    "\n",
    "train_regression_metrics = get_regression_metrics(y_train, y_train_pred, X_train.shape[1])"
   ]
  },
  {
   "cell_type": "code",
   "execution_count": 21,
   "metadata": {},
   "outputs": [
    {
     "name": "stdout",
     "output_type": "stream",
     "text": [
      "Mean squared error      =  125011.60888452799\n",
      "Root mean squared error =  353.5698076540586\n",
      "Median absolute error   =  190.98251915653236\n",
      "R^2                     =  0.9657224564573903\n",
      "Adjusted R^2            =  0.9656834978924267\n"
     ]
    }
   ],
   "source": [
    "y_test_pred = linreg.predict(X_test)\n",
    "\n",
    "test_regression_metrics = get_regression_metrics(y_test, y_test_pred, X_test.shape[1])\n",
    "\n",
    "df_test_true_pred = pd.DataFrame(columns=['true', 'pred'])\n",
    "df_test_true_pred = df_test_true_pred.assign(true=y_test)\n",
    "df_test_true_pred = df_test_true_pred.assign(pred=y_test_pred)\n",
    "df_test_true_pred['diff'] = df_test_true_pred['true'] - df_test_true_pred['pred']"
   ]
  },
  {
   "cell_type": "code",
   "execution_count": 22,
   "metadata": {},
   "outputs": [
    {
     "data": {
      "text/plain": [
       "(34354, 3)"
      ]
     },
     "execution_count": 22,
     "metadata": {},
     "output_type": "execute_result"
    }
   ],
   "source": [
    "df_test_true_pred.shape"
   ]
  },
  {
   "cell_type": "code",
   "execution_count": 23,
   "metadata": {},
   "outputs": [
    {
     "data": {
      "text/plain": [
       "(17768, 3)"
      ]
     },
     "execution_count": 23,
     "metadata": {},
     "output_type": "execute_result"
    }
   ],
   "source": [
    "df_test_true_pred[df_test_true_pred['diff'] < 0].shape # if true < pred => late"
   ]
  },
  {
   "cell_type": "code",
   "execution_count": 24,
   "metadata": {},
   "outputs": [
    {
     "data": {
      "text/plain": [
       "(2, 3)"
      ]
     },
     "execution_count": 24,
     "metadata": {},
     "output_type": "execute_result"
    }
   ],
   "source": [
    "df_test_true_pred[df_test_true_pred.pred < 0].shape"
   ]
  },
  {
   "cell_type": "code",
   "execution_count": 25,
   "metadata": {},
   "outputs": [
    {
     "data": {
      "text/plain": [
       "<matplotlib.axes._subplots.AxesSubplot at 0x7fbe8ed876a0>"
      ]
     },
     "execution_count": 25,
     "metadata": {},
     "output_type": "execute_result"
    },
    {
     "data": {
      "image/png": "[encoded data removed]",
      "text/plain": [
       "<Figure size 432x288 with 1 Axes>"
      ]
     },
     "metadata": {},
     "output_type": "display_data"
    }
   ],
   "source": [
    "df_test_true_pred.true.hist()"
   ]
  },
  {
   "cell_type": "code",
   "execution_count": 26,
   "metadata": {},
   "outputs": [],
   "source": [
    "def regression_diagnostic_plots(df_true_pred):\n",
    "    fig, axes = plt.subplots(nrows=2, ncols=2, figsize=(12, 8))\n",
    "    axes = axes.ravel()\n",
    "    \n",
    "    \n",
    "    # Residual Plot: Validating the assumption of linearity\n",
    "    sns.residplot('pred', 'true', data=df_true_pred,lowess=True,\n",
    "                  line_kws={'color': 'red', 'lw': 1, 'alpha': 1}, \n",
    "                  ax=axes[0])\n",
    "    axes[0].set_title('Residual Plot')\n",
    "    axes[0].set_ylabel('Residuals')\n",
    "    axes[0].set_xlabel('Fitted Values')\n",
    "    \n",
    "    residuals = df_true_pred['true'] - df_true_pred['pred']\n",
    "    \n",
    "    # Normal Q-Q Plot: Validating the assumption of normally distributed residuals (errors)\n",
    "    stats.probplot(residuals, dist='norm', plot=axes[1])\n",
    "    axes[1].set_title('Normal Q-Q Plot')\n",
    "    \n",
    "    \n",
    "    # Scale-Location plot: Validating the assumption of homoscedasticity of residuals\n",
    "    model_norm_residuals_abs_sqrt=np.sqrt(np.abs(residuals))\n",
    "\n",
    "    sns.regplot(df_true_pred['pred'], model_norm_residuals_abs_sqrt,\n",
    "                scatter=True,\n",
    "                lowess=True,\n",
    "                line_kws={'color': 'red', 'lw': 1, 'alpha': 0.8}, \n",
    "                ax=axes[2])\n",
    "    axes[2].set_title(\"Scale-Location Plot\")\n",
    "    axes[2].set_ylabel(\"Standarized Residuals\")\n",
    "    axes[2].set_xlabel(\"Fitted Values\")\n",
    "    \n",
    "    axes[3].axis('off')\n",
    "    \n",
    "    fig.tight_layout()"
   ]
  },
  {
   "cell_type": "code",
   "execution_count": 30,
   "metadata": {},
   "outputs": [
    {
     "data": {
      "image/png": "[encoded data removed]",
      "text/plain": [
       "<Figure size 864x576 with 4 Axes>"
      ]
     },
     "metadata": {},
     "output_type": "display_data"
    }
   ],
   "source": [
    "regression_diagnostic_plots(df_test_true_pred[df_test_true_pred['true'] > 0])"
   ]
  },
  {
   "cell_type": "markdown",
   "metadata": {},
   "source": [
    "**Standardization of features**"
   ]
  },
  {
   "cell_type": "code",
   "execution_count": 29,
   "metadata": {},
   "outputs": [],
   "source": [
    "ss = StandardScaler()\n",
    "ss.fit(X_train)\n",
    "X_train_sc = ss.transform(X_train)\n",
    "X_test_sc = ss.transform(X_test)"
   ]
  },
  {
   "cell_type": "code",
   "execution_count": 30,
   "metadata": {
    "scrolled": true
   },
   "outputs": [
    {
     "name": "stdout",
     "output_type": "stream",
     "text": [
      "Mean squared error      =  178155.61515747217\n",
      "Root mean squared error =  422.08484355336924\n",
      "Median absolute error   =  290.31094593752186\n",
      "R^2                     =  0.7668297424677704\n",
      "Adjusted R^2            =  0.7653874522149937\n"
     ]
    }
   ],
   "source": [
    "r_alphas = np.logspace(0, 5, 200)\n",
    "ridge_model = RidgeCV(alphas=r_alphas, store_cv_values=True)\n",
    "ridge_model = ridge_model.fit(X_train_sc, y_train)\n",
    "\n",
    "y_test_pred = ridge_model.predict(X_test_sc)\n",
    "\n",
    "test_regression_metrics = get_regression_metrics(y_test, y_test_pred, X_test.shape[1])\n",
    "df_test_true_pred = pd.DataFrame(columns=['true', 'pred'])\n",
    "df_test_true_pred = df_test_true_pred.assign(true=y_test)\n",
    "df_test_true_pred = df_test_true_pred.assign(pred=y_test_pred)\n",
    "df_test_true_pred['diff'] = df_test_true_pred['true'] - df_test_true_pred['pred']"
   ]
  },
  {
   "cell_type": "code",
   "execution_count": 31,
   "metadata": {},
   "outputs": [],
   "source": [
    "df_test_regression_metrics = pd.DataFrame()\n",
    "df_test_true_pred = pd.DataFrame(columns=['model_name', 'true', 'pred'])"
   ]
  },
  {
   "cell_type": "code",
   "execution_count": 25,
   "metadata": {},
   "outputs": [],
   "source": [
    "def gridsearch_model_evaluation(model_name, model, hyper_param):\n",
    "    clf_pipe = Pipeline([\n",
    "        ('clf', model)\n",
    "    ])\n",
    "#   \n",
    "    print(clf_pipe.get_params().keys())\n",
    "    gs = GridSearchCV(clf_pipe, \n",
    "                      param_grid=hyper_param, \n",
    "#                       cv=cv, \n",
    "                      verbose=10, n_jobs=-1)\n",
    "    gs.fit(X_train_sc, y_train)\n",
    "    \n",
    "    print(model_name)\n",
    "    print('Best Score: {}'.format(gs.best_score_))\n",
    "    print('Best Params: {}'.format(gs.best_params_))\n",
    "    \n",
    "    # Best Model\n",
    "    grid_model = gs.best_estimator_\n",
    "    \n",
    "    print('Model Score on X_train: {}'.format(grid_model.score(X_train_sc, y_train)))\n",
    "    \n",
    "    # Prediction and score\n",
    "    y_test_pred = grid_model.predict(X_test_sc)\n",
    "\n",
    "    test_regression_metrics = get_regression_metrics(y_test, y_test_pred, X_test.shape[1])\n",
    "    test_regression_metrics['model_name'] = model_name\n",
    "    \n",
    "    return test_regression_metrics, y_test_pred"
   ]
  },
  {
   "cell_type": "markdown",
   "metadata": {},
   "source": [
    "## Ridge Regression"
   ]
  },
  {
   "cell_type": "code",
   "execution_count": null,
   "metadata": {},
   "outputs": [],
   "source": [
    "test_regression_metrics, y_test_pred = gridsearch_model_evaluation('Ridge Regression',\n",
    "                                                                    Ridge(),\n",
    "                                                                    {'clf__alpha': np.logspace(0, 5, 200)})\n",
    "\n",
    "df_test_regression_metrics = df_test_regression_metrics.append(test_regression_metrics, ignore_index=True)"
   ]
  },
  {
   "cell_type": "markdown",
   "metadata": {},
   "source": [
    "## Lasso Regression"
   ]
  },
  {
   "cell_type": "code",
   "execution_count": null,
   "metadata": {},
   "outputs": [],
   "source": [
    "test_regression_metrics, y_test_pred = gridsearch_model_evaluation('Lasso Regression',\n",
    "                                                                    Lasso(),\n",
    "                                                                    {'clf__alpha': np.arange(0.001, 0.15, 0.0025)}\n",
    "                                                                   )\n",
    "\n",
    "df_test_regression_metrics = df_test_regression_metrics.append(test_regression_metrics, ignore_index=True)"
   ]
  },
  {
   "cell_type": "markdown",
   "metadata": {},
   "source": [
    "## ElasticNet Regression"
   ]
  },
  {
   "cell_type": "code",
   "execution_count": 27,
   "metadata": {},
   "outputs": [
    {
     "name": "stdout",
     "output_type": "stream",
     "text": [
      "dict_keys(['memory', 'steps', 'verbose', 'clf', 'clf__alpha', 'clf__copy_X', 'clf__fit_intercept', 'clf__l1_ratio', 'clf__max_iter', 'clf__normalize', 'clf__positive', 'clf__precompute', 'clf__random_state', 'clf__selection', 'clf__tol', 'clf__warm_start'])\n",
      "Fitting 5 folds for each of 100 candidates, totalling 500 fits\n"
     ]
    },
    {
     "name": "stderr",
     "output_type": "stream",
     "text": [
      "[Parallel(n_jobs=-1)]: Using backend LokyBackend with 12 concurrent workers.\n",
      "[Parallel(n_jobs=-1)]: Done   1 tasks      | elapsed:    0.4s\n",
      "[Parallel(n_jobs=-1)]: Done   8 tasks      | elapsed:    0.5s\n",
      "[Parallel(n_jobs=-1)]: Done  17 tasks      | elapsed:    1.0s\n",
      "[Parallel(n_jobs=-1)]: Done  26 tasks      | elapsed:    1.3s\n",
      "[Parallel(n_jobs=-1)]: Done  37 tasks      | elapsed:    1.7s\n",
      "[Parallel(n_jobs=-1)]: Done  48 tasks      | elapsed:    2.1s\n",
      "[Parallel(n_jobs=-1)]: Done  61 tasks      | elapsed:    2.6s\n",
      "[Parallel(n_jobs=-1)]: Done  74 tasks      | elapsed:    3.1s\n",
      "[Parallel(n_jobs=-1)]: Done  89 tasks      | elapsed:    3.6s\n",
      "[Parallel(n_jobs=-1)]: Done 104 tasks      | elapsed:    4.1s\n",
      "[Parallel(n_jobs=-1)]: Done 121 tasks      | elapsed:    4.7s\n",
      "[Parallel(n_jobs=-1)]: Done 138 tasks      | elapsed:    5.3s\n",
      "[Parallel(n_jobs=-1)]: Done 157 tasks      | elapsed:    5.9s\n",
      "[Parallel(n_jobs=-1)]: Done 176 tasks      | elapsed:    6.5s\n",
      "[Parallel(n_jobs=-1)]: Done 197 tasks      | elapsed:    7.3s\n",
      "[Parallel(n_jobs=-1)]: Done 218 tasks      | elapsed:    8.0s\n",
      "[Parallel(n_jobs=-1)]: Done 241 tasks      | elapsed:    8.8s\n",
      "[Parallel(n_jobs=-1)]: Done 264 tasks      | elapsed:    9.6s\n",
      "[Parallel(n_jobs=-1)]: Done 289 tasks      | elapsed:   10.4s\n",
      "[Parallel(n_jobs=-1)]: Done 314 tasks      | elapsed:   11.5s\n",
      "[Parallel(n_jobs=-1)]: Done 341 tasks      | elapsed:   12.3s\n",
      "[Parallel(n_jobs=-1)]: Done 368 tasks      | elapsed:   13.1s\n",
      "[Parallel(n_jobs=-1)]: Done 397 tasks      | elapsed:   14.1s\n",
      "[Parallel(n_jobs=-1)]: Done 426 tasks      | elapsed:   15.1s\n",
      "[Parallel(n_jobs=-1)]: Done 457 tasks      | elapsed:   16.2s\n"
     ]
    },
    {
     "name": "stdout",
     "output_type": "stream",
     "text": [
      "ElasticNet Regression\n",
      "Best Score: 0.748698211349665\n",
      "Best Params: {'clf__alpha': 0.5, 'clf__l1_ratio': 0.5}\n",
      "Model Score on X_train: 0.7491252783369184\n",
      "Mean squared error      =  191366.78083000434\n",
      "Root mean squared error =  437.4548900515393\n",
      "Median absolute error   =  306.0676032373449\n",
      "R^2                     =  0.7495389548636724\n",
      "Adjusted R^2            =  0.7479897112855096\n"
     ]
    },
    {
     "name": "stderr",
     "output_type": "stream",
     "text": [
      "[Parallel(n_jobs=-1)]: Done 500 out of 500 | elapsed:   17.5s finished\n"
     ]
    }
   ],
   "source": [
    "test_regression_metrics, y_test_pred = gridsearch_model_evaluation('ElasticNet Regression',\n",
    "                                                                    ElasticNet(),\n",
    "                                                                    {'clf__alpha': np.arange(0.5, 1.0, 0.005),\n",
    "                                                                     'clf__l1_ratio': [0.5]}\n",
    "                                                                   )\n",
    "\n",
    "df_test_regression_metrics = df_test_regression_metrics.append(test_regression_metrics, ignore_index=True)"
   ]
  },
  {
   "cell_type": "markdown",
   "metadata": {},
   "source": [
    "## Random Forest Regression"
   ]
  },
  {
   "cell_type": "code",
   "execution_count": 26,
   "metadata": {},
   "outputs": [
    {
     "name": "stdout",
     "output_type": "stream",
     "text": [
      "dict_keys(['memory', 'steps', 'verbose', 'clf', 'clf__bootstrap', 'clf__ccp_alpha', 'clf__criterion', 'clf__max_depth', 'clf__max_features', 'clf__max_leaf_nodes', 'clf__max_samples', 'clf__min_impurity_decrease', 'clf__min_impurity_split', 'clf__min_samples_leaf', 'clf__min_samples_split', 'clf__min_weight_fraction_leaf', 'clf__n_estimators', 'clf__n_jobs', 'clf__oob_score', 'clf__random_state', 'clf__verbose', 'clf__warm_start'])\n",
      "Fitting 5 folds for each of 24 candidates, totalling 120 fits\n"
     ]
    },
    {
     "name": "stderr",
     "output_type": "stream",
     "text": [
      "[Parallel(n_jobs=-1)]: Using backend LokyBackend with 12 concurrent workers.\n",
      "[Parallel(n_jobs=-1)]: Done   1 tasks      | elapsed:    2.2s\n",
      "[Parallel(n_jobs=-1)]: Done   8 tasks      | elapsed:    3.8s\n",
      "[Parallel(n_jobs=-1)]: Done  17 tasks      | elapsed:    8.2s\n",
      "[Parallel(n_jobs=-1)]: Done  26 tasks      | elapsed:   12.4s\n",
      "[Parallel(n_jobs=-1)]: Done  37 tasks      | elapsed:   16.2s\n",
      "[Parallel(n_jobs=-1)]: Done  48 tasks      | elapsed:   22.8s\n",
      "[Parallel(n_jobs=-1)]: Done  61 tasks      | elapsed:   29.5s\n",
      "[Parallel(n_jobs=-1)]: Done  74 tasks      | elapsed:   35.6s\n",
      "[Parallel(n_jobs=-1)]: Done  89 tasks      | elapsed:   44.6s\n",
      "[Parallel(n_jobs=-1)]: Done 110 out of 120 | elapsed:   57.6s remaining:    5.2s\n",
      "[Parallel(n_jobs=-1)]: Done 120 out of 120 | elapsed:  1.1min finished\n"
     ]
    },
    {
     "name": "stdout",
     "output_type": "stream",
     "text": [
      "Random Forest Regression\n",
      "Best Score: 0.7463381276272063\n",
      "Best Params: {'clf__max_depth': 6, 'clf__n_estimators': 60}\n",
      "Model Score on X_train: 0.7519384257143227\n",
      "Mean squared error      =  192476.0774742128\n",
      "Root mean squared error =  438.72095627427325\n",
      "Median absolute error   =  321.82503862933936\n",
      "R^2                     =  0.7480871062425605\n",
      "Adjusted R^2            =  0.7465288821574629\n"
     ]
    }
   ],
   "source": [
    "# https://gdcoder.com/decision-tree-regressor-explained-in-depth/\n",
    "# https://medium.com/datadriveninvestor/random-forest-regression-9871bc9a25eb\n",
    "test_regression_metrics, y_test_pred = gridsearch_model_evaluation('Random Forest Regression',\n",
    "                                                                    RandomForestRegressor(),\n",
    "                                                                    {'clf__max_depth': range(3,7),\n",
    "                                                                     'clf__n_estimators': np.arange(10, 70, 10)}\n",
    "                                                                   )\n",
    "\n",
    "df_test_regression_metrics = df_test_regression_metrics.append(test_regression_metrics, ignore_index=True)"
   ]
  },
  {
   "cell_type": "markdown",
   "metadata": {},
   "source": [
    "## Support Vector Regression"
   ]
  },
  {
   "cell_type": "code",
   "execution_count": null,
   "metadata": {},
   "outputs": [],
   "source": [
    "# https://medium.com/pursuitnotes/support-vector-regression-in-6-steps-with-python-c4569acd062d\n",
    "# https://stackoverflow.com/questions/40568808/coefficient-in-support-vector-regression-svr-using-grid-search-gridsearchcv\n",
    "\n",
    "test_regression_metrics, y_test_pred = gridsearch_model_evaluation('Support Vector Regression',\n",
    "                                                                    SVR(),\n",
    "                                                                    {'clf__kernel': ['linear', 'rbf', 'poly', 'sigmoid'],\n",
    "                                                                     'clf__C': np.logspace(-3, 2, 2),\n",
    "                                                                     'clf__gamma': np.logspace(-5, 2, 2)}\n",
    "                                                                   )\n",
    "\n",
    "df_test_regression_metrics = df_test_regression_metrics.append(test_regression_metrics, ignore_index=True)"
   ]
  },
  {
   "cell_type": "markdown",
   "metadata": {},
   "source": [
    "## AdaBoost Regression"
   ]
  },
  {
   "cell_type": "code",
   "execution_count": 41,
   "metadata": {},
   "outputs": [
    {
     "name": "stdout",
     "output_type": "stream",
     "text": [
      "dict_keys(['memory', 'steps', 'verbose', 'clf', 'clf__base_estimator__ccp_alpha', 'clf__base_estimator__criterion', 'clf__base_estimator__max_depth', 'clf__base_estimator__max_features', 'clf__base_estimator__max_leaf_nodes', 'clf__base_estimator__min_impurity_decrease', 'clf__base_estimator__min_impurity_split', 'clf__base_estimator__min_samples_leaf', 'clf__base_estimator__min_samples_split', 'clf__base_estimator__min_weight_fraction_leaf', 'clf__base_estimator__presort', 'clf__base_estimator__random_state', 'clf__base_estimator__splitter', 'clf__base_estimator', 'clf__learning_rate', 'clf__loss', 'clf__n_estimators', 'clf__random_state'])\n",
      "Fitting 5 folds for each of 28 candidates, totalling 140 fits\n"
     ]
    },
    {
     "name": "stderr",
     "output_type": "stream",
     "text": [
      "[Parallel(n_jobs=-1)]: Using backend LokyBackend with 12 concurrent workers.\n",
      "[Parallel(n_jobs=-1)]: Done   1 tasks      | elapsed:    4.6s\n",
      "[Parallel(n_jobs=-1)]: Done   8 tasks      | elapsed:    8.5s\n",
      "[Parallel(n_jobs=-1)]: Done  17 tasks      | elapsed:   12.7s\n",
      "[Parallel(n_jobs=-1)]: Done  26 tasks      | elapsed:   16.9s\n",
      "[Parallel(n_jobs=-1)]: Done  37 tasks      | elapsed:   21.9s\n",
      "[Parallel(n_jobs=-1)]: Done  48 tasks      | elapsed:   29.0s\n",
      "[Parallel(n_jobs=-1)]: Done  61 tasks      | elapsed:   33.9s\n",
      "[Parallel(n_jobs=-1)]: Done  74 tasks      | elapsed:   41.1s\n",
      "[Parallel(n_jobs=-1)]: Done  89 tasks      | elapsed:   53.9s\n",
      "[Parallel(n_jobs=-1)]: Done 104 tasks      | elapsed:  1.1min\n",
      "[Parallel(n_jobs=-1)]: Done 132 out of 140 | elapsed:  1.4min remaining:    5.1s\n",
      "[Parallel(n_jobs=-1)]: Done 140 out of 140 | elapsed:  1.5min finished\n"
     ]
    },
    {
     "name": "stdout",
     "output_type": "stream",
     "text": [
      "AdaBoost Regression\n",
      "Best Score: 0.6911303008061205\n",
      "Best Params: {'clf__base_estimator__max_depth': 2, 'clf__learning_rate': 0.4, 'clf__n_estimators': 25}\n",
      "Model Score on X_train: 0.694464151204999\n",
      "Mean squared error      =  233358.35144418868\n",
      "Root mean squared error =  483.0717870505259\n",
      "Median absolute error   =  387.2135305452839\n",
      "R^2                     =  0.6945803428343085\n",
      "Adjusted R^2            =  0.6926911490786445\n"
     ]
    }
   ],
   "source": [
    "# https://www.programcreek.com/python/example/86712/sklearn.ensemble.AdaBoostRegressor\n",
    "ada = AdaBoostRegressor(base_estimator=DecisionTreeRegressor()) \n",
    "test_regression_metrics, y_test_pred = gridsearch_model_evaluation('AdaBoost Regression',\n",
    "                                                                    ada,\n",
    "                                                                    {'clf__n_estimators': [25, 50],\n",
    "                                                                     'clf__base_estimator__max_depth': [1,2],\n",
    "                                                                     'clf__learning_rate': np.arange(0.4, 1.1, 0.1)\n",
    "                                                                    }\n",
    "                                                                   )\n",
    "\n",
    "df_test_regression_metrics = df_test_regression_metrics.append(test_regression_metrics, ignore_index=True)"
   ]
  },
  {
   "cell_type": "markdown",
   "metadata": {},
   "source": [
    "## XGBoost"
   ]
  },
  {
   "cell_type": "code",
   "execution_count": null,
   "metadata": {},
   "outputs": [],
   "source": [
    "# https://www.datacamp.com/community/tutorials/xgboost-in-python\n",
    "# https://www.kaggle.com/phunter/xgboost-with-gridsearchcv\n",
    "# https://www.analyticsvidhya.com/blog/2016/03/complete-guide-parameter-tuning-xgboost-with-codes-python/"
   ]
  },
  {
   "cell_type": "code",
   "execution_count": null,
   "metadata": {},
   "outputs": [],
   "source": [
    "model_names = [\n",
    "#                'Linear Regression',\n",
    "               'Ridge Regression',\n",
    "               'Lasso Regression'\n",
    "]\n",
    "\n",
    "models = [\n",
    "#          LinearRegression(),\n",
    "         Ridge(),\n",
    "         Lasso()\n",
    "         \n",
    "        ]\n",
    "\n",
    "hyper_params = [\n",
    "#                 {},\n",
    "                {\n",
    "                    'clf__alpha': np.logspace(0, 5, 10)\n",
    "                },\n",
    "                {\n",
    "#                     'clf__alpha': np.arange(0.001, 0.15, 0.0025)\n",
    "                    'clf__alpha': np.arange(0.001, 0.005, 0.0025)\n",
    "                }\n",
    "]"
   ]
  },
  {
   "cell_type": "code",
   "execution_count": null,
   "metadata": {},
   "outputs": [],
   "source": [
    "# df_test_regression_metrics = pd.DataFrame()\n",
    "\n",
    "for model_name, model, hyper_param in zip(model_names, models, hyper_params):\n",
    "    "
   ]
  },
  {
   "cell_type": "code",
   "execution_count": null,
   "metadata": {},
   "outputs": [],
   "source": []
  }
 ],
 "metadata": {
  "kernelspec": {
   "display_name": "Python 3",
   "language": "python",
   "name": "python3"
  },
  "language_info": {
   "codemirror_mode": {
    "name": "ipython",
    "version": 3
   },
   "file_extension": ".py",
   "mimetype": "text/x-python",
   "name": "python",
   "nbconvert_exporter": "python",
   "pygments_lexer": "ipython3",
   "version": "3.6.9"
  }
 },
 "nbformat": 4,
 "nbformat_minor": 4
}
