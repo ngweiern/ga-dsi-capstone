{
 "cells": [
  {
   "cell_type": "markdown",
   "metadata": {},
   "source": [
    "## Import libraries"
   ]
  },
  {
   "cell_type": "code",
   "execution_count": 6,
   "metadata": {},
   "outputs": [],
   "source": [
    "import pandas as pd\n",
    "import matplotlib.pyplot as plt\n",
    "import seaborn as sns\n",
    "from datetime import datetime\n",
    "\n",
    "%matplotlib inline"
   ]
  },
  {
   "cell_type": "markdown",
   "metadata": {},
   "source": [
    "## Read data"
   ]
  },
  {
   "cell_type": "code",
   "execution_count": 7,
   "metadata": {},
   "outputs": [],
   "source": [
    "filename = '../AirTracks/all_csv/Jan2017/trails.csv'\n",
    "# chunksize = 10 ** 6\n",
    "# for chunk in pd.read_csv(filename, chunksize=chunksize):\n",
    "#     print(chunk)"
   ]
  },
  {
   "cell_type": "code",
   "execution_count": 8,
   "metadata": {},
   "outputs": [
    {
     "data": {
      "text/html": [
       "<div>\n",
       "<style scoped>\n",
       "    .dataframe tbody tr th:only-of-type {\n",
       "        vertical-align: middle;\n",
       "    }\n",
       "\n",
       "    .dataframe tbody tr th {\n",
       "        vertical-align: top;\n",
       "    }\n",
       "\n",
       "    .dataframe thead th {\n",
       "        text-align: right;\n",
       "    }\n",
       "</style>\n",
       "<table border=\"1\" class=\"dataframe\">\n",
       "  <thead>\n",
       "    <tr style=\"text-align: right;\">\n",
       "      <th></th>\n",
       "      <th>FlightId</th>\n",
       "      <th>Timestamp</th>\n",
       "      <th>Latitude</th>\n",
       "      <th>Longitude</th>\n",
       "      <th>Altitude</th>\n",
       "      <th>Heading</th>\n",
       "      <th>Speed</th>\n",
       "    </tr>\n",
       "  </thead>\n",
       "  <tbody>\n",
       "    <tr>\n",
       "      <th>0</th>\n",
       "      <td>c244ac4</td>\n",
       "      <td>1484158880</td>\n",
       "      <td>59.416901</td>\n",
       "      <td>24.801247</td>\n",
       "      <td>0</td>\n",
       "      <td>0</td>\n",
       "      <td>0</td>\n",
       "    </tr>\n",
       "    <tr>\n",
       "      <th>1</th>\n",
       "      <td>c244ac4</td>\n",
       "      <td>1484158946</td>\n",
       "      <td>59.416901</td>\n",
       "      <td>24.801178</td>\n",
       "      <td>0</td>\n",
       "      <td>0</td>\n",
       "      <td>0</td>\n",
       "    </tr>\n",
       "    <tr>\n",
       "      <th>2</th>\n",
       "      <td>c244ac4</td>\n",
       "      <td>1484159014</td>\n",
       "      <td>59.417221</td>\n",
       "      <td>24.801292</td>\n",
       "      <td>0</td>\n",
       "      <td>357</td>\n",
       "      <td>14</td>\n",
       "    </tr>\n",
       "    <tr>\n",
       "      <th>3</th>\n",
       "      <td>c244ac4</td>\n",
       "      <td>1484159029</td>\n",
       "      <td>59.417450</td>\n",
       "      <td>24.801281</td>\n",
       "      <td>0</td>\n",
       "      <td>352</td>\n",
       "      <td>11</td>\n",
       "    </tr>\n",
       "    <tr>\n",
       "      <th>4</th>\n",
       "      <td>c244ac4</td>\n",
       "      <td>1484159047</td>\n",
       "      <td>59.417496</td>\n",
       "      <td>24.801683</td>\n",
       "      <td>0</td>\n",
       "      <td>86</td>\n",
       "      <td>15</td>\n",
       "    </tr>\n",
       "  </tbody>\n",
       "</table>\n",
       "</div>"
      ],
      "text/plain": [
       "  FlightId   Timestamp   Latitude  Longitude  Altitude  Heading  Speed\n",
       "0  c244ac4  1484158880  59.416901  24.801247         0        0      0\n",
       "1  c244ac4  1484158946  59.416901  24.801178         0        0      0\n",
       "2  c244ac4  1484159014  59.417221  24.801292         0      357     14\n",
       "3  c244ac4  1484159029  59.417450  24.801281         0      352     11\n",
       "4  c244ac4  1484159047  59.417496  24.801683         0       86     15"
      ]
     },
     "execution_count": 8,
     "metadata": {},
     "output_type": "execute_result"
    }
   ],
   "source": [
    "df = pd.read_csv(filename, \n",
    "                 nrows=1_000_000)\n",
    "df.head()"
   ]
  },
  {
   "cell_type": "code",
   "execution_count": 9,
   "metadata": {},
   "outputs": [],
   "source": [
    "# Rename columns\n",
    "df.columns = df.columns.map(lambda x: x.lower())\n",
    "df.rename(columns={'flightid': 'flight_id', 'timestamp': 'time_stamp'}, inplace=True)"
   ]
  },
  {
   "cell_type": "code",
   "execution_count": 10,
   "metadata": {},
   "outputs": [
    {
     "data": {
      "text/plain": [
       "(1000000, 7)"
      ]
     },
     "execution_count": 10,
     "metadata": {},
     "output_type": "execute_result"
    }
   ],
   "source": [
    "df.shape"
   ]
  },
  {
   "cell_type": "code",
   "execution_count": 11,
   "metadata": {},
   "outputs": [
    {
     "name": "stdout",
     "output_type": "stream",
     "text": [
      "<class 'pandas.core.frame.DataFrame'>\n",
      "RangeIndex: 1000000 entries, 0 to 999999\n",
      "Data columns (total 7 columns):\n",
      " #   Column      Non-Null Count    Dtype  \n",
      "---  ------      --------------    -----  \n",
      " 0   flight_id   1000000 non-null  object \n",
      " 1   time_stamp  1000000 non-null  int64  \n",
      " 2   latitude    1000000 non-null  float64\n",
      " 3   longitude   1000000 non-null  float64\n",
      " 4   altitude    1000000 non-null  int64  \n",
      " 5   heading     1000000 non-null  int64  \n",
      " 6   speed       1000000 non-null  int64  \n",
      "dtypes: float64(2), int64(4), object(1)\n",
      "memory usage: 53.4+ MB\n"
     ]
    }
   ],
   "source": [
    "df.info()"
   ]
  },
  {
   "cell_type": "markdown",
   "metadata": {},
   "source": [
    "## Duplicates"
   ]
  },
  {
   "cell_type": "code",
   "execution_count": 12,
   "metadata": {},
   "outputs": [
    {
     "data": {
      "text/html": [
       "<div>\n",
       "<style scoped>\n",
       "    .dataframe tbody tr th:only-of-type {\n",
       "        vertical-align: middle;\n",
       "    }\n",
       "\n",
       "    .dataframe tbody tr th {\n",
       "        vertical-align: top;\n",
       "    }\n",
       "\n",
       "    .dataframe thead th {\n",
       "        text-align: right;\n",
       "    }\n",
       "</style>\n",
       "<table border=\"1\" class=\"dataframe\">\n",
       "  <thead>\n",
       "    <tr style=\"text-align: right;\">\n",
       "      <th></th>\n",
       "      <th>flight_id</th>\n",
       "      <th>time_stamp</th>\n",
       "      <th>latitude</th>\n",
       "      <th>longitude</th>\n",
       "      <th>altitude</th>\n",
       "      <th>heading</th>\n",
       "      <th>speed</th>\n",
       "    </tr>\n",
       "  </thead>\n",
       "  <tbody>\n",
       "  </tbody>\n",
       "</table>\n",
       "</div>"
      ],
      "text/plain": [
       "Empty DataFrame\n",
       "Columns: [flight_id, time_stamp, latitude, longitude, altitude, heading, speed]\n",
       "Index: []"
      ]
     },
     "execution_count": 12,
     "metadata": {},
     "output_type": "execute_result"
    }
   ],
   "source": [
    "df[df.duplicated()]"
   ]
  },
  {
   "cell_type": "markdown",
   "metadata": {},
   "source": [
    "No duplicates observed."
   ]
  },
  {
   "cell_type": "markdown",
   "metadata": {},
   "source": [
    "## Check for null values"
   ]
  },
  {
   "cell_type": "code",
   "execution_count": 13,
   "metadata": {},
   "outputs": [
    {
     "data": {
      "text/plain": [
       "flight_id     0\n",
       "time_stamp    0\n",
       "latitude      0\n",
       "longitude     0\n",
       "altitude      0\n",
       "heading       0\n",
       "speed         0\n",
       "dtype: int64"
      ]
     },
     "execution_count": 13,
     "metadata": {},
     "output_type": "execute_result"
    }
   ],
   "source": [
    "df.isnull().sum()"
   ]
  },
  {
   "cell_type": "markdown",
   "metadata": {},
   "source": [
    "**flight_id**"
   ]
  },
  {
   "cell_type": "code",
   "execution_count": 14,
   "metadata": {},
   "outputs": [
    {
     "data": {
      "text/plain": [
       "c0edde0    1915\n",
       "c1271ac    1848\n",
       "c45cb8f    1816\n",
       "c2252cc    1790\n",
       "c477816    1377\n",
       "           ... \n",
       "c3cf586       3\n",
       "c4e0161       2\n",
       "c1c26d2       2\n",
       "c24ed8e       1\n",
       "c18e97a       1\n",
       "Name: flight_id, Length: 4845, dtype: int64"
      ]
     },
     "execution_count": 14,
     "metadata": {},
     "output_type": "execute_result"
    }
   ],
   "source": [
    "df['flight_id'].value_counts()"
   ]
  },
  {
   "cell_type": "markdown",
   "metadata": {},
   "source": [
    "**time_stamp**"
   ]
  },
  {
   "cell_type": "code",
   "execution_count": 15,
   "metadata": {},
   "outputs": [],
   "source": [
    "def get_utc_datetime(value):\n",
    "    try:\n",
    "        return datetime.fromtimestamp(value)\n",
    "    except:\n",
    "        return pd.NaT\n",
    "    \n",
    "df['time_stamp_utc'] = df['time_stamp'].map(get_utc_datetime)"
   ]
  },
  {
   "cell_type": "code",
   "execution_count": 16,
   "metadata": {},
   "outputs": [
    {
     "data": {
      "text/plain": [
       "Timestamp('2016-12-31 19:16:37')"
      ]
     },
     "execution_count": 16,
     "metadata": {},
     "output_type": "execute_result"
    }
   ],
   "source": [
    "df['time_stamp_utc'].min()"
   ]
  },
  {
   "cell_type": "code",
   "execution_count": 17,
   "metadata": {},
   "outputs": [
    {
     "data": {
      "text/plain": [
       "Timestamp('2017-01-31 23:40:38')"
      ]
     },
     "execution_count": 17,
     "metadata": {},
     "output_type": "execute_result"
    }
   ],
   "source": [
    "df['time_stamp_utc'].max()"
   ]
  },
  {
   "cell_type": "markdown",
   "metadata": {},
   "source": [
    "**latitude**"
   ]
  },
  {
   "cell_type": "code",
   "execution_count": 18,
   "metadata": {},
   "outputs": [
    {
     "data": {
      "text/plain": [
       "-46.023468"
      ]
     },
     "execution_count": 18,
     "metadata": {},
     "output_type": "execute_result"
    }
   ],
   "source": [
    "df['latitude'].min()"
   ]
  },
  {
   "cell_type": "code",
   "execution_count": 19,
   "metadata": {},
   "outputs": [
    {
     "data": {
      "text/plain": [
       "88.86666899999999"
      ]
     },
     "execution_count": 19,
     "metadata": {},
     "output_type": "execute_result"
    }
   ],
   "source": [
    "df['latitude'].max()"
   ]
  },
  {
   "cell_type": "markdown",
   "metadata": {},
   "source": [
    "**longitude**"
   ]
  },
  {
   "cell_type": "code",
   "execution_count": 20,
   "metadata": {},
   "outputs": [
    {
     "data": {
      "text/plain": [
       "-179.999802"
      ]
     },
     "execution_count": 20,
     "metadata": {},
     "output_type": "execute_result"
    }
   ],
   "source": [
    "df['longitude'].min()"
   ]
  },
  {
   "cell_type": "code",
   "execution_count": 21,
   "metadata": {},
   "outputs": [
    {
     "data": {
      "text/plain": [
       "180.0"
      ]
     },
     "execution_count": 21,
     "metadata": {},
     "output_type": "execute_result"
    }
   ],
   "source": [
    "df['longitude'].max()"
   ]
  },
  {
   "cell_type": "markdown",
   "metadata": {},
   "source": [
    "**altitude**"
   ]
  },
  {
   "cell_type": "code",
   "execution_count": 22,
   "metadata": {},
   "outputs": [
    {
     "data": {
      "text/plain": [
       "0"
      ]
     },
     "execution_count": 22,
     "metadata": {},
     "output_type": "execute_result"
    }
   ],
   "source": [
    "df['altitude'].min()"
   ]
  },
  {
   "cell_type": "code",
   "execution_count": 23,
   "metadata": {},
   "outputs": [
    {
     "data": {
      "text/plain": [
       "45000"
      ]
     },
     "execution_count": 23,
     "metadata": {},
     "output_type": "execute_result"
    }
   ],
   "source": [
    "df['altitude'].max()"
   ]
  },
  {
   "cell_type": "code",
   "execution_count": 24,
   "metadata": {},
   "outputs": [
    {
     "data": {
      "text/plain": [
       "Text(0.5, 1.0, 'Histogram of Altitude')"
      ]
     },
     "execution_count": 24,
     "metadata": {},
     "output_type": "execute_result"
    },
    {
     "data": {
      "image/png": "[encoded data removed]",
      "text/plain": [
       "<Figure size 576x360 with 1 Axes>"
      ]
     },
     "metadata": {
      "needs_background": "light"
     },
     "output_type": "display_data"
    }
   ],
   "source": [
    "plt.figure(figsize=(8, 5))\n",
    "plt.hist(df['altitude'])\n",
    "plt.xlabel('Altitude')\n",
    "plt.ylabel('Count')\n",
    "plt.title('Histogram of Altitude')"
   ]
  },
  {
   "cell_type": "markdown",
   "metadata": {},
   "source": [
    "Observation: Aircrafts seem to be on the ground for a large proportion of time"
   ]
  },
  {
   "cell_type": "markdown",
   "metadata": {},
   "source": [
    "**heading**"
   ]
  },
  {
   "cell_type": "code",
   "execution_count": 25,
   "metadata": {},
   "outputs": [
    {
     "data": {
      "text/plain": [
       "0"
      ]
     },
     "execution_count": 25,
     "metadata": {},
     "output_type": "execute_result"
    }
   ],
   "source": [
    "df['heading'].min()"
   ]
  },
  {
   "cell_type": "code",
   "execution_count": 26,
   "metadata": {},
   "outputs": [
    {
     "data": {
      "text/plain": [
       "360"
      ]
     },
     "execution_count": 26,
     "metadata": {},
     "output_type": "execute_result"
    }
   ],
   "source": [
    "df['heading'].max()"
   ]
  },
  {
   "cell_type": "code",
   "execution_count": 27,
   "metadata": {},
   "outputs": [
    {
     "data": {
      "text/plain": [
       "Text(0.5, 1.0, 'Histogram of Heading')"
      ]
     },
     "execution_count": 27,
     "metadata": {},
     "output_type": "execute_result"
    },
    {
     "data": {
      "image/png": "[encoded data removed]",
      "text/plain": [
       "<Figure size 576x360 with 1 Axes>"
      ]
     },
     "metadata": {
      "needs_background": "light"
     },
     "output_type": "display_data"
    }
   ],
   "source": [
    "plt.figure(figsize=(8, 5))\n",
    "plt.hist(df['heading'])\n",
    "plt.xlabel('Heading')\n",
    "plt.ylabel('Count')\n",
    "plt.title('Histogram of Heading')"
   ]
  },
  {
   "cell_type": "markdown",
   "metadata": {},
   "source": [
    "Observation: heading seems to be uniformly distributed."
   ]
  },
  {
   "cell_type": "markdown",
   "metadata": {},
   "source": [
    "**speed**"
   ]
  },
  {
   "cell_type": "code",
   "execution_count": 28,
   "metadata": {},
   "outputs": [
    {
     "data": {
      "text/plain": [
       "0"
      ]
     },
     "execution_count": 28,
     "metadata": {},
     "output_type": "execute_result"
    }
   ],
   "source": [
    "df['speed'].min()"
   ]
  },
  {
   "cell_type": "code",
   "execution_count": 29,
   "metadata": {},
   "outputs": [
    {
     "data": {
      "text/plain": [
       "746"
      ]
     },
     "execution_count": 29,
     "metadata": {},
     "output_type": "execute_result"
    }
   ],
   "source": [
    "df['speed'].max()"
   ]
  },
  {
   "cell_type": "code",
   "execution_count": 30,
   "metadata": {},
   "outputs": [
    {
     "data": {
      "text/plain": [
       "Text(0.5, 1.0, 'Histogram of Speed')"
      ]
     },
     "execution_count": 30,
     "metadata": {},
     "output_type": "execute_result"
    },
    {
     "data": {
      "image/png": "[encoded data removed]",
      "text/plain": [
       "<Figure size 576x360 with 1 Axes>"
      ]
     },
     "metadata": {
      "needs_background": "light"
     },
     "output_type": "display_data"
    }
   ],
   "source": [
    "plt.figure(figsize=(8, 5))\n",
    "plt.hist(df['speed'])\n",
    "plt.xlabel('Speed')\n",
    "plt.ylabel('Count')\n",
    "plt.title('Histogram of Speed')"
   ]
  },
  {
   "cell_type": "markdown",
   "metadata": {},
   "source": [
    "Observation: \n",
    "- Multiple peaks (modes) around 0, ~200-300, ~400. \n",
    "- Not normally distributed. \n",
    "- Ranges between 0 and 746 kph"
   ]
  },
  {
   "cell_type": "markdown",
   "metadata": {},
   "source": [
    "## Analysis of a single flight (flight_id = c244ac4)"
   ]
  },
  {
   "cell_type": "code",
   "execution_count": 31,
   "metadata": {},
   "outputs": [
    {
     "data": {
      "text/plain": [
       "(188, 8)"
      ]
     },
     "execution_count": 31,
     "metadata": {},
     "output_type": "execute_result"
    }
   ],
   "source": [
    "df.loc[df['flight_id'] == 'c244ac4', :].shape"
   ]
  },
  {
   "cell_type": "code",
   "execution_count": 32,
   "metadata": {},
   "outputs": [
    {
     "data": {
      "text/html": [
       "<div>\n",
       "<style scoped>\n",
       "    .dataframe tbody tr th:only-of-type {\n",
       "        vertical-align: middle;\n",
       "    }\n",
       "\n",
       "    .dataframe tbody tr th {\n",
       "        vertical-align: top;\n",
       "    }\n",
       "\n",
       "    .dataframe thead th {\n",
       "        text-align: right;\n",
       "    }\n",
       "</style>\n",
       "<table border=\"1\" class=\"dataframe\">\n",
       "  <thead>\n",
       "    <tr style=\"text-align: right;\">\n",
       "      <th></th>\n",
       "      <th>flight_id</th>\n",
       "      <th>time_stamp</th>\n",
       "      <th>latitude</th>\n",
       "      <th>longitude</th>\n",
       "      <th>altitude</th>\n",
       "      <th>heading</th>\n",
       "      <th>speed</th>\n",
       "      <th>time_stamp_utc</th>\n",
       "    </tr>\n",
       "  </thead>\n",
       "  <tbody>\n",
       "    <tr>\n",
       "      <th>0</th>\n",
       "      <td>c244ac4</td>\n",
       "      <td>1484158880</td>\n",
       "      <td>59.416901</td>\n",
       "      <td>24.801247</td>\n",
       "      <td>0</td>\n",
       "      <td>0</td>\n",
       "      <td>0</td>\n",
       "      <td>2017-01-12 02:21:20</td>\n",
       "    </tr>\n",
       "    <tr>\n",
       "      <th>1</th>\n",
       "      <td>c244ac4</td>\n",
       "      <td>1484158946</td>\n",
       "      <td>59.416901</td>\n",
       "      <td>24.801178</td>\n",
       "      <td>0</td>\n",
       "      <td>0</td>\n",
       "      <td>0</td>\n",
       "      <td>2017-01-12 02:22:26</td>\n",
       "    </tr>\n",
       "    <tr>\n",
       "      <th>2</th>\n",
       "      <td>c244ac4</td>\n",
       "      <td>1484159014</td>\n",
       "      <td>59.417221</td>\n",
       "      <td>24.801292</td>\n",
       "      <td>0</td>\n",
       "      <td>357</td>\n",
       "      <td>14</td>\n",
       "      <td>2017-01-12 02:23:34</td>\n",
       "    </tr>\n",
       "    <tr>\n",
       "      <th>3</th>\n",
       "      <td>c244ac4</td>\n",
       "      <td>1484159029</td>\n",
       "      <td>59.417450</td>\n",
       "      <td>24.801281</td>\n",
       "      <td>0</td>\n",
       "      <td>352</td>\n",
       "      <td>11</td>\n",
       "      <td>2017-01-12 02:23:49</td>\n",
       "    </tr>\n",
       "    <tr>\n",
       "      <th>4</th>\n",
       "      <td>c244ac4</td>\n",
       "      <td>1484159047</td>\n",
       "      <td>59.417496</td>\n",
       "      <td>24.801683</td>\n",
       "      <td>0</td>\n",
       "      <td>86</td>\n",
       "      <td>15</td>\n",
       "      <td>2017-01-12 02:24:07</td>\n",
       "    </tr>\n",
       "    <tr>\n",
       "      <th>...</th>\n",
       "      <td>...</td>\n",
       "      <td>...</td>\n",
       "      <td>...</td>\n",
       "      <td>...</td>\n",
       "      <td>...</td>\n",
       "      <td>...</td>\n",
       "      <td>...</td>\n",
       "      <td>...</td>\n",
       "    </tr>\n",
       "    <tr>\n",
       "      <th>183</th>\n",
       "      <td>c244ac4</td>\n",
       "      <td>1484163236</td>\n",
       "      <td>59.656715</td>\n",
       "      <td>17.944084</td>\n",
       "      <td>0</td>\n",
       "      <td>255</td>\n",
       "      <td>18</td>\n",
       "      <td>2017-01-12 03:33:56</td>\n",
       "    </tr>\n",
       "    <tr>\n",
       "      <th>184</th>\n",
       "      <td>c244ac4</td>\n",
       "      <td>1484163242</td>\n",
       "      <td>59.656574</td>\n",
       "      <td>17.943008</td>\n",
       "      <td>0</td>\n",
       "      <td>255</td>\n",
       "      <td>17</td>\n",
       "      <td>2017-01-12 03:34:02</td>\n",
       "    </tr>\n",
       "    <tr>\n",
       "      <th>185</th>\n",
       "      <td>c244ac4</td>\n",
       "      <td>1484163288</td>\n",
       "      <td>59.655499</td>\n",
       "      <td>17.934471</td>\n",
       "      <td>0</td>\n",
       "      <td>255</td>\n",
       "      <td>16</td>\n",
       "      <td>2017-01-12 03:34:48</td>\n",
       "    </tr>\n",
       "    <tr>\n",
       "      <th>186</th>\n",
       "      <td>c244ac4</td>\n",
       "      <td>1484163303</td>\n",
       "      <td>59.654766</td>\n",
       "      <td>17.933395</td>\n",
       "      <td>0</td>\n",
       "      <td>185</td>\n",
       "      <td>15</td>\n",
       "      <td>2017-01-12 03:35:03</td>\n",
       "    </tr>\n",
       "    <tr>\n",
       "      <th>187</th>\n",
       "      <td>c244ac4</td>\n",
       "      <td>1484163309</td>\n",
       "      <td>59.654285</td>\n",
       "      <td>17.933500</td>\n",
       "      <td>0</td>\n",
       "      <td>165</td>\n",
       "      <td>32</td>\n",
       "      <td>2017-01-12 03:35:09</td>\n",
       "    </tr>\n",
       "  </tbody>\n",
       "</table>\n",
       "<p>188 rows × 8 columns</p>\n",
       "</div>"
      ],
      "text/plain": [
       "    flight_id  time_stamp   latitude  longitude  altitude  heading  speed  \\\n",
       "0     c244ac4  1484158880  59.416901  24.801247         0        0      0   \n",
       "1     c244ac4  1484158946  59.416901  24.801178         0        0      0   \n",
       "2     c244ac4  1484159014  59.417221  24.801292         0      357     14   \n",
       "3     c244ac4  1484159029  59.417450  24.801281         0      352     11   \n",
       "4     c244ac4  1484159047  59.417496  24.801683         0       86     15   \n",
       "..        ...         ...        ...        ...       ...      ...    ...   \n",
       "183   c244ac4  1484163236  59.656715  17.944084         0      255     18   \n",
       "184   c244ac4  1484163242  59.656574  17.943008         0      255     17   \n",
       "185   c244ac4  1484163288  59.655499  17.934471         0      255     16   \n",
       "186   c244ac4  1484163303  59.654766  17.933395         0      185     15   \n",
       "187   c244ac4  1484163309  59.654285  17.933500         0      165     32   \n",
       "\n",
       "         time_stamp_utc  \n",
       "0   2017-01-12 02:21:20  \n",
       "1   2017-01-12 02:22:26  \n",
       "2   2017-01-12 02:23:34  \n",
       "3   2017-01-12 02:23:49  \n",
       "4   2017-01-12 02:24:07  \n",
       "..                  ...  \n",
       "183 2017-01-12 03:33:56  \n",
       "184 2017-01-12 03:34:02  \n",
       "185 2017-01-12 03:34:48  \n",
       "186 2017-01-12 03:35:03  \n",
       "187 2017-01-12 03:35:09  \n",
       "\n",
       "[188 rows x 8 columns]"
      ]
     },
     "execution_count": 32,
     "metadata": {},
     "output_type": "execute_result"
    }
   ],
   "source": [
    "df.loc[df['flight_id'] == 'c244ac4', :]"
   ]
  },
  {
   "cell_type": "code",
   "execution_count": 33,
   "metadata": {},
   "outputs": [
    {
     "data": {
      "text/html": [
       "<div>\n",
       "<style scoped>\n",
       "    .dataframe tbody tr th:only-of-type {\n",
       "        vertical-align: middle;\n",
       "    }\n",
       "\n",
       "    .dataframe tbody tr th {\n",
       "        vertical-align: top;\n",
       "    }\n",
       "\n",
       "    .dataframe thead tr th {\n",
       "        text-align: left;\n",
       "    }\n",
       "\n",
       "    .dataframe thead tr:last-of-type th {\n",
       "        text-align: right;\n",
       "    }\n",
       "</style>\n",
       "<table border=\"1\" class=\"dataframe\">\n",
       "  <thead>\n",
       "    <tr>\n",
       "      <th></th>\n",
       "      <th colspan=\"2\" halign=\"left\">latitude</th>\n",
       "      <th colspan=\"2\" halign=\"left\">longitude</th>\n",
       "      <th colspan=\"2\" halign=\"left\">altitude</th>\n",
       "      <th colspan=\"2\" halign=\"left\">heading</th>\n",
       "      <th colspan=\"2\" halign=\"left\">speed</th>\n",
       "      <th colspan=\"2\" halign=\"left\">time_stamp_utc</th>\n",
       "    </tr>\n",
       "    <tr>\n",
       "      <th></th>\n",
       "      <th>min</th>\n",
       "      <th>max</th>\n",
       "      <th>min</th>\n",
       "      <th>max</th>\n",
       "      <th>min</th>\n",
       "      <th>max</th>\n",
       "      <th>min</th>\n",
       "      <th>max</th>\n",
       "      <th>min</th>\n",
       "      <th>max</th>\n",
       "      <th>min</th>\n",
       "      <th>max</th>\n",
       "    </tr>\n",
       "    <tr>\n",
       "      <th>flight_id</th>\n",
       "      <th></th>\n",
       "      <th></th>\n",
       "      <th></th>\n",
       "      <th></th>\n",
       "      <th></th>\n",
       "      <th></th>\n",
       "      <th></th>\n",
       "      <th></th>\n",
       "      <th></th>\n",
       "      <th></th>\n",
       "      <th></th>\n",
       "      <th></th>\n",
       "    </tr>\n",
       "  </thead>\n",
       "  <tbody>\n",
       "    <tr>\n",
       "      <th>c244ac4</th>\n",
       "      <td>59.413284</td>\n",
       "      <td>59.823025</td>\n",
       "      <td>17.933395</td>\n",
       "      <td>24.92532</td>\n",
       "      <td>0</td>\n",
       "      <td>20000</td>\n",
       "      <td>0</td>\n",
       "      <td>357</td>\n",
       "      <td>0</td>\n",
       "      <td>316</td>\n",
       "      <td>2017-01-12 02:21:20</td>\n",
       "      <td>2017-01-12 03:35:09</td>\n",
       "    </tr>\n",
       "  </tbody>\n",
       "</table>\n",
       "</div>"
      ],
      "text/plain": [
       "            latitude             longitude           altitude        heading  \\\n",
       "                 min        max        min       max      min    max     min   \n",
       "flight_id                                                                      \n",
       "c244ac4    59.413284  59.823025  17.933395  24.92532        0  20000       0   \n",
       "\n",
       "               speed           time_stamp_utc                      \n",
       "           max   min  max                 min                 max  \n",
       "flight_id                                                          \n",
       "c244ac4    357     0  316 2017-01-12 02:21:20 2017-01-12 03:35:09  "
      ]
     },
     "execution_count": 33,
     "metadata": {},
     "output_type": "execute_result"
    }
   ],
   "source": [
    "aggregations = {\n",
    "    'latitude': [min, max],\n",
    "    'longitude': [min, max],\n",
    "    'altitude': [min, max],\n",
    "    'heading': [min, max],\n",
    "    'speed': [min, max],\n",
    "    'time_stamp_utc': [min, max]\n",
    "}\n",
    "\n",
    "df.loc[df['flight_id'] == 'c244ac4'].groupby('flight_id').agg(aggregations)"
   ]
  },
  {
   "cell_type": "code",
   "execution_count": 34,
   "metadata": {},
   "outputs": [
    {
     "data": {
      "text/plain": [
       "Timedelta('0 days 01:13:49')"
      ]
     },
     "execution_count": 34,
     "metadata": {},
     "output_type": "execute_result"
    }
   ],
   "source": [
    "# inclusive of on-ground activity\n",
    "df.loc[(df['flight_id'] == 'c244ac4'), 'time_stamp_utc'].max() -\\\n",
    "df.loc[(df['flight_id'] == 'c244ac4'), 'time_stamp_utc'].min()"
   ]
  },
  {
   "cell_type": "code",
   "execution_count": 35,
   "metadata": {},
   "outputs": [
    {
     "data": {
      "text/plain": [
       "Timedelta('0 days 01:00:53')"
      ]
     },
     "execution_count": 35,
     "metadata": {},
     "output_type": "execute_result"
    }
   ],
   "source": [
    "df.loc[(df['flight_id'] == 'c244ac4') & (df['altitude'] > 0), 'time_stamp_utc'].max() -\\\n",
    "df.loc[(df['flight_id'] == 'c244ac4') & (df['altitude'] > 0), 'time_stamp_utc'].min()"
   ]
  },
  {
   "cell_type": "code",
   "execution_count": 36,
   "metadata": {},
   "outputs": [
    {
     "name": "stdout",
     "output_type": "stream",
     "text": [
      "28\n"
     ]
    },
    {
     "data": {
      "text/html": [
       "<div>\n",
       "<style scoped>\n",
       "    .dataframe tbody tr th:only-of-type {\n",
       "        vertical-align: middle;\n",
       "    }\n",
       "\n",
       "    .dataframe tbody tr th {\n",
       "        vertical-align: top;\n",
       "    }\n",
       "\n",
       "    .dataframe thead th {\n",
       "        text-align: right;\n",
       "    }\n",
       "</style>\n",
       "<table border=\"1\" class=\"dataframe\">\n",
       "  <thead>\n",
       "    <tr style=\"text-align: right;\">\n",
       "      <th></th>\n",
       "      <th>flight_id</th>\n",
       "      <th>time_stamp</th>\n",
       "      <th>latitude</th>\n",
       "      <th>longitude</th>\n",
       "      <th>altitude</th>\n",
       "      <th>heading</th>\n",
       "      <th>speed</th>\n",
       "      <th>time_stamp_utc</th>\n",
       "    </tr>\n",
       "  </thead>\n",
       "  <tbody>\n",
       "    <tr>\n",
       "      <th>27</th>\n",
       "      <td>c244ac4</td>\n",
       "      <td>1484159240</td>\n",
       "      <td>59.413307</td>\n",
       "      <td>24.819122</td>\n",
       "      <td>0</td>\n",
       "      <td>90</td>\n",
       "      <td>100</td>\n",
       "      <td>2017-01-12 02:27:20</td>\n",
       "    </tr>\n",
       "    <tr>\n",
       "      <th>28</th>\n",
       "      <td>c244ac4</td>\n",
       "      <td>1484159246</td>\n",
       "      <td>59.413284</td>\n",
       "      <td>24.824799</td>\n",
       "      <td>575</td>\n",
       "      <td>90</td>\n",
       "      <td>120</td>\n",
       "      <td>2017-01-12 02:27:26</td>\n",
       "    </tr>\n",
       "  </tbody>\n",
       "</table>\n",
       "</div>"
      ],
      "text/plain": [
       "   flight_id  time_stamp   latitude  longitude  altitude  heading  speed  \\\n",
       "27   c244ac4  1484159240  59.413307  24.819122         0       90    100   \n",
       "28   c244ac4  1484159246  59.413284  24.824799       575       90    120   \n",
       "\n",
       "        time_stamp_utc  \n",
       "27 2017-01-12 02:27:20  \n",
       "28 2017-01-12 02:27:26  "
      ]
     },
     "execution_count": 36,
     "metadata": {},
     "output_type": "execute_result"
    }
   ],
   "source": [
    "min_time_in_air_index = df.loc[(df['flight_id'] == 'c244ac4') & (df['altitude'] > 0), 'time_stamp_utc'].idxmin()\n",
    "print(min_time_in_air_index)\n",
    "df.loc[(df['flight_id'] == 'c244ac4'), :].loc[min_time_in_air_index-1:min_time_in_air_index]"
   ]
  },
  {
   "cell_type": "code",
   "execution_count": 37,
   "metadata": {},
   "outputs": [
    {
     "name": "stdout",
     "output_type": "stream",
     "text": [
      "177\n"
     ]
    },
    {
     "data": {
      "text/html": [
       "<div>\n",
       "<style scoped>\n",
       "    .dataframe tbody tr th:only-of-type {\n",
       "        vertical-align: middle;\n",
       "    }\n",
       "\n",
       "    .dataframe tbody tr th {\n",
       "        vertical-align: top;\n",
       "    }\n",
       "\n",
       "    .dataframe thead th {\n",
       "        text-align: right;\n",
       "    }\n",
       "</style>\n",
       "<table border=\"1\" class=\"dataframe\">\n",
       "  <thead>\n",
       "    <tr style=\"text-align: right;\">\n",
       "      <th></th>\n",
       "      <th>flight_id</th>\n",
       "      <th>time_stamp</th>\n",
       "      <th>latitude</th>\n",
       "      <th>longitude</th>\n",
       "      <th>altitude</th>\n",
       "      <th>heading</th>\n",
       "      <th>speed</th>\n",
       "      <th>time_stamp_utc</th>\n",
       "    </tr>\n",
       "  </thead>\n",
       "  <tbody>\n",
       "    <tr>\n",
       "      <th>177</th>\n",
       "      <td>c244ac4</td>\n",
       "      <td>1484162899</td>\n",
       "      <td>59.659195</td>\n",
       "      <td>17.962555</td>\n",
       "      <td>1350</td>\n",
       "      <td>189</td>\n",
       "      <td>101</td>\n",
       "      <td>2017-01-12 03:28:19</td>\n",
       "    </tr>\n",
       "    <tr>\n",
       "      <th>178</th>\n",
       "      <td>c244ac4</td>\n",
       "      <td>1484163135</td>\n",
       "      <td>59.650421</td>\n",
       "      <td>17.955093</td>\n",
       "      <td>0</td>\n",
       "      <td>354</td>\n",
       "      <td>27</td>\n",
       "      <td>2017-01-12 03:32:15</td>\n",
       "    </tr>\n",
       "  </tbody>\n",
       "</table>\n",
       "</div>"
      ],
      "text/plain": [
       "    flight_id  time_stamp   latitude  longitude  altitude  heading  speed  \\\n",
       "177   c244ac4  1484162899  59.659195  17.962555      1350      189    101   \n",
       "178   c244ac4  1484163135  59.650421  17.955093         0      354     27   \n",
       "\n",
       "         time_stamp_utc  \n",
       "177 2017-01-12 03:28:19  \n",
       "178 2017-01-12 03:32:15  "
      ]
     },
     "execution_count": 37,
     "metadata": {},
     "output_type": "execute_result"
    }
   ],
   "source": [
    "max_time_in_air_index = df.loc[(df['flight_id'] == 'c244ac4') & (df['altitude'] > 0), 'time_stamp_utc'].idxmax()\n",
    "print(max_time_in_air_index)\n",
    "df.loc[(df['flight_id'] == 'c244ac4'), :].loc[max_time_in_air_index:max_time_in_air_index + 1]"
   ]
  },
  {
   "cell_type": "code",
   "execution_count": 38,
   "metadata": {},
   "outputs": [
    {
     "name": "stdout",
     "output_type": "stream",
     "text": [
      "0 days 01:00:53\n"
     ]
    },
    {
     "data": {
      "text/plain": [
       "Timedelta('0 days 01:00:53')"
      ]
     },
     "execution_count": 38,
     "metadata": {},
     "output_type": "execute_result"
    }
   ],
   "source": [
    "print(df.loc[177, 'time_stamp_utc'] - df.loc[28, 'time_stamp_utc'])\n",
    "df.loc[max_time_in_air_index, 'time_stamp_utc'] -\\\n",
    "df.loc[min_time_in_air_index, 'time_stamp_utc']"
   ]
  },
  {
   "cell_type": "code",
   "execution_count": 39,
   "metadata": {},
   "outputs": [
    {
     "data": {
      "image/png": "[encoded data removed]",
      "text/plain": [
       "<Figure size 576x360 with 1 Axes>"
      ]
     },
     "metadata": {
      "needs_background": "light"
     },
     "output_type": "display_data"
    }
   ],
   "source": [
    "fig, ax = plt.subplots(figsize=(8,5))\n",
    "sns.scatterplot(ax = ax, x='longitude', y='latitude', data=df.loc[(df['flight_id'] == 'c244ac4')])\n",
    "plt.show()"
   ]
  },
  {
   "cell_type": "code",
   "execution_count": 40,
   "metadata": {},
   "outputs": [
    {
     "data": {
      "text/plain": [
       "0        0\n",
       "1        0\n",
       "2      357\n",
       "3      352\n",
       "4       86\n",
       "      ... \n",
       "183    255\n",
       "184    255\n",
       "185    255\n",
       "186    185\n",
       "187    165\n",
       "Name: heading, Length: 188, dtype: int64"
      ]
     },
     "execution_count": 40,
     "metadata": {},
     "output_type": "execute_result"
    }
   ],
   "source": [
    "df.loc[(df['flight_id'] == 'c244ac4'), 'heading']"
   ]
  },
  {
   "cell_type": "code",
   "execution_count": 41,
   "metadata": {},
   "outputs": [
    {
     "name": "stdout",
     "output_type": "stream",
     "text": [
      "[  0   0 357 352  86  94  94  98 101 104 115 129 129 129 180 182 180 182\n",
      " 194 196 174 146 135  98  92  90  90  90  90  88  90  90  55  35  20   2\n",
      " 326 307 287 262 262 265 266 272 274 274 274 274 274 274 274 274 274 274\n",
      " 274 273 273 273 273 273 273 273 273 273 273 272 272 273 272 272 272 272\n",
      " 272 272 272 272 272 275 275 275 275 275 274 274 274 274 274 274 274 274\n",
      " 274 274 273 273 273 273 273 273 273 272 284 287 288 289 290 289 289 289\n",
      " 289 280 279 280 280 280 280 280 279 278 278 277 278 278 279 281 267 267\n",
      " 266 266 266 266 269 272 272 273 270 241 241 240 240 238 216 206 201 196\n",
      " 194 191 188 187 187 187 188 188 187 188 189 190 190 189 190 191 188 189\n",
      " 191 191 190 190 191 190 189 191 189 191 190 191 190 190 190 189 354 345\n",
      " 343 345 320 255 255 255 185 165]\n"
     ]
    }
   ],
   "source": [
    "print(df.loc[(df['flight_id'] == 'c244ac4'), 'heading'].values)"
   ]
  },
  {
   "cell_type": "code",
   "execution_count": null,
   "metadata": {},
   "outputs": [],
   "source": []
  }
 ],
 "metadata": {
  "kernelspec": {
   "display_name": "Python 3",
   "language": "python",
   "name": "python3"
  },
  "language_info": {
   "codemirror_mode": {
    "name": "ipython",
    "version": 3
   },
   "file_extension": ".py",
   "mimetype": "text/x-python",
   "name": "python",
   "nbconvert_exporter": "python",
   "pygments_lexer": "ipython3",
   "version": "3.6.9"
  }
 },
 "nbformat": 4,
 "nbformat_minor": 4
}
