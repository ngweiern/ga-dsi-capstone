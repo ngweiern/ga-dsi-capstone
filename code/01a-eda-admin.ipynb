{
 "cells": [
  {
   "cell_type": "markdown",
   "metadata": {},
   "source": [
    "## Import libraries"
   ]
  },
  {
   "cell_type": "code",
   "execution_count": 1,
   "metadata": {},
   "outputs": [],
   "source": [
    "import pandas as pd\n",
    "import numpy as np\n",
    "import matplotlib.pyplot as plt\n",
    "import seaborn as sns\n",
    "from math import radians, cos, sin, asin, sqrt\n",
    "import datetime as dt\n",
    "import re\n",
    "\n",
    "import warnings\n",
    "warnings.filterwarnings('ignore')\n",
    "\n",
    "pd.set_option(\"display.max_columns\", 60)\n",
    "pd.set_option(\"display.max_rows\", 500)\n",
    "%matplotlib inline"
   ]
  },
  {
   "cell_type": "code",
   "execution_count": 2,
   "metadata": {},
   "outputs": [],
   "source": [
    "def plot_barchart(figsize_tuple, df, feature, filename):\n",
    "    # Plot barchart\n",
    "    plt.figure(figsize=figsize_tuple)\n",
    "    sns.countplot(y=feature, data=df, orient='v',\n",
    "                  order=df[feature].value_counts().iloc[:10].index)\n",
    "\n",
    "    plt.title('Top 10 {}'.format(feature), fontsize=12)\n",
    "    plt.xlabel('Count', fontsize=12)\n",
    "    plt.ylabel('{}'.format(feature), fontsize=12)\n",
    "    plt.savefig('../images/01a-eda-admin/{}.png'.format(filename), transparent=True)\n",
    "    \n",
    "def plot_histogram(figsize_tuple, df, feature, filename):\n",
    "    plt.figure(figsize=figsize_tuple)\n",
    "    sns.distplot(df[feature].dropna())\n",
    "\n",
    "    plt.title('Histogram of {}'.format(feature), fontsize=12)\n",
    "    plt.xlabel('{}'.format(feature), fontsize=12)\n",
    "    plt.ylabel('Frequency', fontsize=12)\n",
    "    plt.savefig('../images/01a-eda-admin/{}.png'.format(filename), transparent=True)"
   ]
  },
  {
   "cell_type": "markdown",
   "metadata": {},
   "source": [
    "## Read data"
   ]
  },
  {
   "cell_type": "code",
   "execution_count": 3,
   "metadata": {},
   "outputs": [],
   "source": [
    "admin = pd.read_csv('../AirTracks/all_csv/Jan2017/admin.csv')"
   ]
  },
  {
   "cell_type": "code",
   "execution_count": 4,
   "metadata": {},
   "outputs": [
    {
     "data": {
      "text/html": [
       "<div>\n",
       "<style scoped>\n",
       "    .dataframe tbody tr th:only-of-type {\n",
       "        vertical-align: middle;\n",
       "    }\n",
       "\n",
       "    .dataframe tbody tr th {\n",
       "        vertical-align: top;\n",
       "    }\n",
       "\n",
       "    .dataframe thead th {\n",
       "        text-align: right;\n",
       "    }\n",
       "</style>\n",
       "<table border=\"1\" class=\"dataframe\">\n",
       "  <thead>\n",
       "    <tr style=\"text-align: right;\">\n",
       "      <th></th>\n",
       "      <th>FlightId</th>\n",
       "      <th>FlightCallsign</th>\n",
       "      <th>AircraftModel</th>\n",
       "      <th>AircraftRegistration</th>\n",
       "      <th>Airline</th>\n",
       "      <th>Origin</th>\n",
       "      <th>Destination</th>\n",
       "      <th>SchdeuledDeparture</th>\n",
       "      <th>ScheduledArrival</th>\n",
       "      <th>RealDeparture</th>\n",
       "      <th>EstimatedArrival</th>\n",
       "      <th>FlightTime</th>\n",
       "    </tr>\n",
       "  </thead>\n",
       "  <tbody>\n",
       "    <tr>\n",
       "      <th>0</th>\n",
       "      <td>c244ac4</td>\n",
       "      <td>SAS1749</td>\n",
       "      <td>ATR 72-600</td>\n",
       "      <td>OY-JZE</td>\n",
       "      <td>SAS</td>\n",
       "      <td>Tallinn Lennart Meri Airport</td>\n",
       "      <td>Stockholm Arlanda Airport</td>\n",
       "      <td>1.484156e+09</td>\n",
       "      <td>1.484161e+09</td>\n",
       "      <td>1.484159e+09</td>\n",
       "      <td>NaN</td>\n",
       "      <td>3762.0</td>\n",
       "    </tr>\n",
       "    <tr>\n",
       "      <th>1</th>\n",
       "      <td>c32d217</td>\n",
       "      <td>OKA2925</td>\n",
       "      <td>Boeing 737-8AS</td>\n",
       "      <td>B-5578</td>\n",
       "      <td>OKAir</td>\n",
       "      <td>Changsha Huanghua International Airport</td>\n",
       "      <td>Hangzhou Xiaoshan International Airport</td>\n",
       "      <td>1.484694e+09</td>\n",
       "      <td>1.484698e+09</td>\n",
       "      <td>1.484694e+09</td>\n",
       "      <td>1.484698e+09</td>\n",
       "      <td>3850.0</td>\n",
       "    </tr>\n",
       "    <tr>\n",
       "      <th>2</th>\n",
       "      <td>c326787</td>\n",
       "      <td>TAR713</td>\n",
       "      <td>Airbus A320-214</td>\n",
       "      <td>TS-IMW</td>\n",
       "      <td>Tunisair</td>\n",
       "      <td>Tunis Carthage International Airport</td>\n",
       "      <td>Jeddah King Abdulaziz International Airport</td>\n",
       "      <td>1.484678e+09</td>\n",
       "      <td>1.484694e+09</td>\n",
       "      <td>1.484681e+09</td>\n",
       "      <td>1.484695e+09</td>\n",
       "      <td>13929.0</td>\n",
       "    </tr>\n",
       "    <tr>\n",
       "      <th>3</th>\n",
       "      <td>c35d480</td>\n",
       "      <td>RYR71SN</td>\n",
       "      <td>Boeing 737-8AS</td>\n",
       "      <td>EI-FRJ</td>\n",
       "      <td>Ryanair</td>\n",
       "      <td>Madrid Barajas Airport</td>\n",
       "      <td>Brussels South Charleroi Airport</td>\n",
       "      <td>1.484804e+09</td>\n",
       "      <td>1.484813e+09</td>\n",
       "      <td>1.484805e+09</td>\n",
       "      <td>1.484813e+09</td>\n",
       "      <td>7154.0</td>\n",
       "    </tr>\n",
       "    <tr>\n",
       "      <th>4</th>\n",
       "      <td>c3705bd</td>\n",
       "      <td>BSX844</td>\n",
       "      <td>Airbus A320-214</td>\n",
       "      <td>XU-112</td>\n",
       "      <td>Bassaka Air</td>\n",
       "      <td>NaN</td>\n",
       "      <td>NaN</td>\n",
       "      <td>0.000000e+00</td>\n",
       "      <td>0.000000e+00</td>\n",
       "      <td>NaN</td>\n",
       "      <td>NaN</td>\n",
       "      <td>NaN</td>\n",
       "    </tr>\n",
       "  </tbody>\n",
       "</table>\n",
       "</div>"
      ],
      "text/plain": [
       "  FlightId FlightCallsign    AircraftModel AircraftRegistration      Airline  \\\n",
       "0  c244ac4        SAS1749       ATR 72-600               OY-JZE          SAS   \n",
       "1  c32d217        OKA2925   Boeing 737-8AS               B-5578        OKAir   \n",
       "2  c326787         TAR713  Airbus A320-214               TS-IMW     Tunisair   \n",
       "3  c35d480        RYR71SN   Boeing 737-8AS               EI-FRJ      Ryanair   \n",
       "4  c3705bd         BSX844  Airbus A320-214               XU-112  Bassaka Air   \n",
       "\n",
       "                                    Origin  \\\n",
       "0            Tallinn Lennart Meri Airport    \n",
       "1  Changsha Huanghua International Airport   \n",
       "2     Tunis Carthage International Airport   \n",
       "3                   Madrid Barajas Airport   \n",
       "4                                      NaN   \n",
       "\n",
       "                                   Destination  SchdeuledDeparture  \\\n",
       "0                    Stockholm Arlanda Airport        1.484156e+09   \n",
       "1      Hangzhou Xiaoshan International Airport        1.484694e+09   \n",
       "2  Jeddah King Abdulaziz International Airport        1.484678e+09   \n",
       "3             Brussels South Charleroi Airport        1.484804e+09   \n",
       "4                                          NaN        0.000000e+00   \n",
       "\n",
       "   ScheduledArrival  RealDeparture  EstimatedArrival  FlightTime  \n",
       "0      1.484161e+09   1.484159e+09               NaN      3762.0  \n",
       "1      1.484698e+09   1.484694e+09      1.484698e+09      3850.0  \n",
       "2      1.484694e+09   1.484681e+09      1.484695e+09     13929.0  \n",
       "3      1.484813e+09   1.484805e+09      1.484813e+09      7154.0  \n",
       "4      0.000000e+00            NaN               NaN         NaN  "
      ]
     },
     "execution_count": 4,
     "metadata": {},
     "output_type": "execute_result"
    }
   ],
   "source": [
    "admin.head()"
   ]
  },
  {
   "cell_type": "code",
   "execution_count": 5,
   "metadata": {},
   "outputs": [
    {
     "data": {
      "text/html": [
       "<div>\n",
       "<style scoped>\n",
       "    .dataframe tbody tr th:only-of-type {\n",
       "        vertical-align: middle;\n",
       "    }\n",
       "\n",
       "    .dataframe tbody tr th {\n",
       "        vertical-align: top;\n",
       "    }\n",
       "\n",
       "    .dataframe thead th {\n",
       "        text-align: right;\n",
       "    }\n",
       "</style>\n",
       "<table border=\"1\" class=\"dataframe\">\n",
       "  <thead>\n",
       "    <tr style=\"text-align: right;\">\n",
       "      <th></th>\n",
       "      <th>FlightId</th>\n",
       "      <th>FlightCallsign</th>\n",
       "      <th>AircraftModel</th>\n",
       "      <th>AircraftRegistration</th>\n",
       "      <th>Airline</th>\n",
       "      <th>Origin</th>\n",
       "      <th>Destination</th>\n",
       "      <th>SchdeuledDeparture</th>\n",
       "      <th>ScheduledArrival</th>\n",
       "      <th>RealDeparture</th>\n",
       "      <th>EstimatedArrival</th>\n",
       "      <th>FlightTime</th>\n",
       "    </tr>\n",
       "  </thead>\n",
       "  <tbody>\n",
       "  </tbody>\n",
       "</table>\n",
       "</div>"
      ],
      "text/plain": [
       "Empty DataFrame\n",
       "Columns: [FlightId, FlightCallsign, AircraftModel, AircraftRegistration, Airline, Origin, Destination, SchdeuledDeparture, ScheduledArrival, RealDeparture, EstimatedArrival, FlightTime]\n",
       "Index: []"
      ]
     },
     "execution_count": 5,
     "metadata": {},
     "output_type": "execute_result"
    }
   ],
   "source": [
    "# Check for duplicates\n",
    "admin[admin.duplicated()]"
   ]
  },
  {
   "cell_type": "markdown",
   "metadata": {},
   "source": [
    "## Rename columns"
   ]
  },
  {
   "cell_type": "code",
   "execution_count": 6,
   "metadata": {},
   "outputs": [],
   "source": [
    "admin.rename(columns={\n",
    "    'FlightId': 'flight_id',\n",
    "    'FlightCallsign': 'flight_callsign',\n",
    "    'AircraftModel': 'aircraft_model',\n",
    "    'AircraftRegistration': 'aircraft_registration',\n",
    "    'SchdeuledDeparture': 'scheduled_departure_utc',\n",
    "    'ScheduledArrival': 'scheduled_arrival_utc',\n",
    "    'RealDeparture': 'real_departure_utc',\n",
    "    'EstimatedArrival': 'estimated_arrival_utc',\n",
    "    'FlightTime': 'real_flight_duration'\n",
    "     }, inplace=True)\n",
    "\n",
    "admin.columns = admin.columns.map(lambda x: x.lower())"
   ]
  },
  {
   "cell_type": "code",
   "execution_count": 7,
   "metadata": {},
   "outputs": [
    {
     "data": {
      "text/plain": [
       "flight_id                   object\n",
       "flight_callsign             object\n",
       "aircraft_model              object\n",
       "aircraft_registration       object\n",
       "airline                     object\n",
       "origin                      object\n",
       "destination                 object\n",
       "scheduled_departure_utc    float64\n",
       "scheduled_arrival_utc      float64\n",
       "real_departure_utc         float64\n",
       "estimated_arrival_utc      float64\n",
       "real_flight_duration       float64\n",
       "dtype: object"
      ]
     },
     "execution_count": 7,
     "metadata": {},
     "output_type": "execute_result"
    }
   ],
   "source": [
    "admin.dtypes"
   ]
  },
  {
   "cell_type": "code",
   "execution_count": 8,
   "metadata": {},
   "outputs": [
    {
     "name": "stdout",
     "output_type": "stream",
     "text": [
      "<class 'pandas.core.frame.DataFrame'>\n",
      "RangeIndex: 1158127 entries, 0 to 1158126\n",
      "Data columns (total 12 columns):\n",
      " #   Column                   Non-Null Count    Dtype  \n",
      "---  ------                   --------------    -----  \n",
      " 0   flight_id                1158127 non-null  object \n",
      " 1   flight_callsign          1154276 non-null  object \n",
      " 2   aircraft_model           1139309 non-null  object \n",
      " 3   aircraft_registration    1137386 non-null  object \n",
      " 4   airline                  1134018 non-null  object \n",
      " 5   origin                   1116766 non-null  object \n",
      " 6   destination              1069335 non-null  object \n",
      " 7   scheduled_departure_utc  1134589 non-null  float64\n",
      " 8   scheduled_arrival_utc    1134589 non-null  float64\n",
      " 9   real_departure_utc       1093809 non-null  float64\n",
      " 10  estimated_arrival_utc    655160 non-null   float64\n",
      " 11  real_flight_duration     997747 non-null   float64\n",
      "dtypes: float64(5), object(7)\n",
      "memory usage: 106.0+ MB\n"
     ]
    }
   ],
   "source": [
    "admin.info()"
   ]
  },
  {
   "cell_type": "code",
   "execution_count": 9,
   "metadata": {},
   "outputs": [
    {
     "data": {
      "text/plain": [
       "flight_id                       0\n",
       "flight_callsign              3851\n",
       "aircraft_model              18818\n",
       "aircraft_registration       20741\n",
       "airline                     24109\n",
       "origin                      41361\n",
       "destination                 88792\n",
       "scheduled_departure_utc     23538\n",
       "scheduled_arrival_utc       23538\n",
       "real_departure_utc          64318\n",
       "estimated_arrival_utc      502967\n",
       "real_flight_duration       160380\n",
       "dtype: int64"
      ]
     },
     "execution_count": 9,
     "metadata": {},
     "output_type": "execute_result"
    }
   ],
   "source": [
    "admin.isnull().sum()"
   ]
  },
  {
   "cell_type": "code",
   "execution_count": 10,
   "metadata": {
    "scrolled": true
   },
   "outputs": [
    {
     "data": {
      "text/plain": [
       "flight_id                   0.000000\n",
       "flight_callsign             0.332520\n",
       "aircraft_model              1.624865\n",
       "aircraft_registration       1.790909\n",
       "airline                     2.081723\n",
       "origin                      3.571370\n",
       "destination                 7.666862\n",
       "scheduled_departure_utc     2.032420\n",
       "scheduled_arrival_utc       2.032420\n",
       "real_departure_utc          5.553622\n",
       "estimated_arrival_utc      43.429348\n",
       "real_flight_duration       13.848222\n",
       "dtype: float64"
      ]
     },
     "execution_count": 10,
     "metadata": {},
     "output_type": "execute_result"
    }
   ],
   "source": [
    "# Percentage missing\n",
    "admin.isnull().sum() / admin.shape[0] * 100"
   ]
  },
  {
   "cell_type": "markdown",
   "metadata": {},
   "source": [
    "## Handle data of object type"
   ]
  },
  {
   "cell_type": "code",
   "execution_count": 11,
   "metadata": {},
   "outputs": [],
   "source": [
    "str_cols = admin.columns[admin.dtypes==object]"
   ]
  },
  {
   "cell_type": "code",
   "execution_count": 12,
   "metadata": {},
   "outputs": [],
   "source": [
    "# Fill NaN with 'EMPTY' so that seaborn will factor in NaN cells\n",
    "admin[str_cols] = admin[str_cols].fillna('EMPTY')"
   ]
  },
  {
   "cell_type": "code",
   "execution_count": 13,
   "metadata": {},
   "outputs": [],
   "source": [
    "# Strip leading and trailing spaces in object columns\n",
    "admin[str_cols] = admin[str_cols].apply(lambda x: x.str.strip())"
   ]
  },
  {
   "cell_type": "markdown",
   "metadata": {},
   "source": [
    "**flight_id**"
   ]
  },
  {
   "cell_type": "code",
   "execution_count": 14,
   "metadata": {
    "scrolled": true
   },
   "outputs": [
    {
     "data": {
      "text/plain": [
       "c388abd    1\n",
       "c3e6bdf    1\n",
       "c42f0b8    1\n",
       "c478703    1\n",
       "c3d01ce    1\n",
       "          ..\n",
       "c4df00e    1\n",
       "c1bb727    1\n",
       "c3bbe35    1\n",
       "c3ad360    1\n",
       "c229340    1\n",
       "Name: flight_id, Length: 1158127, dtype: int64"
      ]
     },
     "execution_count": 14,
     "metadata": {},
     "output_type": "execute_result"
    }
   ],
   "source": [
    "admin['flight_id'].value_counts(dropna=False)"
   ]
  },
  {
   "cell_type": "code",
   "execution_count": 15,
   "metadata": {},
   "outputs": [
    {
     "data": {
      "text/plain": [
       "True"
      ]
     },
     "execution_count": 15,
     "metadata": {},
     "output_type": "execute_result"
    }
   ],
   "source": [
    "# Check that the number of unique flights = number of rows i.e. each row is a unique flight\n",
    "len(admin['flight_id'].unique()) == admin['flight_id'].value_counts().values.sum()"
   ]
  },
  {
   "cell_type": "code",
   "execution_count": 16,
   "metadata": {},
   "outputs": [
    {
     "data": {
      "text/html": [
       "<div>\n",
       "<style scoped>\n",
       "    .dataframe tbody tr th:only-of-type {\n",
       "        vertical-align: middle;\n",
       "    }\n",
       "\n",
       "    .dataframe tbody tr th {\n",
       "        vertical-align: top;\n",
       "    }\n",
       "\n",
       "    .dataframe thead th {\n",
       "        text-align: right;\n",
       "    }\n",
       "</style>\n",
       "<table border=\"1\" class=\"dataframe\">\n",
       "  <thead>\n",
       "    <tr style=\"text-align: right;\">\n",
       "      <th></th>\n",
       "      <th>flight_id</th>\n",
       "      <th>flight_callsign</th>\n",
       "      <th>aircraft_model</th>\n",
       "      <th>aircraft_registration</th>\n",
       "      <th>airline</th>\n",
       "      <th>origin</th>\n",
       "      <th>destination</th>\n",
       "      <th>scheduled_departure_utc</th>\n",
       "      <th>scheduled_arrival_utc</th>\n",
       "      <th>real_departure_utc</th>\n",
       "      <th>estimated_arrival_utc</th>\n",
       "      <th>real_flight_duration</th>\n",
       "    </tr>\n",
       "  </thead>\n",
       "  <tbody>\n",
       "  </tbody>\n",
       "</table>\n",
       "</div>"
      ],
      "text/plain": [
       "Empty DataFrame\n",
       "Columns: [flight_id, flight_callsign, aircraft_model, aircraft_registration, airline, origin, destination, scheduled_departure_utc, scheduled_arrival_utc, real_departure_utc, estimated_arrival_utc, real_flight_duration]\n",
       "Index: []"
      ]
     },
     "execution_count": 16,
     "metadata": {},
     "output_type": "execute_result"
    }
   ],
   "source": [
    "admin[(admin['flight_id'] == 'EMPTY') | (admin['flight_id'].isnull())]"
   ]
  },
  {
   "cell_type": "markdown",
   "metadata": {},
   "source": [
    "**flight_callsign**"
   ]
  },
  {
   "cell_type": "code",
   "execution_count": 17,
   "metadata": {
    "scrolled": true
   },
   "outputs": [
    {
     "data": {
      "text/plain": [
       "Blocked     5166\n",
       "EMPTY       3851\n",
       "N            103\n",
       "SQB02ERA      66\n",
       "LEADER5       63\n",
       "            ... \n",
       "GLP1147        1\n",
       "YZR7083        1\n",
       "TAY92G         1\n",
       "GEENO          1\n",
       "N971SR         1\n",
       "Name: flight_callsign, Length: 117101, dtype: int64"
      ]
     },
     "execution_count": 17,
     "metadata": {},
     "output_type": "execute_result"
    }
   ],
   "source": [
    "admin['flight_callsign'].value_counts()"
   ]
  },
  {
   "cell_type": "code",
   "execution_count": 18,
   "metadata": {},
   "outputs": [
    {
     "data": {
      "image/png": "[encoded data removed]",
      "text/plain": [
       "<Figure size 576x360 with 1 Axes>"
      ]
     },
     "metadata": {
      "needs_background": "light"
     },
     "output_type": "display_data"
    }
   ],
   "source": [
    "plot_barchart((8,5), admin, 'flight_callsign', '01-barchart-flight_callsign')"
   ]
  },
  {
   "cell_type": "markdown",
   "metadata": {},
   "source": [
    "**aircraft_model**"
   ]
  },
  {
   "cell_type": "code",
   "execution_count": 19,
   "metadata": {},
   "outputs": [
    {
     "data": {
      "text/plain": [
       "Airbus A320-214               148420\n",
       "Airbus A320-232                97776\n",
       "Airbus A321-231                47523\n",
       "Boeing 737-8AS                 44169\n",
       "Airbus A319-111                25339\n",
       "                               ...  \n",
       "Diamond Katana DA20-C1             1\n",
       "Eurostar EV-97                     1\n",
       "Procaer F-15B Picchio              1\n",
       "Reims Cessna FR172G Rocket         1\n",
       "Piper PA-24-260 Comanche           1\n",
       "Name: aircraft_model, Length: 3658, dtype: int64"
      ]
     },
     "execution_count": 19,
     "metadata": {},
     "output_type": "execute_result"
    }
   ],
   "source": [
    "admin['aircraft_model'].value_counts()"
   ]
  },
  {
   "cell_type": "code",
   "execution_count": 20,
   "metadata": {},
   "outputs": [
    {
     "data": {
      "image/png": "[encoded data removed]",
      "text/plain": [
       "<Figure size 576x360 with 1 Axes>"
      ]
     },
     "metadata": {
      "needs_background": "light"
     },
     "output_type": "display_data"
    }
   ],
   "source": [
    "plot_barchart((8,5), admin, 'aircraft_model', '02-barchart-aircraft_model')"
   ]
  },
  {
   "cell_type": "markdown",
   "metadata": {},
   "source": [
    "**aircraft_registration**"
   ]
  },
  {
   "cell_type": "code",
   "execution_count": 21,
   "metadata": {},
   "outputs": [
    {
     "data": {
      "text/plain": [
       "EMPTY     20741\n",
       "TC-FHY      169\n",
       "HA-LPL      166\n",
       "HS-DBX      166\n",
       "VT-ATB      163\n",
       "          ...  \n",
       "PH-SFT        1\n",
       "N21AG         1\n",
       "HB-EQG        1\n",
       "D-EFKM        1\n",
       "G-AVMF        1\n",
       "Name: aircraft_registration, Length: 26734, dtype: int64"
      ]
     },
     "execution_count": 21,
     "metadata": {},
     "output_type": "execute_result"
    }
   ],
   "source": [
    "admin['aircraft_registration'].value_counts()"
   ]
  },
  {
   "cell_type": "code",
   "execution_count": 22,
   "metadata": {},
   "outputs": [
    {
     "data": {
      "image/png": "[encoded data removed]",
      "text/plain": [
       "<Figure size 576x360 with 1 Axes>"
      ]
     },
     "metadata": {
      "needs_background": "light"
     },
     "output_type": "display_data"
    }
   ],
   "source": [
    "plot_barchart((8,5), admin, 'aircraft_registration', '03-barchart-aircraft-registration')"
   ]
  },
  {
   "cell_type": "markdown",
   "metadata": {},
   "source": [
    "**airline**"
   ]
  },
  {
   "cell_type": "code",
   "execution_count": 23,
   "metadata": {},
   "outputs": [
    {
     "data": {
      "text/plain": [
       "Ryanair                         38650\n",
       "China Southern Airlines         36107\n",
       "China Eastern Airlines          35002\n",
       "Air China                       24647\n",
       "EMPTY                           24109\n",
       "                                ...  \n",
       "Auto Rom                            1\n",
       "Century Aviation                    1\n",
       "Jolin Holding en Advies B.V.        1\n",
       "Focus Aviation                      1\n",
       "MN Solutions (Cambridge) Ltd        1\n",
       "Name: airline, Length: 2665, dtype: int64"
      ]
     },
     "execution_count": 23,
     "metadata": {},
     "output_type": "execute_result"
    }
   ],
   "source": [
    "admin['airline'].value_counts()"
   ]
  },
  {
   "cell_type": "code",
   "execution_count": 24,
   "metadata": {},
   "outputs": [
    {
     "data": {
      "image/png": "[encoded data removed]",
      "text/plain": [
       "<Figure size 576x360 with 1 Axes>"
      ]
     },
     "metadata": {
      "needs_background": "light"
     },
     "output_type": "display_data"
    }
   ],
   "source": [
    "plot_barchart((8,5), admin, 'airline', '04-barchart-airline')"
   ]
  },
  {
   "cell_type": "markdown",
   "metadata": {},
   "source": [
    "**origin**"
   ]
  },
  {
   "cell_type": "code",
   "execution_count": 25,
   "metadata": {},
   "outputs": [
    {
     "data": {
      "text/plain": [
       "EMPTY                                          41361\n",
       "Beijing Capital International Airport          18695\n",
       "Shanghai Pudong International Airport          16367\n",
       "Hong Kong International Airport                14585\n",
       "London Heathrow Airport                        14157\n",
       "                                               ...  \n",
       "Quilpie Airport                                    1\n",
       "Pajala Airport                                     1\n",
       "Johannesburg Lanseria International Airport        1\n",
       "West Palm Beach International Airport              1\n",
       "Blantyre Chileka International Airport             1\n",
       "Name: origin, Length: 2083, dtype: int64"
      ]
     },
     "execution_count": 25,
     "metadata": {},
     "output_type": "execute_result"
    }
   ],
   "source": [
    "admin['origin'].value_counts()"
   ]
  },
  {
   "cell_type": "code",
   "execution_count": 26,
   "metadata": {},
   "outputs": [
    {
     "data": {
      "image/png": "[encoded data removed]",
      "text/plain": [
       "<Figure size 576x360 with 1 Axes>"
      ]
     },
     "metadata": {
      "needs_background": "light"
     },
     "output_type": "display_data"
    }
   ],
   "source": [
    "plot_barchart((8,5), admin, 'origin', '05-barchart-origin')"
   ]
  },
  {
   "cell_type": "markdown",
   "metadata": {},
   "source": [
    "**destination**"
   ]
  },
  {
   "cell_type": "code",
   "execution_count": 27,
   "metadata": {},
   "outputs": [
    {
     "data": {
      "text/plain": [
       "EMPTY                                     88792\n",
       "Beijing Capital International Airport     18399\n",
       "Shanghai Pudong International Airport     15908\n",
       "London Heathrow Airport                   14682\n",
       "Guangzhou Baiyun International Airport    14068\n",
       "                                          ...  \n",
       "Basel                                         1\n",
       "Bole Alashankou Airport                       1\n",
       "Port Harcourt International Airport           1\n",
       "Vung Tau Airport                              1\n",
       "North Ronaldsay Airport                       1\n",
       "Name: destination, Length: 2146, dtype: int64"
      ]
     },
     "execution_count": 27,
     "metadata": {},
     "output_type": "execute_result"
    }
   ],
   "source": [
    "admin['destination'].value_counts()"
   ]
  },
  {
   "cell_type": "code",
   "execution_count": 28,
   "metadata": {},
   "outputs": [
    {
     "data": {
      "image/png": "[encoded data removed]",
      "text/plain": [
       "<Figure size 576x360 with 1 Axes>"
      ]
     },
     "metadata": {
      "needs_background": "light"
     },
     "output_type": "display_data"
    }
   ],
   "source": [
    "plot_barchart((8,5), admin, 'destination', '06-barchart-destination')"
   ]
  },
  {
   "cell_type": "markdown",
   "metadata": {},
   "source": [
    "## Dates"
   ]
  },
  {
   "cell_type": "markdown",
   "metadata": {},
   "source": [
    "**Convert to datetime**"
   ]
  },
  {
   "cell_type": "code",
   "execution_count": 29,
   "metadata": {},
   "outputs": [],
   "source": [
    "admin['scheduled_departure_dt'] = pd.to_datetime(admin['scheduled_departure_utc'], unit='s')\n",
    "admin['scheduled_arrival_dt'] = pd.to_datetime(admin['scheduled_arrival_utc'], unit='s')\n",
    "admin['real_departure_dt'] = pd.to_datetime(admin['real_departure_utc'], unit='s')\n",
    "admin['estimated_arrival_dt'] = pd.to_datetime(admin['estimated_arrival_utc'], unit='s')"
   ]
  },
  {
   "cell_type": "code",
   "execution_count": 30,
   "metadata": {},
   "outputs": [
    {
     "data": {
      "text/plain": [
       "(128300, 16)"
      ]
     },
     "execution_count": 30,
     "metadata": {},
     "output_type": "execute_result"
    }
   ],
   "source": [
    "# Dates with year = 1970 => INVALID\n",
    "admin[admin['scheduled_departure_dt'].dt.year == 1970].shape"
   ]
  },
  {
   "cell_type": "markdown",
   "metadata": {},
   "source": [
    "Observation: There are some dates where year = 1970. Check if there are dates that do not fall within Jan 2017"
   ]
  },
  {
   "cell_type": "markdown",
   "metadata": {},
   "source": [
    "**Deal with rows with dates that are in 1970**"
   ]
  },
  {
   "cell_type": "code",
   "execution_count": 31,
   "metadata": {},
   "outputs": [],
   "source": [
    "def replace_with_NaT(val):\n",
    "    if val.year == 1970:\n",
    "        return pd.NaT\n",
    "    else:\n",
    "        return val\n",
    "\n",
    "# Replace dates that are in year 1970\n",
    "admin['scheduled_departure_dt'] = admin['scheduled_departure_dt'].map(replace_with_NaT)\n",
    "admin['scheduled_arrival_dt'] = admin['scheduled_arrival_dt'].map(replace_with_NaT)\n",
    "admin['real_departure_dt'] = admin['real_departure_dt'].map(replace_with_NaT)\n",
    "admin['estimated_arrival_dt'] = admin['estimated_arrival_dt'].map(replace_with_NaT)\n",
    "\n",
    "# Convert back to UTC\n",
    "admin['scheduled_departure_utc'] = (admin['scheduled_departure_dt'] - dt.datetime(1970,1,1)).dt.total_seconds()\n",
    "admin['scheduled_arrival_utc'] = (admin['scheduled_arrival_dt'] - dt.datetime(1970,1,1)).dt.total_seconds()\n",
    "admin['real_departure_utc'] = (admin['real_departure_dt'] - dt.datetime(1970,1,1)).dt.total_seconds()\n",
    "admin['estimated_arrival_utc'] = (admin['estimated_arrival_dt'] - dt.datetime(1970,1,1)).dt.total_seconds()"
   ]
  },
  {
   "cell_type": "code",
   "execution_count": 32,
   "metadata": {},
   "outputs": [],
   "source": [
    "# admin['scheduled_arrival_year'] = admin['scheduled_arrival_dt'].dt.year.astype('Int64')\n",
    "# admin['scheduled_arrival_month'] = admin['scheduled_arrival_dt'].dt.month.astype('Int64')\n",
    "# admin['scheduled_arrival_day'] = admin['scheduled_arrival_dt'].dt.day.astype('Int64')\n",
    "\n",
    "# admin['scheduled_departure_year'] = admin['scheduled_departure_dt'].dt.year.astype('Int64')\n",
    "# admin['scheduled_departure_month'] = admin['scheduled_departure_dt'].dt.month.astype('Int64')\n",
    "# admin['scheduled_departure_day'] = admin['scheduled_departure_dt'].dt.day.astype('Int64')"
   ]
  },
  {
   "cell_type": "code",
   "execution_count": 33,
   "metadata": {},
   "outputs": [],
   "source": [
    "# admin['scheduled_arrival_dt'].dt.year.value_counts(dropna=False).sort_index()"
   ]
  },
  {
   "cell_type": "code",
   "execution_count": 34,
   "metadata": {},
   "outputs": [],
   "source": [
    "scheduled_arrival_missing_index = admin.loc[admin['scheduled_arrival_dt'].isnull(), 'scheduled_arrival_dt'].index.tolist()\n",
    "scheduled_departure_missing_index = admin.loc[admin['scheduled_departure_dt'].isnull(), 'scheduled_departure_dt'].index.tolist()\n",
    "estimated_arrival_missing_index = admin.loc[admin['estimated_arrival_dt'].isnull(), 'estimated_arrival_dt'].index.tolist()\n",
    "real_departure_missing_index = admin.loc[admin['real_departure_dt'].isnull(), 'real_departure_dt'].index.tolist()\n",
    "\n",
    "real_flight_duration_missing_index = admin[admin['real_flight_duration'].isnull()].index.tolist()"
   ]
  },
  {
   "cell_type": "code",
   "execution_count": 35,
   "metadata": {},
   "outputs": [
    {
     "name": "stdout",
     "output_type": "stream",
     "text": [
      "160380\n",
      "64318\n",
      "40619\n"
     ]
    }
   ],
   "source": [
    "print(len(real_flight_duration_missing_index))\n",
    "print(len(real_departure_missing_index))\n",
    "print(len(set(real_flight_duration_missing_index).intersection(real_departure_missing_index)))"
   ]
  },
  {
   "cell_type": "code",
   "execution_count": 36,
   "metadata": {},
   "outputs": [
    {
     "name": "stdout",
     "output_type": "stream",
     "text": [
      "151838\n",
      "151838\n",
      "True\n"
     ]
    }
   ],
   "source": [
    "print(len(scheduled_departure_missing_index))\n",
    "print(len(scheduled_arrival_missing_index))\n",
    "print(np.array_equal(scheduled_departure_missing_index, scheduled_arrival_missing_index))"
   ]
  },
  {
   "cell_type": "markdown",
   "metadata": {},
   "source": [
    "Observation: Rows with NaT for scheduled_arrival_dt also had NaT for scheduled_departure_dt"
   ]
  },
  {
   "cell_type": "code",
   "execution_count": 37,
   "metadata": {},
   "outputs": [
    {
     "name": "stdout",
     "output_type": "stream",
     "text": [
      "502967\n",
      "123294\n"
     ]
    }
   ],
   "source": [
    "print(len(estimated_arrival_missing_index))\n",
    "print(len(list(set(estimated_arrival_missing_index).intersection(set(scheduled_departure_missing_index)))))"
   ]
  },
  {
   "cell_type": "markdown",
   "metadata": {},
   "source": [
    "Observation: EstimatedArrival shares common missing values for ScheduledArrival and ScheduledDeparture"
   ]
  },
  {
   "cell_type": "code",
   "execution_count": 38,
   "metadata": {},
   "outputs": [
    {
     "name": "stdout",
     "output_type": "stream",
     "text": [
      "502967\n",
      "64318\n"
     ]
    }
   ],
   "source": [
    "print(len(estimated_arrival_missing_index))\n",
    "print(len(real_departure_missing_index))"
   ]
  },
  {
   "cell_type": "code",
   "execution_count": 39,
   "metadata": {},
   "outputs": [
    {
     "name": "stdout",
     "output_type": "stream",
     "text": [
      "False\n",
      "54251\n"
     ]
    }
   ],
   "source": [
    "print(np.array_equal(estimated_arrival_missing_index, real_departure_missing_index))\n",
    "print(len(list(set(real_departure_missing_index).intersection(set(estimated_arrival_missing_index)))))"
   ]
  },
  {
   "cell_type": "markdown",
   "metadata": {},
   "source": [
    "Observation: RealDeparture has 54251 common missing values with EstimatedArrival"
   ]
  },
  {
   "cell_type": "markdown",
   "metadata": {},
   "source": [
    "**real_flight_duration**"
   ]
  },
  {
   "cell_type": "code",
   "execution_count": 40,
   "metadata": {},
   "outputs": [
    {
     "data": {
      "text/plain": [
       "160380"
      ]
     },
     "execution_count": 40,
     "metadata": {},
     "output_type": "execute_result"
    }
   ],
   "source": [
    "admin['real_flight_duration'].isnull().sum()"
   ]
  },
  {
   "cell_type": "code",
   "execution_count": 41,
   "metadata": {
    "scrolled": true
   },
   "outputs": [
    {
     "data": {
      "text/plain": [
       "(0.0, 80947.0)"
      ]
     },
     "execution_count": 41,
     "metadata": {},
     "output_type": "execute_result"
    }
   ],
   "source": [
    "admin['real_flight_duration'].min(), admin['real_flight_duration'].max()"
   ]
  },
  {
   "cell_type": "code",
   "execution_count": 42,
   "metadata": {
    "scrolled": true
   },
   "outputs": [
    {
     "data": {
      "image/png": "[encoded data removed]",
      "text/plain": [
       "<Figure size 576x360 with 1 Axes>"
      ]
     },
     "metadata": {
      "needs_background": "light"
     },
     "output_type": "display_data"
    }
   ],
   "source": [
    "plot_histogram((8, 5), admin, 'real_flight_duration', '07-histogram-real_flight_duration')"
   ]
  },
  {
   "cell_type": "markdown",
   "metadata": {},
   "source": [
    "real_flight_duration is not normally distributed and its distribution is right-skewed."
   ]
  },
  {
   "cell_type": "code",
   "execution_count": 43,
   "metadata": {},
   "outputs": [
    {
     "data": {
      "text/plain": [
       "4135.0"
      ]
     },
     "execution_count": 43,
     "metadata": {},
     "output_type": "execute_result"
    }
   ],
   "source": [
    "# (admin['estimated_arrival'] - admin['real_departure'])[1].total_seconds()\n",
    "(admin['estimated_arrival_utc'] - admin['real_departure_utc'])[1]"
   ]
  },
  {
   "cell_type": "code",
   "execution_count": 44,
   "metadata": {},
   "outputs": [
    {
     "data": {
      "text/plain": [
       "3850.0"
      ]
     },
     "execution_count": 44,
     "metadata": {},
     "output_type": "execute_result"
    }
   ],
   "source": [
    "admin.real_flight_duration[1]"
   ]
  },
  {
   "cell_type": "markdown",
   "metadata": {},
   "source": [
    "real_flight_duration < (estimated_arrival - real_departure) for row 1 implying that the values don't match up"
   ]
  },
  {
   "cell_type": "markdown",
   "metadata": {},
   "source": [
    "**scheduled_departure_dt**"
   ]
  },
  {
   "cell_type": "code",
   "execution_count": 45,
   "metadata": {},
   "outputs": [
    {
     "data": {
      "text/plain": [
       "151838"
      ]
     },
     "execution_count": 45,
     "metadata": {},
     "output_type": "execute_result"
    }
   ],
   "source": [
    "admin['scheduled_departure_dt'].isnull().sum()"
   ]
  },
  {
   "cell_type": "code",
   "execution_count": 46,
   "metadata": {},
   "outputs": [
    {
     "data": {
      "text/plain": [
       "(Timestamp('2016-12-30 15:05:00'), Timestamp('2017-01-31 16:20:00'))"
      ]
     },
     "execution_count": 46,
     "metadata": {},
     "output_type": "execute_result"
    }
   ],
   "source": [
    "admin['scheduled_departure_dt'].min(), admin['scheduled_departure_dt'].max()"
   ]
  },
  {
   "cell_type": "code",
   "execution_count": 47,
   "metadata": {},
   "outputs": [
    {
     "data": {
      "image/png": "[encoded data removed]",
      "text/plain": [
       "<Figure size 576x504 with 1 Axes>"
      ]
     },
     "metadata": {
      "needs_background": "light"
     },
     "output_type": "display_data"
    }
   ],
   "source": [
    "plt.figure(figsize=(8, 7))\n",
    "admin.groupby(admin[\"scheduled_departure_dt\"].dt.date)['flight_id'].count().plot(kind=\"barh\")\n",
    "plt.title('Number of Flights by Scheduled Departure Dates', fontsize=12)\n",
    "plt.xlabel('Count', fontsize=12)\n",
    "plt.savefig('../images/01a-eda-admin/08-barchart-scheduled_departure_dt.png', transparent=True)"
   ]
  },
  {
   "cell_type": "markdown",
   "metadata": {},
   "source": [
    "2017-01-26 has the most number of scheduled departing flights."
   ]
  },
  {
   "cell_type": "code",
   "execution_count": 48,
   "metadata": {},
   "outputs": [
    {
     "data": {
      "text/plain": [
       "(7, 16)"
      ]
     },
     "execution_count": 48,
     "metadata": {},
     "output_type": "execute_result"
    }
   ],
   "source": [
    "admin[admin['scheduled_departure_dt'].dt.date == dt.date(2016, 12, 30)].shape"
   ]
  },
  {
   "cell_type": "markdown",
   "metadata": {},
   "source": [
    "**scheduled_arrival_dt**"
   ]
  },
  {
   "cell_type": "code",
   "execution_count": 49,
   "metadata": {},
   "outputs": [
    {
     "data": {
      "text/plain": [
       "151838"
      ]
     },
     "execution_count": 49,
     "metadata": {},
     "output_type": "execute_result"
    }
   ],
   "source": [
    "admin['scheduled_arrival_dt'].isnull().sum()"
   ]
  },
  {
   "cell_type": "code",
   "execution_count": 50,
   "metadata": {},
   "outputs": [
    {
     "data": {
      "text/plain": [
       "(Timestamp('2016-12-30 16:30:00'), Timestamp('2017-02-01 03:15:00'))"
      ]
     },
     "execution_count": 50,
     "metadata": {},
     "output_type": "execute_result"
    }
   ],
   "source": [
    "admin['scheduled_arrival_dt'].min(), admin['scheduled_arrival_dt'].max()"
   ]
  },
  {
   "cell_type": "code",
   "execution_count": 51,
   "metadata": {},
   "outputs": [
    {
     "data": {
      "image/png": "[encoded data removed]",
      "text/plain": [
       "<Figure size 576x504 with 1 Axes>"
      ]
     },
     "metadata": {
      "needs_background": "light"
     },
     "output_type": "display_data"
    }
   ],
   "source": [
    "plt.figure(figsize=(8, 7))\n",
    "admin.groupby(admin[\"scheduled_arrival_dt\"].dt.date)['flight_id'].count().plot(kind=\"barh\")\n",
    "plt.title('Number of Flights by Scheduled Arrival Dates', fontsize=12)\n",
    "plt.xlabel('Count', fontsize=12)\n",
    "plt.savefig('../images/01a-eda-admin/09-barchart-scheduled_arrival_dt.png', transparent=True)"
   ]
  },
  {
   "cell_type": "markdown",
   "metadata": {},
   "source": [
    "2017-01-26 has the most number of scheduled arriving flights."
   ]
  },
  {
   "cell_type": "code",
   "execution_count": 52,
   "metadata": {},
   "outputs": [
    {
     "data": {
      "text/plain": [
       "(2, 16)"
      ]
     },
     "execution_count": 52,
     "metadata": {},
     "output_type": "execute_result"
    }
   ],
   "source": [
    "admin[admin['scheduled_arrival_dt'].dt.date == dt.date(2016, 12, 30)].shape"
   ]
  },
  {
   "cell_type": "code",
   "execution_count": 53,
   "metadata": {},
   "outputs": [
    {
     "data": {
      "text/plain": [
       "(40, 16)"
      ]
     },
     "execution_count": 53,
     "metadata": {},
     "output_type": "execute_result"
    }
   ],
   "source": [
    "admin[admin['scheduled_arrival_dt'].dt.date == dt.date(2017, 2, 1)].shape"
   ]
  },
  {
   "cell_type": "markdown",
   "metadata": {},
   "source": [
    "**real_departure_dt**"
   ]
  },
  {
   "cell_type": "code",
   "execution_count": 54,
   "metadata": {},
   "outputs": [
    {
     "data": {
      "text/plain": [
       "2017.0    1084480\n",
       "NaN         64318\n",
       "2016.0       9329\n",
       "Name: real_departure_dt, dtype: int64"
      ]
     },
     "execution_count": 54,
     "metadata": {},
     "output_type": "execute_result"
    }
   ],
   "source": [
    "admin['real_departure_dt'].dt.year.value_counts(dropna=False)"
   ]
  },
  {
   "cell_type": "code",
   "execution_count": 55,
   "metadata": {},
   "outputs": [
    {
     "data": {
      "text/plain": [
       "(Timestamp('2016-12-31 00:52:07'), Timestamp('2017-01-31 15:25:31'))"
      ]
     },
     "execution_count": 55,
     "metadata": {},
     "output_type": "execute_result"
    }
   ],
   "source": [
    "admin['real_departure_dt'].min(), admin['real_departure_dt'].max()"
   ]
  },
  {
   "cell_type": "code",
   "execution_count": 56,
   "metadata": {
    "scrolled": true
   },
   "outputs": [
    {
     "data": {
      "image/png": "[encoded data removed]",
      "text/plain": [
       "<Figure size 576x576 with 1 Axes>"
      ]
     },
     "metadata": {
      "needs_background": "light"
     },
     "output_type": "display_data"
    }
   ],
   "source": [
    "plt.figure(figsize=(8, 8))\n",
    "admin.groupby(admin[\"real_departure_dt\"].dt.date)['flight_id'].count().plot(kind=\"barh\")\n",
    "plt.title('Number of Flights by Real Departure Dates', fontsize=12)\n",
    "plt.xlabel('Count', fontsize=12);\n",
    "plt.savefig('../images/01a-eda-admin/10-barchart-real_departure_dt.png', transparent=True)"
   ]
  },
  {
   "cell_type": "markdown",
   "metadata": {},
   "source": [
    "2017-01-26 has the most number of actual departing flights."
   ]
  },
  {
   "cell_type": "code",
   "execution_count": 57,
   "metadata": {},
   "outputs": [],
   "source": [
    "# admin.dropna(subset=['real_departure_dt'], inplace=True)"
   ]
  },
  {
   "cell_type": "markdown",
   "metadata": {},
   "source": [
    "**estimated_arrival_dt**"
   ]
  },
  {
   "cell_type": "code",
   "execution_count": 58,
   "metadata": {},
   "outputs": [
    {
     "data": {
      "text/plain": [
       "2017.0    650839\n",
       "NaN       502967\n",
       "2016.0      4321\n",
       "Name: estimated_arrival_dt, dtype: int64"
      ]
     },
     "execution_count": 58,
     "metadata": {},
     "output_type": "execute_result"
    }
   ],
   "source": [
    "admin['estimated_arrival_dt'].dt.year.value_counts(dropna=False)"
   ]
  },
  {
   "cell_type": "code",
   "execution_count": 59,
   "metadata": {},
   "outputs": [
    {
     "data": {
      "text/plain": [
       "(Timestamp('2016-12-31 13:51:54'), Timestamp('2017-02-01 04:01:04'))"
      ]
     },
     "execution_count": 59,
     "metadata": {},
     "output_type": "execute_result"
    }
   ],
   "source": [
    "admin['estimated_arrival_dt'].min(), admin['estimated_arrival_dt'].max()"
   ]
  },
  {
   "cell_type": "code",
   "execution_count": 60,
   "metadata": {
    "scrolled": true
   },
   "outputs": [
    {
     "data": {
      "image/png": "[encoded data removed]",
      "text/plain": [
       "<Figure size 576x504 with 1 Axes>"
      ]
     },
     "metadata": {
      "needs_background": "light"
     },
     "output_type": "display_data"
    }
   ],
   "source": [
    "plt.figure(figsize=(8, 7))\n",
    "admin.groupby(admin[\"estimated_arrival_dt\"].dt.date)['flight_id'].count().plot(kind=\"barh\")\n",
    "plt.title('Number of Flights by Estimated Arrival Dates', fontsize=12)\n",
    "plt.xlabel('Count', fontsize=12)\n",
    "plt.savefig('../images/01a-eda-admin/11-barchart-estimated_arrival_dt.png', transparent=True)"
   ]
  },
  {
   "cell_type": "code",
   "execution_count": 61,
   "metadata": {},
   "outputs": [
    {
     "data": {
      "text/plain": [
       "(30, 16)"
      ]
     },
     "execution_count": 61,
     "metadata": {},
     "output_type": "execute_result"
    }
   ],
   "source": [
    "admin[admin['estimated_arrival_dt'].dt.date == dt.date(2017, 2, 1)].shape"
   ]
  },
  {
   "cell_type": "markdown",
   "metadata": {},
   "source": [
    "**scheduled_flight_duration**"
   ]
  },
  {
   "cell_type": "code",
   "execution_count": 62,
   "metadata": {},
   "outputs": [],
   "source": [
    "admin['scheduled_flight_duration'] = admin['scheduled_arrival_utc'] - admin['scheduled_departure_utc']"
   ]
  },
  {
   "cell_type": "code",
   "execution_count": 63,
   "metadata": {},
   "outputs": [
    {
     "data": {
      "image/png": "[encoded data removed]",
      "text/plain": [
       "<Figure size 576x360 with 1 Axes>"
      ]
     },
     "metadata": {
      "needs_background": "light"
     },
     "output_type": "display_data"
    }
   ],
   "source": [
    "plot_histogram((8, 5), admin, 'scheduled_flight_duration', '12-histogram-scheduled_flight_duration')"
   ]
  },
  {
   "cell_type": "code",
   "execution_count": 64,
   "metadata": {},
   "outputs": [
    {
     "data": {
      "text/plain": [
       "(51, 17)"
      ]
     },
     "execution_count": 64,
     "metadata": {},
     "output_type": "execute_result"
    }
   ],
   "source": [
    "admin[admin['scheduled_flight_duration'] < 0].shape"
   ]
  },
  {
   "cell_type": "markdown",
   "metadata": {},
   "source": [
    "51 records where each of them have scheduled_arrival_utc earlier than scheduled scheduled_departure_utc which is not realistic."
   ]
  },
  {
   "cell_type": "code",
   "execution_count": 65,
   "metadata": {},
   "outputs": [],
   "source": [
    "# def cast_zero_to_nan(val):\n",
    "#     if int(val) == 0:\n",
    "#         return np.nan\n",
    "#     else:\n",
    "#         return val\n",
    "    \n",
    "# admin['scheduled_flight_duration'] = admin['scheduled_flight_duration'].map(cast_zero_to_nan)"
   ]
  },
  {
   "cell_type": "markdown",
   "metadata": {},
   "source": [
    "## Route"
   ]
  },
  {
   "cell_type": "code",
   "execution_count": 66,
   "metadata": {},
   "outputs": [],
   "source": [
    "admin['route'] = admin.origin + \" -> \" + admin.destination"
   ]
  },
  {
   "cell_type": "code",
   "execution_count": 67,
   "metadata": {},
   "outputs": [
    {
     "data": {
      "text/plain": [
       "Seoul Gimpo International Airport -> Jeju International Airport                                  2058\n",
       "Jeju International Airport -> Seoul Gimpo International Airport                                  1971\n",
       "Sydney Kingsford Smith Airport -> Melbourne Airport                                              1554\n",
       "Ho Chi Minh City International Airport -> Hanoi Noi Bai International Airport                    1466\n",
       "Melbourne Airport -> Sydney Kingsford Smith Airport                                              1454\n",
       "Hanoi Noi Bai International Airport -> Ho Chi Minh City International Airport                    1402\n",
       "Delhi Indira Gandhi International Airport -> Mumbai Chhatrapati Shivaji International Airport    1233\n",
       "Mumbai Chhatrapati Shivaji International Airport -> Delhi Indira Gandhi International Airport    1195\n",
       "Taiwan Taoyuan International Airport -> Hong Kong International Airport                          1151\n",
       "Hong Kong International Airport -> Taiwan Taoyuan International Airport                          1095\n",
       "Tokyo Haneda International Airport -> Fukuoka Airport                                            1051\n",
       "Sydney Kingsford Smith Airport -> Brisbane Airport                                               1022\n",
       "Brisbane Airport -> Sydney Kingsford Smith Airport                                                978\n",
       "Fukuoka Airport -> Tokyo Haneda International Airport                                             963\n",
       "Shanghai Hongqiao International Airport -> Shenzhen Bao'an International Airport                  957\n",
       "Beijing Capital International Airport -> Shanghai Hongqiao International Airport                  929\n",
       "Shenzhen Bao'an International Airport -> Shanghai Hongqiao International Airport                  922\n",
       "Shanghai Hongqiao International Airport -> Beijing Capital International Airport                  911\n",
       "Riyadh King Khalid International Airport -> Jeddah King Abdulaziz International Airport           876\n",
       "Jeddah King Abdulaziz International Airport -> Riyadh King Khalid International Airport           861\n",
       "Name: route, dtype: int64"
      ]
     },
     "execution_count": 67,
     "metadata": {},
     "output_type": "execute_result"
    }
   ],
   "source": [
    "admin.loc[~admin['route'].str.contains('EMPTY') ,'route'].value_counts()[:20]"
   ]
  },
  {
   "cell_type": "code",
   "execution_count": 68,
   "metadata": {},
   "outputs": [
    {
     "data": {
      "image/png": "[encoded data removed]",
      "text/plain": [
       "<Figure size 576x360 with 1 Axes>"
      ]
     },
     "metadata": {
      "needs_background": "light"
     },
     "output_type": "display_data"
    }
   ],
   "source": [
    "# Plot barchart\n",
    "plt.figure(figsize=(8, 5))\n",
    "sns.countplot(y='route', data=admin[~admin['route'].str.contains('EMPTY')], orient='v',\n",
    "              order=admin.loc[~admin['route'].str.contains('EMPTY') ,'route'].value_counts()[:10].index)\n",
    "\n",
    "plt.title('Top 10 routes', fontsize=12)\n",
    "plt.xlabel('count', fontsize=12)\n",
    "plt.ylabel('route', fontsize=12)\n",
    "\n",
    "plt.savefig('../images/01a-eda-admin/13-barchart-route.png', transparent=True)"
   ]
  },
  {
   "cell_type": "markdown",
   "metadata": {},
   "source": [
    "Taiwan Taoyuan International Airport -> Hong Kong International Airport is chosen as the route for analysis as it's the top international route."
   ]
  },
  {
   "cell_type": "code",
   "execution_count": 69,
   "metadata": {
    "scrolled": true
   },
   "outputs": [
    {
     "data": {
      "text/plain": [
       "flight_id                         0\n",
       "flight_callsign                   0\n",
       "aircraft_model                    0\n",
       "aircraft_registration             0\n",
       "airline                           0\n",
       "origin                            0\n",
       "destination                       0\n",
       "scheduled_departure_utc      151838\n",
       "scheduled_arrival_utc        151838\n",
       "real_departure_utc            64318\n",
       "estimated_arrival_utc        502967\n",
       "real_flight_duration         160380\n",
       "scheduled_departure_dt       151838\n",
       "scheduled_arrival_dt         151838\n",
       "real_departure_dt             64318\n",
       "estimated_arrival_dt         502967\n",
       "scheduled_flight_duration    151838\n",
       "route                             0\n",
       "dtype: int64"
      ]
     },
     "execution_count": 69,
     "metadata": {},
     "output_type": "execute_result"
    }
   ],
   "source": [
    "admin.isnull().sum()"
   ]
  },
  {
   "cell_type": "markdown",
   "metadata": {},
   "source": [
    "## Arrivals at Hong Kong International Airport"
   ]
  },
  {
   "cell_type": "code",
   "execution_count": 70,
   "metadata": {},
   "outputs": [
    {
     "data": {
      "text/html": [
       "<div>\n",
       "<style scoped>\n",
       "    .dataframe tbody tr th:only-of-type {\n",
       "        vertical-align: middle;\n",
       "    }\n",
       "\n",
       "    .dataframe tbody tr th {\n",
       "        vertical-align: top;\n",
       "    }\n",
       "\n",
       "    .dataframe thead th {\n",
       "        text-align: right;\n",
       "    }\n",
       "</style>\n",
       "<table border=\"1\" class=\"dataframe\">\n",
       "  <thead>\n",
       "    <tr style=\"text-align: right;\">\n",
       "      <th></th>\n",
       "      <th>flight_id</th>\n",
       "      <th>flight_callsign</th>\n",
       "      <th>aircraft_model</th>\n",
       "      <th>aircraft_registration</th>\n",
       "      <th>airline</th>\n",
       "      <th>origin</th>\n",
       "      <th>destination</th>\n",
       "      <th>scheduled_departure_utc</th>\n",
       "      <th>scheduled_arrival_utc</th>\n",
       "      <th>real_departure_utc</th>\n",
       "      <th>estimated_arrival_utc</th>\n",
       "      <th>real_flight_duration</th>\n",
       "      <th>scheduled_departure_dt</th>\n",
       "      <th>scheduled_arrival_dt</th>\n",
       "      <th>real_departure_dt</th>\n",
       "      <th>estimated_arrival_dt</th>\n",
       "      <th>scheduled_flight_duration</th>\n",
       "      <th>route</th>\n",
       "    </tr>\n",
       "  </thead>\n",
       "  <tbody>\n",
       "    <tr>\n",
       "      <th>0</th>\n",
       "      <td>c37d285</td>\n",
       "      <td>CAL680</td>\n",
       "      <td>Airbus A330-302</td>\n",
       "      <td>B-18302</td>\n",
       "      <td>China Airlines</td>\n",
       "      <td>Jakarta Soekarno Hatta International Airport</td>\n",
       "      <td>Hong Kong International Airport</td>\n",
       "      <td>1.484869e+09</td>\n",
       "      <td>1.484885e+09</td>\n",
       "      <td>1.484871e+09</td>\n",
       "      <td>NaN</td>\n",
       "      <td>15588.0</td>\n",
       "      <td>2017-01-19 23:35:00</td>\n",
       "      <td>2017-01-20 04:10:00</td>\n",
       "      <td>2017-01-20 00:01:56</td>\n",
       "      <td>NaT</td>\n",
       "      <td>16500.0</td>\n",
       "      <td>Jakarta Soekarno Hatta International Airport -...</td>\n",
       "    </tr>\n",
       "    <tr>\n",
       "      <th>1</th>\n",
       "      <td>c1774c7</td>\n",
       "      <td>CPA3259</td>\n",
       "      <td>Boeing 747-467F(ER)</td>\n",
       "      <td>B-LID</td>\n",
       "      <td>Cathay Pacific Cargo</td>\n",
       "      <td>Shanghai Pudong International Airport</td>\n",
       "      <td>Hong Kong International Airport</td>\n",
       "      <td>1.483675e+09</td>\n",
       "      <td>1.483685e+09</td>\n",
       "      <td>1.483677e+09</td>\n",
       "      <td>NaN</td>\n",
       "      <td>7960.0</td>\n",
       "      <td>2017-01-06 03:50:00</td>\n",
       "      <td>2017-01-06 06:50:00</td>\n",
       "      <td>2017-01-06 04:21:57</td>\n",
       "      <td>NaT</td>\n",
       "      <td>10800.0</td>\n",
       "      <td>Shanghai Pudong International Airport -&gt; Hong ...</td>\n",
       "    </tr>\n",
       "  </tbody>\n",
       "</table>\n",
       "</div>"
      ],
      "text/plain": [
       "  flight_id flight_callsign       aircraft_model aircraft_registration  \\\n",
       "0   c37d285          CAL680      Airbus A330-302               B-18302   \n",
       "1   c1774c7         CPA3259  Boeing 747-467F(ER)                 B-LID   \n",
       "\n",
       "                airline                                        origin  \\\n",
       "0        China Airlines  Jakarta Soekarno Hatta International Airport   \n",
       "1  Cathay Pacific Cargo         Shanghai Pudong International Airport   \n",
       "\n",
       "                       destination  scheduled_departure_utc  \\\n",
       "0  Hong Kong International Airport             1.484869e+09   \n",
       "1  Hong Kong International Airport             1.483675e+09   \n",
       "\n",
       "   scheduled_arrival_utc  real_departure_utc  estimated_arrival_utc  \\\n",
       "0           1.484885e+09        1.484871e+09                    NaN   \n",
       "1           1.483685e+09        1.483677e+09                    NaN   \n",
       "\n",
       "   real_flight_duration scheduled_departure_dt scheduled_arrival_dt  \\\n",
       "0               15588.0    2017-01-19 23:35:00  2017-01-20 04:10:00   \n",
       "1                7960.0    2017-01-06 03:50:00  2017-01-06 06:50:00   \n",
       "\n",
       "    real_departure_dt estimated_arrival_dt  scheduled_flight_duration  \\\n",
       "0 2017-01-20 00:01:56                  NaT                    16500.0   \n",
       "1 2017-01-06 04:21:57                  NaT                    10800.0   \n",
       "\n",
       "                                               route  \n",
       "0  Jakarta Soekarno Hatta International Airport -...  \n",
       "1  Shanghai Pudong International Airport -> Hong ...  "
      ]
     },
     "execution_count": 70,
     "metadata": {},
     "output_type": "execute_result"
    }
   ],
   "source": [
    "df_arrivals_at_hkg = admin[admin['destination'] == 'Hong Kong International Airport']\n",
    "df_arrivals_at_hkg.reset_index(inplace=True, drop=True)\n",
    "df_arrivals_at_hkg.head(2)"
   ]
  },
  {
   "cell_type": "code",
   "execution_count": 71,
   "metadata": {},
   "outputs": [
    {
     "data": {
      "text/plain": [
       "(14007, 18)"
      ]
     },
     "execution_count": 71,
     "metadata": {},
     "output_type": "execute_result"
    }
   ],
   "source": [
    "df_arrivals_at_hkg.shape"
   ]
  },
  {
   "cell_type": "code",
   "execution_count": 72,
   "metadata": {},
   "outputs": [
    {
     "data": {
      "text/plain": [
       "flight_id                       0\n",
       "flight_callsign                 0\n",
       "aircraft_model                  0\n",
       "aircraft_registration           0\n",
       "airline                         0\n",
       "origin                          0\n",
       "destination                     0\n",
       "scheduled_departure_utc       605\n",
       "scheduled_arrival_utc         605\n",
       "real_departure_utc             92\n",
       "estimated_arrival_utc        8328\n",
       "real_flight_duration          590\n",
       "scheduled_departure_dt        605\n",
       "scheduled_arrival_dt          605\n",
       "real_departure_dt              92\n",
       "estimated_arrival_dt         8328\n",
       "scheduled_flight_duration     605\n",
       "route                           0\n",
       "dtype: int64"
      ]
     },
     "execution_count": 72,
     "metadata": {},
     "output_type": "execute_result"
    }
   ],
   "source": [
    "df_arrivals_at_hkg.isnull().sum()"
   ]
  },
  {
   "cell_type": "code",
   "execution_count": 73,
   "metadata": {},
   "outputs": [],
   "source": [
    "# df_arrivals_at_hkg.dropna(subset=['real_departure_dt'], inplace=True)"
   ]
  },
  {
   "cell_type": "code",
   "execution_count": 74,
   "metadata": {},
   "outputs": [
    {
     "data": {
      "text/plain": [
       "2016.0      155\n",
       "2017.0    13247\n",
       "NaN         605\n",
       "Name: scheduled_departure_dt, dtype: int64"
      ]
     },
     "execution_count": 74,
     "metadata": {},
     "output_type": "execute_result"
    }
   ],
   "source": [
    "df_arrivals_at_hkg['scheduled_departure_dt'].dt.year.value_counts(dropna=False).sort_index()"
   ]
  },
  {
   "cell_type": "code",
   "execution_count": 75,
   "metadata": {},
   "outputs": [
    {
     "data": {
      "text/plain": [
       "2016.0       71\n",
       "2017.0    13331\n",
       "NaN         605\n",
       "Name: scheduled_arrival_dt, dtype: int64"
      ]
     },
     "execution_count": 75,
     "metadata": {},
     "output_type": "execute_result"
    }
   ],
   "source": [
    "df_arrivals_at_hkg['scheduled_arrival_dt'].dt.year.value_counts(dropna=False).sort_index()"
   ]
  },
  {
   "cell_type": "code",
   "execution_count": 76,
   "metadata": {},
   "outputs": [
    {
     "data": {
      "text/plain": [
       "2016.0      152\n",
       "2017.0    13763\n",
       "NaN          92\n",
       "Name: real_departure_dt, dtype: int64"
      ]
     },
     "execution_count": 76,
     "metadata": {},
     "output_type": "execute_result"
    }
   ],
   "source": [
    "df_arrivals_at_hkg['real_departure_dt'].dt.year.value_counts(dropna=False).sort_index()"
   ]
  },
  {
   "cell_type": "code",
   "execution_count": 77,
   "metadata": {},
   "outputs": [
    {
     "data": {
      "text/plain": [
       "2016.0      33\n",
       "2017.0    5646\n",
       "NaN       8328\n",
       "Name: estimated_arrival_dt, dtype: int64"
      ]
     },
     "execution_count": 77,
     "metadata": {},
     "output_type": "execute_result"
    }
   ],
   "source": [
    "df_arrivals_at_hkg['estimated_arrival_dt'].dt.year.value_counts(dropna=False).sort_index()"
   ]
  },
  {
   "cell_type": "code",
   "execution_count": 78,
   "metadata": {},
   "outputs": [],
   "source": [
    "# df_arrivals_at_hkg.loc[(df_arrivals_at_hkg['origin'] == 'Taiwan Taoyuan International Airport') &\n",
    "#                        (df_arrivals_at_hkg['real_flight_duration'].isnull())]"
   ]
  },
  {
   "cell_type": "code",
   "execution_count": 79,
   "metadata": {},
   "outputs": [],
   "source": [
    "# Impute missing information using median based on origin\n",
    "df_arrivals_at_hkg['scheduled_flight_duration'] = df_arrivals_at_hkg.groupby(\"origin\")['scheduled_flight_duration'].transform(lambda x: x.fillna(x.median()))\n",
    "df_arrivals_at_hkg['real_flight_duration'] = df_arrivals_at_hkg.groupby(\"origin\")['real_flight_duration'].transform(lambda x: x.fillna(x.median()))"
   ]
  },
  {
   "cell_type": "markdown",
   "metadata": {},
   "source": [
    "**Using estimated arrival as benchmark**"
   ]
  },
  {
   "cell_type": "code",
   "execution_count": 80,
   "metadata": {},
   "outputs": [],
   "source": [
    "# (df_arrivals_at_hkg['estimated_arrival_dt'].fillna(df_arrivals_at_hkg['real_departure_dt'] + \n",
    "#                                                     pd.to_timedelta(df_arrivals_at_hkg['real_flight_duration'], unit='s'))).isnull().sum()\n",
    "\n",
    "# # replace estimated arrival\n",
    "\n",
    "# df_arrivals_at_hkg['forecasted_arrival_dt'] = \\\n",
    "# df_arrivals_at_hkg['estimated_arrival_dt']\\\n",
    "# .fillna(df_arrivals_at_hkg['real_departure_dt'] + pd.to_timedelta(df_arrivals_at_hkg['real_flight_duration'], unit='s'))\\\n",
    "# .fillna(df_arrivals_at_hkg['real_departure_dt'] + pd.to_timedelta(df_arrivals_at_hkg['scheduled_flight_duration'], unit='s'))\\\n",
    "# .fillna(df_arrivals_at_hkg['scheduled_arrival_dt'])\\\n",
    "# .fillna(df_arrivals_at_hkg['scheduled_departure_dt'] + pd.to_timedelta(df_arrivals_at_hkg['real_flight_duration'], unit='s'))\n",
    "\n",
    "# df_arrivals_at_hkg['forecasted_arrival_dt'].isnull().sum()"
   ]
  },
  {
   "cell_type": "markdown",
   "metadata": {},
   "source": [
    "**Using real departure as benchmark**"
   ]
  },
  {
   "cell_type": "code",
   "execution_count": 81,
   "metadata": {},
   "outputs": [],
   "source": [
    "df_arrivals_at_hkg['forecasted_arrival_dt'] = \\\n",
    "(df_arrivals_at_hkg['real_departure_dt'] + pd.to_timedelta(df_arrivals_at_hkg['real_flight_duration'], unit='s'))\\\n",
    ".fillna(df_arrivals_at_hkg['real_departure_dt'] + pd.to_timedelta(df_arrivals_at_hkg['scheduled_flight_duration'], unit='s'))\\\n",
    ".fillna(df_arrivals_at_hkg['scheduled_departure_dt'] + pd.to_timedelta(df_arrivals_at_hkg['real_flight_duration'], unit='s'))\\\n",
    ".fillna(df_arrivals_at_hkg['scheduled_arrival_dt'])\\\n",
    ".fillna(df_arrivals_at_hkg['estimated_arrival_dt'])"
   ]
  },
  {
   "cell_type": "code",
   "execution_count": 82,
   "metadata": {},
   "outputs": [],
   "source": [
    "# remove records where forecasted_arrival_dt is null\n",
    "df_arrivals_at_hkg = df_arrivals_at_hkg[~df_arrivals_at_hkg['forecasted_arrival_dt'].isnull()]"
   ]
  },
  {
   "cell_type": "code",
   "execution_count": 83,
   "metadata": {},
   "outputs": [
    {
     "data": {
      "text/plain": [
       "(13906, 19)"
      ]
     },
     "execution_count": 83,
     "metadata": {},
     "output_type": "execute_result"
    }
   ],
   "source": [
    "df_arrivals_at_hkg.shape"
   ]
  },
  {
   "cell_type": "markdown",
   "metadata": {},
   "source": [
    "101 records removed."
   ]
  },
  {
   "cell_type": "code",
   "execution_count": 84,
   "metadata": {},
   "outputs": [
    {
     "data": {
      "image/png": "[encoded data removed]",
      "text/plain": [
       "<Figure size 576x360 with 1 Axes>"
      ]
     },
     "metadata": {
      "needs_background": "light"
     },
     "output_type": "display_data"
    }
   ],
   "source": [
    "df_arrivals_per_30_min = df_arrivals_at_hkg.set_index('forecasted_arrival_dt').resample('30Min').count().reset_index()\\\n",
    "[['forecasted_arrival_dt', 'flight_id']]\n",
    "df_arrivals_per_30_min.rename(columns={'flight_id': 'arrivals'}, inplace=True)\n",
    "df_arrivals_per_30_min.set_index('forecasted_arrival_dt', inplace=True)\n",
    "\n",
    "# Plot histogram of arrivals within 30 min interval\n",
    "plt.figure(figsize=(8, 5))\n",
    "sns.distplot(df_arrivals_per_30_min['arrivals'].dropna())\n",
    "\n",
    "plt.title('Histogram of arrivals within 30 min interval', fontsize=12)\n",
    "plt.xlabel('arrivals within 30 min interval', fontsize=12)\n",
    "plt.ylabel('Frequency', fontsize=12)\n",
    "\n",
    "plt.savefig('../images/01a-eda-admin/14-histogram-arrivals_within_30_min_intervals.png', transparent=True)"
   ]
  },
  {
   "cell_type": "code",
   "execution_count": 85,
   "metadata": {},
   "outputs": [
    {
     "data": {
      "image/png": "[encoded data removed]",
      "text/plain": [
       "<Figure size 576x360 with 1 Axes>"
      ]
     },
     "metadata": {
      "needs_background": "light"
     },
     "output_type": "display_data"
    }
   ],
   "source": [
    "df_arrivals_per_60_min = df_arrivals_at_hkg.set_index('forecasted_arrival_dt').resample('60Min').count().reset_index()\\\n",
    "[['forecasted_arrival_dt', 'flight_id']]\n",
    "df_arrivals_per_60_min.rename(columns={'flight_id': 'arrivals'}, inplace=True)\n",
    "df_arrivals_per_60_min.set_index('forecasted_arrival_dt', inplace=True)\n",
    "\n",
    "# Plot histogram of arrivals within 30 min interval\n",
    "plt.figure(figsize=(8, 5))\n",
    "sns.distplot(df_arrivals_per_60_min['arrivals'].dropna())\n",
    "\n",
    "plt.title('Histogram of arrivals within 60 min interval', fontsize=12)\n",
    "plt.xlabel('arrivals within 60 min interval', fontsize=12)\n",
    "plt.ylabel('Frequency', fontsize=12)\n",
    "\n",
    "plt.savefig('../images/01a-eda-admin/15-histogram-arrivals_within_60_min_intervals.png', transparent=True)"
   ]
  },
  {
   "cell_type": "code",
   "execution_count": 86,
   "metadata": {},
   "outputs": [
    {
     "data": {
      "text/plain": [
       "0   2017-01-20 04:00:00\n",
       "1   2017-01-06 06:00:00\n",
       "2   2017-01-03 09:00:00\n",
       "3   2017-01-26 09:00:00\n",
       "4   2017-01-15 03:00:00\n",
       "Name: forecasted_arrival_dt_nearest_hr, dtype: datetime64[ns]"
      ]
     },
     "execution_count": 86,
     "metadata": {},
     "output_type": "execute_result"
    }
   ],
   "source": [
    "df_arrivals_at_hkg['forecasted_arrival_dt_nearest_hr'] = df_arrivals_at_hkg['forecasted_arrival_dt'].apply(lambda x: dt.datetime(x.year, x.month, x.day, x.hour,60*(x.minute // 60)))\n",
    "df_arrivals_at_hkg['forecasted_arrival_dt_nearest_hr'].head()"
   ]
  },
  {
   "cell_type": "code",
   "execution_count": 87,
   "metadata": {},
   "outputs": [],
   "source": [
    "df_arrivals_at_hkg['arrivals'] = df_arrivals_at_hkg['forecasted_arrival_dt_nearest_hr'].map(df_arrivals_per_60_min.to_dict()['arrivals'])"
   ]
  },
  {
   "cell_type": "code",
   "execution_count": 88,
   "metadata": {},
   "outputs": [],
   "source": [
    "# df_arrivals_at_hkg.loc[df_arrivals_at_hkg['forecasted_arrival_dt'].isnull(), \n",
    "#                        ['flight_id', 'estimated_arrival_utc', 'real_flight_duration', \n",
    "#                         'scheduled_departure_dt', 'scheduled_arrival_dt',\n",
    "#                         'real_departure_dt', 'estimated_arrival_dt', 'scheduled_flight_duration',\n",
    "#                         'forecasted_arrival_dt']].sort_values(by='real_departure_dt')"
   ]
  },
  {
   "cell_type": "markdown",
   "metadata": {},
   "source": [
    "## Filter for flights between Taiwan Taoyuan International Airport to Hong Kong International Airport"
   ]
  },
  {
   "cell_type": "code",
   "execution_count": 89,
   "metadata": {},
   "outputs": [],
   "source": [
    "df_twn_to_hkg = df_arrivals_at_hkg[df_arrivals_at_hkg['origin'] == 'Taiwan Taoyuan International Airport']"
   ]
  },
  {
   "cell_type": "code",
   "execution_count": 90,
   "metadata": {},
   "outputs": [],
   "source": [
    "scheduled_arrival_missing_index = df_twn_to_hkg.loc[df_twn_to_hkg['scheduled_arrival_dt'].isnull(), 'scheduled_arrival_dt'].index.tolist()\n",
    "\n",
    "scheduled_departure_missing_index = df_twn_to_hkg.loc[df_twn_to_hkg['scheduled_departure_dt'].isnull(), 'scheduled_departure_dt'].index.tolist()\n",
    "\n",
    "estimated_arrival_missing_index = df_twn_to_hkg.loc[df_twn_to_hkg['estimated_arrival_dt'].isnull(), 'estimated_arrival_dt'].index.tolist()\n",
    "\n",
    "real_departure_missing_index = df_twn_to_hkg.loc[df_twn_to_hkg['real_departure_dt'].isnull(), 'real_departure_dt'].index.tolist()\n",
    "\n",
    "real_flight_duration_missing_index = df_twn_to_hkg.loc[df_twn_to_hkg['real_flight_duration'].isnull(), 'real_flight_duration'].index.tolist()\n",
    "scheduled_flight_duration_missing_index = df_twn_to_hkg.loc[df_twn_to_hkg['scheduled_flight_duration'].isnull(), 'scheduled_flight_duration'].index.tolist()"
   ]
  },
  {
   "cell_type": "code",
   "execution_count": 91,
   "metadata": {},
   "outputs": [
    {
     "name": "stdout",
     "output_type": "stream",
     "text": [
      "31\n",
      "\n",
      "31\n",
      "\n",
      "772\n",
      "\n",
      "3\n",
      "\n",
      "0\n",
      "0\n"
     ]
    }
   ],
   "source": [
    "print(len(scheduled_departure_missing_index))\n",
    "print('')\n",
    "\n",
    "print(len(scheduled_arrival_missing_index))\n",
    "print('')\n",
    "\n",
    "print(len(estimated_arrival_missing_index))\n",
    "print('')\n",
    "\n",
    "print(len(real_departure_missing_index))\n",
    "print('')\n",
    "\n",
    "print(len(real_flight_duration_missing_index))\n",
    "print(len(scheduled_flight_duration_missing_index))"
   ]
  },
  {
   "cell_type": "code",
   "execution_count": 92,
   "metadata": {},
   "outputs": [
    {
     "name": "stdout",
     "output_type": "stream",
     "text": [
      "True\n"
     ]
    }
   ],
   "source": [
    "print(np.array_equal(scheduled_departure_missing_index, \n",
    "                     scheduled_arrival_missing_index))"
   ]
  },
  {
   "cell_type": "markdown",
   "metadata": {},
   "source": [
    "**Observation: Rows with NaT for scheduled_arrival_dt also had NaT for scheduled_departure_dt**"
   ]
  },
  {
   "cell_type": "code",
   "execution_count": 93,
   "metadata": {},
   "outputs": [
    {
     "name": "stdout",
     "output_type": "stream",
     "text": [
      "772\n",
      "26\n"
     ]
    }
   ],
   "source": [
    "print(len(estimated_arrival_missing_index))\n",
    "print(len(list(set(estimated_arrival_missing_index).intersection(set(scheduled_departure_missing_index)))))"
   ]
  },
  {
   "cell_type": "markdown",
   "metadata": {},
   "source": [
    "**Observation: EstimatedArrival shares common missing values for ScheduledArrival and ScheduledDeparture**"
   ]
  },
  {
   "cell_type": "code",
   "execution_count": 94,
   "metadata": {},
   "outputs": [
    {
     "name": "stdout",
     "output_type": "stream",
     "text": [
      "772\n",
      "3\n"
     ]
    }
   ],
   "source": [
    "print(len(estimated_arrival_missing_index))\n",
    "print(len(real_departure_missing_index))"
   ]
  },
  {
   "cell_type": "code",
   "execution_count": 95,
   "metadata": {},
   "outputs": [
    {
     "name": "stdout",
     "output_type": "stream",
     "text": [
      "False\n",
      "3\n"
     ]
    }
   ],
   "source": [
    "print(np.array_equal(estimated_arrival_missing_index, real_departure_missing_index))\n",
    "print(len(list(set(real_departure_missing_index).intersection(set(estimated_arrival_missing_index)))))"
   ]
  },
  {
   "cell_type": "code",
   "execution_count": 96,
   "metadata": {},
   "outputs": [
    {
     "name": "stdout",
     "output_type": "stream",
     "text": [
      "0\n"
     ]
    }
   ],
   "source": [
    "print(len(list(set(real_departure_missing_index)\n",
    "               .intersection(set(real_flight_duration_missing_index)))))"
   ]
  },
  {
   "cell_type": "markdown",
   "metadata": {},
   "source": [
    "**Drop rows with no origin information**"
   ]
  },
  {
   "cell_type": "code",
   "execution_count": 97,
   "metadata": {},
   "outputs": [
    {
     "data": {
      "text/plain": [
       "[]"
      ]
     },
     "execution_count": 97,
     "metadata": {},
     "output_type": "execute_result"
    }
   ],
   "source": [
    "# Drop origin == 'EMPTY'\n",
    "flight_id_no_origin = df_arrivals_at_hkg.loc[df_arrivals_at_hkg['origin']=='EMPTY', 'flight_id'].values.tolist()\n",
    "flight_id_no_origin = list(set(flight_id_no_origin))\n",
    "flight_id_no_origin"
   ]
  },
  {
   "cell_type": "code",
   "execution_count": 98,
   "metadata": {},
   "outputs": [],
   "source": [
    "# df_arrivals_at_hkg = df_arrivals_at_hkg[~df_arrivals_at_hkg.flight_id.isin(flight_id_no_origin)]"
   ]
  },
  {
   "cell_type": "markdown",
   "metadata": {},
   "source": [
    "**Handle flights with no real_flight_duration**"
   ]
  },
  {
   "cell_type": "code",
   "execution_count": 99,
   "metadata": {},
   "outputs": [
    {
     "data": {
      "text/plain": [
       "Series([], Name: origin, dtype: int64)"
      ]
     },
     "execution_count": 99,
     "metadata": {},
     "output_type": "execute_result"
    }
   ],
   "source": [
    "# Flights with NaN for real_flight_duration\n",
    "set_null_real_flight_dur_origin = set(df_twn_to_hkg.loc[df_twn_to_hkg['real_flight_duration'].isnull(), 'origin'].unique())\n",
    "df_twn_to_hkg.loc[df_twn_to_hkg['real_flight_duration'].isnull(), 'origin'].value_counts().sort_index()"
   ]
  },
  {
   "cell_type": "code",
   "execution_count": 100,
   "metadata": {},
   "outputs": [
    {
     "data": {
      "text/plain": [
       "Taiwan Taoyuan International Airport    1150\n",
       "Name: origin, dtype: int64"
      ]
     },
     "execution_count": 100,
     "metadata": {},
     "output_type": "execute_result"
    }
   ],
   "source": [
    "# Flights with values for real_flight_duration\n",
    "df_twn_to_hkg.loc[~df_twn_to_hkg['real_flight_duration'].isnull(), 'origin'].value_counts().sort_index()"
   ]
  },
  {
   "cell_type": "code",
   "execution_count": 101,
   "metadata": {},
   "outputs": [],
   "source": [
    "set_real_flight_dur_origin = set(df_twn_to_hkg.loc[~df_twn_to_hkg['real_flight_duration'].isnull(), 'origin'].unique())"
   ]
  },
  {
   "cell_type": "code",
   "execution_count": 102,
   "metadata": {},
   "outputs": [
    {
     "data": {
      "text/plain": [
       "set()"
      ]
     },
     "execution_count": 102,
     "metadata": {},
     "output_type": "execute_result"
    }
   ],
   "source": [
    "# Flights with NaN for real_flight_duration but no flights with matching origin\n",
    "set_null_real_flight_dur_origin - set_null_real_flight_dur_origin.intersection(set_real_flight_dur_origin)"
   ]
  },
  {
   "cell_type": "code",
   "execution_count": 103,
   "metadata": {},
   "outputs": [
    {
     "data": {
      "text/plain": [
       "Series([], Name: origin, dtype: int64)"
      ]
     },
     "execution_count": 103,
     "metadata": {},
     "output_type": "execute_result"
    }
   ],
   "source": [
    "set_null_real_flight_dur_origin = set(df_twn_to_hkg.loc[df_twn_to_hkg['real_flight_duration'].isnull(), 'origin'].unique())\n",
    "df_twn_to_hkg.loc[df_twn_to_hkg['real_flight_duration'].isnull(), 'origin'].value_counts().sort_index()"
   ]
  },
  {
   "cell_type": "code",
   "execution_count": 104,
   "metadata": {},
   "outputs": [
    {
     "data": {
      "text/plain": [
       "(1150, 21)"
      ]
     },
     "execution_count": 104,
     "metadata": {},
     "output_type": "execute_result"
    }
   ],
   "source": [
    "df_twn_to_hkg.shape"
   ]
  },
  {
   "cell_type": "code",
   "execution_count": 105,
   "metadata": {},
   "outputs": [
    {
     "data": {
      "text/html": [
       "<div>\n",
       "<style scoped>\n",
       "    .dataframe tbody tr th:only-of-type {\n",
       "        vertical-align: middle;\n",
       "    }\n",
       "\n",
       "    .dataframe tbody tr th {\n",
       "        vertical-align: top;\n",
       "    }\n",
       "\n",
       "    .dataframe thead th {\n",
       "        text-align: right;\n",
       "    }\n",
       "</style>\n",
       "<table border=\"1\" class=\"dataframe\">\n",
       "  <thead>\n",
       "    <tr style=\"text-align: right;\">\n",
       "      <th></th>\n",
       "      <th>origin</th>\n",
       "      <th>scheduled_departure_dt</th>\n",
       "    </tr>\n",
       "  </thead>\n",
       "  <tbody>\n",
       "    <tr>\n",
       "      <th>2036</th>\n",
       "      <td>Taiwan Taoyuan International Airport</td>\n",
       "      <td>2017-01-29 13:50:00</td>\n",
       "    </tr>\n",
       "    <tr>\n",
       "      <th>4506</th>\n",
       "      <td>Taiwan Taoyuan International Airport</td>\n",
       "      <td>2017-01-15 05:20:00</td>\n",
       "    </tr>\n",
       "    <tr>\n",
       "      <th>12389</th>\n",
       "      <td>Taiwan Taoyuan International Airport</td>\n",
       "      <td>2017-01-20 04:50:00</td>\n",
       "    </tr>\n",
       "  </tbody>\n",
       "</table>\n",
       "</div>"
      ],
      "text/plain": [
       "                                     origin scheduled_departure_dt\n",
       "2036   Taiwan Taoyuan International Airport    2017-01-29 13:50:00\n",
       "4506   Taiwan Taoyuan International Airport    2017-01-15 05:20:00\n",
       "12389  Taiwan Taoyuan International Airport    2017-01-20 04:50:00"
      ]
     },
     "execution_count": 105,
     "metadata": {},
     "output_type": "execute_result"
    }
   ],
   "source": [
    "df_twn_to_hkg.loc[df_twn_to_hkg['real_departure_dt'].isnull(), ['origin', 'scheduled_departure_dt']]"
   ]
  },
  {
   "cell_type": "code",
   "execution_count": 106,
   "metadata": {},
   "outputs": [],
   "source": [
    "df_twn_to_hkg['real_departure_dt'] = df_twn_to_hkg['real_departure_dt'].fillna(df_twn_to_hkg['scheduled_departure_dt'])"
   ]
  },
  {
   "cell_type": "code",
   "execution_count": 107,
   "metadata": {},
   "outputs": [],
   "source": [
    "df_twn_to_hkg.to_csv('../data/admin_twn_to_hkg.csv')"
   ]
  },
  {
   "cell_type": "code",
   "execution_count": null,
   "metadata": {},
   "outputs": [],
   "source": []
  }
 ],
 "metadata": {
  "kernelspec": {
   "display_name": "Python 3",
   "language": "python",
   "name": "python3"
  },
  "language_info": {
   "codemirror_mode": {
    "name": "ipython",
    "version": 3
   },
   "file_extension": ".py",
   "mimetype": "text/x-python",
   "name": "python",
   "nbconvert_exporter": "python",
   "pygments_lexer": "ipython3",
   "version": "3.6.9"
  }
 },
 "nbformat": 4,
 "nbformat_minor": 4
}
