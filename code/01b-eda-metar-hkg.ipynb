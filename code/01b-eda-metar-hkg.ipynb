{
 "cells": [
  {
   "cell_type": "markdown",
   "metadata": {},
   "source": [
    "# FOR REFERENCE\n",
    "not used in analysis"
   ]
  },
  {
   "cell_type": "markdown",
   "metadata": {},
   "source": [
    "## Import libraries"
   ]
  },
  {
   "cell_type": "code",
   "execution_count": 1,
   "metadata": {},
   "outputs": [],
   "source": [
    "import pandas as pd\n",
    "import numpy as np\n",
    "import datetime as dt\n",
    "import matplotlib.pyplot as plt\n",
    "import seaborn as sns\n",
    "from sklearn.feature_extraction.text import CountVectorizer\n",
    "\n",
    "pd.set_option(\"display.max_columns\", 60)\n",
    "%matplotlib inline"
   ]
  },
  {
   "cell_type": "code",
   "execution_count": 2,
   "metadata": {},
   "outputs": [],
   "source": [
    "def plot_histogram(figsize_tuple, df, feature, filename):\n",
    "    plt.figure(figsize=figsize_tuple)\n",
    "    sns.distplot(df[feature].dropna())\n",
    "\n",
    "    plt.title('Histogram of {}'.format(feature), fontsize=12)\n",
    "    plt.xlabel('{}'.format(feature), fontsize=12)\n",
    "    plt.ylabel('Frequency', fontsize=12)\n",
    "    plt.savefig('../images/01b-eda-metar-hkg/{}.png'.format(filename), transparent=True)\n",
    "    \n",
    "def plot_barchart(figsize_tuple, df, feature, display_top_10, datatype, filename):\n",
    "    df = df.copy()\n",
    "    # Plot barchart\n",
    "    plt.figure(figsize=figsize_tuple)\n",
    "    \n",
    "    if datatype == object:\n",
    "        df[feature] = df[feature].fillna('EMPTY')\n",
    "    else:\n",
    "        df[feature] = df[feature].astype(datatype).fillna(-999)\n",
    "    \n",
    "    if display_top_10:\n",
    "        order_arg = df[feature].value_counts().iloc[:10].index\n",
    "        sns.countplot(y=feature, data=df, orient='v', order=order_arg)\n",
    "        plt.title('Top 10 {}'.format(feature), fontsize=12)\n",
    "    else:\n",
    "        order_arg = df[feature].value_counts().sort_index().index\n",
    "        sns.countplot(y=feature, data=df, orient='v', order=order_arg)\n",
    "        plt.title('Barplot of {}'.format(feature), fontsize=12)\n",
    "\n",
    "    plt.xlabel('Count', fontsize=12)\n",
    "    plt.ylabel('{}'.format(feature), fontsize=12)\n",
    "    plt.savefig('../images/01b-eda-metar-hkg/{}.png'.format(filename), transparent=True)"
   ]
  },
  {
   "cell_type": "markdown",
   "metadata": {},
   "source": [
    "## Read data"
   ]
  },
  {
   "cell_type": "code",
   "execution_count": 3,
   "metadata": {},
   "outputs": [
    {
     "data": {
      "text/html": [
       "<div>\n",
       "<style scoped>\n",
       "    .dataframe tbody tr th:only-of-type {\n",
       "        vertical-align: middle;\n",
       "    }\n",
       "\n",
       "    .dataframe tbody tr th {\n",
       "        vertical-align: top;\n",
       "    }\n",
       "\n",
       "    .dataframe thead th {\n",
       "        text-align: right;\n",
       "    }\n",
       "</style>\n",
       "<table border=\"1\" class=\"dataframe\">\n",
       "  <thead>\n",
       "    <tr style=\"text-align: right;\">\n",
       "      <th></th>\n",
       "      <th>station</th>\n",
       "      <th>valid</th>\n",
       "      <th>lon</th>\n",
       "      <th>lat</th>\n",
       "      <th>tmpf</th>\n",
       "      <th>dwpf</th>\n",
       "      <th>relh</th>\n",
       "      <th>drct</th>\n",
       "      <th>sknt</th>\n",
       "      <th>p01i</th>\n",
       "      <th>alti</th>\n",
       "      <th>mslp</th>\n",
       "      <th>vsby</th>\n",
       "      <th>gust</th>\n",
       "      <th>skyc1</th>\n",
       "      <th>skyc2</th>\n",
       "      <th>skyc3</th>\n",
       "      <th>skyc4</th>\n",
       "      <th>skyl1</th>\n",
       "      <th>skyl2</th>\n",
       "      <th>skyl3</th>\n",
       "      <th>skyl4</th>\n",
       "      <th>wxcodes</th>\n",
       "      <th>ice_accretion_1hr</th>\n",
       "      <th>ice_accretion_3hr</th>\n",
       "      <th>ice_accretion_6hr</th>\n",
       "      <th>peak_wind_gust</th>\n",
       "      <th>peak_wind_drct</th>\n",
       "      <th>peak_wind_time</th>\n",
       "      <th>feel</th>\n",
       "      <th>metar</th>\n",
       "    </tr>\n",
       "  </thead>\n",
       "  <tbody>\n",
       "    <tr>\n",
       "      <th>0</th>\n",
       "      <td>VHHH</td>\n",
       "      <td>2016-12-31 00:00</td>\n",
       "      <td>113.9219</td>\n",
       "      <td>22.3094</td>\n",
       "      <td>60.8</td>\n",
       "      <td>50.0</td>\n",
       "      <td>67.54</td>\n",
       "      <td>110.00</td>\n",
       "      <td>4.0</td>\n",
       "      <td>0.0</td>\n",
       "      <td>30.24</td>\n",
       "      <td>M</td>\n",
       "      <td>4.97</td>\n",
       "      <td>M</td>\n",
       "      <td>FEW</td>\n",
       "      <td>M</td>\n",
       "      <td>M</td>\n",
       "      <td>M</td>\n",
       "      <td>4500.00</td>\n",
       "      <td>M</td>\n",
       "      <td>M</td>\n",
       "      <td>M</td>\n",
       "      <td>M</td>\n",
       "      <td>M</td>\n",
       "      <td>M</td>\n",
       "      <td>M</td>\n",
       "      <td>M</td>\n",
       "      <td>M</td>\n",
       "      <td>M</td>\n",
       "      <td>60.8</td>\n",
       "      <td>VHHH 310000Z 11004KT 8000 FEW045 16/10 Q1024 N...</td>\n",
       "    </tr>\n",
       "    <tr>\n",
       "      <th>1</th>\n",
       "      <td>VHHH</td>\n",
       "      <td>2016-12-31 00:30</td>\n",
       "      <td>113.9219</td>\n",
       "      <td>22.3094</td>\n",
       "      <td>64.4</td>\n",
       "      <td>51.8</td>\n",
       "      <td>63.60</td>\n",
       "      <td>M</td>\n",
       "      <td>2.0</td>\n",
       "      <td>0.0</td>\n",
       "      <td>30.24</td>\n",
       "      <td>M</td>\n",
       "      <td>4.97</td>\n",
       "      <td>M</td>\n",
       "      <td>FEW</td>\n",
       "      <td>M</td>\n",
       "      <td>M</td>\n",
       "      <td>M</td>\n",
       "      <td>4500.00</td>\n",
       "      <td>M</td>\n",
       "      <td>M</td>\n",
       "      <td>M</td>\n",
       "      <td>M</td>\n",
       "      <td>M</td>\n",
       "      <td>M</td>\n",
       "      <td>M</td>\n",
       "      <td>M</td>\n",
       "      <td>M</td>\n",
       "      <td>M</td>\n",
       "      <td>64.4</td>\n",
       "      <td>VHHH 310030Z VRB02KT 8000 FEW045 18/11 Q1024 N...</td>\n",
       "    </tr>\n",
       "  </tbody>\n",
       "</table>\n",
       "</div>"
      ],
      "text/plain": [
       "  station             valid       lon      lat  tmpf  dwpf   relh    drct  \\\n",
       "0    VHHH  2016-12-31 00:00  113.9219  22.3094  60.8  50.0  67.54  110.00   \n",
       "1    VHHH  2016-12-31 00:30  113.9219  22.3094  64.4  51.8  63.60       M   \n",
       "\n",
       "   sknt  p01i   alti mslp  vsby gust skyc1 skyc2 skyc3 skyc4    skyl1 skyl2  \\\n",
       "0   4.0   0.0  30.24    M  4.97    M   FEW     M     M     M  4500.00     M   \n",
       "1   2.0   0.0  30.24    M  4.97    M   FEW     M     M     M  4500.00     M   \n",
       "\n",
       "  skyl3 skyl4 wxcodes ice_accretion_1hr ice_accretion_3hr ice_accretion_6hr  \\\n",
       "0     M     M       M                 M                 M                 M   \n",
       "1     M     M       M                 M                 M                 M   \n",
       "\n",
       "  peak_wind_gust peak_wind_drct peak_wind_time  feel  \\\n",
       "0              M              M              M  60.8   \n",
       "1              M              M              M  64.4   \n",
       "\n",
       "                                               metar  \n",
       "0  VHHH 310000Z 11004KT 8000 FEW045 16/10 Q1024 N...  \n",
       "1  VHHH 310030Z VRB02KT 8000 FEW045 18/11 Q1024 N...  "
      ]
     },
     "execution_count": 3,
     "metadata": {},
     "output_type": "execute_result"
    }
   ],
   "source": [
    "hkg_weather = pd.read_csv('../data/metar-vhhh.csv')\n",
    "hkg_weather.head(2)"
   ]
  },
  {
   "cell_type": "markdown",
   "metadata": {},
   "source": [
    "## Rename columns"
   ]
  },
  {
   "cell_type": "code",
   "execution_count": 4,
   "metadata": {},
   "outputs": [],
   "source": [
    "hkg_weather.rename(columns={\n",
    "    'valid': 'timestamp',\n",
    "    'tmpf': 'air_temp',\n",
    "    'dwpf': 'dewpoint_temp',\n",
    "    'relh': 'rel_humidity',\n",
    "    'drct': 'wind_dir',\n",
    "    'sknt': 'wind_speed',\n",
    "    'p01i': 'precipitation',\n",
    "    'alti': 'altimeter_pressure',\n",
    "    'mslp': 'sealevel_pressure',\n",
    "    'vsby': 'visibility',\n",
    "    'gust': 'gust_speed',\n",
    "    'skyc1': 'sky_level_1_coverage',\n",
    "    'skyc2': 'sky_level_2_coverage',\n",
    "    'skyc3': 'sky_level_3_coverage',\n",
    "    'skyc4': 'sky_level_4_coverage',\n",
    "    'skyl1': 'sky_level_1_altitude',\n",
    "    'skyl2': 'sky_level_2_altitude',\n",
    "    'skyl3': 'sky_level_3_altitude',\n",
    "    'skyl4': 'sky_level_4_altitude',\n",
    "    'wxcodes': 'weather_codes',\n",
    "    'feel': 'apparent_temp'\n",
    "}, inplace=True)"
   ]
  },
  {
   "cell_type": "code",
   "execution_count": 5,
   "metadata": {},
   "outputs": [
    {
     "data": {
      "text/plain": [
       "(2920, 31)"
      ]
     },
     "execution_count": 5,
     "metadata": {},
     "output_type": "execute_result"
    }
   ],
   "source": [
    "hkg_weather.shape"
   ]
  },
  {
   "cell_type": "code",
   "execution_count": 6,
   "metadata": {},
   "outputs": [
    {
     "name": "stdout",
     "output_type": "stream",
     "text": [
      "<class 'pandas.core.frame.DataFrame'>\n",
      "RangeIndex: 2920 entries, 0 to 2919\n",
      "Data columns (total 31 columns):\n",
      " #   Column                Non-Null Count  Dtype  \n",
      "---  ------                --------------  -----  \n",
      " 0   station               2920 non-null   object \n",
      " 1   timestamp             2920 non-null   object \n",
      " 2   lon                   2920 non-null   float64\n",
      " 3   lat                   2920 non-null   float64\n",
      " 4   air_temp              2920 non-null   float64\n",
      " 5   dewpoint_temp         2920 non-null   float64\n",
      " 6   rel_humidity          2920 non-null   float64\n",
      " 7   wind_dir              2920 non-null   object \n",
      " 8   wind_speed            2920 non-null   float64\n",
      " 9   precipitation         2920 non-null   float64\n",
      " 10  altimeter_pressure    2920 non-null   float64\n",
      " 11  sealevel_pressure     2920 non-null   object \n",
      " 12  visibility            2920 non-null   float64\n",
      " 13  gust_speed            2920 non-null   object \n",
      " 14  sky_level_1_coverage  2920 non-null   object \n",
      " 15  sky_level_2_coverage  2920 non-null   object \n",
      " 16  sky_level_3_coverage  2920 non-null   object \n",
      " 17  sky_level_4_coverage  2920 non-null   object \n",
      " 18  sky_level_1_altitude  2920 non-null   object \n",
      " 19  sky_level_2_altitude  2920 non-null   object \n",
      " 20  sky_level_3_altitude  2920 non-null   object \n",
      " 21  sky_level_4_altitude  2920 non-null   object \n",
      " 22  weather_codes         2920 non-null   object \n",
      " 23  ice_accretion_1hr     2920 non-null   object \n",
      " 24  ice_accretion_3hr     2920 non-null   object \n",
      " 25  ice_accretion_6hr     2920 non-null   object \n",
      " 26  peak_wind_gust        2920 non-null   object \n",
      " 27  peak_wind_drct        2920 non-null   object \n",
      " 28  peak_wind_time        2920 non-null   object \n",
      " 29  apparent_temp         2920 non-null   float64\n",
      " 30  metar                 2920 non-null   object \n",
      "dtypes: float64(10), object(21)\n",
      "memory usage: 707.3+ KB\n"
     ]
    }
   ],
   "source": [
    "hkg_weather.info()"
   ]
  },
  {
   "cell_type": "markdown",
   "metadata": {},
   "source": [
    "## Handling null values"
   ]
  },
  {
   "cell_type": "code",
   "execution_count": 7,
   "metadata": {},
   "outputs": [],
   "source": [
    "hkg_weather.replace('M', np.NaN, inplace=True)"
   ]
  },
  {
   "cell_type": "code",
   "execution_count": 8,
   "metadata": {},
   "outputs": [
    {
     "data": {
      "text/plain": [
       "station                    0\n",
       "timestamp                  0\n",
       "lon                        0\n",
       "lat                        0\n",
       "air_temp                   0\n",
       "dewpoint_temp              0\n",
       "rel_humidity               0\n",
       "wind_dir                 114\n",
       "wind_speed                 0\n",
       "precipitation              0\n",
       "altimeter_pressure         0\n",
       "sealevel_pressure       2920\n",
       "visibility                 0\n",
       "gust_speed              2915\n",
       "sky_level_1_coverage     446\n",
       "sky_level_2_coverage    1582\n",
       "sky_level_3_coverage    2912\n",
       "sky_level_4_coverage    2920\n",
       "sky_level_1_altitude     577\n",
       "sky_level_2_altitude    1582\n",
       "sky_level_3_altitude    2912\n",
       "sky_level_4_altitude    2920\n",
       "weather_codes           2511\n",
       "ice_accretion_1hr       2920\n",
       "ice_accretion_3hr       2920\n",
       "ice_accretion_6hr       2920\n",
       "peak_wind_gust          2920\n",
       "peak_wind_drct          2920\n",
       "peak_wind_time          2920\n",
       "apparent_temp              0\n",
       "metar                      0\n",
       "dtype: int64"
      ]
     },
     "execution_count": 8,
     "metadata": {},
     "output_type": "execute_result"
    }
   ],
   "source": [
    "hkg_weather.isnull().sum()"
   ]
  },
  {
   "cell_type": "code",
   "execution_count": 9,
   "metadata": {},
   "outputs": [
    {
     "data": {
      "text/plain": [
       "station                   0.000000\n",
       "timestamp                 0.000000\n",
       "lon                       0.000000\n",
       "lat                       0.000000\n",
       "air_temp                  0.000000\n",
       "dewpoint_temp             0.000000\n",
       "rel_humidity              0.000000\n",
       "wind_dir                  3.904110\n",
       "wind_speed                0.000000\n",
       "precipitation             0.000000\n",
       "altimeter_pressure        0.000000\n",
       "sealevel_pressure       100.000000\n",
       "visibility                0.000000\n",
       "gust_speed               99.828767\n",
       "sky_level_1_coverage     15.273973\n",
       "sky_level_2_coverage     54.178082\n",
       "sky_level_3_coverage     99.726027\n",
       "sky_level_4_coverage    100.000000\n",
       "sky_level_1_altitude     19.760274\n",
       "sky_level_2_altitude     54.178082\n",
       "sky_level_3_altitude     99.726027\n",
       "sky_level_4_altitude    100.000000\n",
       "weather_codes            85.993151\n",
       "ice_accretion_1hr       100.000000\n",
       "ice_accretion_3hr       100.000000\n",
       "ice_accretion_6hr       100.000000\n",
       "peak_wind_gust          100.000000\n",
       "peak_wind_drct          100.000000\n",
       "peak_wind_time          100.000000\n",
       "apparent_temp             0.000000\n",
       "metar                     0.000000\n",
       "dtype: float64"
      ]
     },
     "execution_count": 9,
     "metadata": {},
     "output_type": "execute_result"
    }
   ],
   "source": [
    "hkg_weather.isnull().sum() / hkg_weather.shape[0] * 100"
   ]
  },
  {
   "cell_type": "code",
   "execution_count": 10,
   "metadata": {},
   "outputs": [],
   "source": [
    "# Drop features with 100% NaN values\n",
    "hkg_weather.drop(['sealevel_pressure', \n",
    "                  'ice_accretion_1hr', 'ice_accretion_3hr', 'ice_accretion_6hr',\n",
    "                  'peak_wind_gust', 'peak_wind_drct', 'peak_wind_time'], axis=1, inplace=True)\n",
    "\n",
    "hkg_weather.drop(['metar'], axis=1, inplace=True)\n",
    "\n",
    "# hkg_weather.drop(['precipitation'], axis=1, inplace=True)\n",
    "\n",
    "# hkg_weather.drop(['sky_level_2_coverage', 'sky_level_3_coverage', 'sky_level_4_coverage',\n",
    "#                   'sky_level_2_altitude', 'sky_level_3_altitude', 'sky_level_4_altitude'], \n",
    "#                   axis=1, inplace=True)\n",
    "\n",
    "# hkg_weather.timestamp = pd.to_datetime(hkg_weather.timestamp)\n",
    "\n",
    "# hkg_weather.wind_dir = pd.to_numeric(hkg_weather.wind_dir, errors='coerce').astype('Int64')\n",
    "\n",
    "# hkg_weather.gust_speed = pd.to_numeric(hkg_weather.gust_speed, errors='coerce').astype('Int64')\n",
    "# hkg_weather.gust_speed = hkg_weather.gust_speed.fillna(0)\n",
    "\n",
    "# hkg_weather.wind_dir = hkg_weather.wind_dir.fillna(method='ffill')\n",
    "\n",
    "# hkg_weather.sky_level_1_coverage = hkg_weather.sky_level_1_coverage.fillna(method='ffill')\n",
    "# hkg_weather.sky_level_1_altitude = hkg_weather.sky_level_1_altitude.fillna(method='ffill')"
   ]
  },
  {
   "cell_type": "code",
   "execution_count": 11,
   "metadata": {},
   "outputs": [
    {
     "data": {
      "text/plain": [
       "station                   0.000000\n",
       "timestamp                 0.000000\n",
       "lon                       0.000000\n",
       "lat                       0.000000\n",
       "air_temp                  0.000000\n",
       "dewpoint_temp             0.000000\n",
       "rel_humidity              0.000000\n",
       "wind_dir                  3.904110\n",
       "wind_speed                0.000000\n",
       "precipitation             0.000000\n",
       "altimeter_pressure        0.000000\n",
       "visibility                0.000000\n",
       "gust_speed               99.828767\n",
       "sky_level_1_coverage     15.273973\n",
       "sky_level_2_coverage     54.178082\n",
       "sky_level_3_coverage     99.726027\n",
       "sky_level_4_coverage    100.000000\n",
       "sky_level_1_altitude     19.760274\n",
       "sky_level_2_altitude     54.178082\n",
       "sky_level_3_altitude     99.726027\n",
       "sky_level_4_altitude    100.000000\n",
       "weather_codes            85.993151\n",
       "apparent_temp             0.000000\n",
       "dtype: float64"
      ]
     },
     "execution_count": 11,
     "metadata": {},
     "output_type": "execute_result"
    }
   ],
   "source": [
    "hkg_weather.isnull().sum() / hkg_weather.shape[0] * 100"
   ]
  },
  {
   "cell_type": "markdown",
   "metadata": {},
   "source": [
    "## station\n",
    "three or four character site identifier"
   ]
  },
  {
   "cell_type": "code",
   "execution_count": 12,
   "metadata": {},
   "outputs": [
    {
     "data": {
      "text/plain": [
       "VHHH    2920\n",
       "Name: station, dtype: int64"
      ]
     },
     "execution_count": 12,
     "metadata": {},
     "output_type": "execute_result"
    }
   ],
   "source": [
    "hkg_weather.station.value_counts()"
   ]
  },
  {
   "cell_type": "markdown",
   "metadata": {},
   "source": [
    "## timestamp\n",
    "timestamp of observation"
   ]
  },
  {
   "cell_type": "code",
   "execution_count": 13,
   "metadata": {},
   "outputs": [],
   "source": [
    "hkg_weather.timestamp = pd.to_datetime(hkg_weather.timestamp)"
   ]
  },
  {
   "cell_type": "code",
   "execution_count": 14,
   "metadata": {},
   "outputs": [
    {
     "data": {
      "text/plain": [
       "0      2016-12-31 00:00:00\n",
       "1      2016-12-31 00:30:00\n",
       "2      2016-12-31 01:00:00\n",
       "3      2016-12-31 01:30:00\n",
       "4      2016-12-31 02:00:00\n",
       "               ...        \n",
       "2915   2017-02-27 21:30:00\n",
       "2916   2017-02-27 22:00:00\n",
       "2917   2017-02-27 22:30:00\n",
       "2918   2017-02-27 23:00:00\n",
       "2919   2017-02-27 23:30:00\n",
       "Name: timestamp, Length: 2920, dtype: datetime64[ns]"
      ]
     },
     "execution_count": 14,
     "metadata": {},
     "output_type": "execute_result"
    }
   ],
   "source": [
    "hkg_weather.timestamp.sort_values()"
   ]
  },
  {
   "cell_type": "markdown",
   "metadata": {},
   "source": [
    "## air_temp\n",
    "Air Temperature in Fahrenheit, typically @ 2 meters"
   ]
  },
  {
   "cell_type": "code",
   "execution_count": 15,
   "metadata": {},
   "outputs": [
    {
     "data": {
      "text/plain": [
       "dtype('float64')"
      ]
     },
     "execution_count": 15,
     "metadata": {},
     "output_type": "execute_result"
    }
   ],
   "source": [
    "hkg_weather.air_temp.dtype"
   ]
  },
  {
   "cell_type": "code",
   "execution_count": 16,
   "metadata": {},
   "outputs": [
    {
     "data": {
      "text/plain": [
       "50.0     31\n",
       "51.8     68\n",
       "53.6     77\n",
       "55.4     42\n",
       "57.2    127\n",
       "59.0    152\n",
       "60.8    190\n",
       "62.6    296\n",
       "64.4    362\n",
       "66.2    394\n",
       "68.0    407\n",
       "69.8    318\n",
       "71.6    197\n",
       "73.4    114\n",
       "75.2     83\n",
       "77.0     51\n",
       "78.8     10\n",
       "80.6      1\n",
       "Name: air_temp, dtype: int64"
      ]
     },
     "execution_count": 16,
     "metadata": {},
     "output_type": "execute_result"
    }
   ],
   "source": [
    "hkg_weather.air_temp.value_counts().sort_index()"
   ]
  },
  {
   "cell_type": "code",
   "execution_count": 17,
   "metadata": {},
   "outputs": [
    {
     "data": {
      "image/png": "[encoded data removed]",
      "text/plain": [
       "<Figure size 576x360 with 1 Axes>"
      ]
     },
     "metadata": {
      "needs_background": "light"
     },
     "output_type": "display_data"
    }
   ],
   "source": [
    "plot_histogram((8, 5), hkg_weather, 'air_temp', '01-histogram-air_temp')"
   ]
  },
  {
   "cell_type": "code",
   "execution_count": 18,
   "metadata": {
    "scrolled": true
   },
   "outputs": [
    {
     "data": {
      "image/png": "[encoded data removed]",
      "text/plain": [
       "<Figure size 576x360 with 1 Axes>"
      ]
     },
     "metadata": {
      "needs_background": "light"
     },
     "output_type": "display_data"
    }
   ],
   "source": [
    "plot_barchart((8, 5), hkg_weather, 'air_temp', False, float, '01-barchart-air_temp')"
   ]
  },
  {
   "cell_type": "markdown",
   "metadata": {},
   "source": [
    "The most frequent air_temp is 68 deg Fahrenheit."
   ]
  },
  {
   "cell_type": "markdown",
   "metadata": {},
   "source": [
    "## dewpoint_temp\n",
    "Dew Point Temperature in Fahrenheit, typically @ 2 meters"
   ]
  },
  {
   "cell_type": "code",
   "execution_count": 19,
   "metadata": {},
   "outputs": [
    {
     "data": {
      "text/plain": [
       "dtype('float64')"
      ]
     },
     "execution_count": 19,
     "metadata": {},
     "output_type": "execute_result"
    }
   ],
   "source": [
    "hkg_weather.dewpoint_temp.dtype"
   ]
  },
  {
   "cell_type": "code",
   "execution_count": 20,
   "metadata": {},
   "outputs": [
    {
     "data": {
      "text/plain": [
       "28.4      1\n",
       "30.2      4\n",
       "32.0     59\n",
       "33.8     25\n",
       "35.6     21\n",
       "37.4     41\n",
       "39.2     26\n",
       "41.0     39\n",
       "42.8     60\n",
       "44.6     85\n",
       "46.4    120\n",
       "48.2    157\n",
       "50.0    120\n",
       "51.8    229\n",
       "53.6    331\n",
       "55.4    267\n",
       "57.2    243\n",
       "59.0    321\n",
       "60.8    287\n",
       "62.6    225\n",
       "64.4    153\n",
       "66.2    106\n",
       "Name: dewpoint_temp, dtype: int64"
      ]
     },
     "execution_count": 20,
     "metadata": {},
     "output_type": "execute_result"
    }
   ],
   "source": [
    "hkg_weather.dewpoint_temp.value_counts().sort_index()"
   ]
  },
  {
   "cell_type": "code",
   "execution_count": 21,
   "metadata": {},
   "outputs": [
    {
     "data": {
      "image/png": "[encoded data removed]",
      "text/plain": [
       "<Figure size 576x360 with 1 Axes>"
      ]
     },
     "metadata": {
      "needs_background": "light"
     },
     "output_type": "display_data"
    }
   ],
   "source": [
    "plot_histogram((8, 5), hkg_weather, 'dewpoint_temp', '02-histogram-dewpoint_temp')"
   ]
  },
  {
   "cell_type": "code",
   "execution_count": 22,
   "metadata": {
    "scrolled": true
   },
   "outputs": [
    {
     "data": {
      "image/png": "[encoded data removed]",
      "text/plain": [
       "<Figure size 576x360 with 1 Axes>"
      ]
     },
     "metadata": {
      "needs_background": "light"
     },
     "output_type": "display_data"
    }
   ],
   "source": [
    "plot_barchart((8, 5), hkg_weather, 'dewpoint_temp', False, float, '02-barchart-dewpoint_temp')"
   ]
  },
  {
   "cell_type": "markdown",
   "metadata": {},
   "source": [
    "The most frequent dewpoint_temp is 51.8 deg Fahrenheit."
   ]
  },
  {
   "cell_type": "markdown",
   "metadata": {},
   "source": [
    "## rel_humidity\n",
    "Relative Humidity in %"
   ]
  },
  {
   "cell_type": "code",
   "execution_count": 23,
   "metadata": {},
   "outputs": [
    {
     "data": {
      "text/plain": [
       "dtype('float64')"
      ]
     },
     "execution_count": 23,
     "metadata": {},
     "output_type": "execute_result"
    }
   ],
   "source": [
    "hkg_weather.rel_humidity.dtype"
   ]
  },
  {
   "cell_type": "code",
   "execution_count": 24,
   "metadata": {},
   "outputs": [
    {
     "data": {
      "text/plain": [
       "28.39      1\n",
       "30.20      4\n",
       "30.49      1\n",
       "30.77      2\n",
       "32.43      4\n",
       "          ..\n",
       "93.83     12\n",
       "93.88      9\n",
       "93.92      8\n",
       "93.97     20\n",
       "100.00     6\n",
       "Name: rel_humidity, Length: 208, dtype: int64"
      ]
     },
     "execution_count": 24,
     "metadata": {},
     "output_type": "execute_result"
    }
   ],
   "source": [
    "hkg_weather.rel_humidity.value_counts().sort_index()"
   ]
  },
  {
   "cell_type": "code",
   "execution_count": 25,
   "metadata": {},
   "outputs": [
    {
     "data": {
      "image/png": "[encoded data removed]",
      "text/plain": [
       "<Figure size 576x360 with 1 Axes>"
      ]
     },
     "metadata": {
      "needs_background": "light"
     },
     "output_type": "display_data"
    }
   ],
   "source": [
    "plot_histogram((8, 5), hkg_weather, 'rel_humidity', '03-histogram-rel_humidity')"
   ]
  },
  {
   "cell_type": "markdown",
   "metadata": {},
   "source": [
    "The distribution of rel_humidity is not normal and is left-skewed."
   ]
  },
  {
   "cell_type": "markdown",
   "metadata": {},
   "source": [
    "## wind_dir\n",
    "Wind Direction in degrees from north"
   ]
  },
  {
   "cell_type": "code",
   "execution_count": 26,
   "metadata": {},
   "outputs": [
    {
     "data": {
      "text/plain": [
       "dtype('O')"
      ]
     },
     "execution_count": 26,
     "metadata": {},
     "output_type": "execute_result"
    }
   ],
   "source": [
    "hkg_weather.wind_dir.dtype"
   ]
  },
  {
   "cell_type": "code",
   "execution_count": 27,
   "metadata": {},
   "outputs": [],
   "source": [
    "hkg_weather.wind_dir = pd.to_numeric(hkg_weather.wind_dir, errors='coerce').astype('Int64')"
   ]
  },
  {
   "cell_type": "code",
   "execution_count": 28,
   "metadata": {},
   "outputs": [
    {
     "data": {
      "text/plain": [
       "114"
      ]
     },
     "execution_count": 28,
     "metadata": {},
     "output_type": "execute_result"
    }
   ],
   "source": [
    "hkg_weather.wind_dir.isnull().sum()"
   ]
  },
  {
   "cell_type": "code",
   "execution_count": 29,
   "metadata": {},
   "outputs": [
    {
     "data": {
      "text/plain": [
       "10      98\n",
       "20      80\n",
       "30      84\n",
       "40     139\n",
       "50     156\n",
       "60     126\n",
       "70     147\n",
       "80     200\n",
       "90     284\n",
       "100    351\n",
       "110    253\n",
       "120     63\n",
       "130     31\n",
       "140     12\n",
       "150      6\n",
       "160      9\n",
       "170     10\n",
       "180      3\n",
       "190      4\n",
       "200      4\n",
       "210      1\n",
       "220      1\n",
       "230      3\n",
       "240     15\n",
       "250     12\n",
       "260     42\n",
       "270     72\n",
       "280     40\n",
       "290     39\n",
       "300     53\n",
       "310     31\n",
       "320     79\n",
       "330    110\n",
       "340     82\n",
       "350     72\n",
       "360     94\n",
       "NaN    114\n",
       "Name: wind_dir, dtype: Int64"
      ]
     },
     "execution_count": 29,
     "metadata": {},
     "output_type": "execute_result"
    }
   ],
   "source": [
    "hkg_weather.wind_dir.value_counts(dropna=False).sort_index()"
   ]
  },
  {
   "cell_type": "code",
   "execution_count": 30,
   "metadata": {},
   "outputs": [
    {
     "data": {
      "text/plain": [
       "Int64Index([   1,   20,   22,  120,  131,  139,  141,  144,  204,  208,\n",
       "            ...\n",
       "            2623, 2627, 2635, 2636, 2637, 2644, 2723, 2846, 2847, 2854],\n",
       "           dtype='int64', length=114)"
      ]
     },
     "execution_count": 30,
     "metadata": {},
     "output_type": "execute_result"
    }
   ],
   "source": [
    "hkg_weather.wind_dir[hkg_weather.wind_dir.isnull()].index"
   ]
  },
  {
   "cell_type": "code",
   "execution_count": 31,
   "metadata": {},
   "outputs": [
    {
     "data": {
      "text/html": [
       "<div>\n",
       "<style scoped>\n",
       "    .dataframe tbody tr th:only-of-type {\n",
       "        vertical-align: middle;\n",
       "    }\n",
       "\n",
       "    .dataframe tbody tr th {\n",
       "        vertical-align: top;\n",
       "    }\n",
       "\n",
       "    .dataframe thead th {\n",
       "        text-align: right;\n",
       "    }\n",
       "</style>\n",
       "<table border=\"1\" class=\"dataframe\">\n",
       "  <thead>\n",
       "    <tr style=\"text-align: right;\">\n",
       "      <th></th>\n",
       "      <th>timestamp</th>\n",
       "      <th>wind_dir</th>\n",
       "    </tr>\n",
       "  </thead>\n",
       "  <tbody>\n",
       "    <tr>\n",
       "      <th>0</th>\n",
       "      <td>2016-12-31 00:00:00</td>\n",
       "      <td>110</td>\n",
       "    </tr>\n",
       "    <tr>\n",
       "      <th>1</th>\n",
       "      <td>2016-12-31 00:30:00</td>\n",
       "      <td>&lt;NA&gt;</td>\n",
       "    </tr>\n",
       "    <tr>\n",
       "      <th>2</th>\n",
       "      <td>2016-12-31 01:00:00</td>\n",
       "      <td>50</td>\n",
       "    </tr>\n",
       "    <tr>\n",
       "      <th>3</th>\n",
       "      <td>2016-12-31 01:30:00</td>\n",
       "      <td>40</td>\n",
       "    </tr>\n",
       "    <tr>\n",
       "      <th>4</th>\n",
       "      <td>2016-12-31 02:00:00</td>\n",
       "      <td>30</td>\n",
       "    </tr>\n",
       "    <tr>\n",
       "      <th>5</th>\n",
       "      <td>2016-12-31 02:30:00</td>\n",
       "      <td>350</td>\n",
       "    </tr>\n",
       "  </tbody>\n",
       "</table>\n",
       "</div>"
      ],
      "text/plain": [
       "            timestamp  wind_dir\n",
       "0 2016-12-31 00:00:00       110\n",
       "1 2016-12-31 00:30:00      <NA>\n",
       "2 2016-12-31 01:00:00        50\n",
       "3 2016-12-31 01:30:00        40\n",
       "4 2016-12-31 02:00:00        30\n",
       "5 2016-12-31 02:30:00       350"
      ]
     },
     "execution_count": 31,
     "metadata": {},
     "output_type": "execute_result"
    }
   ],
   "source": [
    "hkg_weather.loc[0:5, ['timestamp', 'wind_dir']]"
   ]
  },
  {
   "cell_type": "code",
   "execution_count": 32,
   "metadata": {},
   "outputs": [
    {
     "data": {
      "image/png": "[encoded data removed]",
      "text/plain": [
       "<Figure size 576x360 with 1 Axes>"
      ]
     },
     "metadata": {
      "needs_background": "light"
     },
     "output_type": "display_data"
    }
   ],
   "source": [
    "plot_barchart((8, 5), hkg_weather, 'wind_dir', False, 'Int32', '04-barchart-wind_dir')"
   ]
  },
  {
   "cell_type": "markdown",
   "metadata": {},
   "source": [
    "The most frequent value of wind_dir is 100."
   ]
  },
  {
   "cell_type": "markdown",
   "metadata": {},
   "source": [
    "## wind_speed\n",
    "Wind Speed in knots"
   ]
  },
  {
   "cell_type": "code",
   "execution_count": 33,
   "metadata": {},
   "outputs": [
    {
     "data": {
      "text/plain": [
       "dtype('float64')"
      ]
     },
     "execution_count": 33,
     "metadata": {},
     "output_type": "execute_result"
    }
   ],
   "source": [
    "hkg_weather.wind_speed.dtype"
   ]
  },
  {
   "cell_type": "code",
   "execution_count": 34,
   "metadata": {},
   "outputs": [
    {
     "data": {
      "text/plain": [
       "0"
      ]
     },
     "execution_count": 34,
     "metadata": {},
     "output_type": "execute_result"
    }
   ],
   "source": [
    "hkg_weather.wind_speed.isnull().sum()"
   ]
  },
  {
   "cell_type": "code",
   "execution_count": 35,
   "metadata": {},
   "outputs": [
    {
     "data": {
      "text/plain": [
       "0.0"
      ]
     },
     "execution_count": 35,
     "metadata": {},
     "output_type": "execute_result"
    }
   ],
   "source": [
    "hkg_weather.wind_speed.min()"
   ]
  },
  {
   "cell_type": "code",
   "execution_count": 36,
   "metadata": {},
   "outputs": [
    {
     "data": {
      "text/plain": [
       "25.0"
      ]
     },
     "execution_count": 36,
     "metadata": {},
     "output_type": "execute_result"
    }
   ],
   "source": [
    "hkg_weather.wind_speed.max()"
   ]
  },
  {
   "cell_type": "code",
   "execution_count": 37,
   "metadata": {},
   "outputs": [
    {
     "data": {
      "image/png": "[encoded data removed]",
      "text/plain": [
       "<Figure size 576x360 with 1 Axes>"
      ]
     },
     "metadata": {
      "needs_background": "light"
     },
     "output_type": "display_data"
    }
   ],
   "source": [
    "plot_barchart((8, 5), hkg_weather, 'wind_speed', False, int, '05-barchart-wind_speed')"
   ]
  },
  {
   "cell_type": "markdown",
   "metadata": {},
   "source": [
    "The most frequent value of wind_speed is 10."
   ]
  },
  {
   "cell_type": "markdown",
   "metadata": {},
   "source": [
    "## precipitation\n",
    "One hour precipitation for the period from the observation time to the time of the previous hourly precipitation reset. This varies slightly by site. Values are in inches. This value may or may not contain frozen precipitation melted by some device on the sensor or estimated by some other means. Unfortunately, we do not know of an authoritative database denoting which station has which sensor."
   ]
  },
  {
   "cell_type": "code",
   "execution_count": 38,
   "metadata": {},
   "outputs": [
    {
     "data": {
      "text/plain": [
       "dtype('float64')"
      ]
     },
     "execution_count": 38,
     "metadata": {},
     "output_type": "execute_result"
    }
   ],
   "source": [
    "hkg_weather.precipitation.dtype"
   ]
  },
  {
   "cell_type": "code",
   "execution_count": 39,
   "metadata": {},
   "outputs": [
    {
     "data": {
      "text/plain": [
       "0"
      ]
     },
     "execution_count": 39,
     "metadata": {},
     "output_type": "execute_result"
    }
   ],
   "source": [
    "hkg_weather.precipitation.isnull().sum()"
   ]
  },
  {
   "cell_type": "code",
   "execution_count": 40,
   "metadata": {},
   "outputs": [
    {
     "data": {
      "text/plain": [
       "0.0"
      ]
     },
     "execution_count": 40,
     "metadata": {},
     "output_type": "execute_result"
    }
   ],
   "source": [
    "hkg_weather.precipitation.min()"
   ]
  },
  {
   "cell_type": "code",
   "execution_count": 41,
   "metadata": {},
   "outputs": [
    {
     "data": {
      "text/plain": [
       "0.0"
      ]
     },
     "execution_count": 41,
     "metadata": {},
     "output_type": "execute_result"
    }
   ],
   "source": [
    "hkg_weather.precipitation.max()"
   ]
  },
  {
   "cell_type": "code",
   "execution_count": 42,
   "metadata": {},
   "outputs": [],
   "source": [
    "# Handling precipitation\n",
    "hkg_weather.drop(['precipitation'], axis=1, inplace=True)"
   ]
  },
  {
   "cell_type": "markdown",
   "metadata": {},
   "source": [
    "## altimeter_pressure\n",
    "Pressure altimeter in inches"
   ]
  },
  {
   "cell_type": "code",
   "execution_count": 43,
   "metadata": {},
   "outputs": [
    {
     "data": {
      "text/plain": [
       "dtype('float64')"
      ]
     },
     "execution_count": 43,
     "metadata": {},
     "output_type": "execute_result"
    }
   ],
   "source": [
    "hkg_weather.altimeter_pressure.dtype"
   ]
  },
  {
   "cell_type": "code",
   "execution_count": 44,
   "metadata": {},
   "outputs": [
    {
     "data": {
      "text/plain": [
       "0"
      ]
     },
     "execution_count": 44,
     "metadata": {},
     "output_type": "execute_result"
    }
   ],
   "source": [
    "hkg_weather.altimeter_pressure.isnull().sum()"
   ]
  },
  {
   "cell_type": "code",
   "execution_count": 45,
   "metadata": {},
   "outputs": [
    {
     "data": {
      "text/plain": [
       "29.85"
      ]
     },
     "execution_count": 45,
     "metadata": {},
     "output_type": "execute_result"
    }
   ],
   "source": [
    "hkg_weather.altimeter_pressure.min()"
   ]
  },
  {
   "cell_type": "code",
   "execution_count": 46,
   "metadata": {},
   "outputs": [
    {
     "data": {
      "text/plain": [
       "30.42"
      ]
     },
     "execution_count": 46,
     "metadata": {},
     "output_type": "execute_result"
    }
   ],
   "source": [
    "hkg_weather.altimeter_pressure.max()"
   ]
  },
  {
   "cell_type": "code",
   "execution_count": 47,
   "metadata": {},
   "outputs": [
    {
     "data": {
      "image/png": "[encoded data removed]",
      "text/plain": [
       "<Figure size 576x360 with 1 Axes>"
      ]
     },
     "metadata": {
      "needs_background": "light"
     },
     "output_type": "display_data"
    }
   ],
   "source": [
    "plot_histogram((8, 5), hkg_weather, 'altimeter_pressure', '06-histogram-altimeter_pressure')"
   ]
  },
  {
   "cell_type": "code",
   "execution_count": 48,
   "metadata": {},
   "outputs": [
    {
     "data": {
      "image/png": "[encoded data removed]",
      "text/plain": [
       "<Figure size 576x360 with 1 Axes>"
      ]
     },
     "metadata": {
      "needs_background": "light"
     },
     "output_type": "display_data"
    }
   ],
   "source": [
    "plot_barchart((8, 5), hkg_weather, 'altimeter_pressure', False, float, '06-barchart-altimeter_pressure')"
   ]
  },
  {
   "cell_type": "markdown",
   "metadata": {},
   "source": [
    "The most frequent value of altimeter_pressure is 30.15."
   ]
  },
  {
   "cell_type": "markdown",
   "metadata": {},
   "source": [
    "## visibility\n",
    "Visibility in miles"
   ]
  },
  {
   "cell_type": "code",
   "execution_count": 49,
   "metadata": {},
   "outputs": [
    {
     "data": {
      "text/plain": [
       "0.81"
      ]
     },
     "execution_count": 49,
     "metadata": {},
     "output_type": "execute_result"
    }
   ],
   "source": [
    "hkg_weather.visibility.min()"
   ]
  },
  {
   "cell_type": "code",
   "execution_count": 50,
   "metadata": {},
   "outputs": [
    {
     "data": {
      "text/plain": [
       "6.21"
      ]
     },
     "execution_count": 50,
     "metadata": {},
     "output_type": "execute_result"
    }
   ],
   "source": [
    "hkg_weather.visibility.max()"
   ]
  },
  {
   "cell_type": "code",
   "execution_count": 51,
   "metadata": {},
   "outputs": [
    {
     "data": {
      "image/png": "[encoded data removed]",
      "text/plain": [
       "<Figure size 576x360 with 1 Axes>"
      ]
     },
     "metadata": {
      "needs_background": "light"
     },
     "output_type": "display_data"
    }
   ],
   "source": [
    "plot_histogram((8, 5), hkg_weather, 'visibility', '07-histogram-visibility')"
   ]
  },
  {
   "cell_type": "code",
   "execution_count": 52,
   "metadata": {},
   "outputs": [
    {
     "data": {
      "image/png": "[encoded data removed]",
      "text/plain": [
       "<Figure size 576x360 with 1 Axes>"
      ]
     },
     "metadata": {
      "needs_background": "light"
     },
     "output_type": "display_data"
    }
   ],
   "source": [
    "plot_barchart((8, 5), hkg_weather, 'visibility', False, float, '07-barchart-visibility')"
   ]
  },
  {
   "cell_type": "markdown",
   "metadata": {},
   "source": [
    "The most frequent value of visibility is 6.21."
   ]
  },
  {
   "cell_type": "markdown",
   "metadata": {},
   "source": [
    "## gust_speed\n",
    "Wind Gust in knots"
   ]
  },
  {
   "cell_type": "code",
   "execution_count": 53,
   "metadata": {},
   "outputs": [
    {
     "data": {
      "text/plain": [
       "2915"
      ]
     },
     "execution_count": 53,
     "metadata": {},
     "output_type": "execute_result"
    }
   ],
   "source": [
    "hkg_weather.gust_speed.isnull().sum()"
   ]
  },
  {
   "cell_type": "code",
   "execution_count": 54,
   "metadata": {},
   "outputs": [
    {
     "data": {
      "text/plain": [
       "19.00       1\n",
       "25.00       1\n",
       "27.00       1\n",
       "32.00       2\n",
       "NaN      2915\n",
       "Name: gust_speed, dtype: int64"
      ]
     },
     "execution_count": 54,
     "metadata": {},
     "output_type": "execute_result"
    }
   ],
   "source": [
    "hkg_weather.gust_speed.value_counts(dropna=False).sort_index()"
   ]
  },
  {
   "cell_type": "code",
   "execution_count": 55,
   "metadata": {},
   "outputs": [],
   "source": [
    "hkg_weather.gust_speed = pd.to_numeric(hkg_weather.gust_speed, errors='coerce').astype('Int64')\n",
    "hkg_weather.gust_speed = hkg_weather.gust_speed.fillna(0)"
   ]
  },
  {
   "cell_type": "markdown",
   "metadata": {},
   "source": [
    "## sky_level_1_coverage\n",
    "Sky Level 1 Coverage"
   ]
  },
  {
   "cell_type": "code",
   "execution_count": 56,
   "metadata": {},
   "outputs": [
    {
     "data": {
      "text/plain": [
       "FEW    2307\n",
       "NSC     131\n",
       "SCT      36\n",
       "NaN     446\n",
       "Name: sky_level_1_coverage, dtype: int64"
      ]
     },
     "execution_count": 56,
     "metadata": {},
     "output_type": "execute_result"
    }
   ],
   "source": [
    "hkg_weather.sky_level_1_coverage.value_counts(dropna=False).sort_index()"
   ]
  },
  {
   "cell_type": "code",
   "execution_count": 57,
   "metadata": {},
   "outputs": [
    {
     "data": {
      "text/plain": [
       "Int64Index([  77,   78,   79,   80,   81,   82,   83,   84,   88,   91,\n",
       "            ...\n",
       "            2882, 2883, 2884, 2885, 2891, 2907, 2908, 2909, 2910, 2911],\n",
       "           dtype='int64', length=446)"
      ]
     },
     "execution_count": 57,
     "metadata": {},
     "output_type": "execute_result"
    }
   ],
   "source": [
    "hkg_weather.sky_level_1_coverage[hkg_weather.sky_level_1_coverage.isnull()].index"
   ]
  },
  {
   "cell_type": "code",
   "execution_count": 58,
   "metadata": {
    "scrolled": true
   },
   "outputs": [
    {
     "data": {
      "text/html": [
       "<div>\n",
       "<style scoped>\n",
       "    .dataframe tbody tr th:only-of-type {\n",
       "        vertical-align: middle;\n",
       "    }\n",
       "\n",
       "    .dataframe tbody tr th {\n",
       "        vertical-align: top;\n",
       "    }\n",
       "\n",
       "    .dataframe thead th {\n",
       "        text-align: right;\n",
       "    }\n",
       "</style>\n",
       "<table border=\"1\" class=\"dataframe\">\n",
       "  <thead>\n",
       "    <tr style=\"text-align: right;\">\n",
       "      <th></th>\n",
       "      <th>timestamp</th>\n",
       "      <th>sky_level_1_coverage</th>\n",
       "    </tr>\n",
       "  </thead>\n",
       "  <tbody>\n",
       "    <tr>\n",
       "      <th>74</th>\n",
       "      <td>2017-01-01 13:00:00</td>\n",
       "      <td>FEW</td>\n",
       "    </tr>\n",
       "    <tr>\n",
       "      <th>75</th>\n",
       "      <td>2017-01-01 13:30:00</td>\n",
       "      <td>FEW</td>\n",
       "    </tr>\n",
       "    <tr>\n",
       "      <th>76</th>\n",
       "      <td>2017-01-01 14:00:00</td>\n",
       "      <td>FEW</td>\n",
       "    </tr>\n",
       "    <tr>\n",
       "      <th>77</th>\n",
       "      <td>2017-01-01 14:30:00</td>\n",
       "      <td>NaN</td>\n",
       "    </tr>\n",
       "    <tr>\n",
       "      <th>78</th>\n",
       "      <td>2017-01-01 15:00:00</td>\n",
       "      <td>NaN</td>\n",
       "    </tr>\n",
       "    <tr>\n",
       "      <th>79</th>\n",
       "      <td>2017-01-01 15:30:00</td>\n",
       "      <td>NaN</td>\n",
       "    </tr>\n",
       "    <tr>\n",
       "      <th>80</th>\n",
       "      <td>2017-01-01 16:00:00</td>\n",
       "      <td>NaN</td>\n",
       "    </tr>\n",
       "    <tr>\n",
       "      <th>81</th>\n",
       "      <td>2017-01-01 16:30:00</td>\n",
       "      <td>NaN</td>\n",
       "    </tr>\n",
       "    <tr>\n",
       "      <th>82</th>\n",
       "      <td>2017-01-01 17:00:00</td>\n",
       "      <td>NaN</td>\n",
       "    </tr>\n",
       "    <tr>\n",
       "      <th>83</th>\n",
       "      <td>2017-01-01 17:30:00</td>\n",
       "      <td>NaN</td>\n",
       "    </tr>\n",
       "    <tr>\n",
       "      <th>84</th>\n",
       "      <td>2017-01-01 18:00:00</td>\n",
       "      <td>NaN</td>\n",
       "    </tr>\n",
       "    <tr>\n",
       "      <th>85</th>\n",
       "      <td>2017-01-01 18:30:00</td>\n",
       "      <td>NSC</td>\n",
       "    </tr>\n",
       "    <tr>\n",
       "      <th>86</th>\n",
       "      <td>2017-01-01 19:00:00</td>\n",
       "      <td>NSC</td>\n",
       "    </tr>\n",
       "    <tr>\n",
       "      <th>87</th>\n",
       "      <td>2017-01-01 19:30:00</td>\n",
       "      <td>NSC</td>\n",
       "    </tr>\n",
       "  </tbody>\n",
       "</table>\n",
       "</div>"
      ],
      "text/plain": [
       "             timestamp sky_level_1_coverage\n",
       "74 2017-01-01 13:00:00                  FEW\n",
       "75 2017-01-01 13:30:00                  FEW\n",
       "76 2017-01-01 14:00:00                  FEW\n",
       "77 2017-01-01 14:30:00                  NaN\n",
       "78 2017-01-01 15:00:00                  NaN\n",
       "79 2017-01-01 15:30:00                  NaN\n",
       "80 2017-01-01 16:00:00                  NaN\n",
       "81 2017-01-01 16:30:00                  NaN\n",
       "82 2017-01-01 17:00:00                  NaN\n",
       "83 2017-01-01 17:30:00                  NaN\n",
       "84 2017-01-01 18:00:00                  NaN\n",
       "85 2017-01-01 18:30:00                  NSC\n",
       "86 2017-01-01 19:00:00                  NSC\n",
       "87 2017-01-01 19:30:00                  NSC"
      ]
     },
     "execution_count": 58,
     "metadata": {},
     "output_type": "execute_result"
    }
   ],
   "source": [
    "hkg_weather.loc[74:87, ['timestamp', 'sky_level_1_coverage']]"
   ]
  },
  {
   "cell_type": "code",
   "execution_count": 59,
   "metadata": {},
   "outputs": [
    {
     "data": {
      "image/png": "[encoded data removed]",
      "text/plain": [
       "<Figure size 576x360 with 1 Axes>"
      ]
     },
     "metadata": {
      "needs_background": "light"
     },
     "output_type": "display_data"
    }
   ],
   "source": [
    "plot_barchart((8, 5), hkg_weather, 'sky_level_1_coverage', False, object, '08-barchart-sky_level_1_coverage')"
   ]
  },
  {
   "cell_type": "markdown",
   "metadata": {},
   "source": [
    "The most frequent value of sky_level_1_coverage is FEW."
   ]
  },
  {
   "cell_type": "code",
   "execution_count": 60,
   "metadata": {},
   "outputs": [],
   "source": [
    "# Handling NaN\n",
    "# hkg_weather.sky_level_1_coverage = hkg_weather.sky_level_1_coverage.fillna(method='ffill')"
   ]
  },
  {
   "cell_type": "markdown",
   "metadata": {},
   "source": [
    "## sky_level_2_coverage\n",
    "Sky Level 2 Coverage"
   ]
  },
  {
   "cell_type": "code",
   "execution_count": 61,
   "metadata": {},
   "outputs": [
    {
     "data": {
      "text/plain": [
       "SCT    1338\n",
       "NaN    1582\n",
       "Name: sky_level_2_coverage, dtype: int64"
      ]
     },
     "execution_count": 61,
     "metadata": {},
     "output_type": "execute_result"
    }
   ],
   "source": [
    "hkg_weather.sky_level_2_coverage.value_counts(dropna=False).sort_index()"
   ]
  },
  {
   "cell_type": "code",
   "execution_count": 62,
   "metadata": {},
   "outputs": [
    {
     "data": {
      "text/plain": [
       "Int64Index([   0,    1,    2,    3,    4,    5,    6,    7,    8,    9,\n",
       "            ...\n",
       "            2910, 2911, 2912, 2913, 2914, 2915, 2916, 2917, 2918, 2919],\n",
       "           dtype='int64', length=1582)"
      ]
     },
     "execution_count": 62,
     "metadata": {},
     "output_type": "execute_result"
    }
   ],
   "source": [
    "hkg_weather.sky_level_2_coverage[hkg_weather.sky_level_2_coverage.isnull()].index"
   ]
  },
  {
   "cell_type": "code",
   "execution_count": 63,
   "metadata": {},
   "outputs": [
    {
     "data": {
      "text/html": [
       "<div>\n",
       "<style scoped>\n",
       "    .dataframe tbody tr th:only-of-type {\n",
       "        vertical-align: middle;\n",
       "    }\n",
       "\n",
       "    .dataframe tbody tr th {\n",
       "        vertical-align: top;\n",
       "    }\n",
       "\n",
       "    .dataframe thead th {\n",
       "        text-align: right;\n",
       "    }\n",
       "</style>\n",
       "<table border=\"1\" class=\"dataframe\">\n",
       "  <thead>\n",
       "    <tr style=\"text-align: right;\">\n",
       "      <th></th>\n",
       "      <th>timestamp</th>\n",
       "      <th>sky_level_2_coverage</th>\n",
       "    </tr>\n",
       "  </thead>\n",
       "  <tbody>\n",
       "    <tr>\n",
       "      <th>30</th>\n",
       "      <td>2016-12-31 15:00:00</td>\n",
       "      <td>NaN</td>\n",
       "    </tr>\n",
       "    <tr>\n",
       "      <th>31</th>\n",
       "      <td>2016-12-31 15:30:00</td>\n",
       "      <td>NaN</td>\n",
       "    </tr>\n",
       "    <tr>\n",
       "      <th>32</th>\n",
       "      <td>2016-12-31 16:00:00</td>\n",
       "      <td>NaN</td>\n",
       "    </tr>\n",
       "    <tr>\n",
       "      <th>33</th>\n",
       "      <td>2016-12-31 16:30:00</td>\n",
       "      <td>SCT</td>\n",
       "    </tr>\n",
       "    <tr>\n",
       "      <th>34</th>\n",
       "      <td>2016-12-31 17:00:00</td>\n",
       "      <td>SCT</td>\n",
       "    </tr>\n",
       "    <tr>\n",
       "      <th>35</th>\n",
       "      <td>2016-12-31 17:30:00</td>\n",
       "      <td>SCT</td>\n",
       "    </tr>\n",
       "    <tr>\n",
       "      <th>36</th>\n",
       "      <td>2016-12-31 18:00:00</td>\n",
       "      <td>SCT</td>\n",
       "    </tr>\n",
       "    <tr>\n",
       "      <th>37</th>\n",
       "      <td>2016-12-31 18:30:00</td>\n",
       "      <td>SCT</td>\n",
       "    </tr>\n",
       "    <tr>\n",
       "      <th>38</th>\n",
       "      <td>2016-12-31 19:00:00</td>\n",
       "      <td>SCT</td>\n",
       "    </tr>\n",
       "    <tr>\n",
       "      <th>39</th>\n",
       "      <td>2016-12-31 19:30:00</td>\n",
       "      <td>SCT</td>\n",
       "    </tr>\n",
       "    <tr>\n",
       "      <th>40</th>\n",
       "      <td>2016-12-31 20:00:00</td>\n",
       "      <td>SCT</td>\n",
       "    </tr>\n",
       "    <tr>\n",
       "      <th>41</th>\n",
       "      <td>2016-12-31 20:30:00</td>\n",
       "      <td>SCT</td>\n",
       "    </tr>\n",
       "    <tr>\n",
       "      <th>42</th>\n",
       "      <td>2016-12-31 21:00:00</td>\n",
       "      <td>SCT</td>\n",
       "    </tr>\n",
       "    <tr>\n",
       "      <th>43</th>\n",
       "      <td>2016-12-31 21:30:00</td>\n",
       "      <td>SCT</td>\n",
       "    </tr>\n",
       "    <tr>\n",
       "      <th>44</th>\n",
       "      <td>2016-12-31 22:00:00</td>\n",
       "      <td>SCT</td>\n",
       "    </tr>\n",
       "    <tr>\n",
       "      <th>45</th>\n",
       "      <td>2016-12-31 22:30:00</td>\n",
       "      <td>SCT</td>\n",
       "    </tr>\n",
       "    <tr>\n",
       "      <th>46</th>\n",
       "      <td>2016-12-31 23:00:00</td>\n",
       "      <td>SCT</td>\n",
       "    </tr>\n",
       "    <tr>\n",
       "      <th>47</th>\n",
       "      <td>2016-12-31 23:30:00</td>\n",
       "      <td>SCT</td>\n",
       "    </tr>\n",
       "    <tr>\n",
       "      <th>48</th>\n",
       "      <td>2017-01-01 00:00:00</td>\n",
       "      <td>SCT</td>\n",
       "    </tr>\n",
       "    <tr>\n",
       "      <th>49</th>\n",
       "      <td>2017-01-01 00:30:00</td>\n",
       "      <td>SCT</td>\n",
       "    </tr>\n",
       "    <tr>\n",
       "      <th>50</th>\n",
       "      <td>2017-01-01 01:00:00</td>\n",
       "      <td>SCT</td>\n",
       "    </tr>\n",
       "  </tbody>\n",
       "</table>\n",
       "</div>"
      ],
      "text/plain": [
       "             timestamp sky_level_2_coverage\n",
       "30 2016-12-31 15:00:00                  NaN\n",
       "31 2016-12-31 15:30:00                  NaN\n",
       "32 2016-12-31 16:00:00                  NaN\n",
       "33 2016-12-31 16:30:00                  SCT\n",
       "34 2016-12-31 17:00:00                  SCT\n",
       "35 2016-12-31 17:30:00                  SCT\n",
       "36 2016-12-31 18:00:00                  SCT\n",
       "37 2016-12-31 18:30:00                  SCT\n",
       "38 2016-12-31 19:00:00                  SCT\n",
       "39 2016-12-31 19:30:00                  SCT\n",
       "40 2016-12-31 20:00:00                  SCT\n",
       "41 2016-12-31 20:30:00                  SCT\n",
       "42 2016-12-31 21:00:00                  SCT\n",
       "43 2016-12-31 21:30:00                  SCT\n",
       "44 2016-12-31 22:00:00                  SCT\n",
       "45 2016-12-31 22:30:00                  SCT\n",
       "46 2016-12-31 23:00:00                  SCT\n",
       "47 2016-12-31 23:30:00                  SCT\n",
       "48 2017-01-01 00:00:00                  SCT\n",
       "49 2017-01-01 00:30:00                  SCT\n",
       "50 2017-01-01 01:00:00                  SCT"
      ]
     },
     "execution_count": 63,
     "metadata": {},
     "output_type": "execute_result"
    }
   ],
   "source": [
    "hkg_weather.loc[30:50, ['timestamp', 'sky_level_2_coverage']]"
   ]
  },
  {
   "cell_type": "code",
   "execution_count": 64,
   "metadata": {},
   "outputs": [
    {
     "data": {
      "image/png": "[encoded data removed]",
      "text/plain": [
       "<Figure size 576x360 with 1 Axes>"
      ]
     },
     "metadata": {
      "needs_background": "light"
     },
     "output_type": "display_data"
    }
   ],
   "source": [
    "plot_barchart((8, 5), hkg_weather, 'sky_level_2_coverage', False, object, '09-barchart-sky_level_2_coverage')"
   ]
  },
  {
   "cell_type": "code",
   "execution_count": 65,
   "metadata": {},
   "outputs": [],
   "source": [
    "# Handling NaN (DROP)\n",
    "# hkg_weather.drop(columns=['sky_level_2_coverage'], axis=1, inplace=True)"
   ]
  },
  {
   "cell_type": "markdown",
   "metadata": {},
   "source": [
    "## sky_level_1_altitude"
   ]
  },
  {
   "cell_type": "code",
   "execution_count": 66,
   "metadata": {},
   "outputs": [],
   "source": [
    "hkg_weather.sky_level_1_altitude = pd.to_numeric(hkg_weather.sky_level_1_altitude, errors='coerce').astype('Int64')"
   ]
  },
  {
   "cell_type": "code",
   "execution_count": 67,
   "metadata": {},
   "outputs": [
    {
     "data": {
      "text/plain": [
       "500      24\n",
       "600      58\n",
       "700      17\n",
       "800     178\n",
       "900      55\n",
       "1000    205\n",
       "1100      1\n",
       "1200    142\n",
       "1300     16\n",
       "1400     42\n",
       "1500    147\n",
       "1600     67\n",
       "1700      2\n",
       "1800    150\n",
       "2000    102\n",
       "2200    107\n",
       "2300      2\n",
       "2400      1\n",
       "2500    215\n",
       "2600     16\n",
       "2800     19\n",
       "3000    230\n",
       "3500    269\n",
       "4000    133\n",
       "4500    145\n",
       "NaN     577\n",
       "Name: sky_level_1_altitude, dtype: Int64"
      ]
     },
     "execution_count": 67,
     "metadata": {},
     "output_type": "execute_result"
    }
   ],
   "source": [
    "hkg_weather.sky_level_1_altitude.value_counts(dropna=False).sort_index()"
   ]
  },
  {
   "cell_type": "code",
   "execution_count": 68,
   "metadata": {},
   "outputs": [
    {
     "data": {
      "image/png": "[encoded data removed]",
      "text/plain": [
       "<Figure size 576x360 with 1 Axes>"
      ]
     },
     "metadata": {
      "needs_background": "light"
     },
     "output_type": "display_data"
    }
   ],
   "source": [
    "plot_barchart((8, 5), hkg_weather, 'sky_level_1_altitude', False, 'Int64', '10-barchart-sky_level_1_altitude')"
   ]
  },
  {
   "cell_type": "code",
   "execution_count": 69,
   "metadata": {},
   "outputs": [
    {
     "data": {
      "text/plain": [
       "Int64Index([  77,   78,   79,   80,   81,   82,   83,   84,   85,   86,\n",
       "            ...\n",
       "            2882, 2883, 2884, 2885, 2891, 2907, 2908, 2909, 2910, 2911],\n",
       "           dtype='int64', length=577)"
      ]
     },
     "execution_count": 69,
     "metadata": {},
     "output_type": "execute_result"
    }
   ],
   "source": [
    "hkg_weather.sky_level_1_altitude[hkg_weather.sky_level_1_altitude.isnull()].index"
   ]
  },
  {
   "cell_type": "code",
   "execution_count": 70,
   "metadata": {},
   "outputs": [
    {
     "data": {
      "text/html": [
       "<div>\n",
       "<style scoped>\n",
       "    .dataframe tbody tr th:only-of-type {\n",
       "        vertical-align: middle;\n",
       "    }\n",
       "\n",
       "    .dataframe tbody tr th {\n",
       "        vertical-align: top;\n",
       "    }\n",
       "\n",
       "    .dataframe thead th {\n",
       "        text-align: right;\n",
       "    }\n",
       "</style>\n",
       "<table border=\"1\" class=\"dataframe\">\n",
       "  <thead>\n",
       "    <tr style=\"text-align: right;\">\n",
       "      <th></th>\n",
       "      <th>timestamp</th>\n",
       "      <th>sky_level_1_altitude</th>\n",
       "    </tr>\n",
       "  </thead>\n",
       "  <tbody>\n",
       "    <tr>\n",
       "      <th>70</th>\n",
       "      <td>2017-01-01 11:00:00</td>\n",
       "      <td>2200</td>\n",
       "    </tr>\n",
       "    <tr>\n",
       "      <th>71</th>\n",
       "      <td>2017-01-01 11:30:00</td>\n",
       "      <td>2500</td>\n",
       "    </tr>\n",
       "    <tr>\n",
       "      <th>72</th>\n",
       "      <td>2017-01-01 12:00:00</td>\n",
       "      <td>2500</td>\n",
       "    </tr>\n",
       "    <tr>\n",
       "      <th>73</th>\n",
       "      <td>2017-01-01 12:30:00</td>\n",
       "      <td>2500</td>\n",
       "    </tr>\n",
       "    <tr>\n",
       "      <th>74</th>\n",
       "      <td>2017-01-01 13:00:00</td>\n",
       "      <td>2500</td>\n",
       "    </tr>\n",
       "    <tr>\n",
       "      <th>75</th>\n",
       "      <td>2017-01-01 13:30:00</td>\n",
       "      <td>2500</td>\n",
       "    </tr>\n",
       "    <tr>\n",
       "      <th>76</th>\n",
       "      <td>2017-01-01 14:00:00</td>\n",
       "      <td>2500</td>\n",
       "    </tr>\n",
       "    <tr>\n",
       "      <th>77</th>\n",
       "      <td>2017-01-01 14:30:00</td>\n",
       "      <td>&lt;NA&gt;</td>\n",
       "    </tr>\n",
       "    <tr>\n",
       "      <th>78</th>\n",
       "      <td>2017-01-01 15:00:00</td>\n",
       "      <td>&lt;NA&gt;</td>\n",
       "    </tr>\n",
       "    <tr>\n",
       "      <th>79</th>\n",
       "      <td>2017-01-01 15:30:00</td>\n",
       "      <td>&lt;NA&gt;</td>\n",
       "    </tr>\n",
       "    <tr>\n",
       "      <th>80</th>\n",
       "      <td>2017-01-01 16:00:00</td>\n",
       "      <td>&lt;NA&gt;</td>\n",
       "    </tr>\n",
       "    <tr>\n",
       "      <th>81</th>\n",
       "      <td>2017-01-01 16:30:00</td>\n",
       "      <td>&lt;NA&gt;</td>\n",
       "    </tr>\n",
       "    <tr>\n",
       "      <th>82</th>\n",
       "      <td>2017-01-01 17:00:00</td>\n",
       "      <td>&lt;NA&gt;</td>\n",
       "    </tr>\n",
       "    <tr>\n",
       "      <th>83</th>\n",
       "      <td>2017-01-01 17:30:00</td>\n",
       "      <td>&lt;NA&gt;</td>\n",
       "    </tr>\n",
       "    <tr>\n",
       "      <th>84</th>\n",
       "      <td>2017-01-01 18:00:00</td>\n",
       "      <td>&lt;NA&gt;</td>\n",
       "    </tr>\n",
       "    <tr>\n",
       "      <th>85</th>\n",
       "      <td>2017-01-01 18:30:00</td>\n",
       "      <td>&lt;NA&gt;</td>\n",
       "    </tr>\n",
       "    <tr>\n",
       "      <th>86</th>\n",
       "      <td>2017-01-01 19:00:00</td>\n",
       "      <td>&lt;NA&gt;</td>\n",
       "    </tr>\n",
       "    <tr>\n",
       "      <th>87</th>\n",
       "      <td>2017-01-01 19:30:00</td>\n",
       "      <td>&lt;NA&gt;</td>\n",
       "    </tr>\n",
       "    <tr>\n",
       "      <th>88</th>\n",
       "      <td>2017-01-01 20:00:00</td>\n",
       "      <td>&lt;NA&gt;</td>\n",
       "    </tr>\n",
       "    <tr>\n",
       "      <th>89</th>\n",
       "      <td>2017-01-01 20:30:00</td>\n",
       "      <td>&lt;NA&gt;</td>\n",
       "    </tr>\n",
       "    <tr>\n",
       "      <th>90</th>\n",
       "      <td>2017-01-01 21:00:00</td>\n",
       "      <td>&lt;NA&gt;</td>\n",
       "    </tr>\n",
       "    <tr>\n",
       "      <th>91</th>\n",
       "      <td>2017-01-01 21:30:00</td>\n",
       "      <td>&lt;NA&gt;</td>\n",
       "    </tr>\n",
       "    <tr>\n",
       "      <th>92</th>\n",
       "      <td>2017-01-01 22:00:00</td>\n",
       "      <td>&lt;NA&gt;</td>\n",
       "    </tr>\n",
       "    <tr>\n",
       "      <th>93</th>\n",
       "      <td>2017-01-01 22:30:00</td>\n",
       "      <td>&lt;NA&gt;</td>\n",
       "    </tr>\n",
       "    <tr>\n",
       "      <th>94</th>\n",
       "      <td>2017-01-01 23:00:00</td>\n",
       "      <td>&lt;NA&gt;</td>\n",
       "    </tr>\n",
       "    <tr>\n",
       "      <th>95</th>\n",
       "      <td>2017-01-01 23:30:00</td>\n",
       "      <td>2200</td>\n",
       "    </tr>\n",
       "    <tr>\n",
       "      <th>96</th>\n",
       "      <td>2017-01-02 00:00:00</td>\n",
       "      <td>2200</td>\n",
       "    </tr>\n",
       "    <tr>\n",
       "      <th>97</th>\n",
       "      <td>2017-01-02 00:30:00</td>\n",
       "      <td>2200</td>\n",
       "    </tr>\n",
       "    <tr>\n",
       "      <th>98</th>\n",
       "      <td>2017-01-02 01:00:00</td>\n",
       "      <td>2200</td>\n",
       "    </tr>\n",
       "    <tr>\n",
       "      <th>99</th>\n",
       "      <td>2017-01-02 01:30:00</td>\n",
       "      <td>2200</td>\n",
       "    </tr>\n",
       "    <tr>\n",
       "      <th>100</th>\n",
       "      <td>2017-01-02 02:00:00</td>\n",
       "      <td>2200</td>\n",
       "    </tr>\n",
       "  </tbody>\n",
       "</table>\n",
       "</div>"
      ],
      "text/plain": [
       "              timestamp  sky_level_1_altitude\n",
       "70  2017-01-01 11:00:00                  2200\n",
       "71  2017-01-01 11:30:00                  2500\n",
       "72  2017-01-01 12:00:00                  2500\n",
       "73  2017-01-01 12:30:00                  2500\n",
       "74  2017-01-01 13:00:00                  2500\n",
       "75  2017-01-01 13:30:00                  2500\n",
       "76  2017-01-01 14:00:00                  2500\n",
       "77  2017-01-01 14:30:00                  <NA>\n",
       "78  2017-01-01 15:00:00                  <NA>\n",
       "79  2017-01-01 15:30:00                  <NA>\n",
       "80  2017-01-01 16:00:00                  <NA>\n",
       "81  2017-01-01 16:30:00                  <NA>\n",
       "82  2017-01-01 17:00:00                  <NA>\n",
       "83  2017-01-01 17:30:00                  <NA>\n",
       "84  2017-01-01 18:00:00                  <NA>\n",
       "85  2017-01-01 18:30:00                  <NA>\n",
       "86  2017-01-01 19:00:00                  <NA>\n",
       "87  2017-01-01 19:30:00                  <NA>\n",
       "88  2017-01-01 20:00:00                  <NA>\n",
       "89  2017-01-01 20:30:00                  <NA>\n",
       "90  2017-01-01 21:00:00                  <NA>\n",
       "91  2017-01-01 21:30:00                  <NA>\n",
       "92  2017-01-01 22:00:00                  <NA>\n",
       "93  2017-01-01 22:30:00                  <NA>\n",
       "94  2017-01-01 23:00:00                  <NA>\n",
       "95  2017-01-01 23:30:00                  2200\n",
       "96  2017-01-02 00:00:00                  2200\n",
       "97  2017-01-02 00:30:00                  2200\n",
       "98  2017-01-02 01:00:00                  2200\n",
       "99  2017-01-02 01:30:00                  2200\n",
       "100 2017-01-02 02:00:00                  2200"
      ]
     },
     "execution_count": 70,
     "metadata": {},
     "output_type": "execute_result"
    }
   ],
   "source": [
    "hkg_weather.loc[70:100, ['timestamp', 'sky_level_1_altitude']]"
   ]
  },
  {
   "cell_type": "code",
   "execution_count": 71,
   "metadata": {},
   "outputs": [],
   "source": [
    "hkg_weather.drop(['sky_level_2_coverage', 'sky_level_3_coverage', 'sky_level_4_coverage',\n",
    "                  'sky_level_2_altitude', 'sky_level_3_altitude', 'sky_level_4_altitude'], \n",
    "                  axis=1, inplace=True)"
   ]
  },
  {
   "cell_type": "markdown",
   "metadata": {},
   "source": [
    "## weather_codes\n",
    "Present Weather Codes (space seperated)"
   ]
  },
  {
   "cell_type": "code",
   "execution_count": 72,
   "metadata": {},
   "outputs": [
    {
     "data": {
      "text/plain": [
       "NaN           2511\n",
       "-RA            150\n",
       "BR             103\n",
       "HZ              61\n",
       "-DZ             29\n",
       "-RA BR          26\n",
       "-DZ BR          15\n",
       "RA               6\n",
       "-SHRA            4\n",
       "BR -RA           4\n",
       "TSRA             3\n",
       "BR -DZ           1\n",
       "SHRA VCTS        1\n",
       "+SHRA VCTS       1\n",
       "SHRA             1\n",
       "VCTS -SHRA       1\n",
       "+TSRA            1\n",
       "-RA -BR          1\n",
       "DZ BR            1\n",
       "Name: weather_codes, dtype: int64"
      ]
     },
     "execution_count": 72,
     "metadata": {},
     "output_type": "execute_result"
    }
   ],
   "source": [
    "hkg_weather.weather_codes.value_counts(dropna=False)"
   ]
  },
  {
   "cell_type": "code",
   "execution_count": 73,
   "metadata": {},
   "outputs": [],
   "source": [
    "hkg_weather.weather_codes = hkg_weather.weather_codes.fillna('')"
   ]
  },
  {
   "cell_type": "code",
   "execution_count": 74,
   "metadata": {},
   "outputs": [
    {
     "data": {
      "text/html": [
       "<div>\n",
       "<style scoped>\n",
       "    .dataframe tbody tr th:only-of-type {\n",
       "        vertical-align: middle;\n",
       "    }\n",
       "\n",
       "    .dataframe tbody tr th {\n",
       "        vertical-align: top;\n",
       "    }\n",
       "\n",
       "    .dataframe thead th {\n",
       "        text-align: right;\n",
       "    }\n",
       "</style>\n",
       "<table border=\"1\" class=\"dataframe\">\n",
       "  <thead>\n",
       "    <tr style=\"text-align: right;\">\n",
       "      <th></th>\n",
       "      <th>weather_codes_+SHRA</th>\n",
       "      <th>weather_codes_+TSRA</th>\n",
       "      <th>weather_codes_-BR</th>\n",
       "      <th>weather_codes_-DZ</th>\n",
       "      <th>weather_codes_-RA</th>\n",
       "      <th>weather_codes_-SHRA</th>\n",
       "      <th>weather_codes_BR</th>\n",
       "      <th>weather_codes_DZ</th>\n",
       "      <th>weather_codes_HZ</th>\n",
       "      <th>weather_codes_RA</th>\n",
       "      <th>weather_codes_SHRA</th>\n",
       "      <th>weather_codes_TSRA</th>\n",
       "      <th>weather_codes_VCTS</th>\n",
       "    </tr>\n",
       "  </thead>\n",
       "  <tbody>\n",
       "    <tr>\n",
       "      <th>0</th>\n",
       "      <td>0</td>\n",
       "      <td>0</td>\n",
       "      <td>0</td>\n",
       "      <td>0</td>\n",
       "      <td>0</td>\n",
       "      <td>0</td>\n",
       "      <td>0</td>\n",
       "      <td>0</td>\n",
       "      <td>0</td>\n",
       "      <td>0</td>\n",
       "      <td>0</td>\n",
       "      <td>0</td>\n",
       "      <td>0</td>\n",
       "    </tr>\n",
       "    <tr>\n",
       "      <th>1</th>\n",
       "      <td>0</td>\n",
       "      <td>0</td>\n",
       "      <td>0</td>\n",
       "      <td>0</td>\n",
       "      <td>0</td>\n",
       "      <td>0</td>\n",
       "      <td>0</td>\n",
       "      <td>0</td>\n",
       "      <td>0</td>\n",
       "      <td>0</td>\n",
       "      <td>0</td>\n",
       "      <td>0</td>\n",
       "      <td>0</td>\n",
       "    </tr>\n",
       "    <tr>\n",
       "      <th>2</th>\n",
       "      <td>0</td>\n",
       "      <td>0</td>\n",
       "      <td>0</td>\n",
       "      <td>0</td>\n",
       "      <td>0</td>\n",
       "      <td>0</td>\n",
       "      <td>0</td>\n",
       "      <td>0</td>\n",
       "      <td>0</td>\n",
       "      <td>0</td>\n",
       "      <td>0</td>\n",
       "      <td>0</td>\n",
       "      <td>0</td>\n",
       "    </tr>\n",
       "    <tr>\n",
       "      <th>3</th>\n",
       "      <td>0</td>\n",
       "      <td>0</td>\n",
       "      <td>0</td>\n",
       "      <td>0</td>\n",
       "      <td>0</td>\n",
       "      <td>0</td>\n",
       "      <td>0</td>\n",
       "      <td>0</td>\n",
       "      <td>0</td>\n",
       "      <td>0</td>\n",
       "      <td>0</td>\n",
       "      <td>0</td>\n",
       "      <td>0</td>\n",
       "    </tr>\n",
       "    <tr>\n",
       "      <th>4</th>\n",
       "      <td>0</td>\n",
       "      <td>0</td>\n",
       "      <td>0</td>\n",
       "      <td>0</td>\n",
       "      <td>0</td>\n",
       "      <td>0</td>\n",
       "      <td>0</td>\n",
       "      <td>0</td>\n",
       "      <td>0</td>\n",
       "      <td>0</td>\n",
       "      <td>0</td>\n",
       "      <td>0</td>\n",
       "      <td>0</td>\n",
       "    </tr>\n",
       "    <tr>\n",
       "      <th>...</th>\n",
       "      <td>...</td>\n",
       "      <td>...</td>\n",
       "      <td>...</td>\n",
       "      <td>...</td>\n",
       "      <td>...</td>\n",
       "      <td>...</td>\n",
       "      <td>...</td>\n",
       "      <td>...</td>\n",
       "      <td>...</td>\n",
       "      <td>...</td>\n",
       "      <td>...</td>\n",
       "      <td>...</td>\n",
       "      <td>...</td>\n",
       "    </tr>\n",
       "    <tr>\n",
       "      <th>2915</th>\n",
       "      <td>0</td>\n",
       "      <td>0</td>\n",
       "      <td>0</td>\n",
       "      <td>0</td>\n",
       "      <td>0</td>\n",
       "      <td>0</td>\n",
       "      <td>0</td>\n",
       "      <td>0</td>\n",
       "      <td>0</td>\n",
       "      <td>0</td>\n",
       "      <td>0</td>\n",
       "      <td>0</td>\n",
       "      <td>0</td>\n",
       "    </tr>\n",
       "    <tr>\n",
       "      <th>2916</th>\n",
       "      <td>0</td>\n",
       "      <td>0</td>\n",
       "      <td>0</td>\n",
       "      <td>0</td>\n",
       "      <td>0</td>\n",
       "      <td>0</td>\n",
       "      <td>0</td>\n",
       "      <td>0</td>\n",
       "      <td>0</td>\n",
       "      <td>0</td>\n",
       "      <td>0</td>\n",
       "      <td>0</td>\n",
       "      <td>0</td>\n",
       "    </tr>\n",
       "    <tr>\n",
       "      <th>2917</th>\n",
       "      <td>0</td>\n",
       "      <td>0</td>\n",
       "      <td>0</td>\n",
       "      <td>0</td>\n",
       "      <td>0</td>\n",
       "      <td>0</td>\n",
       "      <td>0</td>\n",
       "      <td>0</td>\n",
       "      <td>0</td>\n",
       "      <td>0</td>\n",
       "      <td>0</td>\n",
       "      <td>0</td>\n",
       "      <td>0</td>\n",
       "    </tr>\n",
       "    <tr>\n",
       "      <th>2918</th>\n",
       "      <td>0</td>\n",
       "      <td>0</td>\n",
       "      <td>0</td>\n",
       "      <td>0</td>\n",
       "      <td>0</td>\n",
       "      <td>0</td>\n",
       "      <td>0</td>\n",
       "      <td>0</td>\n",
       "      <td>0</td>\n",
       "      <td>0</td>\n",
       "      <td>0</td>\n",
       "      <td>0</td>\n",
       "      <td>0</td>\n",
       "    </tr>\n",
       "    <tr>\n",
       "      <th>2919</th>\n",
       "      <td>0</td>\n",
       "      <td>0</td>\n",
       "      <td>0</td>\n",
       "      <td>0</td>\n",
       "      <td>0</td>\n",
       "      <td>0</td>\n",
       "      <td>0</td>\n",
       "      <td>0</td>\n",
       "      <td>0</td>\n",
       "      <td>0</td>\n",
       "      <td>0</td>\n",
       "      <td>0</td>\n",
       "      <td>0</td>\n",
       "    </tr>\n",
       "  </tbody>\n",
       "</table>\n",
       "<p>2920 rows × 13 columns</p>\n",
       "</div>"
      ],
      "text/plain": [
       "      weather_codes_+SHRA  weather_codes_+TSRA  weather_codes_-BR  \\\n",
       "0                       0                    0                  0   \n",
       "1                       0                    0                  0   \n",
       "2                       0                    0                  0   \n",
       "3                       0                    0                  0   \n",
       "4                       0                    0                  0   \n",
       "...                   ...                  ...                ...   \n",
       "2915                    0                    0                  0   \n",
       "2916                    0                    0                  0   \n",
       "2917                    0                    0                  0   \n",
       "2918                    0                    0                  0   \n",
       "2919                    0                    0                  0   \n",
       "\n",
       "      weather_codes_-DZ  weather_codes_-RA  weather_codes_-SHRA  \\\n",
       "0                     0                  0                    0   \n",
       "1                     0                  0                    0   \n",
       "2                     0                  0                    0   \n",
       "3                     0                  0                    0   \n",
       "4                     0                  0                    0   \n",
       "...                 ...                ...                  ...   \n",
       "2915                  0                  0                    0   \n",
       "2916                  0                  0                    0   \n",
       "2917                  0                  0                    0   \n",
       "2918                  0                  0                    0   \n",
       "2919                  0                  0                    0   \n",
       "\n",
       "      weather_codes_BR  weather_codes_DZ  weather_codes_HZ  weather_codes_RA  \\\n",
       "0                    0                 0                 0                 0   \n",
       "1                    0                 0                 0                 0   \n",
       "2                    0                 0                 0                 0   \n",
       "3                    0                 0                 0                 0   \n",
       "4                    0                 0                 0                 0   \n",
       "...                ...               ...               ...               ...   \n",
       "2915                 0                 0                 0                 0   \n",
       "2916                 0                 0                 0                 0   \n",
       "2917                 0                 0                 0                 0   \n",
       "2918                 0                 0                 0                 0   \n",
       "2919                 0                 0                 0                 0   \n",
       "\n",
       "      weather_codes_SHRA  weather_codes_TSRA  weather_codes_VCTS  \n",
       "0                      0                   0                   0  \n",
       "1                      0                   0                   0  \n",
       "2                      0                   0                   0  \n",
       "3                      0                   0                   0  \n",
       "4                      0                   0                   0  \n",
       "...                  ...                 ...                 ...  \n",
       "2915                   0                   0                   0  \n",
       "2916                   0                   0                   0  \n",
       "2917                   0                   0                   0  \n",
       "2918                   0                   0                   0  \n",
       "2919                   0                   0                   0  \n",
       "\n",
       "[2920 rows x 13 columns]"
      ]
     },
     "execution_count": 74,
     "metadata": {},
     "output_type": "execute_result"
    }
   ],
   "source": [
    "# Count Vectorize\n",
    "\n",
    "# Instantiate a CountVectorizer\n",
    "cvec = CountVectorizer(token_pattern=r'(?u)[\\w+-]+')\n",
    "\n",
    "# Fit the vectorizer on our corpus\n",
    "cvec.fit(hkg_weather['weather_codes'])\n",
    "\n",
    "# Transform the corpus\n",
    "X_weather_codes = cvec.transform(hkg_weather['weather_codes'])\n",
    "\n",
    "# Convert X_train into a DataFrame\n",
    "X_weather_codes_df = pd.DataFrame(X_weather_codes.toarray(),\n",
    "                                  columns=list(map(lambda x: \"weather_codes_\" + x.upper(), cvec.get_feature_names())))\n",
    "X_weather_codes_df"
   ]
  },
  {
   "cell_type": "code",
   "execution_count": 75,
   "metadata": {},
   "outputs": [
    {
     "data": {
      "image/png": "[encoded data removed]",
      "text/plain": [
       "<Figure size 576x360 with 1 Axes>"
      ]
     },
     "metadata": {
      "needs_background": "light"
     },
     "output_type": "display_data"
    }
   ],
   "source": [
    "X_weather_num_series = X_weather_codes_df.sum(axis=1).value_counts()\n",
    "\n",
    "# Plot barchart\n",
    "\n",
    "plt.figure(figsize=(8, 5))\n",
    "sns.barplot(X_weather_num_series.index, X_weather_num_series.values)\n",
    "\n",
    "plt.title('Barplot of Weather Phenomena Count', fontsize=12)\n",
    "plt.xlabel('Weather Phenomena Count', fontsize=12)\n",
    "plt.ylabel('Count', fontsize=12)\n",
    "plt.savefig('../images/01b-eda-metar-hkg/11-barchart-weather_phenomena_count.png', transparent=True)"
   ]
  },
  {
   "cell_type": "code",
   "execution_count": 76,
   "metadata": {},
   "outputs": [
    {
     "data": {
      "image/png": "[encoded data removed]",
      "text/plain": [
       "<Figure size 576x360 with 1 Axes>"
      ]
     },
     "metadata": {
      "needs_background": "light"
     },
     "output_type": "display_data"
    }
   ],
   "source": [
    "X_weather_series = X_weather_codes_df.sum(axis=0)\n",
    "\n",
    "# Plot barchart\n",
    "plt.figure(figsize=(8, 5))\n",
    "sns.barplot(X_weather_series.values, X_weather_series.index)\n",
    "\n",
    "plt.title('Barplot of Weather Phenomena', fontsize=12)\n",
    "plt.ylabel('Weather Phenomena', fontsize=12)\n",
    "plt.xlabel('Count', fontsize=12)\n",
    "plt.savefig('../images/01b-eda-metar-hkg/12-barchart-weather_phenomena.png', transparent=True)"
   ]
  },
  {
   "cell_type": "code",
   "execution_count": 77,
   "metadata": {},
   "outputs": [],
   "source": [
    "hkg_weather = pd.concat([hkg_weather, X_weather_codes_df], axis=1)"
   ]
  },
  {
   "cell_type": "markdown",
   "metadata": {},
   "source": [
    "## apparent_temp\n",
    "Apparent Temperature (Wind Chill or Heat Index) in Fahrenheit"
   ]
  },
  {
   "cell_type": "code",
   "execution_count": 78,
   "metadata": {},
   "outputs": [
    {
     "data": {
      "text/plain": [
       "44.36"
      ]
     },
     "execution_count": 78,
     "metadata": {},
     "output_type": "execute_result"
    }
   ],
   "source": [
    "hkg_weather.apparent_temp.min()"
   ]
  },
  {
   "cell_type": "code",
   "execution_count": 79,
   "metadata": {},
   "outputs": [
    {
     "data": {
      "text/plain": [
       "81.46"
      ]
     },
     "execution_count": 79,
     "metadata": {},
     "output_type": "execute_result"
    }
   ],
   "source": [
    "hkg_weather.apparent_temp.max()"
   ]
  },
  {
   "cell_type": "code",
   "execution_count": 80,
   "metadata": {},
   "outputs": [
    {
     "data": {
      "image/png": "[encoded data removed]",
      "text/plain": [
       "<Figure size 576x360 with 1 Axes>"
      ]
     },
     "metadata": {
      "needs_background": "light"
     },
     "output_type": "display_data"
    }
   ],
   "source": [
    "plot_histogram((8, 5), hkg_weather, 'apparent_temp', '13-histogram-apparent_temp')"
   ]
  },
  {
   "cell_type": "code",
   "execution_count": 81,
   "metadata": {},
   "outputs": [
    {
     "data": {
      "image/png": "[encoded data removed]",
      "text/plain": [
       "<Figure size 576x360 with 1 Axes>"
      ]
     },
     "metadata": {
      "needs_background": "light"
     },
     "output_type": "display_data"
    }
   ],
   "source": [
    "plot_barchart((8, 5), hkg_weather, 'apparent_temp', False, float, '14-barchart-apparent_temp')"
   ]
  },
  {
   "cell_type": "markdown",
   "metadata": {},
   "source": [
    "The most frequent value of apparent_temp is 66.2."
   ]
  },
  {
   "cell_type": "markdown",
   "metadata": {},
   "source": [
    "## Handling null values"
   ]
  },
  {
   "cell_type": "code",
   "execution_count": 82,
   "metadata": {},
   "outputs": [
    {
     "data": {
      "text/plain": [
       "station                   0\n",
       "timestamp                 0\n",
       "lon                       0\n",
       "lat                       0\n",
       "air_temp                  0\n",
       "dewpoint_temp             0\n",
       "rel_humidity              0\n",
       "wind_dir                114\n",
       "wind_speed                0\n",
       "altimeter_pressure        0\n",
       "visibility                0\n",
       "gust_speed                0\n",
       "sky_level_1_coverage    446\n",
       "sky_level_1_altitude    577\n",
       "weather_codes             0\n",
       "apparent_temp             0\n",
       "weather_codes_+SHRA       0\n",
       "weather_codes_+TSRA       0\n",
       "weather_codes_-BR         0\n",
       "weather_codes_-DZ         0\n",
       "weather_codes_-RA         0\n",
       "weather_codes_-SHRA       0\n",
       "weather_codes_BR          0\n",
       "weather_codes_DZ          0\n",
       "weather_codes_HZ          0\n",
       "weather_codes_RA          0\n",
       "weather_codes_SHRA        0\n",
       "weather_codes_TSRA        0\n",
       "weather_codes_VCTS        0\n",
       "dtype: int64"
      ]
     },
     "execution_count": 82,
     "metadata": {},
     "output_type": "execute_result"
    }
   ],
   "source": [
    "hkg_weather.isnull().sum()"
   ]
  },
  {
   "cell_type": "code",
   "execution_count": 83,
   "metadata": {},
   "outputs": [],
   "source": [
    "hkg_weather.wind_dir = hkg_weather.wind_dir.fillna(method='ffill')\n",
    "hkg_weather.sky_level_1_coverage = hkg_weather.sky_level_1_coverage.fillna(method='ffill')\n",
    "hkg_weather.sky_level_1_altitude = hkg_weather.sky_level_1_altitude.fillna(method='ffill')"
   ]
  },
  {
   "cell_type": "code",
   "execution_count": 84,
   "metadata": {},
   "outputs": [],
   "source": [
    "# hkg_weather.loc[(hkg_weather.valid.dt.minute != 0) & (hkg_weather.valid.dt.minute != 30)].index.tolist()"
   ]
  },
  {
   "cell_type": "code",
   "execution_count": 85,
   "metadata": {},
   "outputs": [],
   "source": [
    "# hkg_weather.loc[75:78]"
   ]
  },
  {
   "cell_type": "code",
   "execution_count": 86,
   "metadata": {},
   "outputs": [],
   "source": [
    "# start_dt = dt.datetime(2016, 12, 31, 0, 0, 0)\n",
    "# + dt.timedelta(minutes=30)"
   ]
  },
  {
   "cell_type": "code",
   "execution_count": 87,
   "metadata": {},
   "outputs": [],
   "source": [
    "hkg_weather_resampled = hkg_weather.set_index('timestamp').resample('30Min').first()"
   ]
  },
  {
   "cell_type": "code",
   "execution_count": 88,
   "metadata": {},
   "outputs": [],
   "source": [
    "hkg_weather_resampled.reset_index(inplace=True)"
   ]
  },
  {
   "cell_type": "code",
   "execution_count": 89,
   "metadata": {},
   "outputs": [
    {
     "data": {
      "text/plain": [
       "timestamp                0\n",
       "station                 14\n",
       "lon                     14\n",
       "lat                     14\n",
       "air_temp                14\n",
       "dewpoint_temp           14\n",
       "rel_humidity            14\n",
       "wind_dir                14\n",
       "wind_speed              14\n",
       "altimeter_pressure      14\n",
       "visibility              14\n",
       "gust_speed              14\n",
       "sky_level_1_coverage    14\n",
       "sky_level_1_altitude    14\n",
       "weather_codes           14\n",
       "apparent_temp           14\n",
       "weather_codes_+SHRA     14\n",
       "weather_codes_+TSRA     14\n",
       "weather_codes_-BR       14\n",
       "weather_codes_-DZ       14\n",
       "weather_codes_-RA       14\n",
       "weather_codes_-SHRA     14\n",
       "weather_codes_BR        14\n",
       "weather_codes_DZ        14\n",
       "weather_codes_HZ        14\n",
       "weather_codes_RA        14\n",
       "weather_codes_SHRA      14\n",
       "weather_codes_TSRA      14\n",
       "weather_codes_VCTS      14\n",
       "dtype: int64"
      ]
     },
     "execution_count": 89,
     "metadata": {},
     "output_type": "execute_result"
    }
   ],
   "source": [
    "hkg_weather_resampled.isnull().sum()"
   ]
  },
  {
   "cell_type": "code",
   "execution_count": 90,
   "metadata": {},
   "outputs": [],
   "source": [
    "hkg_weather_resampled.fillna(method='ffill', inplace=True)"
   ]
  },
  {
   "cell_type": "code",
   "execution_count": 91,
   "metadata": {},
   "outputs": [
    {
     "name": "stdout",
     "output_type": "stream",
     "text": [
      "<class 'pandas.core.frame.DataFrame'>\n",
      "RangeIndex: 2832 entries, 0 to 2831\n",
      "Data columns (total 29 columns):\n",
      " #   Column                Non-Null Count  Dtype         \n",
      "---  ------                --------------  -----         \n",
      " 0   timestamp             2832 non-null   datetime64[ns]\n",
      " 1   station               2832 non-null   object        \n",
      " 2   lon                   2832 non-null   float64       \n",
      " 3   lat                   2832 non-null   float64       \n",
      " 4   air_temp              2832 non-null   float64       \n",
      " 5   dewpoint_temp         2832 non-null   float64       \n",
      " 6   rel_humidity          2832 non-null   float64       \n",
      " 7   wind_dir              2832 non-null   Int64         \n",
      " 8   wind_speed            2832 non-null   float64       \n",
      " 9   altimeter_pressure    2832 non-null   float64       \n",
      " 10  visibility            2832 non-null   float64       \n",
      " 11  gust_speed            2832 non-null   Int64         \n",
      " 12  sky_level_1_coverage  2832 non-null   object        \n",
      " 13  sky_level_1_altitude  2832 non-null   Int64         \n",
      " 14  weather_codes         2832 non-null   object        \n",
      " 15  apparent_temp         2832 non-null   float64       \n",
      " 16  weather_codes_+SHRA   2832 non-null   float64       \n",
      " 17  weather_codes_+TSRA   2832 non-null   float64       \n",
      " 18  weather_codes_-BR     2832 non-null   float64       \n",
      " 19  weather_codes_-DZ     2832 non-null   float64       \n",
      " 20  weather_codes_-RA     2832 non-null   float64       \n",
      " 21  weather_codes_-SHRA   2832 non-null   float64       \n",
      " 22  weather_codes_BR      2832 non-null   float64       \n",
      " 23  weather_codes_DZ      2832 non-null   float64       \n",
      " 24  weather_codes_HZ      2832 non-null   float64       \n",
      " 25  weather_codes_RA      2832 non-null   float64       \n",
      " 26  weather_codes_SHRA    2832 non-null   float64       \n",
      " 27  weather_codes_TSRA    2832 non-null   float64       \n",
      " 28  weather_codes_VCTS    2832 non-null   float64       \n",
      "dtypes: Int64(3), datetime64[ns](1), float64(22), object(3)\n",
      "memory usage: 650.0+ KB\n"
     ]
    }
   ],
   "source": [
    "hkg_weather_resampled.info()"
   ]
  },
  {
   "cell_type": "code",
   "execution_count": 92,
   "metadata": {},
   "outputs": [],
   "source": [
    "hkg_weather_resampled.to_csv('../data/metar-vhhh-clean.csv')"
   ]
  }
 ],
 "metadata": {
  "kernelspec": {
   "display_name": "Python 3",
   "language": "python",
   "name": "python3"
  },
  "language_info": {
   "codemirror_mode": {
    "name": "ipython",
    "version": 3
   },
   "file_extension": ".py",
   "mimetype": "text/x-python",
   "name": "python",
   "nbconvert_exporter": "python",
   "pygments_lexer": "ipython3",
   "version": "3.6.9"
  }
 },
 "nbformat": 4,
 "nbformat_minor": 4
}
