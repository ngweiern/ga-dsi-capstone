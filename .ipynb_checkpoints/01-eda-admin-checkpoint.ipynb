{
 "cells": [
  {
   "cell_type": "markdown",
   "metadata": {},
   "source": [
    "## Import libraries"
   ]
  },
  {
   "cell_type": "code",
   "execution_count": 1,
   "metadata": {},
   "outputs": [],
   "source": [
    "import pandas as pd\n",
    "import numpy as np\n",
    "import matplotlib.pyplot as plt\n",
    "import seaborn as sns\n",
    "from datetime import datetime\n",
    "\n",
    "%matplotlib inline"
   ]
  },
  {
   "cell_type": "code",
   "execution_count": 2,
   "metadata": {},
   "outputs": [],
   "source": [
    "# import tensorflow as tf\n",
    "# print(\"tf version = \", tf.__version__)\n",
    "# with tf.device(\"/gpu:0\"):\n",
    "#     a = tf.constant([1.0, 2.0, 3.0, 4.0, 5.0, 6.0], shape=[2, 3], name='a')\n",
    "#     b = tf.constant([1.0, 2.0, 3.0, 4.0, 5.0, 6.0], shape=[3, 2], name='b')\n",
    "#     c = tf.matmul(a, b)\n",
    "# with tf.Session() as sess:\n",
    "#     print (sess.run(c))"
   ]
  },
  {
   "cell_type": "markdown",
   "metadata": {},
   "source": [
    "## Read data"
   ]
  },
  {
   "cell_type": "code",
   "execution_count": 3,
   "metadata": {},
   "outputs": [],
   "source": [
    "admin = pd.read_csv('./AirTracks/all_csv/Jan2017/admin.csv')"
   ]
  },
  {
   "cell_type": "code",
   "execution_count": 4,
   "metadata": {},
   "outputs": [
    {
     "data": {
      "text/html": [
       "<div>\n",
       "<style scoped>\n",
       "    .dataframe tbody tr th:only-of-type {\n",
       "        vertical-align: middle;\n",
       "    }\n",
       "\n",
       "    .dataframe tbody tr th {\n",
       "        vertical-align: top;\n",
       "    }\n",
       "\n",
       "    .dataframe thead th {\n",
       "        text-align: right;\n",
       "    }\n",
       "</style>\n",
       "<table border=\"1\" class=\"dataframe\">\n",
       "  <thead>\n",
       "    <tr style=\"text-align: right;\">\n",
       "      <th></th>\n",
       "      <th>FlightId</th>\n",
       "      <th>FlightCallsign</th>\n",
       "      <th>AircraftModel</th>\n",
       "      <th>AircraftRegistration</th>\n",
       "      <th>Airline</th>\n",
       "      <th>Origin</th>\n",
       "      <th>Destination</th>\n",
       "      <th>SchdeuledDeparture</th>\n",
       "      <th>ScheduledArrival</th>\n",
       "      <th>RealDeparture</th>\n",
       "      <th>EstimatedArrival</th>\n",
       "      <th>FlightTime</th>\n",
       "    </tr>\n",
       "  </thead>\n",
       "  <tbody>\n",
       "    <tr>\n",
       "      <th>0</th>\n",
       "      <td>c244ac4</td>\n",
       "      <td>SAS1749</td>\n",
       "      <td>ATR 72-600</td>\n",
       "      <td>OY-JZE</td>\n",
       "      <td>SAS</td>\n",
       "      <td>Tallinn Lennart Meri Airport</td>\n",
       "      <td>Stockholm Arlanda Airport</td>\n",
       "      <td>1.484156e+09</td>\n",
       "      <td>1.484161e+09</td>\n",
       "      <td>1.484159e+09</td>\n",
       "      <td>NaN</td>\n",
       "      <td>3762.0</td>\n",
       "    </tr>\n",
       "    <tr>\n",
       "      <th>1</th>\n",
       "      <td>c32d217</td>\n",
       "      <td>OKA2925</td>\n",
       "      <td>Boeing 737-8AS</td>\n",
       "      <td>B-5578</td>\n",
       "      <td>OKAir</td>\n",
       "      <td>Changsha Huanghua International Airport</td>\n",
       "      <td>Hangzhou Xiaoshan International Airport</td>\n",
       "      <td>1.484694e+09</td>\n",
       "      <td>1.484698e+09</td>\n",
       "      <td>1.484694e+09</td>\n",
       "      <td>1.484698e+09</td>\n",
       "      <td>3850.0</td>\n",
       "    </tr>\n",
       "  </tbody>\n",
       "</table>\n",
       "</div>"
      ],
      "text/plain": [
       "  FlightId FlightCallsign   AircraftModel AircraftRegistration Airline  \\\n",
       "0  c244ac4        SAS1749      ATR 72-600               OY-JZE     SAS   \n",
       "1  c32d217        OKA2925  Boeing 737-8AS               B-5578   OKAir   \n",
       "\n",
       "                                    Origin  \\\n",
       "0            Tallinn Lennart Meri Airport    \n",
       "1  Changsha Huanghua International Airport   \n",
       "\n",
       "                               Destination  SchdeuledDeparture  \\\n",
       "0                Stockholm Arlanda Airport        1.484156e+09   \n",
       "1  Hangzhou Xiaoshan International Airport        1.484694e+09   \n",
       "\n",
       "   ScheduledArrival  RealDeparture  EstimatedArrival  FlightTime  \n",
       "0      1.484161e+09   1.484159e+09               NaN      3762.0  \n",
       "1      1.484698e+09   1.484694e+09      1.484698e+09      3850.0  "
      ]
     },
     "execution_count": 4,
     "metadata": {},
     "output_type": "execute_result"
    }
   ],
   "source": [
    "admin.head(2)"
   ]
  },
  {
   "cell_type": "code",
   "execution_count": 5,
   "metadata": {},
   "outputs": [],
   "source": [
    "# trails = pd.read_feather('./AirTracks/all_csv/Jan2017/trails.feather')\n",
    "# trails = pd.read_csv('./AirTracks/all_csv/Jan2017/trails.csv', low_memory=True)"
   ]
  },
  {
   "cell_type": "markdown",
   "metadata": {},
   "source": [
    "## Rename columns"
   ]
  },
  {
   "cell_type": "code",
   "execution_count": 6,
   "metadata": {},
   "outputs": [],
   "source": [
    "admin.rename(columns={\n",
    "    'FlightId': 'flight_id',\n",
    "    'FlightCallsign': 'flight_callsign',\n",
    "    'AircraftModel': 'aircraft_model',\n",
    "    'AircraftRegistration': 'aircraft_registration',\n",
    "    'SchdeuledDeparture': 'scheduled_departure',\n",
    "    'ScheduledArrival': 'scheduled_arrival',\n",
    "    'RealDeparture': 'real_departure',\n",
    "    'EstimatedArrival': 'estimated_arrival',\n",
    "    'FlightTime': 'flight_time'\n",
    "     }, inplace=True)\n",
    "\n",
    "admin.columns = admin.columns.map(lambda x: x.lower())"
   ]
  },
  {
   "cell_type": "code",
   "execution_count": 7,
   "metadata": {
    "scrolled": true
   },
   "outputs": [
    {
     "data": {
      "text/plain": [
       "Index(['flight_id', 'flight_callsign', 'aircraft_model',\n",
       "       'aircraft_registration', 'airline', 'origin', 'destination',\n",
       "       'scheduled_departure', 'scheduled_arrival', 'real_departure',\n",
       "       'estimated_arrival', 'flight_time'],\n",
       "      dtype='object')"
      ]
     },
     "execution_count": 7,
     "metadata": {},
     "output_type": "execute_result"
    }
   ],
   "source": [
    "admin.columns"
   ]
  },
  {
   "cell_type": "code",
   "execution_count": 8,
   "metadata": {},
   "outputs": [
    {
     "data": {
      "text/plain": [
       "flight_id                 object\n",
       "flight_callsign           object\n",
       "aircraft_model            object\n",
       "aircraft_registration     object\n",
       "airline                   object\n",
       "origin                    object\n",
       "destination               object\n",
       "scheduled_departure      float64\n",
       "scheduled_arrival        float64\n",
       "real_departure           float64\n",
       "estimated_arrival        float64\n",
       "flight_time              float64\n",
       "dtype: object"
      ]
     },
     "execution_count": 8,
     "metadata": {},
     "output_type": "execute_result"
    }
   ],
   "source": [
    "admin.dtypes"
   ]
  },
  {
   "cell_type": "markdown",
   "metadata": {},
   "source": [
    "## Handling null data"
   ]
  },
  {
   "cell_type": "code",
   "execution_count": 9,
   "metadata": {},
   "outputs": [
    {
     "data": {
      "text/plain": [
       "flight_id                     0\n",
       "flight_callsign            3851\n",
       "aircraft_model            18818\n",
       "aircraft_registration     20741\n",
       "airline                   24109\n",
       "origin                    41361\n",
       "destination               88792\n",
       "scheduled_departure       23538\n",
       "scheduled_arrival         23538\n",
       "real_departure            64318\n",
       "estimated_arrival        502967\n",
       "flight_time              160380\n",
       "dtype: int64"
      ]
     },
     "execution_count": 9,
     "metadata": {},
     "output_type": "execute_result"
    }
   ],
   "source": [
    "admin.isnull().sum()"
   ]
  },
  {
   "cell_type": "code",
   "execution_count": 10,
   "metadata": {},
   "outputs": [
    {
     "name": "stdout",
     "output_type": "stream",
     "text": [
      "<class 'pandas.core.frame.DataFrame'>\n",
      "RangeIndex: 1158127 entries, 0 to 1158126\n",
      "Data columns (total 12 columns):\n",
      " #   Column                 Non-Null Count    Dtype  \n",
      "---  ------                 --------------    -----  \n",
      " 0   flight_id              1158127 non-null  object \n",
      " 1   flight_callsign        1154276 non-null  object \n",
      " 2   aircraft_model         1139309 non-null  object \n",
      " 3   aircraft_registration  1137386 non-null  object \n",
      " 4   airline                1134018 non-null  object \n",
      " 5   origin                 1116766 non-null  object \n",
      " 6   destination            1069335 non-null  object \n",
      " 7   scheduled_departure    1134589 non-null  float64\n",
      " 8   scheduled_arrival      1134589 non-null  float64\n",
      " 9   real_departure         1093809 non-null  float64\n",
      " 10  estimated_arrival      655160 non-null   float64\n",
      " 11  flight_time            997747 non-null   float64\n",
      "dtypes: float64(5), object(7)\n",
      "memory usage: 106.0+ MB\n"
     ]
    }
   ],
   "source": [
    "admin.info()"
   ]
  },
  {
   "cell_type": "code",
   "execution_count": 11,
   "metadata": {},
   "outputs": [],
   "source": [
    "# Drop rows where both origin and destination are NaN\n",
    "# admin[~(admin['origin'].isnull() & admin['destination'].isnull())]"
   ]
  },
  {
   "cell_type": "code",
   "execution_count": 12,
   "metadata": {},
   "outputs": [],
   "source": [
    "# Drop rows where either origin and destination are NaN\n",
    "admin.dropna(subset=['origin', 'destination'], inplace=True)"
   ]
  },
  {
   "cell_type": "code",
   "execution_count": 13,
   "metadata": {},
   "outputs": [],
   "source": [
    "# ls_object_columns = admin.loc[:, admin.dtypes == object].columns.tolist()\n",
    "str_cols = admin.columns[admin.dtypes==object]"
   ]
  },
  {
   "cell_type": "code",
   "execution_count": 14,
   "metadata": {},
   "outputs": [],
   "source": [
    "# Fill NaN with empty string\n",
    "admin[str_cols] = admin[str_cols].fillna('')"
   ]
  },
  {
   "cell_type": "code",
   "execution_count": 15,
   "metadata": {},
   "outputs": [],
   "source": [
    "# Strip leading and trailing spaces in object columns\n",
    "admin[str_cols] = admin[str_cols].apply(lambda x: x.str.strip())"
   ]
  },
  {
   "cell_type": "markdown",
   "metadata": {},
   "source": [
    "## Convert to datetime"
   ]
  },
  {
   "cell_type": "code",
   "execution_count": 16,
   "metadata": {},
   "outputs": [],
   "source": [
    "def get_utc_datetime(value):\n",
    "    try:\n",
    "        return datetime.fromtimestamp(value)\n",
    "    except:\n",
    "        return pd.NaT\n",
    "    \n",
    "admin['scheduled_departure'] = admin['scheduled_departure'].map(get_utc_datetime)\n",
    "admin['scheduled_arrival'] = admin['scheduled_arrival'].map(get_utc_datetime)\n",
    "admin['real_departure'] = admin['real_departure'].map(get_utc_datetime)\n",
    "admin['estimated_arrival'] = admin['estimated_arrival'].map(get_utc_datetime)"
   ]
  },
  {
   "cell_type": "markdown",
   "metadata": {},
   "source": [
    "**ScheduledArrival and ScheduledDeparture**"
   ]
  },
  {
   "cell_type": "code",
   "execution_count": 17,
   "metadata": {},
   "outputs": [
    {
     "data": {
      "text/plain": [
       "0   2017-01-12 02:55:00\n",
       "1   2017-01-18 08:15:00\n",
       "2   2017-01-18 06:55:00\n",
       "3   2017-01-19 16:00:00\n",
       "5   2017-01-05 21:05:00\n",
       "Name: scheduled_arrival, dtype: datetime64[ns]"
      ]
     },
     "execution_count": 17,
     "metadata": {},
     "output_type": "execute_result"
    }
   ],
   "source": [
    "admin['scheduled_arrival'][:5]"
   ]
  },
  {
   "cell_type": "code",
   "execution_count": 18,
   "metadata": {},
   "outputs": [
    {
     "data": {
      "text/plain": [
       "0   2017-01-12 01:40:00\n",
       "1   2017-01-18 06:55:00\n",
       "2   2017-01-18 02:40:00\n",
       "3   2017-01-19 13:35:00\n",
       "5   2017-01-05 17:50:00\n",
       "Name: scheduled_departure, dtype: datetime64[ns]"
      ]
     },
     "execution_count": 18,
     "metadata": {},
     "output_type": "execute_result"
    }
   ],
   "source": [
    "admin['scheduled_departure'][:5]"
   ]
  },
  {
   "cell_type": "markdown",
   "metadata": {},
   "source": [
    "Observation: There are some dates where year = 1970. Check if there are dates that do not fall within Jan 2017"
   ]
  },
  {
   "cell_type": "code",
   "execution_count": 19,
   "metadata": {},
   "outputs": [],
   "source": [
    "admin['scheduled_arrival_year'] = admin['scheduled_arrival'].dt.year\n",
    "admin['scheduled_arrival_month'] = admin['scheduled_arrival'].dt.month\n",
    "admin['scheduled_arrival_day'] = admin['scheduled_arrival'].dt.day"
   ]
  },
  {
   "cell_type": "code",
   "execution_count": 20,
   "metadata": {},
   "outputs": [],
   "source": [
    "admin['scheduled_departure_year'] = admin['scheduled_departure'].dt.year\n",
    "admin['scheduled_departure_month'] = admin['scheduled_departure'].dt.month\n",
    "admin['scheduled_departure_day'] = admin['scheduled_departure'].dt.day"
   ]
  },
  {
   "cell_type": "code",
   "execution_count": 21,
   "metadata": {},
   "outputs": [
    {
     "data": {
      "text/plain": [
       "1970.0      57147\n",
       "2016.0        691\n",
       "2017.0    1003777\n",
       "NaN          2025\n",
       "Name: scheduled_arrival_year, dtype: int64"
      ]
     },
     "execution_count": 21,
     "metadata": {},
     "output_type": "execute_result"
    }
   ],
   "source": [
    "admin['scheduled_arrival_year'].value_counts(dropna=False).sort_index()"
   ]
  },
  {
   "cell_type": "code",
   "execution_count": 22,
   "metadata": {},
   "outputs": [
    {
     "data": {
      "text/plain": [
       "1.0     1059810\n",
       "2.0        1114\n",
       "12.0        691\n",
       "NaN        2025\n",
       "Name: scheduled_arrival_month, dtype: int64"
      ]
     },
     "execution_count": 22,
     "metadata": {},
     "output_type": "execute_result"
    }
   ],
   "source": [
    "admin['scheduled_arrival_month'].value_counts(dropna=False).sort_index()"
   ]
  },
  {
   "cell_type": "code",
   "execution_count": 23,
   "metadata": {},
   "outputs": [
    {
     "data": {
      "text/plain": [
       "1.0     84042\n",
       "2.0     33347\n",
       "3.0     32203\n",
       "4.0     31768\n",
       "5.0     32863\n",
       "6.0     36173\n",
       "7.0     28566\n",
       "8.0     21270\n",
       "9.0      4243\n",
       "10.0    14080\n",
       "11.0    32666\n",
       "12.0    30494\n",
       "13.0    10434\n",
       "14.0    34424\n",
       "15.0    33387\n",
       "16.0    37026\n",
       "17.0    35393\n",
       "18.0    35109\n",
       "19.0    35701\n",
       "20.0    35308\n",
       "21.0    35280\n",
       "22.0    33883\n",
       "23.0    36894\n",
       "24.0    37345\n",
       "25.0    38424\n",
       "26.0    40920\n",
       "27.0    41418\n",
       "28.0    40615\n",
       "29.0    38667\n",
       "30.0    40667\n",
       "31.0    39005\n",
       "NaN      2025\n",
       "Name: scheduled_arrival_day, dtype: int64"
      ]
     },
     "execution_count": 23,
     "metadata": {},
     "output_type": "execute_result"
    }
   ],
   "source": [
    "admin['scheduled_arrival_day'].value_counts(dropna=False).sort_index()"
   ]
  },
  {
   "cell_type": "code",
   "execution_count": 24,
   "metadata": {},
   "outputs": [
    {
     "data": {
      "text/plain": [
       "2025"
      ]
     },
     "execution_count": 24,
     "metadata": {},
     "output_type": "execute_result"
    }
   ],
   "source": [
    "admin['scheduled_arrival'].isnull().sum()"
   ]
  },
  {
   "cell_type": "code",
   "execution_count": 25,
   "metadata": {},
   "outputs": [
    {
     "data": {
      "text/plain": [
       "2025"
      ]
     },
     "execution_count": 25,
     "metadata": {},
     "output_type": "execute_result"
    }
   ],
   "source": [
    "admin['scheduled_departure'].isnull().sum()"
   ]
  },
  {
   "cell_type": "code",
   "execution_count": 26,
   "metadata": {},
   "outputs": [],
   "source": [
    "schedule_arrival_missing_index = admin.loc[admin['scheduled_arrival'].isnull(),'scheduled_arrival'].index.tolist()\n",
    "# # returns the same result\n",
    "# admin['ScheduledArrival'][admin['ScheduledArrival'].isnull()].index"
   ]
  },
  {
   "cell_type": "code",
   "execution_count": 27,
   "metadata": {},
   "outputs": [],
   "source": [
    "schedule_departure_missing_index = admin.loc[admin['scheduled_departure'].isnull(),'scheduled_departure'].index.tolist()"
   ]
  },
  {
   "cell_type": "code",
   "execution_count": 28,
   "metadata": {},
   "outputs": [
    {
     "data": {
      "text/plain": [
       "True"
      ]
     },
     "execution_count": 28,
     "metadata": {},
     "output_type": "execute_result"
    }
   ],
   "source": [
    "np.array_equal(schedule_departure_missing_index, schedule_arrival_missing_index)"
   ]
  },
  {
   "cell_type": "markdown",
   "metadata": {},
   "source": [
    "Observation: Rows with NaT for ScheduledArrival also had NaT for ScheduledDeparture"
   ]
  },
  {
   "cell_type": "code",
   "execution_count": 29,
   "metadata": {},
   "outputs": [],
   "source": [
    "estimated_arrival_missing_index = admin.loc[admin['estimated_arrival'].isnull(), 'estimated_arrival'].index.tolist()"
   ]
  },
  {
   "cell_type": "code",
   "execution_count": 30,
   "metadata": {},
   "outputs": [
    {
     "data": {
      "text/plain": [
       "409563"
      ]
     },
     "execution_count": 30,
     "metadata": {},
     "output_type": "execute_result"
    }
   ],
   "source": [
    "len(estimated_arrival_missing_index)"
   ]
  },
  {
   "cell_type": "code",
   "execution_count": 31,
   "metadata": {},
   "outputs": [
    {
     "data": {
      "text/plain": [
       "2025"
      ]
     },
     "execution_count": 31,
     "metadata": {},
     "output_type": "execute_result"
    }
   ],
   "source": [
    "len(list(set(estimated_arrival_missing_index).intersection(set(schedule_departure_missing_index))))"
   ]
  },
  {
   "cell_type": "markdown",
   "metadata": {},
   "source": [
    "EstimatedArrival shares common missing values for ScheduledArrival and ScheduledDeparture"
   ]
  },
  {
   "cell_type": "code",
   "execution_count": 32,
   "metadata": {},
   "outputs": [],
   "source": [
    "# Calculate scheduled flight time in timedelta type\n",
    "admin['scheduled_flight_time'] = admin['scheduled_arrival'] - admin['scheduled_departure']"
   ]
  },
  {
   "cell_type": "code",
   "execution_count": 33,
   "metadata": {},
   "outputs": [],
   "source": [
    "# Convert scheduled flight time from timedelta to seconds\n",
    "admin['scheduled_flight_time'] = admin['scheduled_flight_time'].map(lambda x: x.total_seconds())"
   ]
  },
  {
   "cell_type": "markdown",
   "metadata": {},
   "source": [
    "**FlightTime**"
   ]
  },
  {
   "cell_type": "code",
   "execution_count": 34,
   "metadata": {},
   "outputs": [
    {
     "data": {
      "text/plain": [
       "4135.0"
      ]
     },
     "execution_count": 34,
     "metadata": {},
     "output_type": "execute_result"
    }
   ],
   "source": [
    "(admin['estimated_arrival'] - admin['real_departure'])[1].total_seconds()"
   ]
  },
  {
   "cell_type": "code",
   "execution_count": 35,
   "metadata": {},
   "outputs": [
    {
     "data": {
      "text/plain": [
       "(1063640, 19)"
      ]
     },
     "execution_count": 35,
     "metadata": {},
     "output_type": "execute_result"
    }
   ],
   "source": [
    "admin.shape"
   ]
  },
  {
   "cell_type": "code",
   "execution_count": 36,
   "metadata": {},
   "outputs": [
    {
     "data": {
      "text/plain": [
       "(994856, 19)"
      ]
     },
     "execution_count": 36,
     "metadata": {},
     "output_type": "execute_result"
    }
   ],
   "source": [
    "admin.dropna(subset=['flight_time']).shape"
   ]
  },
  {
   "cell_type": "code",
   "execution_count": 37,
   "metadata": {},
   "outputs": [
    {
     "data": {
      "text/plain": [
       "68784"
      ]
     },
     "execution_count": 37,
     "metadata": {},
     "output_type": "execute_result"
    }
   ],
   "source": [
    "admin['flight_time'].isnull().sum()"
   ]
  },
  {
   "cell_type": "code",
   "execution_count": 38,
   "metadata": {},
   "outputs": [
    {
     "data": {
      "text/plain": [
       "26790"
      ]
     },
     "execution_count": 38,
     "metadata": {},
     "output_type": "execute_result"
    }
   ],
   "source": [
    "admin['real_departure'].isnull().sum()"
   ]
  },
  {
   "cell_type": "code",
   "execution_count": 39,
   "metadata": {},
   "outputs": [],
   "source": [
    "def get_h_m_s(value):\n",
    "    h = value // 3600\n",
    "    m = value % 3600 // 60\n",
    "    s = value % 60\n",
    "    try:\n",
    "        return int(h), int(m), int(s)\n",
    "    except:\n",
    "        return np.nan"
   ]
  },
  {
   "cell_type": "code",
   "execution_count": 40,
   "metadata": {},
   "outputs": [
    {
     "data": {
      "text/plain": [
       "0           (1, 2, 42)\n",
       "1           (1, 4, 10)\n",
       "2           (3, 52, 9)\n",
       "3          (1, 59, 14)\n",
       "5          (2, 37, 38)\n",
       "              ...     \n",
       "1158121    (1, 29, 32)\n",
       "1158122    (1, 46, 47)\n",
       "1158123     (1, 33, 5)\n",
       "1158124    (2, 35, 59)\n",
       "1158125     (4, 16, 1)\n",
       "Name: flight_time, Length: 1063640, dtype: object"
      ]
     },
     "execution_count": 40,
     "metadata": {},
     "output_type": "execute_result"
    }
   ],
   "source": [
    "admin['flight_time'].apply(get_h_m_s)"
   ]
  },
  {
   "cell_type": "code",
   "execution_count": 41,
   "metadata": {},
   "outputs": [
    {
     "data": {
      "text/plain": [
       "'1:59:04'"
      ]
     },
     "execution_count": 41,
     "metadata": {},
     "output_type": "execute_result"
    }
   ],
   "source": [
    "import datetime\n",
    "str(datetime.timedelta(seconds=7144))"
   ]
  },
  {
   "cell_type": "code",
   "execution_count": 42,
   "metadata": {},
   "outputs": [
    {
     "data": {
      "text/plain": [
       "(1, 59, 4)"
      ]
     },
     "execution_count": 42,
     "metadata": {},
     "output_type": "execute_result"
    }
   ],
   "source": [
    "# Reference: https://stackoverflow.com/questions/775049/how-do-i-convert-seconds-to-hours-minutes-and-seconds\n",
    "m, s = divmod(7144, 60)\n",
    "h, m = divmod(m, 60)\n",
    "h, m, s"
   ]
  },
  {
   "cell_type": "code",
   "execution_count": 43,
   "metadata": {},
   "outputs": [
    {
     "data": {
      "text/plain": [
       "(1, 59, 4)"
      ]
     },
     "execution_count": 43,
     "metadata": {},
     "output_type": "execute_result"
    }
   ],
   "source": [
    "# Reference: https://stackoverflow.com/questions/1384406/convert-seconds-to-hhmmss-in-python\n",
    "s = 7144\n",
    "m = s // 60\n",
    "h = m // 60\n",
    "h, m%60, s%60"
   ]
  },
  {
   "cell_type": "markdown",
   "metadata": {},
   "source": [
    "## Analysis of a single flight (flight_id = c244ac4)"
   ]
  },
  {
   "cell_type": "code",
   "execution_count": 44,
   "metadata": {},
   "outputs": [
    {
     "data": {
      "text/plain": [
       "Index(['flight_id', 'flight_callsign', 'aircraft_model',\n",
       "       'aircraft_registration', 'airline', 'origin', 'destination',\n",
       "       'scheduled_departure', 'scheduled_arrival', 'real_departure',\n",
       "       'estimated_arrival', 'flight_time', 'scheduled_arrival_year',\n",
       "       'scheduled_arrival_month', 'scheduled_arrival_day',\n",
       "       'scheduled_departure_year', 'scheduled_departure_month',\n",
       "       'scheduled_departure_day', 'scheduled_flight_time'],\n",
       "      dtype='object')"
      ]
     },
     "execution_count": 44,
     "metadata": {},
     "output_type": "execute_result"
    }
   ],
   "source": [
    "admin.columns"
   ]
  },
  {
   "cell_type": "code",
   "execution_count": 45,
   "metadata": {},
   "outputs": [
    {
     "data": {
      "text/html": [
       "<div>\n",
       "<style scoped>\n",
       "    .dataframe tbody tr th:only-of-type {\n",
       "        vertical-align: middle;\n",
       "    }\n",
       "\n",
       "    .dataframe tbody tr th {\n",
       "        vertical-align: top;\n",
       "    }\n",
       "\n",
       "    .dataframe thead th {\n",
       "        text-align: right;\n",
       "    }\n",
       "</style>\n",
       "<table border=\"1\" class=\"dataframe\">\n",
       "  <thead>\n",
       "    <tr style=\"text-align: right;\">\n",
       "      <th></th>\n",
       "      <th>flight_id</th>\n",
       "      <th>flight_callsign</th>\n",
       "      <th>aircraft_model</th>\n",
       "      <th>aircraft_registration</th>\n",
       "      <th>airline</th>\n",
       "      <th>origin</th>\n",
       "      <th>destination</th>\n",
       "      <th>scheduled_departure</th>\n",
       "      <th>scheduled_arrival</th>\n",
       "      <th>real_departure</th>\n",
       "      <th>estimated_arrival</th>\n",
       "      <th>flight_time</th>\n",
       "      <th>scheduled_arrival_year</th>\n",
       "      <th>scheduled_arrival_month</th>\n",
       "      <th>scheduled_arrival_day</th>\n",
       "      <th>scheduled_departure_year</th>\n",
       "      <th>scheduled_departure_month</th>\n",
       "      <th>scheduled_departure_day</th>\n",
       "      <th>scheduled_flight_time</th>\n",
       "    </tr>\n",
       "  </thead>\n",
       "  <tbody>\n",
       "    <tr>\n",
       "      <th>0</th>\n",
       "      <td>c244ac4</td>\n",
       "      <td>SAS1749</td>\n",
       "      <td>ATR 72-600</td>\n",
       "      <td>OY-JZE</td>\n",
       "      <td>SAS</td>\n",
       "      <td>Tallinn Lennart Meri Airport</td>\n",
       "      <td>Stockholm Arlanda Airport</td>\n",
       "      <td>2017-01-12 01:40:00</td>\n",
       "      <td>2017-01-12 02:55:00</td>\n",
       "      <td>2017-01-12 02:27:23</td>\n",
       "      <td>NaT</td>\n",
       "      <td>3762.0</td>\n",
       "      <td>2017.0</td>\n",
       "      <td>1.0</td>\n",
       "      <td>12.0</td>\n",
       "      <td>2017.0</td>\n",
       "      <td>1.0</td>\n",
       "      <td>12.0</td>\n",
       "      <td>4500.0</td>\n",
       "    </tr>\n",
       "  </tbody>\n",
       "</table>\n",
       "</div>"
      ],
      "text/plain": [
       "  flight_id flight_callsign aircraft_model aircraft_registration airline  \\\n",
       "0   c244ac4         SAS1749     ATR 72-600                OY-JZE     SAS   \n",
       "\n",
       "                         origin                destination  \\\n",
       "0  Tallinn Lennart Meri Airport  Stockholm Arlanda Airport   \n",
       "\n",
       "  scheduled_departure   scheduled_arrival      real_departure  \\\n",
       "0 2017-01-12 01:40:00 2017-01-12 02:55:00 2017-01-12 02:27:23   \n",
       "\n",
       "  estimated_arrival  flight_time  scheduled_arrival_year  \\\n",
       "0               NaT       3762.0                  2017.0   \n",
       "\n",
       "   scheduled_arrival_month  scheduled_arrival_day  scheduled_departure_year  \\\n",
       "0                      1.0                   12.0                    2017.0   \n",
       "\n",
       "   scheduled_departure_month  scheduled_departure_day  scheduled_flight_time  \n",
       "0                        1.0                     12.0                 4500.0  "
      ]
     },
     "execution_count": 45,
     "metadata": {},
     "output_type": "execute_result"
    }
   ],
   "source": [
    "admin[admin.flight_id == 'c244ac4']"
   ]
  },
  {
   "cell_type": "code",
   "execution_count": 46,
   "metadata": {},
   "outputs": [
    {
     "data": {
      "text/plain": [
       "'1:02:42'"
      ]
     },
     "execution_count": 46,
     "metadata": {},
     "output_type": "execute_result"
    }
   ],
   "source": [
    "str(datetime.timedelta(seconds=admin.loc[admin.flight_id == 'c244ac4', 'flight_time'].values[0]))"
   ]
  },
  {
   "cell_type": "markdown",
   "metadata": {},
   "source": [
    "## Singapore Changi Airport"
   ]
  },
  {
   "cell_type": "code",
   "execution_count": 47,
   "metadata": {},
   "outputs": [],
   "source": [
    "df_origin_sca = admin.loc[admin.origin.str.contains('Changi', na=False)]"
   ]
  },
  {
   "cell_type": "code",
   "execution_count": 48,
   "metadata": {},
   "outputs": [],
   "source": [
    "df_dest_sca = admin.loc[admin.destination.str.contains('Changi', na=False)]"
   ]
  },
  {
   "cell_type": "code",
   "execution_count": 49,
   "metadata": {},
   "outputs": [
    {
     "name": "stdout",
     "output_type": "stream",
     "text": [
      "(10645, 19)\n"
     ]
    },
    {
     "data": {
      "text/plain": [
       "(11099, 19)"
      ]
     },
     "execution_count": 49,
     "metadata": {},
     "output_type": "execute_result"
    }
   ],
   "source": [
    "print(df_origin_sca.shape)\n",
    "df_dest_sca.shape"
   ]
  },
  {
   "cell_type": "code",
   "execution_count": 50,
   "metadata": {},
   "outputs": [
    {
     "data": {
      "text/plain": [
       "Jakarta Soekarno Hatta International Airport    776\n",
       "Hong Kong International Airport                 618\n",
       "Bangkok Suvarnabhumi Airport                    533\n",
       "Kuala Lumpur International Airport              469\n",
       "Manila Ninoy Aquino International Airport       343\n",
       "Denpasar International Airport                  317\n",
       "Ho Chi Minh City International Airport          315\n",
       "Taiwan Taoyuan International Airport            278\n",
       "Shanghai Pudong International Airport           257\n",
       "Guangzhou Baiyun International Airport          245\n",
       "Name: destination, dtype: int64"
      ]
     },
     "execution_count": 50,
     "metadata": {},
     "output_type": "execute_result"
    }
   ],
   "source": [
    "df_origin_sca.destination.value_counts()[:10]"
   ]
  },
  {
   "cell_type": "code",
   "execution_count": 51,
   "metadata": {},
   "outputs": [
    {
     "data": {
      "text/plain": [
       "Jakarta Soekarno Hatta International Airport    783\n",
       "Hong Kong International Airport                 614\n",
       "Kuala Lumpur International Airport              555\n",
       "Bangkok Suvarnabhumi Airport                    498\n",
       "Manila Ninoy Aquino International Airport       379\n",
       "Denpasar International Airport                  359\n",
       "Ho Chi Minh City International Airport          331\n",
       "Taiwan Taoyuan International Airport            324\n",
       "Shanghai Pudong International Airport           270\n",
       "Penang International Airport                    252\n",
       "Name: origin, dtype: int64"
      ]
     },
     "execution_count": 51,
     "metadata": {},
     "output_type": "execute_result"
    }
   ],
   "source": [
    "df_dest_sca.origin.value_counts()[:10]"
   ]
  },
  {
   "cell_type": "markdown",
   "metadata": {},
   "source": [
    "## Route"
   ]
  },
  {
   "cell_type": "code",
   "execution_count": 52,
   "metadata": {},
   "outputs": [],
   "source": [
    "admin['route'] = admin.origin + \" -> \" + admin.destination"
   ]
  },
  {
   "cell_type": "code",
   "execution_count": 57,
   "metadata": {},
   "outputs": [
    {
     "data": {
      "text/plain": [
       "Seoul Gimpo International Airport -> Jeju International Airport                                  2058\n",
       "Jeju International Airport -> Seoul Gimpo International Airport                                  1971\n",
       "Sydney Kingsford Smith Airport -> Melbourne Airport                                              1554\n",
       "Ho Chi Minh City International Airport -> Hanoi Noi Bai International Airport                    1466\n",
       "Melbourne Airport -> Sydney Kingsford Smith Airport                                              1454\n",
       "Hanoi Noi Bai International Airport -> Ho Chi Minh City International Airport                    1402\n",
       "Delhi Indira Gandhi International Airport -> Mumbai Chhatrapati Shivaji International Airport    1233\n",
       "Mumbai Chhatrapati Shivaji International Airport -> Delhi Indira Gandhi International Airport    1195\n",
       "Taiwan Taoyuan International Airport -> Hong Kong International Airport                          1151\n",
       "Hong Kong International Airport -> Taiwan Taoyuan International Airport                          1095\n",
       "Tokyo Haneda International Airport -> Fukuoka Airport                                            1051\n",
       "Sydney Kingsford Smith Airport -> Brisbane Airport                                               1022\n",
       "Brisbane Airport -> Sydney Kingsford Smith Airport                                                978\n",
       "Fukuoka Airport -> Tokyo Haneda International Airport                                             963\n",
       "Shanghai Hongqiao International Airport -> Shenzhen Bao'an International Airport                  957\n",
       "Beijing Capital International Airport -> Shanghai Hongqiao International Airport                  929\n",
       "Shenzhen Bao'an International Airport -> Shanghai Hongqiao International Airport                  922\n",
       "Shanghai Hongqiao International Airport -> Beijing Capital International Airport                  911\n",
       "Riyadh King Khalid International Airport -> Jeddah King Abdulaziz International Airport           876\n",
       "Jeddah King Abdulaziz International Airport -> Riyadh King Khalid International Airport           861\n",
       "Name: route, dtype: int64"
      ]
     },
     "execution_count": 57,
     "metadata": {},
     "output_type": "execute_result"
    }
   ],
   "source": [
    "admin['route'].value_counts()[:20]"
   ]
  },
  {
   "cell_type": "code",
   "execution_count": 54,
   "metadata": {},
   "outputs": [
    {
     "data": {
      "text/plain": [
       "flight_id                         0\n",
       "flight_callsign                   0\n",
       "aircraft_model                    0\n",
       "aircraft_registration             0\n",
       "airline                           0\n",
       "origin                            0\n",
       "destination                       0\n",
       "scheduled_departure            1741\n",
       "scheduled_arrival              1741\n",
       "real_departure                23429\n",
       "estimated_arrival            375402\n",
       "flight_time                       0\n",
       "scheduled_arrival_year         1741\n",
       "scheduled_arrival_month        1741\n",
       "scheduled_arrival_day          1741\n",
       "scheduled_departure_year       1741\n",
       "scheduled_departure_month      1741\n",
       "scheduled_departure_day        1741\n",
       "scheduled_flight_time          1741\n",
       "route                             0\n",
       "dtype: int64"
      ]
     },
     "execution_count": 54,
     "metadata": {},
     "output_type": "execute_result"
    }
   ],
   "source": [
    "admin.dropna(subset=['flight_time']).isnull().sum()"
   ]
  },
  {
   "cell_type": "code",
   "execution_count": null,
   "metadata": {},
   "outputs": [],
   "source": [
    "admin.isnull().sum()"
   ]
  },
  {
   "cell_type": "code",
   "execution_count": null,
   "metadata": {},
   "outputs": [],
   "source": [
    "mask = df_dest_sca.origin.str.contains('Jakarta Soekarno Hatta International Airport')\n",
    "df_jkt_sin = df_dest_sca.loc[mask]\n",
    "del admin"
   ]
  },
  {
   "cell_type": "code",
   "execution_count": null,
   "metadata": {},
   "outputs": [],
   "source": [
    "trails = pd.read_feather('./AirTracks/all_csv/Jan2017/trails.feather')"
   ]
  },
  {
   "cell_type": "code",
   "execution_count": null,
   "metadata": {},
   "outputs": [],
   "source": [
    "trails.rename(columns={\n",
    "    'FlightId': 'flight_id'\n",
    "     }, inplace=True)\n",
    "\n",
    "trails.columns = trails.columns.map(lambda x: x.lower())"
   ]
  },
  {
   "cell_type": "code",
   "execution_count": null,
   "metadata": {},
   "outputs": [],
   "source": [
    "combined_jkt_sin = pd.merge(trails,\n",
    "                            df_jkt_sin,\n",
    "                            on='flight_id')\n",
    "del trails, df_jkt_sin"
   ]
  },
  {
   "cell_type": "code",
   "execution_count": null,
   "metadata": {},
   "outputs": [],
   "source": [
    "combined_jkt_sin.head(3)"
   ]
  },
  {
   "cell_type": "markdown",
   "metadata": {},
   "source": [
    "## Plot of all flights (Jakarta Soekarno Hatta International Airport -> Singapore Changi Airport)"
   ]
  },
  {
   "cell_type": "code",
   "execution_count": null,
   "metadata": {},
   "outputs": [],
   "source": [
    "# Reference: https://pbpython.com/pandas-qcut-cut.html\n",
    "# Reference: https://stackoverflow.com/questions/50145702/pandas-cut-doesnt-bin-zero-values\n",
    "cut_labels = ['0 <= speed < 100', \n",
    "              '100 <= speed < 200',\n",
    "              '200 <= speed < 300',\n",
    "              '300 <= speed < 400',\n",
    "              '400 <= speed < 500',\n",
    "              '500 <= speed < 600',\n",
    "              '600 <= speed < 700',\n",
    "              '700 <= speed < 800']\n",
    "cut_bins = [-np.inf, 99, 199, 299, 399, 499, 599, 699, 799]\n",
    "combined_jkt_sin['speed_interval'] = pd.cut(combined_jkt_sin['speed'], bins=cut_bins, labels=cut_labels)\n",
    "\n",
    "# pd.cut(combined_jkt_sin['speed'], bins=np.linspace(0, 800, 9))"
   ]
  },
  {
   "cell_type": "code",
   "execution_count": null,
   "metadata": {},
   "outputs": [],
   "source": [
    "fig, ax = plt.subplots(figsize=(12, 8))\n",
    "sns.scatterplot(ax = ax, x='longitude', y='latitude', data=combined_jkt_sin)\n",
    "plt.show()"
   ]
  },
  {
   "cell_type": "code",
   "execution_count": null,
   "metadata": {},
   "outputs": [],
   "source": [
    "holding_stack_flight_ids = combined_jkt_sin.loc[combined_jkt_sin['latitude'] > 1.5, 'flight_id'].unique().tolist()"
   ]
  },
  {
   "cell_type": "markdown",
   "metadata": {},
   "source": [
    "## Plot of all flights that did not fly a holding pattern (Jakarta Soekarno Hatta International Airport -> Singapore Changi Airport)"
   ]
  },
  {
   "cell_type": "code",
   "execution_count": null,
   "metadata": {},
   "outputs": [],
   "source": [
    "fig, ax = plt.subplots(figsize=(12, 8))\n",
    "sns.scatterplot(ax = ax, x='longitude', y='latitude', hue='speed_interval', marker='<',\n",
    "#                 palette=sns.color_palette(\"Blues\", 8),\n",
    "                palette=sns.cubehelix_palette(8),\n",
    "                data=combined_jkt_sin[~combined_jkt_sin['flight_id'].isin(holding_stack_flight_ids)])\n",
    "plt.show();"
   ]
  },
  {
   "cell_type": "markdown",
   "metadata": {},
   "source": [
    "## Plot of all flights that flew a holding pattern (Jakarta Soekarno Hatta International Airport -> Singapore Changi Airport)"
   ]
  },
  {
   "cell_type": "code",
   "execution_count": null,
   "metadata": {},
   "outputs": [],
   "source": [
    "combined_jkt_sin.loc[combined_jkt_sin['flight_id'].isin(holding_stack_flight_ids), 'speed_interval'].unique()"
   ]
  },
  {
   "cell_type": "code",
   "execution_count": null,
   "metadata": {},
   "outputs": [],
   "source": [
    "fig, ax = plt.subplots(figsize=(12, 8))\n",
    "sns.scatterplot(ax = ax, x='longitude', y='latitude', hue='speed_interval', marker='<',\n",
    "#                 palette=sns.color_palette(\"Blues\", 7),\n",
    "                palette=sns.cubehelix_palette(7),\n",
    "                data=combined_jkt_sin[combined_jkt_sin['flight_id'].isin(holding_stack_flight_ids)])\n",
    "plt.show();"
   ]
  },
  {
   "cell_type": "code",
   "execution_count": null,
   "metadata": {},
   "outputs": [],
   "source": [
    "combined_jkt_sin['real_departure'].min()"
   ]
  },
  {
   "cell_type": "code",
   "execution_count": null,
   "metadata": {},
   "outputs": [],
   "source": [
    "combined_jkt_sin['real_departure'].max()"
   ]
  }
 ],
 "metadata": {
  "kernelspec": {
   "display_name": "Python 3",
   "language": "python",
   "name": "python3"
  },
  "language_info": {
   "codemirror_mode": {
    "name": "ipython",
    "version": 3
   },
   "file_extension": ".py",
   "mimetype": "text/x-python",
   "name": "python",
   "nbconvert_exporter": "python",
   "pygments_lexer": "ipython3",
   "version": "3.6.9"
  }
 },
 "nbformat": 4,
 "nbformat_minor": 2
}
