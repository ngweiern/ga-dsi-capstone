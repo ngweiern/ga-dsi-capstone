{
 "cells": [
  {
   "cell_type": "markdown",
   "metadata": {},
   "source": [
    "## Import libraries"
   ]
  },
  {
   "cell_type": "code",
   "execution_count": 1,
   "metadata": {},
   "outputs": [],
   "source": [
    "import pandas as pd\n",
    "import numpy as np\n",
    "import matplotlib.pyplot as plt\n",
    "import seaborn as sns\n",
    "from math import radians, cos, sin, asin, sqrt\n",
    "from datetime import datetime as dt\n",
    "\n",
    "%matplotlib inline"
   ]
  },
  {
   "cell_type": "code",
   "execution_count": null,
   "metadata": {},
   "outputs": [],
   "source": [
    "# import tensorflow as tf\n",
    "# print(\"tf version = \", tf.__version__)\n",
    "# with tf.device(\"/gpu:0\"):\n",
    "#     a = tf.constant([1.0, 2.0, 3.0, 4.0, 5.0, 6.0], shape=[2, 3], name='a')\n",
    "#     b = tf.constant([1.0, 2.0, 3.0, 4.0, 5.0, 6.0], shape=[3, 2], name='b')\n",
    "#     c = tf.matmul(a, b)\n",
    "# with tf.Session() as sess:\n",
    "#     print (sess.run(c))"
   ]
  },
  {
   "cell_type": "markdown",
   "metadata": {},
   "source": [
    "## Read data"
   ]
  },
  {
   "cell_type": "code",
   "execution_count": 2,
   "metadata": {},
   "outputs": [],
   "source": [
    "admin = pd.read_csv('./AirTracks/all_csv/Jan2017/admin.csv')"
   ]
  },
  {
   "cell_type": "code",
   "execution_count": 3,
   "metadata": {},
   "outputs": [
    {
     "data": {
      "text/html": [
       "<div>\n",
       "<style scoped>\n",
       "    .dataframe tbody tr th:only-of-type {\n",
       "        vertical-align: middle;\n",
       "    }\n",
       "\n",
       "    .dataframe tbody tr th {\n",
       "        vertical-align: top;\n",
       "    }\n",
       "\n",
       "    .dataframe thead th {\n",
       "        text-align: right;\n",
       "    }\n",
       "</style>\n",
       "<table border=\"1\" class=\"dataframe\">\n",
       "  <thead>\n",
       "    <tr style=\"text-align: right;\">\n",
       "      <th></th>\n",
       "      <th>FlightId</th>\n",
       "      <th>FlightCallsign</th>\n",
       "      <th>AircraftModel</th>\n",
       "      <th>AircraftRegistration</th>\n",
       "      <th>Airline</th>\n",
       "      <th>Origin</th>\n",
       "      <th>Destination</th>\n",
       "      <th>SchdeuledDeparture</th>\n",
       "      <th>ScheduledArrival</th>\n",
       "      <th>RealDeparture</th>\n",
       "      <th>EstimatedArrival</th>\n",
       "      <th>FlightTime</th>\n",
       "    </tr>\n",
       "  </thead>\n",
       "  <tbody>\n",
       "    <tr>\n",
       "      <th>0</th>\n",
       "      <td>c244ac4</td>\n",
       "      <td>SAS1749</td>\n",
       "      <td>ATR 72-600</td>\n",
       "      <td>OY-JZE</td>\n",
       "      <td>SAS</td>\n",
       "      <td>Tallinn Lennart Meri Airport</td>\n",
       "      <td>Stockholm Arlanda Airport</td>\n",
       "      <td>1.484156e+09</td>\n",
       "      <td>1.484161e+09</td>\n",
       "      <td>1.484159e+09</td>\n",
       "      <td>NaN</td>\n",
       "      <td>3762.0</td>\n",
       "    </tr>\n",
       "    <tr>\n",
       "      <th>1</th>\n",
       "      <td>c32d217</td>\n",
       "      <td>OKA2925</td>\n",
       "      <td>Boeing 737-8AS</td>\n",
       "      <td>B-5578</td>\n",
       "      <td>OKAir</td>\n",
       "      <td>Changsha Huanghua International Airport</td>\n",
       "      <td>Hangzhou Xiaoshan International Airport</td>\n",
       "      <td>1.484694e+09</td>\n",
       "      <td>1.484698e+09</td>\n",
       "      <td>1.484694e+09</td>\n",
       "      <td>1.484698e+09</td>\n",
       "      <td>3850.0</td>\n",
       "    </tr>\n",
       "  </tbody>\n",
       "</table>\n",
       "</div>"
      ],
      "text/plain": [
       "  FlightId FlightCallsign   AircraftModel AircraftRegistration Airline  \\\n",
       "0  c244ac4        SAS1749      ATR 72-600               OY-JZE     SAS   \n",
       "1  c32d217        OKA2925  Boeing 737-8AS               B-5578   OKAir   \n",
       "\n",
       "                                    Origin  \\\n",
       "0            Tallinn Lennart Meri Airport    \n",
       "1  Changsha Huanghua International Airport   \n",
       "\n",
       "                               Destination  SchdeuledDeparture  \\\n",
       "0                Stockholm Arlanda Airport        1.484156e+09   \n",
       "1  Hangzhou Xiaoshan International Airport        1.484694e+09   \n",
       "\n",
       "   ScheduledArrival  RealDeparture  EstimatedArrival  FlightTime  \n",
       "0      1.484161e+09   1.484159e+09               NaN      3762.0  \n",
       "1      1.484698e+09   1.484694e+09      1.484698e+09      3850.0  "
      ]
     },
     "execution_count": 3,
     "metadata": {},
     "output_type": "execute_result"
    }
   ],
   "source": [
    "admin.head(2)"
   ]
  },
  {
   "cell_type": "markdown",
   "metadata": {},
   "source": [
    "## Rename columns"
   ]
  },
  {
   "cell_type": "code",
   "execution_count": 4,
   "metadata": {},
   "outputs": [],
   "source": [
    "admin.rename(columns={\n",
    "    'FlightId': 'flight_id',\n",
    "    'FlightCallsign': 'flight_callsign',\n",
    "    'AircraftModel': 'aircraft_model',\n",
    "    'AircraftRegistration': 'aircraft_registration',\n",
    "    'SchdeuledDeparture': 'scheduled_departure_utc',\n",
    "    'ScheduledArrival': 'scheduled_arrival_utc',\n",
    "    'RealDeparture': 'real_departure_utc',\n",
    "    'EstimatedArrival': 'estimated_arrival_utc',\n",
    "    'FlightTime': 'real_flight_duration'\n",
    "     }, inplace=True)\n",
    "\n",
    "admin.columns = admin.columns.map(lambda x: x.lower())"
   ]
  },
  {
   "cell_type": "code",
   "execution_count": 5,
   "metadata": {
    "scrolled": true
   },
   "outputs": [
    {
     "data": {
      "text/plain": [
       "Index(['flight_id', 'flight_callsign', 'aircraft_model',\n",
       "       'aircraft_registration', 'airline', 'origin', 'destination',\n",
       "       'scheduled_departure_utc', 'scheduled_arrival_utc',\n",
       "       'real_departure_utc', 'estimated_arrival_utc', 'real_flight_duration'],\n",
       "      dtype='object')"
      ]
     },
     "execution_count": 5,
     "metadata": {},
     "output_type": "execute_result"
    }
   ],
   "source": [
    "admin.columns"
   ]
  },
  {
   "cell_type": "code",
   "execution_count": 6,
   "metadata": {},
   "outputs": [
    {
     "data": {
      "text/plain": [
       "flight_id                   object\n",
       "flight_callsign             object\n",
       "aircraft_model              object\n",
       "aircraft_registration       object\n",
       "airline                     object\n",
       "origin                      object\n",
       "destination                 object\n",
       "scheduled_departure_utc    float64\n",
       "scheduled_arrival_utc      float64\n",
       "real_departure_utc         float64\n",
       "estimated_arrival_utc      float64\n",
       "real_flight_duration       float64\n",
       "dtype: object"
      ]
     },
     "execution_count": 6,
     "metadata": {},
     "output_type": "execute_result"
    }
   ],
   "source": [
    "admin.dtypes"
   ]
  },
  {
   "cell_type": "markdown",
   "metadata": {},
   "source": [
    "## Handling null data"
   ]
  },
  {
   "cell_type": "code",
   "execution_count": 7,
   "metadata": {},
   "outputs": [
    {
     "data": {
      "text/plain": [
       "flight_id                       0\n",
       "flight_callsign              3851\n",
       "aircraft_model              18818\n",
       "aircraft_registration       20741\n",
       "airline                     24109\n",
       "origin                      41361\n",
       "destination                 88792\n",
       "scheduled_departure_utc     23538\n",
       "scheduled_arrival_utc       23538\n",
       "real_departure_utc          64318\n",
       "estimated_arrival_utc      502967\n",
       "real_flight_duration       160380\n",
       "dtype: int64"
      ]
     },
     "execution_count": 7,
     "metadata": {},
     "output_type": "execute_result"
    }
   ],
   "source": [
    "admin.isnull().sum()"
   ]
  },
  {
   "cell_type": "code",
   "execution_count": 8,
   "metadata": {},
   "outputs": [
    {
     "name": "stdout",
     "output_type": "stream",
     "text": [
      "<class 'pandas.core.frame.DataFrame'>\n",
      "RangeIndex: 1158127 entries, 0 to 1158126\n",
      "Data columns (total 12 columns):\n",
      " #   Column                   Non-Null Count    Dtype  \n",
      "---  ------                   --------------    -----  \n",
      " 0   flight_id                1158127 non-null  object \n",
      " 1   flight_callsign          1154276 non-null  object \n",
      " 2   aircraft_model           1139309 non-null  object \n",
      " 3   aircraft_registration    1137386 non-null  object \n",
      " 4   airline                  1134018 non-null  object \n",
      " 5   origin                   1116766 non-null  object \n",
      " 6   destination              1069335 non-null  object \n",
      " 7   scheduled_departure_utc  1134589 non-null  float64\n",
      " 8   scheduled_arrival_utc    1134589 non-null  float64\n",
      " 9   real_departure_utc       1093809 non-null  float64\n",
      " 10  estimated_arrival_utc    655160 non-null   float64\n",
      " 11  real_flight_duration     997747 non-null   float64\n",
      "dtypes: float64(5), object(7)\n",
      "memory usage: 106.0+ MB\n"
     ]
    }
   ],
   "source": [
    "admin.info()"
   ]
  },
  {
   "cell_type": "code",
   "execution_count": null,
   "metadata": {},
   "outputs": [],
   "source": [
    "# Drop rows where both origin and destination are NaN\n",
    "# admin[~(admin['origin'].isnull() & admin['destination'].isnull())]"
   ]
  },
  {
   "cell_type": "code",
   "execution_count": null,
   "metadata": {},
   "outputs": [],
   "source": [
    "# Drop rows where either origin and destination are NaN\n",
    "# admin.dropna(subset=['origin', 'destination'], inplace=True)"
   ]
  },
  {
   "cell_type": "code",
   "execution_count": 9,
   "metadata": {},
   "outputs": [],
   "source": [
    "# ls_object_columns = admin.loc[:, admin.dtypes == object].columns.tolist()\n",
    "str_cols = admin.columns[admin.dtypes==object]"
   ]
  },
  {
   "cell_type": "code",
   "execution_count": 10,
   "metadata": {},
   "outputs": [],
   "source": [
    "# Fill NaN with empty string\n",
    "admin[str_cols] = admin[str_cols].fillna('')"
   ]
  },
  {
   "cell_type": "code",
   "execution_count": 11,
   "metadata": {},
   "outputs": [],
   "source": [
    "# Strip leading and trailing spaces in object columns\n",
    "admin[str_cols] = admin[str_cols].apply(lambda x: x.str.strip())"
   ]
  },
  {
   "cell_type": "markdown",
   "metadata": {},
   "source": [
    "## Convert to datetime"
   ]
  },
  {
   "cell_type": "code",
   "execution_count": 12,
   "metadata": {},
   "outputs": [],
   "source": [
    "def get_utc_datetime(value):\n",
    "    try:\n",
    "        return dt.fromtimestamp(value)\n",
    "    except:\n",
    "        return pd.NaT\n",
    "    \n",
    "admin['scheduled_departure_dt'] = admin['scheduled_departure_utc'].map(get_utc_datetime)\n",
    "admin['scheduled_arrival_dt'] = admin['scheduled_arrival_utc'].map(get_utc_datetime)\n",
    "admin['real_departure_dt'] = admin['real_departure_utc'].map(get_utc_datetime)\n",
    "admin['estimated_arrival_dt'] = admin['estimated_arrival_utc'].map(get_utc_datetime)"
   ]
  },
  {
   "cell_type": "markdown",
   "metadata": {},
   "source": [
    "**ScheduledArrival and ScheduledDeparture**"
   ]
  },
  {
   "cell_type": "code",
   "execution_count": 13,
   "metadata": {},
   "outputs": [
    {
     "data": {
      "text/plain": [
       "0   2017-01-12 02:55:00\n",
       "1   2017-01-18 08:15:00\n",
       "2   2017-01-18 06:55:00\n",
       "3   2017-01-19 16:00:00\n",
       "4   1970-01-01 07:30:00\n",
       "Name: scheduled_arrival_dt, dtype: datetime64[ns]"
      ]
     },
     "execution_count": 13,
     "metadata": {},
     "output_type": "execute_result"
    }
   ],
   "source": [
    "admin['scheduled_arrival_dt'][:5]"
   ]
  },
  {
   "cell_type": "code",
   "execution_count": 14,
   "metadata": {},
   "outputs": [
    {
     "data": {
      "text/plain": [
       "0   2017-01-12 01:40:00\n",
       "1   2017-01-18 06:55:00\n",
       "2   2017-01-18 02:40:00\n",
       "3   2017-01-19 13:35:00\n",
       "4   1970-01-01 07:30:00\n",
       "Name: scheduled_departure_dt, dtype: datetime64[ns]"
      ]
     },
     "execution_count": 14,
     "metadata": {},
     "output_type": "execute_result"
    }
   ],
   "source": [
    "admin['scheduled_departure_dt'][:5]"
   ]
  },
  {
   "cell_type": "markdown",
   "metadata": {},
   "source": [
    "Observation: There are some dates where year = 1970. Check if there are dates that do not fall within Jan 2017"
   ]
  },
  {
   "cell_type": "code",
   "execution_count": 15,
   "metadata": {},
   "outputs": [],
   "source": [
    "admin['scheduled_arrival_year'] = admin['scheduled_arrival_dt'].dt.year.astype('Int64')\n",
    "admin['scheduled_arrival_month'] = admin['scheduled_arrival_dt'].dt.month.astype('Int64')\n",
    "admin['scheduled_arrival_day'] = admin['scheduled_arrival_dt'].dt.day.astype('Int64')"
   ]
  },
  {
   "cell_type": "code",
   "execution_count": 16,
   "metadata": {},
   "outputs": [],
   "source": [
    "admin['scheduled_departure_year'] = admin['scheduled_departure_dt'].dt.year.astype('Int64')\n",
    "admin['scheduled_departure_month'] = admin['scheduled_departure_dt'].dt.month.astype('Int64')\n",
    "admin['scheduled_departure_day'] = admin['scheduled_departure_dt'].dt.day.astype('Int64')"
   ]
  },
  {
   "cell_type": "code",
   "execution_count": 17,
   "metadata": {},
   "outputs": [
    {
     "data": {
      "text/plain": [
       "1970     128300\n",
       "2016        691\n",
       "2017    1005598\n",
       "NaN       23538\n",
       "Name: scheduled_arrival_year, dtype: Int64"
      ]
     },
     "execution_count": 17,
     "metadata": {},
     "output_type": "execute_result"
    }
   ],
   "source": [
    "admin['scheduled_arrival_year'].value_counts(dropna=False).sort_index()"
   ]
  },
  {
   "cell_type": "code",
   "execution_count": 18,
   "metadata": {},
   "outputs": [
    {
     "data": {
      "text/plain": [
       "1      1132784\n",
       "2         1114\n",
       "12         691\n",
       "NaN      23538\n",
       "Name: scheduled_arrival_month, dtype: Int64"
      ]
     },
     "execution_count": 18,
     "metadata": {},
     "output_type": "execute_result"
    }
   ],
   "source": [
    "admin['scheduled_arrival_month'].value_counts(dropna=False).sort_index()"
   ]
  },
  {
   "cell_type": "code",
   "execution_count": 19,
   "metadata": {},
   "outputs": [
    {
     "data": {
      "text/plain": [
       "1      155243\n",
       "2       33402\n",
       "3       32255\n",
       "4       31822\n",
       "5       32915\n",
       "6       36249\n",
       "7       28600\n",
       "8       21304\n",
       "9        4243\n",
       "10      14092\n",
       "11      32730\n",
       "12      30556\n",
       "13      10439\n",
       "14      34495\n",
       "15      33462\n",
       "16      37084\n",
       "17      35475\n",
       "18      35181\n",
       "19      35782\n",
       "20      35365\n",
       "21      35349\n",
       "22      33942\n",
       "23      36959\n",
       "24      37419\n",
       "25      38499\n",
       "26      40999\n",
       "27      41485\n",
       "28      40693\n",
       "29      38743\n",
       "30      40729\n",
       "31      39078\n",
       "NaN     23538\n",
       "Name: scheduled_arrival_day, dtype: Int64"
      ]
     },
     "execution_count": 19,
     "metadata": {},
     "output_type": "execute_result"
    }
   ],
   "source": [
    "admin['scheduled_arrival_day'].value_counts(dropna=False).sort_index()"
   ]
  },
  {
   "cell_type": "code",
   "execution_count": 20,
   "metadata": {},
   "outputs": [
    {
     "data": {
      "text/plain": [
       "1970     128300\n",
       "2016       3524\n",
       "2017    1002765\n",
       "NaN       23538\n",
       "Name: scheduled_departure_year, dtype: Int64"
      ]
     },
     "execution_count": 20,
     "metadata": {},
     "output_type": "execute_result"
    }
   ],
   "source": [
    "admin['scheduled_departure_year'].value_counts(dropna=False).sort_index()"
   ]
  },
  {
   "cell_type": "code",
   "execution_count": 21,
   "metadata": {},
   "outputs": [
    {
     "data": {
      "text/plain": [
       "1      1131064\n",
       "2            1\n",
       "12        3524\n",
       "NaN      23538\n",
       "Name: scheduled_departure_month, dtype: Int64"
      ]
     },
     "execution_count": 21,
     "metadata": {},
     "output_type": "execute_result"
    }
   ],
   "source": [
    "admin['scheduled_departure_month'].value_counts(dropna=False).sort_index()"
   ]
  },
  {
   "cell_type": "code",
   "execution_count": 22,
   "metadata": {},
   "outputs": [
    {
     "data": {
      "text/plain": [
       "1      155169\n",
       "2       33510\n",
       "3       32118\n",
       "4       31752\n",
       "5       33169\n",
       "6       36585\n",
       "7       28289\n",
       "8       17350\n",
       "9        7585\n",
       "10      14064\n",
       "11      33359\n",
       "12      29961\n",
       "13      10971\n",
       "14      34679\n",
       "15      33698\n",
       "16      36879\n",
       "17      35448\n",
       "18      35284\n",
       "19      35626\n",
       "20      35689\n",
       "21      35272\n",
       "22      34125\n",
       "23      36959\n",
       "24      37288\n",
       "25      38642\n",
       "26      41338\n",
       "27      41430\n",
       "28      40776\n",
       "29      38452\n",
       "30      40733\n",
       "31      38389\n",
       "NaN     23538\n",
       "Name: scheduled_departure_day, dtype: Int64"
      ]
     },
     "execution_count": 22,
     "metadata": {},
     "output_type": "execute_result"
    }
   ],
   "source": [
    "admin['scheduled_departure_day'].value_counts(dropna=False).sort_index()"
   ]
  },
  {
   "cell_type": "code",
   "execution_count": 23,
   "metadata": {},
   "outputs": [
    {
     "data": {
      "text/plain": [
       "23538"
      ]
     },
     "execution_count": 23,
     "metadata": {},
     "output_type": "execute_result"
    }
   ],
   "source": [
    "admin['scheduled_arrival_dt'].isnull().sum()"
   ]
  },
  {
   "cell_type": "code",
   "execution_count": 24,
   "metadata": {},
   "outputs": [
    {
     "data": {
      "text/plain": [
       "23538"
      ]
     },
     "execution_count": 24,
     "metadata": {},
     "output_type": "execute_result"
    }
   ],
   "source": [
    "admin['scheduled_departure_dt'].isnull().sum()"
   ]
  },
  {
   "cell_type": "code",
   "execution_count": 25,
   "metadata": {},
   "outputs": [],
   "source": [
    "schedule_arrival_missing_index = admin.loc[admin['scheduled_arrival_dt'].isnull(), 'scheduled_arrival_dt'].index.tolist()\n",
    "# # returns the same result\n",
    "# admin['ScheduledArrival'][admin['ScheduledArrival'].isnull()].index"
   ]
  },
  {
   "cell_type": "code",
   "execution_count": 26,
   "metadata": {},
   "outputs": [],
   "source": [
    "schedule_departure_missing_index = admin.loc[admin['scheduled_departure_dt'].isnull(), 'scheduled_departure_dt'].index.tolist()"
   ]
  },
  {
   "cell_type": "code",
   "execution_count": 27,
   "metadata": {},
   "outputs": [
    {
     "data": {
      "text/plain": [
       "True"
      ]
     },
     "execution_count": 27,
     "metadata": {},
     "output_type": "execute_result"
    }
   ],
   "source": [
    "np.array_equal(schedule_departure_missing_index, schedule_arrival_missing_index)"
   ]
  },
  {
   "cell_type": "markdown",
   "metadata": {},
   "source": [
    "Observation: Rows with NaT for ScheduledArrival also had NaT for ScheduledDeparture"
   ]
  },
  {
   "cell_type": "code",
   "execution_count": 28,
   "metadata": {},
   "outputs": [],
   "source": [
    "estimated_arrival_missing_index = admin.loc[admin['estimated_arrival_dt'].isnull(), 'estimated_arrival_dt'].index.tolist()"
   ]
  },
  {
   "cell_type": "code",
   "execution_count": 29,
   "metadata": {},
   "outputs": [
    {
     "data": {
      "text/plain": [
       "502967"
      ]
     },
     "execution_count": 29,
     "metadata": {},
     "output_type": "execute_result"
    }
   ],
   "source": [
    "len(estimated_arrival_missing_index)"
   ]
  },
  {
   "cell_type": "code",
   "execution_count": 30,
   "metadata": {},
   "outputs": [
    {
     "data": {
      "text/plain": [
       "23538"
      ]
     },
     "execution_count": 30,
     "metadata": {},
     "output_type": "execute_result"
    }
   ],
   "source": [
    "len(list(set(estimated_arrival_missing_index).intersection(set(schedule_departure_missing_index))))"
   ]
  },
  {
   "cell_type": "markdown",
   "metadata": {},
   "source": [
    "EstimatedArrival shares common missing values for ScheduledArrival and ScheduledDeparture"
   ]
  },
  {
   "cell_type": "code",
   "execution_count": 31,
   "metadata": {},
   "outputs": [],
   "source": [
    "# # Calculate scheduled flight time in timedelta type\n",
    "# admin['scheduled_flight_time'] = admin['scheduled_arrival'] - admin['scheduled_departure']\n",
    "\n",
    "# # Convert scheduled flight time from timedelta to seconds\n",
    "# admin['scheduled_flight_time'] = admin['scheduled_flight_time'].map(lambda x: x.total_seconds())"
   ]
  },
  {
   "cell_type": "code",
   "execution_count": 32,
   "metadata": {},
   "outputs": [],
   "source": [
    "admin['scheduled_flight_duration'] = admin['scheduled_arrival_utc'] - admin['scheduled_departure_utc']"
   ]
  },
  {
   "cell_type": "markdown",
   "metadata": {},
   "source": [
    "**FlightTime**"
   ]
  },
  {
   "cell_type": "code",
   "execution_count": 33,
   "metadata": {},
   "outputs": [
    {
     "data": {
      "text/plain": [
       "flight_id                            object\n",
       "flight_callsign                      object\n",
       "aircraft_model                       object\n",
       "aircraft_registration                object\n",
       "airline                              object\n",
       "origin                               object\n",
       "destination                          object\n",
       "scheduled_departure_utc             float64\n",
       "scheduled_arrival_utc               float64\n",
       "real_departure_utc                  float64\n",
       "estimated_arrival_utc               float64\n",
       "real_flight_duration                float64\n",
       "scheduled_departure_dt       datetime64[ns]\n",
       "scheduled_arrival_dt         datetime64[ns]\n",
       "real_departure_dt            datetime64[ns]\n",
       "estimated_arrival_dt         datetime64[ns]\n",
       "scheduled_arrival_year                Int64\n",
       "scheduled_arrival_month               Int64\n",
       "scheduled_arrival_day                 Int64\n",
       "scheduled_departure_year              Int64\n",
       "scheduled_departure_month             Int64\n",
       "scheduled_departure_day               Int64\n",
       "scheduled_flight_duration           float64\n",
       "dtype: object"
      ]
     },
     "execution_count": 33,
     "metadata": {},
     "output_type": "execute_result"
    }
   ],
   "source": [
    "admin.dtypes"
   ]
  },
  {
   "cell_type": "code",
   "execution_count": 34,
   "metadata": {},
   "outputs": [
    {
     "data": {
      "text/plain": [
       "4135.0"
      ]
     },
     "execution_count": 34,
     "metadata": {},
     "output_type": "execute_result"
    }
   ],
   "source": [
    "# (admin['estimated_arrival'] - admin['real_departure'])[1].total_seconds()\n",
    "(admin['estimated_arrival_utc'] - admin['real_departure_utc'])[1]"
   ]
  },
  {
   "cell_type": "code",
   "execution_count": 35,
   "metadata": {},
   "outputs": [
    {
     "data": {
      "text/plain": [
       "(1158127, 23)"
      ]
     },
     "execution_count": 35,
     "metadata": {},
     "output_type": "execute_result"
    }
   ],
   "source": [
    "admin.shape"
   ]
  },
  {
   "cell_type": "code",
   "execution_count": 36,
   "metadata": {},
   "outputs": [
    {
     "data": {
      "text/plain": [
       "160380"
      ]
     },
     "execution_count": 36,
     "metadata": {},
     "output_type": "execute_result"
    }
   ],
   "source": [
    "admin['real_flight_duration'].isnull().sum()"
   ]
  },
  {
   "cell_type": "code",
   "execution_count": 37,
   "metadata": {},
   "outputs": [],
   "source": [
    "real_flight_duration_null_idx = admin[admin['real_flight_duration'].isnull()].index.tolist()"
   ]
  },
  {
   "cell_type": "code",
   "execution_count": 38,
   "metadata": {},
   "outputs": [],
   "source": [
    "real_departure_null_idx = admin[admin['real_departure_utc'].isnull()].index.tolist()"
   ]
  },
  {
   "cell_type": "code",
   "execution_count": 39,
   "metadata": {},
   "outputs": [
    {
     "name": "stdout",
     "output_type": "stream",
     "text": [
      "160380\n"
     ]
    },
    {
     "data": {
      "text/plain": [
       "64318"
      ]
     },
     "execution_count": 39,
     "metadata": {},
     "output_type": "execute_result"
    }
   ],
   "source": [
    "print(len(real_flight_duration_null_idx))\n",
    "len(real_departure_null_idx)"
   ]
  },
  {
   "cell_type": "code",
   "execution_count": 40,
   "metadata": {},
   "outputs": [
    {
     "data": {
      "text/plain": [
       "40619"
      ]
     },
     "execution_count": 40,
     "metadata": {},
     "output_type": "execute_result"
    }
   ],
   "source": [
    "len(set(real_flight_duration_null_idx).intersection(real_departure_null_idx))"
   ]
  },
  {
   "cell_type": "code",
   "execution_count": 41,
   "metadata": {},
   "outputs": [],
   "source": [
    "# admin.dropna(subset=['flight_time'], inplace=True)"
   ]
  },
  {
   "cell_type": "code",
   "execution_count": 42,
   "metadata": {},
   "outputs": [],
   "source": [
    "# admin['real_departure'].isnull().sum()flight_time_null_idx"
   ]
  },
  {
   "cell_type": "code",
   "execution_count": 43,
   "metadata": {},
   "outputs": [],
   "source": [
    "# def get_h_m_s(value):\n",
    "#     h = value // 3600\n",
    "#     m = value % 3600 // 60\n",
    "#     s = value % 60\n",
    "#     try:\n",
    "#         return int(h), int(m), int(s)\n",
    "#     except:\n",
    "#         return np.nan"
   ]
  },
  {
   "cell_type": "code",
   "execution_count": 44,
   "metadata": {},
   "outputs": [],
   "source": [
    "# admin['flight_time'].apply(get_h_m_s)"
   ]
  },
  {
   "cell_type": "code",
   "execution_count": 45,
   "metadata": {},
   "outputs": [],
   "source": [
    "# import datetime\n",
    "# str(datetime.timedelta(seconds=7144))"
   ]
  },
  {
   "cell_type": "code",
   "execution_count": 46,
   "metadata": {},
   "outputs": [],
   "source": [
    "# # Reference: https://stackoverflow.com/questions/775049/how-do-i-convert-seconds-to-hours-minutes-and-seconds\n",
    "# m, s = divmod(7144, 60)\n",
    "# h, m = divmod(m, 60)\n",
    "# h, m, s"
   ]
  },
  {
   "cell_type": "code",
   "execution_count": 47,
   "metadata": {},
   "outputs": [],
   "source": [
    "# # Reference: https://stackoverflow.com/questions/1384406/convert-seconds-to-hhmmss-in-python\n",
    "# s = 7144\n",
    "# m = s // 60\n",
    "# h = m // 60\n",
    "# h, m%60, s%60"
   ]
  },
  {
   "cell_type": "markdown",
   "metadata": {},
   "source": [
    "## Analysis of a single flight (flight_id = c244ac4)"
   ]
  },
  {
   "cell_type": "code",
   "execution_count": 48,
   "metadata": {},
   "outputs": [
    {
     "data": {
      "text/plain": [
       "Index(['flight_id', 'flight_callsign', 'aircraft_model',\n",
       "       'aircraft_registration', 'airline', 'origin', 'destination',\n",
       "       'scheduled_departure_utc', 'scheduled_arrival_utc',\n",
       "       'real_departure_utc', 'estimated_arrival_utc', 'real_flight_duration',\n",
       "       'scheduled_departure_dt', 'scheduled_arrival_dt', 'real_departure_dt',\n",
       "       'estimated_arrival_dt', 'scheduled_arrival_year',\n",
       "       'scheduled_arrival_month', 'scheduled_arrival_day',\n",
       "       'scheduled_departure_year', 'scheduled_departure_month',\n",
       "       'scheduled_departure_day', 'scheduled_flight_duration'],\n",
       "      dtype='object')"
      ]
     },
     "execution_count": 48,
     "metadata": {},
     "output_type": "execute_result"
    }
   ],
   "source": [
    "admin.columns"
   ]
  },
  {
   "cell_type": "code",
   "execution_count": 49,
   "metadata": {},
   "outputs": [
    {
     "data": {
      "text/html": [
       "<div>\n",
       "<style scoped>\n",
       "    .dataframe tbody tr th:only-of-type {\n",
       "        vertical-align: middle;\n",
       "    }\n",
       "\n",
       "    .dataframe tbody tr th {\n",
       "        vertical-align: top;\n",
       "    }\n",
       "\n",
       "    .dataframe thead th {\n",
       "        text-align: right;\n",
       "    }\n",
       "</style>\n",
       "<table border=\"1\" class=\"dataframe\">\n",
       "  <thead>\n",
       "    <tr style=\"text-align: right;\">\n",
       "      <th></th>\n",
       "      <th>flight_id</th>\n",
       "      <th>flight_callsign</th>\n",
       "      <th>aircraft_model</th>\n",
       "      <th>aircraft_registration</th>\n",
       "      <th>airline</th>\n",
       "      <th>origin</th>\n",
       "      <th>destination</th>\n",
       "      <th>scheduled_departure_utc</th>\n",
       "      <th>scheduled_arrival_utc</th>\n",
       "      <th>real_departure_utc</th>\n",
       "      <th>...</th>\n",
       "      <th>scheduled_arrival_dt</th>\n",
       "      <th>real_departure_dt</th>\n",
       "      <th>estimated_arrival_dt</th>\n",
       "      <th>scheduled_arrival_year</th>\n",
       "      <th>scheduled_arrival_month</th>\n",
       "      <th>scheduled_arrival_day</th>\n",
       "      <th>scheduled_departure_year</th>\n",
       "      <th>scheduled_departure_month</th>\n",
       "      <th>scheduled_departure_day</th>\n",
       "      <th>scheduled_flight_duration</th>\n",
       "    </tr>\n",
       "  </thead>\n",
       "  <tbody>\n",
       "    <tr>\n",
       "      <th>0</th>\n",
       "      <td>c244ac4</td>\n",
       "      <td>SAS1749</td>\n",
       "      <td>ATR 72-600</td>\n",
       "      <td>OY-JZE</td>\n",
       "      <td>SAS</td>\n",
       "      <td>Tallinn Lennart Meri Airport</td>\n",
       "      <td>Stockholm Arlanda Airport</td>\n",
       "      <td>1.484156e+09</td>\n",
       "      <td>1.484161e+09</td>\n",
       "      <td>1.484159e+09</td>\n",
       "      <td>...</td>\n",
       "      <td>2017-01-12 02:55:00</td>\n",
       "      <td>2017-01-12 02:27:23</td>\n",
       "      <td>NaT</td>\n",
       "      <td>2017</td>\n",
       "      <td>1</td>\n",
       "      <td>12</td>\n",
       "      <td>2017</td>\n",
       "      <td>1</td>\n",
       "      <td>12</td>\n",
       "      <td>4500.0</td>\n",
       "    </tr>\n",
       "  </tbody>\n",
       "</table>\n",
       "<p>1 rows × 23 columns</p>\n",
       "</div>"
      ],
      "text/plain": [
       "  flight_id flight_callsign aircraft_model aircraft_registration airline  \\\n",
       "0   c244ac4         SAS1749     ATR 72-600                OY-JZE     SAS   \n",
       "\n",
       "                         origin                destination  \\\n",
       "0  Tallinn Lennart Meri Airport  Stockholm Arlanda Airport   \n",
       "\n",
       "   scheduled_departure_utc  scheduled_arrival_utc  real_departure_utc  ...  \\\n",
       "0             1.484156e+09           1.484161e+09        1.484159e+09  ...   \n",
       "\n",
       "   scheduled_arrival_dt   real_departure_dt estimated_arrival_dt  \\\n",
       "0   2017-01-12 02:55:00 2017-01-12 02:27:23                  NaT   \n",
       "\n",
       "  scheduled_arrival_year scheduled_arrival_month scheduled_arrival_day  \\\n",
       "0                   2017                       1                    12   \n",
       "\n",
       "   scheduled_departure_year  scheduled_departure_month  \\\n",
       "0                      2017                          1   \n",
       "\n",
       "   scheduled_departure_day  scheduled_flight_duration  \n",
       "0                       12                     4500.0  \n",
       "\n",
       "[1 rows x 23 columns]"
      ]
     },
     "execution_count": 49,
     "metadata": {},
     "output_type": "execute_result"
    }
   ],
   "source": [
    "admin[admin.flight_id == 'c244ac4']"
   ]
  },
  {
   "cell_type": "code",
   "execution_count": 50,
   "metadata": {},
   "outputs": [
    {
     "data": {
      "text/plain": [
       "'1:02:42'"
      ]
     },
     "execution_count": 50,
     "metadata": {},
     "output_type": "execute_result"
    }
   ],
   "source": [
    "import datetime\n",
    "str(datetime.timedelta(seconds=admin.loc[admin.flight_id == 'c244ac4', 'real_flight_duration'].values[0]))"
   ]
  },
  {
   "cell_type": "markdown",
   "metadata": {},
   "source": [
    "## Route"
   ]
  },
  {
   "cell_type": "code",
   "execution_count": 51,
   "metadata": {},
   "outputs": [],
   "source": [
    "admin['route'] = admin.origin + \" -> \" + admin.destination"
   ]
  },
  {
   "cell_type": "code",
   "execution_count": 52,
   "metadata": {},
   "outputs": [
    {
     "data": {
      "text/plain": [
       " ->                                                                                              35666\n",
       "Seoul Gimpo International Airport -> Jeju International Airport                                   2058\n",
       "Jeju International Airport -> Seoul Gimpo International Airport                                   1971\n",
       "Sydney Kingsford Smith Airport -> Melbourne Airport                                               1554\n",
       "Ho Chi Minh City International Airport -> Hanoi Noi Bai International Airport                     1466\n",
       "Melbourne Airport -> Sydney Kingsford Smith Airport                                               1454\n",
       "Hanoi Noi Bai International Airport -> Ho Chi Minh City International Airport                     1402\n",
       "Delhi Indira Gandhi International Airport -> Mumbai Chhatrapati Shivaji International Airport     1233\n",
       "Mumbai Chhatrapati Shivaji International Airport -> Delhi Indira Gandhi International Airport     1195\n",
       "Dubai International Airport ->                                                                    1155\n",
       "Taiwan Taoyuan International Airport -> Hong Kong International Airport                           1151\n",
       "Zurich Airport ->                                                                                 1137\n",
       "Hong Kong International Airport -> Taiwan Taoyuan International Airport                           1095\n",
       "Tokyo Haneda International Airport -> Fukuoka Airport                                             1051\n",
       "Sydney Kingsford Smith Airport -> Brisbane Airport                                                1022\n",
       "Brisbane Airport -> Sydney Kingsford Smith Airport                                                 978\n",
       "Fukuoka Airport -> Tokyo Haneda International Airport                                              963\n",
       "Shanghai Hongqiao International Airport -> Shenzhen Bao'an International Airport                   957\n",
       "Beijing Capital International Airport -> Shanghai Hongqiao International Airport                   929\n",
       "Shenzhen Bao'an International Airport -> Shanghai Hongqiao International Airport                   922\n",
       "Name: route, dtype: int64"
      ]
     },
     "execution_count": 52,
     "metadata": {},
     "output_type": "execute_result"
    }
   ],
   "source": [
    "admin['route'].value_counts()[:20]"
   ]
  },
  {
   "cell_type": "code",
   "execution_count": 53,
   "metadata": {},
   "outputs": [],
   "source": [
    "# admin.dropna(subset=['real_flight_duration']).isnull().sum()"
   ]
  },
  {
   "cell_type": "code",
   "execution_count": 54,
   "metadata": {},
   "outputs": [
    {
     "data": {
      "text/plain": [
       "flight_id                         0\n",
       "flight_callsign                   0\n",
       "aircraft_model                    0\n",
       "aircraft_registration             0\n",
       "airline                           0\n",
       "origin                            0\n",
       "destination                       0\n",
       "scheduled_departure_utc       23538\n",
       "scheduled_arrival_utc         23538\n",
       "real_departure_utc            64318\n",
       "estimated_arrival_utc        502967\n",
       "real_flight_duration         160380\n",
       "scheduled_departure_dt        23538\n",
       "scheduled_arrival_dt          23538\n",
       "real_departure_dt             64318\n",
       "estimated_arrival_dt         502967\n",
       "scheduled_arrival_year        23538\n",
       "scheduled_arrival_month       23538\n",
       "scheduled_arrival_day         23538\n",
       "scheduled_departure_year      23538\n",
       "scheduled_departure_month     23538\n",
       "scheduled_departure_day       23538\n",
       "scheduled_flight_duration     23538\n",
       "route                             0\n",
       "dtype: int64"
      ]
     },
     "execution_count": 54,
     "metadata": {},
     "output_type": "execute_result"
    }
   ],
   "source": [
    "admin.isnull().sum()"
   ]
  },
  {
   "cell_type": "code",
   "execution_count": 55,
   "metadata": {},
   "outputs": [],
   "source": [
    "mask = admin['route'] == 'Taiwan Taoyuan International Airport -> Hong Kong International Airport'\n",
    "df_twn_hkg = admin[mask]"
   ]
  },
  {
   "cell_type": "code",
   "execution_count": 56,
   "metadata": {},
   "outputs": [
    {
     "data": {
      "text/plain": [
       "930360    1970-01-01 07:30:00\n",
       "554909    1970-01-01 07:30:00\n",
       "311509    1970-01-01 07:30:00\n",
       "959131    1970-01-01 07:30:00\n",
       "268583    1970-01-01 07:30:00\n",
       "792492    1970-01-01 07:30:00\n",
       "1069001   1970-01-01 07:30:00\n",
       "431010    1970-01-01 07:30:00\n",
       "1069647   1970-01-01 07:30:00\n",
       "957928    1970-01-01 07:30:00\n",
       "138451    1970-01-01 07:30:00\n",
       "1104197   1970-01-01 07:30:00\n",
       "1102567   1970-01-01 07:30:00\n",
       "469801    1970-01-01 07:30:00\n",
       "1034334   1970-01-01 07:30:00\n",
       "315696    1970-01-01 07:30:00\n",
       "337403    1970-01-01 07:30:00\n",
       "509209    1970-01-01 07:30:00\n",
       "708040    1970-01-01 07:30:00\n",
       "24196     1970-01-01 07:30:00\n",
       "266773    1970-01-01 07:30:00\n",
       "789218    1970-01-01 07:30:00\n",
       "17778     1970-01-01 07:30:00\n",
       "113366    1970-01-01 07:30:00\n",
       "757536    1970-01-01 07:30:00\n",
       "730102    1970-01-01 07:30:00\n",
       "254181    1970-01-01 07:30:00\n",
       "93302     1970-01-01 07:30:00\n",
       "1060331   1970-01-01 07:30:00\n",
       "833060    1970-01-01 07:30:00\n",
       "749480    1970-01-01 07:30:00\n",
       "369045    2016-12-31 22:00:00\n",
       "Name: scheduled_departure_dt, dtype: datetime64[ns]"
      ]
     },
     "execution_count": 56,
     "metadata": {},
     "output_type": "execute_result"
    }
   ],
   "source": [
    "df_twn_hkg.sort_values(by='scheduled_departure_dt')['scheduled_departure_dt'].head(32)"
   ]
  },
  {
   "cell_type": "code",
   "execution_count": 57,
   "metadata": {},
   "outputs": [
    {
     "data": {
      "text/plain": [
       "930360    1970-01-01 07:30:00\n",
       "554909    1970-01-01 07:30:00\n",
       "311509    1970-01-01 07:30:00\n",
       "959131    1970-01-01 07:30:00\n",
       "268583    1970-01-01 07:30:00\n",
       "792492    1970-01-01 07:30:00\n",
       "1069001   1970-01-01 07:30:00\n",
       "431010    1970-01-01 07:30:00\n",
       "1069647   1970-01-01 07:30:00\n",
       "957928    1970-01-01 07:30:00\n",
       "138451    1970-01-01 07:30:00\n",
       "1104197   1970-01-01 07:30:00\n",
       "1102567   1970-01-01 07:30:00\n",
       "469801    1970-01-01 07:30:00\n",
       "1034334   1970-01-01 07:30:00\n",
       "315696    1970-01-01 07:30:00\n",
       "337403    1970-01-01 07:30:00\n",
       "509209    1970-01-01 07:30:00\n",
       "708040    1970-01-01 07:30:00\n",
       "24196     1970-01-01 07:30:00\n",
       "266773    1970-01-01 07:30:00\n",
       "789218    1970-01-01 07:30:00\n",
       "17778     1970-01-01 07:30:00\n",
       "113366    1970-01-01 07:30:00\n",
       "757536    1970-01-01 07:30:00\n",
       "730102    1970-01-01 07:30:00\n",
       "254181    1970-01-01 07:30:00\n",
       "93302     1970-01-01 07:30:00\n",
       "1060331   1970-01-01 07:30:00\n",
       "833060    1970-01-01 07:30:00\n",
       "749480    1970-01-01 07:30:00\n",
       "369045    2016-12-31 22:00:00\n",
       "Name: scheduled_departure_dt, dtype: datetime64[ns]"
      ]
     },
     "execution_count": 57,
     "metadata": {},
     "output_type": "execute_result"
    }
   ],
   "source": [
    "df_twn_hkg['scheduled_departure_dt'].sort_values()[:32]"
   ]
  },
  {
   "cell_type": "code",
   "execution_count": 58,
   "metadata": {},
   "outputs": [
    {
     "data": {
      "text/plain": [
       "138451    1970-01-01 07:30:00\n",
       "792492    1970-01-01 07:30:00\n",
       "959131    1970-01-01 07:30:00\n",
       "266773    1970-01-01 07:30:00\n",
       "1069001   1970-01-01 07:30:00\n",
       "431010    1970-01-01 07:30:00\n",
       "1069647   1970-01-01 07:30:00\n",
       "93302     1970-01-01 07:30:00\n",
       "268583    1970-01-01 07:30:00\n",
       "930360    1970-01-01 07:30:00\n",
       "469801    1970-01-01 07:30:00\n",
       "315696    1970-01-01 07:30:00\n",
       "337403    1970-01-01 07:30:00\n",
       "113366    1970-01-01 07:30:00\n",
       "509209    1970-01-01 07:30:00\n",
       "1034334   1970-01-01 07:30:00\n",
       "1102567   1970-01-01 07:30:00\n",
       "1104197   1970-01-01 07:30:00\n",
       "554909    1970-01-01 07:30:00\n",
       "833060    1970-01-01 07:30:00\n",
       "311509    1970-01-01 07:30:00\n",
       "708040    1970-01-01 07:30:00\n",
       "957928    1970-01-01 07:30:00\n",
       "1060331   1970-01-01 07:30:00\n",
       "254181    1970-01-01 07:30:00\n",
       "757536    1970-01-01 07:30:00\n",
       "24196     1970-01-01 07:30:00\n",
       "730102    1970-01-01 07:30:00\n",
       "17778     1970-01-01 07:30:00\n",
       "789218    1970-01-01 07:30:00\n",
       "749480    1970-01-01 07:30:00\n",
       "369045    2016-12-31 23:30:00\n",
       "Name: scheduled_arrival_dt, dtype: datetime64[ns]"
      ]
     },
     "execution_count": 58,
     "metadata": {},
     "output_type": "execute_result"
    }
   ],
   "source": [
    "df_twn_hkg['scheduled_arrival_dt'].sort_values()[:32]"
   ]
  },
  {
   "cell_type": "code",
   "execution_count": 59,
   "metadata": {},
   "outputs": [
    {
     "data": {
      "text/plain": [
       "Int64Index([841654], dtype='int64')"
      ]
     },
     "execution_count": 59,
     "metadata": {},
     "output_type": "execute_result"
    }
   ],
   "source": [
    "df_twn_hkg[df_twn_hkg['scheduled_departure_dt'].isnull()].index"
   ]
  },
  {
   "cell_type": "code",
   "execution_count": 60,
   "metadata": {},
   "outputs": [
    {
     "data": {
      "text/plain": [
       "flight_id                                                              c0d8908\n",
       "flight_callsign                                                         CAL641\n",
       "aircraft_model                                                 Airbus A350-941\n",
       "aircraft_registration                                                  B-18901\n",
       "airline                                                         China Airlines\n",
       "origin                                    Taiwan Taoyuan International Airport\n",
       "destination                                    Hong Kong International Airport\n",
       "scheduled_departure_utc                                                    NaN\n",
       "scheduled_arrival_utc                                                      NaN\n",
       "real_departure_utc                                                         NaN\n",
       "estimated_arrival_utc                                                      NaN\n",
       "real_flight_duration                                                      5438\n",
       "scheduled_departure_dt                                                     NaT\n",
       "scheduled_arrival_dt                                                       NaT\n",
       "real_departure_dt                                                          NaT\n",
       "estimated_arrival_dt                                                       NaT\n",
       "scheduled_arrival_year                                                    <NA>\n",
       "scheduled_arrival_month                                                   <NA>\n",
       "scheduled_arrival_day                                                     <NA>\n",
       "scheduled_departure_year                                                  <NA>\n",
       "scheduled_departure_month                                                 <NA>\n",
       "scheduled_departure_day                                                   <NA>\n",
       "scheduled_flight_duration                                                  NaN\n",
       "route                        Taiwan Taoyuan International Airport -> Hong K...\n",
       "Name: 841654, dtype: object"
      ]
     },
     "execution_count": 60,
     "metadata": {},
     "output_type": "execute_result"
    }
   ],
   "source": [
    "df_twn_hkg.loc[841654]"
   ]
  },
  {
   "cell_type": "code",
   "execution_count": 61,
   "metadata": {},
   "outputs": [
    {
     "data": {
      "text/plain": [
       "Int64Index([  24196,  131209,  254181,  266773,  268583,  431010,  509209,\n",
       "             631005,  708040,  792492,  833060,  860491,  930360,  957928,\n",
       "             959131, 1034334, 1060331, 1069001, 1104197, 1157632],\n",
       "           dtype='int64')"
      ]
     },
     "execution_count": 61,
     "metadata": {},
     "output_type": "execute_result"
    }
   ],
   "source": [
    "df_twn_hkg[df_twn_hkg['real_flight_duration'].isnull()].index"
   ]
  },
  {
   "cell_type": "code",
   "execution_count": 62,
   "metadata": {},
   "outputs": [
    {
     "data": {
      "text/plain": [
       "1970-01-01    31\n",
       "2016-12-31     1\n",
       "2017-01-01    35\n",
       "2017-01-02    36\n",
       "2017-01-03    38\n",
       "2017-01-04    33\n",
       "2017-01-05    39\n",
       "2017-01-06    42\n",
       "2017-01-07    31\n",
       "2017-01-08    26\n",
       "2017-01-09     6\n",
       "2017-01-10    11\n",
       "2017-01-11    36\n",
       "2017-01-12    38\n",
       "2017-01-13    12\n",
       "2017-01-14    39\n",
       "2017-01-15    49\n",
       "2017-01-16    35\n",
       "2017-01-17    43\n",
       "2017-01-18    42\n",
       "2017-01-19    37\n",
       "2017-01-20    38\n",
       "2017-01-21    46\n",
       "2017-01-22    36\n",
       "2017-01-23    39\n",
       "2017-01-24    43\n",
       "2017-01-25    44\n",
       "2017-01-26    46\n",
       "2017-01-27    40\n",
       "2017-01-28    47\n",
       "2017-01-29    38\n",
       "2017-01-30    40\n",
       "2017-01-31    33\n",
       "NaN            1\n",
       "Name: scheduled_arrival_dt, dtype: int64"
      ]
     },
     "execution_count": 62,
     "metadata": {},
     "output_type": "execute_result"
    }
   ],
   "source": [
    "# (df_twn_hkg['scheduled_arrival_year'].dropna().astype(int).astype(str) + '-' + \\\n",
    "# df_twn_hkg['scheduled_arrival_month'].dropna().astype(int).astype(str) + '-' + \\\n",
    "# df_twn_hkg['scheduled_arrival_day'].dropna().astype(int).astype(str)) \\\n",
    "# .value_counts() \\\n",
    "# .sort_index()\n",
    "df_twn_hkg['scheduled_arrival_dt'].dt.date.value_counts(dropna=False).sort_index()"
   ]
  },
  {
   "cell_type": "code",
   "execution_count": 63,
   "metadata": {},
   "outputs": [
    {
     "data": {
      "text/plain": [
       "1970-01-01    31\n",
       "2016-12-31     3\n",
       "2017-01-01    34\n",
       "2017-01-02    37\n",
       "2017-01-03    39\n",
       "2017-01-04    33\n",
       "2017-01-05    39\n",
       "2017-01-06    44\n",
       "2017-01-07    29\n",
       "2017-01-08    23\n",
       "2017-01-09     8\n",
       "2017-01-10    11\n",
       "2017-01-11    37\n",
       "2017-01-12    37\n",
       "2017-01-13    15\n",
       "2017-01-14    39\n",
       "2017-01-15    45\n",
       "2017-01-16    37\n",
       "2017-01-17    43\n",
       "2017-01-18    43\n",
       "2017-01-19    36\n",
       "2017-01-20    40\n",
       "2017-01-21    43\n",
       "2017-01-22    35\n",
       "2017-01-23    40\n",
       "2017-01-24    44\n",
       "2017-01-25    45\n",
       "2017-01-26    44\n",
       "2017-01-27    43\n",
       "2017-01-28    45\n",
       "2017-01-29    36\n",
       "2017-01-30    39\n",
       "2017-01-31    33\n",
       "NaN            1\n",
       "Name: scheduled_departure_dt, dtype: int64"
      ]
     },
     "execution_count": 63,
     "metadata": {},
     "output_type": "execute_result"
    }
   ],
   "source": [
    "df_twn_hkg['scheduled_departure_dt'].dt.date.value_counts(dropna=False).sort_index()"
   ]
  },
  {
   "cell_type": "code",
   "execution_count": 64,
   "metadata": {},
   "outputs": [
    {
     "data": {
      "text/html": [
       "<div>\n",
       "<style scoped>\n",
       "    .dataframe tbody tr th:only-of-type {\n",
       "        vertical-align: middle;\n",
       "    }\n",
       "\n",
       "    .dataframe tbody tr th {\n",
       "        vertical-align: top;\n",
       "    }\n",
       "\n",
       "    .dataframe thead th {\n",
       "        text-align: right;\n",
       "    }\n",
       "</style>\n",
       "<table border=\"1\" class=\"dataframe\">\n",
       "  <thead>\n",
       "    <tr style=\"text-align: right;\">\n",
       "      <th></th>\n",
       "      <th>flight_id</th>\n",
       "      <th>flight_callsign</th>\n",
       "      <th>aircraft_model</th>\n",
       "      <th>aircraft_registration</th>\n",
       "      <th>airline</th>\n",
       "      <th>origin</th>\n",
       "      <th>destination</th>\n",
       "      <th>scheduled_departure_utc</th>\n",
       "      <th>scheduled_arrival_utc</th>\n",
       "      <th>real_departure_utc</th>\n",
       "      <th>...</th>\n",
       "      <th>real_departure_dt</th>\n",
       "      <th>estimated_arrival_dt</th>\n",
       "      <th>scheduled_arrival_year</th>\n",
       "      <th>scheduled_arrival_month</th>\n",
       "      <th>scheduled_arrival_day</th>\n",
       "      <th>scheduled_departure_year</th>\n",
       "      <th>scheduled_departure_month</th>\n",
       "      <th>scheduled_departure_day</th>\n",
       "      <th>scheduled_flight_duration</th>\n",
       "      <th>route</th>\n",
       "    </tr>\n",
       "  </thead>\n",
       "  <tbody>\n",
       "    <tr>\n",
       "      <th>749480</th>\n",
       "      <td>c0b7b08</td>\n",
       "      <td>EVA6521</td>\n",
       "      <td>Boeing 747-45EF(SCD)</td>\n",
       "      <td>B-16481</td>\n",
       "      <td>EVA Air Cargo</td>\n",
       "      <td>Taiwan Taoyuan International Airport</td>\n",
       "      <td>Hong Kong International Airport</td>\n",
       "      <td>0.0</td>\n",
       "      <td>0.0</td>\n",
       "      <td>1.483229e+09</td>\n",
       "      <td>...</td>\n",
       "      <td>2017-01-01 08:07:58</td>\n",
       "      <td>NaT</td>\n",
       "      <td>1970</td>\n",
       "      <td>1</td>\n",
       "      <td>1</td>\n",
       "      <td>1970</td>\n",
       "      <td>1</td>\n",
       "      <td>1</td>\n",
       "      <td>0.0</td>\n",
       "      <td>Taiwan Taoyuan International Airport -&gt; Hong K...</td>\n",
       "    </tr>\n",
       "    <tr>\n",
       "      <th>1034334</th>\n",
       "      <td>c1011b8</td>\n",
       "      <td>UPS54</td>\n",
       "      <td>Boeing 747-4R7(F)</td>\n",
       "      <td>N582UP</td>\n",
       "      <td>UPS</td>\n",
       "      <td>Taiwan Taoyuan International Airport</td>\n",
       "      <td>Hong Kong International Airport</td>\n",
       "      <td>0.0</td>\n",
       "      <td>0.0</td>\n",
       "      <td>1.483423e+09</td>\n",
       "      <td>...</td>\n",
       "      <td>2017-01-03 13:52:36</td>\n",
       "      <td>NaT</td>\n",
       "      <td>1970</td>\n",
       "      <td>1</td>\n",
       "      <td>1</td>\n",
       "      <td>1970</td>\n",
       "      <td>1</td>\n",
       "      <td>1</td>\n",
       "      <td>0.0</td>\n",
       "      <td>Taiwan Taoyuan International Airport -&gt; Hong K...</td>\n",
       "    </tr>\n",
       "    <tr>\n",
       "      <th>1104197</th>\n",
       "      <td>c108418</td>\n",
       "      <td>FDX9171</td>\n",
       "      <td>McDonnell Douglas MD-11F</td>\n",
       "      <td>N623FE</td>\n",
       "      <td>FedEx</td>\n",
       "      <td>Taiwan Taoyuan International Airport</td>\n",
       "      <td>Hong Kong International Airport</td>\n",
       "      <td>0.0</td>\n",
       "      <td>0.0</td>\n",
       "      <td>1.483442e+09</td>\n",
       "      <td>...</td>\n",
       "      <td>2017-01-03 19:15:53</td>\n",
       "      <td>NaT</td>\n",
       "      <td>1970</td>\n",
       "      <td>1</td>\n",
       "      <td>1</td>\n",
       "      <td>1970</td>\n",
       "      <td>1</td>\n",
       "      <td>1</td>\n",
       "      <td>0.0</td>\n",
       "      <td>Taiwan Taoyuan International Airport -&gt; Hong K...</td>\n",
       "    </tr>\n",
       "    <tr>\n",
       "      <th>113366</th>\n",
       "      <td>c12a899</td>\n",
       "      <td>CAL6843</td>\n",
       "      <td>Boeing 747-409(F)</td>\n",
       "      <td>B-18720</td>\n",
       "      <td>China Airlines Cargo</td>\n",
       "      <td>Taiwan Taoyuan International Airport</td>\n",
       "      <td>Hong Kong International Airport</td>\n",
       "      <td>0.0</td>\n",
       "      <td>0.0</td>\n",
       "      <td>1.483516e+09</td>\n",
       "      <td>...</td>\n",
       "      <td>2017-01-04 15:51:28</td>\n",
       "      <td>NaT</td>\n",
       "      <td>1970</td>\n",
       "      <td>1</td>\n",
       "      <td>1</td>\n",
       "      <td>1970</td>\n",
       "      <td>1</td>\n",
       "      <td>1</td>\n",
       "      <td>0.0</td>\n",
       "      <td>Taiwan Taoyuan International Airport -&gt; Hong K...</td>\n",
       "    </tr>\n",
       "    <tr>\n",
       "      <th>930360</th>\n",
       "      <td>c1a53ee</td>\n",
       "      <td>FDX169</td>\n",
       "      <td>Boeing 777-FS2</td>\n",
       "      <td>N855FD</td>\n",
       "      <td>FedEx</td>\n",
       "      <td>Taiwan Taoyuan International Airport</td>\n",
       "      <td>Hong Kong International Airport</td>\n",
       "      <td>0.0</td>\n",
       "      <td>0.0</td>\n",
       "      <td>1.483777e+09</td>\n",
       "      <td>...</td>\n",
       "      <td>2017-01-07 16:16:04</td>\n",
       "      <td>NaT</td>\n",
       "      <td>1970</td>\n",
       "      <td>1</td>\n",
       "      <td>1</td>\n",
       "      <td>1970</td>\n",
       "      <td>1</td>\n",
       "      <td>1</td>\n",
       "      <td>0.0</td>\n",
       "      <td>Taiwan Taoyuan International Airport -&gt; Hong K...</td>\n",
       "    </tr>\n",
       "    <tr>\n",
       "      <th>1069647</th>\n",
       "      <td>c1a80e2</td>\n",
       "      <td>EVA6529</td>\n",
       "      <td>Boeing 747-45EF(SCD)</td>\n",
       "      <td>B-16481</td>\n",
       "      <td>EVA Air Cargo</td>\n",
       "      <td>Taiwan Taoyuan International Airport</td>\n",
       "      <td>Hong Kong International Airport</td>\n",
       "      <td>0.0</td>\n",
       "      <td>0.0</td>\n",
       "      <td>1.483786e+09</td>\n",
       "      <td>...</td>\n",
       "      <td>2017-01-07 18:47:22</td>\n",
       "      <td>NaT</td>\n",
       "      <td>1970</td>\n",
       "      <td>1</td>\n",
       "      <td>1</td>\n",
       "      <td>1970</td>\n",
       "      <td>1</td>\n",
       "      <td>1</td>\n",
       "      <td>0.0</td>\n",
       "      <td>Taiwan Taoyuan International Airport -&gt; Hong K...</td>\n",
       "    </tr>\n",
       "    <tr>\n",
       "      <th>17778</th>\n",
       "      <td>c1bc4fa</td>\n",
       "      <td>EVA6521</td>\n",
       "      <td>Boeing 747-45E(BDSF)</td>\n",
       "      <td>B-16406</td>\n",
       "      <td>EVA Air Cargo</td>\n",
       "      <td>Taiwan Taoyuan International Airport</td>\n",
       "      <td>Hong Kong International Airport</td>\n",
       "      <td>0.0</td>\n",
       "      <td>0.0</td>\n",
       "      <td>1.483836e+09</td>\n",
       "      <td>...</td>\n",
       "      <td>2017-01-08 08:42:00</td>\n",
       "      <td>2017-01-08 10:14:01</td>\n",
       "      <td>1970</td>\n",
       "      <td>1</td>\n",
       "      <td>1</td>\n",
       "      <td>1970</td>\n",
       "      <td>1</td>\n",
       "      <td>1</td>\n",
       "      <td>0.0</td>\n",
       "      <td>Taiwan Taoyuan International Airport -&gt; Hong K...</td>\n",
       "    </tr>\n",
       "    <tr>\n",
       "      <th>268583</th>\n",
       "      <td>c21164c</td>\n",
       "      <td>FDX9171</td>\n",
       "      <td>McDonnell Douglas MD-11F</td>\n",
       "      <td>N573FE</td>\n",
       "      <td>FedEx</td>\n",
       "      <td>Taiwan Taoyuan International Airport</td>\n",
       "      <td>Hong Kong International Airport</td>\n",
       "      <td>0.0</td>\n",
       "      <td>0.0</td>\n",
       "      <td>1.484047e+09</td>\n",
       "      <td>...</td>\n",
       "      <td>2017-01-10 19:16:18</td>\n",
       "      <td>NaT</td>\n",
       "      <td>1970</td>\n",
       "      <td>1</td>\n",
       "      <td>1</td>\n",
       "      <td>1970</td>\n",
       "      <td>1</td>\n",
       "      <td>1</td>\n",
       "      <td>0.0</td>\n",
       "      <td>Taiwan Taoyuan International Airport -&gt; Hong K...</td>\n",
       "    </tr>\n",
       "    <tr>\n",
       "      <th>730102</th>\n",
       "      <td>c2328ba</td>\n",
       "      <td>CAL6843</td>\n",
       "      <td>Boeing 747-409(F)</td>\n",
       "      <td>B-18723</td>\n",
       "      <td>China Airlines Cargo</td>\n",
       "      <td>Taiwan Taoyuan International Airport</td>\n",
       "      <td>Hong Kong International Airport</td>\n",
       "      <td>0.0</td>\n",
       "      <td>0.0</td>\n",
       "      <td>1.484120e+09</td>\n",
       "      <td>...</td>\n",
       "      <td>2017-01-11 15:40:58</td>\n",
       "      <td>NaT</td>\n",
       "      <td>1970</td>\n",
       "      <td>1</td>\n",
       "      <td>1</td>\n",
       "      <td>1970</td>\n",
       "      <td>1</td>\n",
       "      <td>1</td>\n",
       "      <td>0.0</td>\n",
       "      <td>Taiwan Taoyuan International Airport -&gt; Hong K...</td>\n",
       "    </tr>\n",
       "    <tr>\n",
       "      <th>509209</th>\n",
       "      <td>c2a9dd4</td>\n",
       "      <td>FDX169</td>\n",
       "      <td>Boeing 777-FS2</td>\n",
       "      <td>N861FD</td>\n",
       "      <td>FedEx</td>\n",
       "      <td>Taiwan Taoyuan International Airport</td>\n",
       "      <td>Hong Kong International Airport</td>\n",
       "      <td>0.0</td>\n",
       "      <td>0.0</td>\n",
       "      <td>1.484382e+09</td>\n",
       "      <td>...</td>\n",
       "      <td>2017-01-14 16:21:43</td>\n",
       "      <td>NaT</td>\n",
       "      <td>1970</td>\n",
       "      <td>1</td>\n",
       "      <td>1</td>\n",
       "      <td>1970</td>\n",
       "      <td>1</td>\n",
       "      <td>1</td>\n",
       "      <td>0.0</td>\n",
       "      <td>Taiwan Taoyuan International Airport -&gt; Hong K...</td>\n",
       "    </tr>\n",
       "    <tr>\n",
       "      <th>24196</th>\n",
       "      <td>c2befad</td>\n",
       "      <td>CPA3331</td>\n",
       "      <td>Boeing 777-267</td>\n",
       "      <td>B-HNB</td>\n",
       "      <td>Cathay Pacific</td>\n",
       "      <td>Taiwan Taoyuan International Airport</td>\n",
       "      <td>Hong Kong International Airport</td>\n",
       "      <td>0.0</td>\n",
       "      <td>0.0</td>\n",
       "      <td>1.484433e+09</td>\n",
       "      <td>...</td>\n",
       "      <td>2017-01-15 06:37:25</td>\n",
       "      <td>NaT</td>\n",
       "      <td>1970</td>\n",
       "      <td>1</td>\n",
       "      <td>1</td>\n",
       "      <td>1970</td>\n",
       "      <td>1</td>\n",
       "      <td>1</td>\n",
       "      <td>0.0</td>\n",
       "      <td>Taiwan Taoyuan International Airport -&gt; Hong K...</td>\n",
       "    </tr>\n",
       "    <tr>\n",
       "      <th>469801</th>\n",
       "      <td>c2c059b</td>\n",
       "      <td>EVA6521</td>\n",
       "      <td>Boeing 747-45E(BDSF)</td>\n",
       "      <td>B-16406</td>\n",
       "      <td>EVA Air Cargo</td>\n",
       "      <td>Taiwan Taoyuan International Airport</td>\n",
       "      <td>Hong Kong International Airport</td>\n",
       "      <td>0.0</td>\n",
       "      <td>0.0</td>\n",
       "      <td>1.484437e+09</td>\n",
       "      <td>...</td>\n",
       "      <td>2017-01-15 07:40:14</td>\n",
       "      <td>NaT</td>\n",
       "      <td>1970</td>\n",
       "      <td>1</td>\n",
       "      <td>1</td>\n",
       "      <td>1970</td>\n",
       "      <td>1</td>\n",
       "      <td>1</td>\n",
       "      <td>0.0</td>\n",
       "      <td>Taiwan Taoyuan International Airport -&gt; Hong K...</td>\n",
       "    </tr>\n",
       "    <tr>\n",
       "      <th>431010</th>\n",
       "      <td>c310947</td>\n",
       "      <td>UPS54</td>\n",
       "      <td>Boeing 747-44A(F)</td>\n",
       "      <td>N574UP</td>\n",
       "      <td>UPS</td>\n",
       "      <td>Taiwan Taoyuan International Airport</td>\n",
       "      <td>Hong Kong International Airport</td>\n",
       "      <td>0.0</td>\n",
       "      <td>0.0</td>\n",
       "      <td>1.484633e+09</td>\n",
       "      <td>...</td>\n",
       "      <td>2017-01-17 13:56:34</td>\n",
       "      <td>2017-01-17 15:31:06</td>\n",
       "      <td>1970</td>\n",
       "      <td>1</td>\n",
       "      <td>1</td>\n",
       "      <td>1970</td>\n",
       "      <td>1</td>\n",
       "      <td>1</td>\n",
       "      <td>0.0</td>\n",
       "      <td>Taiwan Taoyuan International Airport -&gt; Hong K...</td>\n",
       "    </tr>\n",
       "    <tr>\n",
       "      <th>708040</th>\n",
       "      <td>c3161a7</td>\n",
       "      <td>FDX9171</td>\n",
       "      <td>McDonnell Douglas MD-11F</td>\n",
       "      <td>N612FE</td>\n",
       "      <td>FedEx</td>\n",
       "      <td>Taiwan Taoyuan International Airport</td>\n",
       "      <td>Hong Kong International Airport</td>\n",
       "      <td>0.0</td>\n",
       "      <td>0.0</td>\n",
       "      <td>1.484651e+09</td>\n",
       "      <td>...</td>\n",
       "      <td>2017-01-17 18:58:07</td>\n",
       "      <td>NaT</td>\n",
       "      <td>1970</td>\n",
       "      <td>1</td>\n",
       "      <td>1</td>\n",
       "      <td>1970</td>\n",
       "      <td>1</td>\n",
       "      <td>1</td>\n",
       "      <td>0.0</td>\n",
       "      <td>Taiwan Taoyuan International Airport -&gt; Hong K...</td>\n",
       "    </tr>\n",
       "    <tr>\n",
       "      <th>93302</th>\n",
       "      <td>c3305a4</td>\n",
       "      <td>CPA25</td>\n",
       "      <td>Airbus A3004F-605R</td>\n",
       "      <td>B-LDA</td>\n",
       "      <td>Air Hong Kong (DHL cs)</td>\n",
       "      <td>Taiwan Taoyuan International Airport</td>\n",
       "      <td>Hong Kong International Airport</td>\n",
       "      <td>0.0</td>\n",
       "      <td>0.0</td>\n",
       "      <td>1.484702e+09</td>\n",
       "      <td>...</td>\n",
       "      <td>2017-01-18 09:14:25</td>\n",
       "      <td>NaT</td>\n",
       "      <td>1970</td>\n",
       "      <td>1</td>\n",
       "      <td>1</td>\n",
       "      <td>1970</td>\n",
       "      <td>1</td>\n",
       "      <td>1</td>\n",
       "      <td>0.0</td>\n",
       "      <td>Taiwan Taoyuan International Airport -&gt; Hong K...</td>\n",
       "    </tr>\n",
       "    <tr>\n",
       "      <th>254181</th>\n",
       "      <td>c333923</td>\n",
       "      <td>NCA699</td>\n",
       "      <td>Boeing 747-481(F)</td>\n",
       "      <td>JA04KZ</td>\n",
       "      <td>Nippon Cargo Airlines (Green freighter Livery)</td>\n",
       "      <td>Taiwan Taoyuan International Airport</td>\n",
       "      <td>Hong Kong International Airport</td>\n",
       "      <td>0.0</td>\n",
       "      <td>0.0</td>\n",
       "      <td>1.484710e+09</td>\n",
       "      <td>...</td>\n",
       "      <td>2017-01-18 11:21:25</td>\n",
       "      <td>NaT</td>\n",
       "      <td>1970</td>\n",
       "      <td>1</td>\n",
       "      <td>1</td>\n",
       "      <td>1970</td>\n",
       "      <td>1</td>\n",
       "      <td>1</td>\n",
       "      <td>0.0</td>\n",
       "      <td>Taiwan Taoyuan International Airport -&gt; Hong K...</td>\n",
       "    </tr>\n",
       "    <tr>\n",
       "      <th>1102567</th>\n",
       "      <td>c3369c0</td>\n",
       "      <td>CAL6843</td>\n",
       "      <td>Boeing 747-409(F)</td>\n",
       "      <td>B-18710</td>\n",
       "      <td>China Airlines Cargo</td>\n",
       "      <td>Taiwan Taoyuan International Airport</td>\n",
       "      <td>Hong Kong International Airport</td>\n",
       "      <td>0.0</td>\n",
       "      <td>0.0</td>\n",
       "      <td>1.484719e+09</td>\n",
       "      <td>...</td>\n",
       "      <td>2017-01-18 14:01:45</td>\n",
       "      <td>NaT</td>\n",
       "      <td>1970</td>\n",
       "      <td>1</td>\n",
       "      <td>1</td>\n",
       "      <td>1970</td>\n",
       "      <td>1</td>\n",
       "      <td>1</td>\n",
       "      <td>0.0</td>\n",
       "      <td>Taiwan Taoyuan International Airport -&gt; Hong K...</td>\n",
       "    </tr>\n",
       "    <tr>\n",
       "      <th>833060</th>\n",
       "      <td>c3af6af</td>\n",
       "      <td>FDX169</td>\n",
       "      <td>Boeing 777-FS2</td>\n",
       "      <td>N857FD</td>\n",
       "      <td>FedEx</td>\n",
       "      <td>Taiwan Taoyuan International Airport</td>\n",
       "      <td>Hong Kong International Airport</td>\n",
       "      <td>0.0</td>\n",
       "      <td>0.0</td>\n",
       "      <td>1.484988e+09</td>\n",
       "      <td>...</td>\n",
       "      <td>2017-01-21 16:43:32</td>\n",
       "      <td>2017-01-21 18:16:35</td>\n",
       "      <td>1970</td>\n",
       "      <td>1</td>\n",
       "      <td>1</td>\n",
       "      <td>1970</td>\n",
       "      <td>1</td>\n",
       "      <td>1</td>\n",
       "      <td>0.0</td>\n",
       "      <td>Taiwan Taoyuan International Airport -&gt; Hong K...</td>\n",
       "    </tr>\n",
       "    <tr>\n",
       "      <th>757536</th>\n",
       "      <td>c3b27f5</td>\n",
       "      <td>EVA6529</td>\n",
       "      <td>Boeing 747-45E(BDSF)</td>\n",
       "      <td>B-16406</td>\n",
       "      <td>EVA Air Cargo</td>\n",
       "      <td>Taiwan Taoyuan International Airport</td>\n",
       "      <td>Hong Kong International Airport</td>\n",
       "      <td>0.0</td>\n",
       "      <td>0.0</td>\n",
       "      <td>1.484998e+09</td>\n",
       "      <td>...</td>\n",
       "      <td>2017-01-21 19:25:57</td>\n",
       "      <td>NaT</td>\n",
       "      <td>1970</td>\n",
       "      <td>1</td>\n",
       "      <td>1</td>\n",
       "      <td>1970</td>\n",
       "      <td>1</td>\n",
       "      <td>1</td>\n",
       "      <td>0.0</td>\n",
       "      <td>Taiwan Taoyuan International Airport -&gt; Hong K...</td>\n",
       "    </tr>\n",
       "    <tr>\n",
       "      <th>789218</th>\n",
       "      <td>c3cb84e</td>\n",
       "      <td>EVA6521</td>\n",
       "      <td>Boeing 747-45E(BDSF)</td>\n",
       "      <td>B-16401</td>\n",
       "      <td>EVA Air Cargo</td>\n",
       "      <td>Taiwan Taoyuan International Airport</td>\n",
       "      <td>Hong Kong International Airport</td>\n",
       "      <td>0.0</td>\n",
       "      <td>0.0</td>\n",
       "      <td>1.485060e+09</td>\n",
       "      <td>...</td>\n",
       "      <td>2017-01-22 12:39:19</td>\n",
       "      <td>2017-01-22 14:33:18</td>\n",
       "      <td>1970</td>\n",
       "      <td>1</td>\n",
       "      <td>1</td>\n",
       "      <td>1970</td>\n",
       "      <td>1</td>\n",
       "      <td>1</td>\n",
       "      <td>0.0</td>\n",
       "      <td>Taiwan Taoyuan International Airport -&gt; Hong K...</td>\n",
       "    </tr>\n",
       "    <tr>\n",
       "      <th>1060331</th>\n",
       "      <td>c3f8a70</td>\n",
       "      <td>AHK3331</td>\n",
       "      <td>Airbus A300F4-605R</td>\n",
       "      <td>B-LDC</td>\n",
       "      <td>Air Hong Kong (DHL cs)</td>\n",
       "      <td>Taiwan Taoyuan International Airport</td>\n",
       "      <td>Hong Kong International Airport</td>\n",
       "      <td>0.0</td>\n",
       "      <td>0.0</td>\n",
       "      <td>1.485184e+09</td>\n",
       "      <td>...</td>\n",
       "      <td>2017-01-23 23:01:37</td>\n",
       "      <td>NaT</td>\n",
       "      <td>1970</td>\n",
       "      <td>1</td>\n",
       "      <td>1</td>\n",
       "      <td>1970</td>\n",
       "      <td>1</td>\n",
       "      <td>1</td>\n",
       "      <td>0.0</td>\n",
       "      <td>Taiwan Taoyuan International Airport -&gt; Hong K...</td>\n",
       "    </tr>\n",
       "    <tr>\n",
       "      <th>554909</th>\n",
       "      <td>c4118cb</td>\n",
       "      <td>EVA6521</td>\n",
       "      <td>Boeing 747-45E(BDSF)</td>\n",
       "      <td>B-16406</td>\n",
       "      <td>EVA Air Cargo</td>\n",
       "      <td>Taiwan Taoyuan International Airport</td>\n",
       "      <td>Hong Kong International Airport</td>\n",
       "      <td>0.0</td>\n",
       "      <td>0.0</td>\n",
       "      <td>1.485233e+09</td>\n",
       "      <td>...</td>\n",
       "      <td>2017-01-24 12:49:54</td>\n",
       "      <td>NaT</td>\n",
       "      <td>1970</td>\n",
       "      <td>1</td>\n",
       "      <td>1</td>\n",
       "      <td>1970</td>\n",
       "      <td>1</td>\n",
       "      <td>1</td>\n",
       "      <td>0.0</td>\n",
       "      <td>Taiwan Taoyuan International Airport -&gt; Hong K...</td>\n",
       "    </tr>\n",
       "    <tr>\n",
       "      <th>792492</th>\n",
       "      <td>c412535</td>\n",
       "      <td>UPS54</td>\n",
       "      <td>Boeing 747-4R7(F)</td>\n",
       "      <td>N582UP</td>\n",
       "      <td>UPS</td>\n",
       "      <td>Taiwan Taoyuan International Airport</td>\n",
       "      <td>Hong Kong International Airport</td>\n",
       "      <td>0.0</td>\n",
       "      <td>0.0</td>\n",
       "      <td>1.485236e+09</td>\n",
       "      <td>...</td>\n",
       "      <td>2017-01-24 13:40:27</td>\n",
       "      <td>NaT</td>\n",
       "      <td>1970</td>\n",
       "      <td>1</td>\n",
       "      <td>1</td>\n",
       "      <td>1970</td>\n",
       "      <td>1</td>\n",
       "      <td>1</td>\n",
       "      <td>0.0</td>\n",
       "      <td>Taiwan Taoyuan International Airport -&gt; Hong K...</td>\n",
       "    </tr>\n",
       "    <tr>\n",
       "      <th>311509</th>\n",
       "      <td>c43f0c9</td>\n",
       "      <td>CAL2919</td>\n",
       "      <td>Boeing 737-8FH</td>\n",
       "      <td>B-18657</td>\n",
       "      <td>China Airlines</td>\n",
       "      <td>Taiwan Taoyuan International Airport</td>\n",
       "      <td>Hong Kong International Airport</td>\n",
       "      <td>0.0</td>\n",
       "      <td>0.0</td>\n",
       "      <td>1.485340e+09</td>\n",
       "      <td>...</td>\n",
       "      <td>2017-01-25 18:21:20</td>\n",
       "      <td>2017-01-25 20:12:33</td>\n",
       "      <td>1970</td>\n",
       "      <td>1</td>\n",
       "      <td>1</td>\n",
       "      <td>1970</td>\n",
       "      <td>1</td>\n",
       "      <td>1</td>\n",
       "      <td>0.0</td>\n",
       "      <td>Taiwan Taoyuan International Airport -&gt; Hong K...</td>\n",
       "    </tr>\n",
       "    <tr>\n",
       "      <th>315696</th>\n",
       "      <td>c4672a0</td>\n",
       "      <td>CAL2919</td>\n",
       "      <td>Boeing 737-8FH</td>\n",
       "      <td>B-18657</td>\n",
       "      <td>China Airlines</td>\n",
       "      <td>Taiwan Taoyuan International Airport</td>\n",
       "      <td>Hong Kong International Airport</td>\n",
       "      <td>0.0</td>\n",
       "      <td>0.0</td>\n",
       "      <td>1.485426e+09</td>\n",
       "      <td>...</td>\n",
       "      <td>2017-01-26 18:23:01</td>\n",
       "      <td>NaT</td>\n",
       "      <td>1970</td>\n",
       "      <td>1</td>\n",
       "      <td>1</td>\n",
       "      <td>1970</td>\n",
       "      <td>1</td>\n",
       "      <td>1</td>\n",
       "      <td>0.0</td>\n",
       "      <td>Taiwan Taoyuan International Airport -&gt; Hong K...</td>\n",
       "    </tr>\n",
       "    <tr>\n",
       "      <th>337403</th>\n",
       "      <td>c475fa0</td>\n",
       "      <td>CRK9269</td>\n",
       "      <td>Airbus A330-243F</td>\n",
       "      <td>B-LNZ</td>\n",
       "      <td>Hong Kong Airlines</td>\n",
       "      <td>Taiwan Taoyuan International Airport</td>\n",
       "      <td>Hong Kong International Airport</td>\n",
       "      <td>0.0</td>\n",
       "      <td>0.0</td>\n",
       "      <td>1.485454e+09</td>\n",
       "      <td>...</td>\n",
       "      <td>2017-01-27 02:01:06</td>\n",
       "      <td>NaT</td>\n",
       "      <td>1970</td>\n",
       "      <td>1</td>\n",
       "      <td>1</td>\n",
       "      <td>1970</td>\n",
       "      <td>1</td>\n",
       "      <td>1</td>\n",
       "      <td>0.0</td>\n",
       "      <td>Taiwan Taoyuan International Airport -&gt; Hong K...</td>\n",
       "    </tr>\n",
       "    <tr>\n",
       "      <th>959131</th>\n",
       "      <td>c486d94</td>\n",
       "      <td>HDA867</td>\n",
       "      <td>Airbus A330-342</td>\n",
       "      <td>B-LAA</td>\n",
       "      <td>Cathay Dragon</td>\n",
       "      <td>Taiwan Taoyuan International Airport</td>\n",
       "      <td>Hong Kong International Airport</td>\n",
       "      <td>0.0</td>\n",
       "      <td>0.0</td>\n",
       "      <td>1.485486e+09</td>\n",
       "      <td>...</td>\n",
       "      <td>2017-01-27 10:53:09</td>\n",
       "      <td>NaT</td>\n",
       "      <td>1970</td>\n",
       "      <td>1</td>\n",
       "      <td>1</td>\n",
       "      <td>1970</td>\n",
       "      <td>1</td>\n",
       "      <td>1</td>\n",
       "      <td>0.0</td>\n",
       "      <td>Taiwan Taoyuan International Airport -&gt; Hong K...</td>\n",
       "    </tr>\n",
       "    <tr>\n",
       "      <th>1069001</th>\n",
       "      <td>c4b5a3a</td>\n",
       "      <td>FDX169</td>\n",
       "      <td>Boeing 777-FS2</td>\n",
       "      <td>N885FD</td>\n",
       "      <td>FedEx</td>\n",
       "      <td>Taiwan Taoyuan International Airport</td>\n",
       "      <td>Hong Kong International Airport</td>\n",
       "      <td>0.0</td>\n",
       "      <td>0.0</td>\n",
       "      <td>1.485591e+09</td>\n",
       "      <td>...</td>\n",
       "      <td>2017-01-28 16:17:51</td>\n",
       "      <td>NaT</td>\n",
       "      <td>1970</td>\n",
       "      <td>1</td>\n",
       "      <td>1</td>\n",
       "      <td>1970</td>\n",
       "      <td>1</td>\n",
       "      <td>1</td>\n",
       "      <td>0.0</td>\n",
       "      <td>Taiwan Taoyuan International Airport -&gt; Hong K...</td>\n",
       "    </tr>\n",
       "    <tr>\n",
       "      <th>957928</th>\n",
       "      <td>c4c49d9</td>\n",
       "      <td>CPA3331</td>\n",
       "      <td>Boeing 777-267</td>\n",
       "      <td>B-HNB</td>\n",
       "      <td>Cathay Pacific</td>\n",
       "      <td>Taiwan Taoyuan International Airport</td>\n",
       "      <td>Hong Kong International Airport</td>\n",
       "      <td>0.0</td>\n",
       "      <td>0.0</td>\n",
       "      <td>1.485625e+09</td>\n",
       "      <td>...</td>\n",
       "      <td>2017-01-29 01:39:10</td>\n",
       "      <td>NaT</td>\n",
       "      <td>1970</td>\n",
       "      <td>1</td>\n",
       "      <td>1</td>\n",
       "      <td>1970</td>\n",
       "      <td>1</td>\n",
       "      <td>1</td>\n",
       "      <td>0.0</td>\n",
       "      <td>Taiwan Taoyuan International Airport -&gt; Hong K...</td>\n",
       "    </tr>\n",
       "    <tr>\n",
       "      <th>138451</th>\n",
       "      <td>c4d6c79</td>\n",
       "      <td>EVA6521</td>\n",
       "      <td>Boeing 747-45EF(SCD)</td>\n",
       "      <td>B-16481</td>\n",
       "      <td>EVA Air Cargo</td>\n",
       "      <td>Taiwan Taoyuan International Airport</td>\n",
       "      <td>Hong Kong International Airport</td>\n",
       "      <td>0.0</td>\n",
       "      <td>0.0</td>\n",
       "      <td>1.485672e+09</td>\n",
       "      <td>...</td>\n",
       "      <td>2017-01-29 14:44:55</td>\n",
       "      <td>NaT</td>\n",
       "      <td>1970</td>\n",
       "      <td>1</td>\n",
       "      <td>1</td>\n",
       "      <td>1970</td>\n",
       "      <td>1</td>\n",
       "      <td>1</td>\n",
       "      <td>0.0</td>\n",
       "      <td>Taiwan Taoyuan International Airport -&gt; Hong K...</td>\n",
       "    </tr>\n",
       "    <tr>\n",
       "      <th>266773</th>\n",
       "      <td>c52123f</td>\n",
       "      <td>UPS54</td>\n",
       "      <td>Boeing 747-4R7(F)</td>\n",
       "      <td>N583UP</td>\n",
       "      <td>UPS</td>\n",
       "      <td>Taiwan Taoyuan International Airport</td>\n",
       "      <td>Hong Kong International Airport</td>\n",
       "      <td>0.0</td>\n",
       "      <td>0.0</td>\n",
       "      <td>1.485842e+09</td>\n",
       "      <td>...</td>\n",
       "      <td>2017-01-31 13:59:46</td>\n",
       "      <td>NaT</td>\n",
       "      <td>1970</td>\n",
       "      <td>1</td>\n",
       "      <td>1</td>\n",
       "      <td>1970</td>\n",
       "      <td>1</td>\n",
       "      <td>1</td>\n",
       "      <td>0.0</td>\n",
       "      <td>Taiwan Taoyuan International Airport -&gt; Hong K...</td>\n",
       "    </tr>\n",
       "  </tbody>\n",
       "</table>\n",
       "<p>31 rows × 24 columns</p>\n",
       "</div>"
      ],
      "text/plain": [
       "        flight_id flight_callsign            aircraft_model  \\\n",
       "749480    c0b7b08         EVA6521      Boeing 747-45EF(SCD)   \n",
       "1034334   c1011b8           UPS54         Boeing 747-4R7(F)   \n",
       "1104197   c108418         FDX9171  McDonnell Douglas MD-11F   \n",
       "113366    c12a899         CAL6843         Boeing 747-409(F)   \n",
       "930360    c1a53ee          FDX169            Boeing 777-FS2   \n",
       "1069647   c1a80e2         EVA6529      Boeing 747-45EF(SCD)   \n",
       "17778     c1bc4fa         EVA6521      Boeing 747-45E(BDSF)   \n",
       "268583    c21164c         FDX9171  McDonnell Douglas MD-11F   \n",
       "730102    c2328ba         CAL6843         Boeing 747-409(F)   \n",
       "509209    c2a9dd4          FDX169            Boeing 777-FS2   \n",
       "24196     c2befad         CPA3331            Boeing 777-267   \n",
       "469801    c2c059b         EVA6521      Boeing 747-45E(BDSF)   \n",
       "431010    c310947           UPS54         Boeing 747-44A(F)   \n",
       "708040    c3161a7         FDX9171  McDonnell Douglas MD-11F   \n",
       "93302     c3305a4           CPA25        Airbus A3004F-605R   \n",
       "254181    c333923          NCA699         Boeing 747-481(F)   \n",
       "1102567   c3369c0         CAL6843         Boeing 747-409(F)   \n",
       "833060    c3af6af          FDX169            Boeing 777-FS2   \n",
       "757536    c3b27f5         EVA6529      Boeing 747-45E(BDSF)   \n",
       "789218    c3cb84e         EVA6521      Boeing 747-45E(BDSF)   \n",
       "1060331   c3f8a70         AHK3331        Airbus A300F4-605R   \n",
       "554909    c4118cb         EVA6521      Boeing 747-45E(BDSF)   \n",
       "792492    c412535           UPS54         Boeing 747-4R7(F)   \n",
       "311509    c43f0c9         CAL2919            Boeing 737-8FH   \n",
       "315696    c4672a0         CAL2919            Boeing 737-8FH   \n",
       "337403    c475fa0         CRK9269          Airbus A330-243F   \n",
       "959131    c486d94          HDA867           Airbus A330-342   \n",
       "1069001   c4b5a3a          FDX169            Boeing 777-FS2   \n",
       "957928    c4c49d9         CPA3331            Boeing 777-267   \n",
       "138451    c4d6c79         EVA6521      Boeing 747-45EF(SCD)   \n",
       "266773    c52123f           UPS54         Boeing 747-4R7(F)   \n",
       "\n",
       "        aircraft_registration                                         airline  \\\n",
       "749480                B-16481                                   EVA Air Cargo   \n",
       "1034334                N582UP                                             UPS   \n",
       "1104197                N623FE                                           FedEx   \n",
       "113366                B-18720                            China Airlines Cargo   \n",
       "930360                 N855FD                                           FedEx   \n",
       "1069647               B-16481                                   EVA Air Cargo   \n",
       "17778                 B-16406                                   EVA Air Cargo   \n",
       "268583                 N573FE                                           FedEx   \n",
       "730102                B-18723                            China Airlines Cargo   \n",
       "509209                 N861FD                                           FedEx   \n",
       "24196                   B-HNB                                  Cathay Pacific   \n",
       "469801                B-16406                                   EVA Air Cargo   \n",
       "431010                 N574UP                                             UPS   \n",
       "708040                 N612FE                                           FedEx   \n",
       "93302                   B-LDA                          Air Hong Kong (DHL cs)   \n",
       "254181                 JA04KZ  Nippon Cargo Airlines (Green freighter Livery)   \n",
       "1102567               B-18710                            China Airlines Cargo   \n",
       "833060                 N857FD                                           FedEx   \n",
       "757536                B-16406                                   EVA Air Cargo   \n",
       "789218                B-16401                                   EVA Air Cargo   \n",
       "1060331                 B-LDC                          Air Hong Kong (DHL cs)   \n",
       "554909                B-16406                                   EVA Air Cargo   \n",
       "792492                 N582UP                                             UPS   \n",
       "311509                B-18657                                  China Airlines   \n",
       "315696                B-18657                                  China Airlines   \n",
       "337403                  B-LNZ                              Hong Kong Airlines   \n",
       "959131                  B-LAA                                   Cathay Dragon   \n",
       "1069001                N885FD                                           FedEx   \n",
       "957928                  B-HNB                                  Cathay Pacific   \n",
       "138451                B-16481                                   EVA Air Cargo   \n",
       "266773                 N583UP                                             UPS   \n",
       "\n",
       "                                       origin  \\\n",
       "749480   Taiwan Taoyuan International Airport   \n",
       "1034334  Taiwan Taoyuan International Airport   \n",
       "1104197  Taiwan Taoyuan International Airport   \n",
       "113366   Taiwan Taoyuan International Airport   \n",
       "930360   Taiwan Taoyuan International Airport   \n",
       "1069647  Taiwan Taoyuan International Airport   \n",
       "17778    Taiwan Taoyuan International Airport   \n",
       "268583   Taiwan Taoyuan International Airport   \n",
       "730102   Taiwan Taoyuan International Airport   \n",
       "509209   Taiwan Taoyuan International Airport   \n",
       "24196    Taiwan Taoyuan International Airport   \n",
       "469801   Taiwan Taoyuan International Airport   \n",
       "431010   Taiwan Taoyuan International Airport   \n",
       "708040   Taiwan Taoyuan International Airport   \n",
       "93302    Taiwan Taoyuan International Airport   \n",
       "254181   Taiwan Taoyuan International Airport   \n",
       "1102567  Taiwan Taoyuan International Airport   \n",
       "833060   Taiwan Taoyuan International Airport   \n",
       "757536   Taiwan Taoyuan International Airport   \n",
       "789218   Taiwan Taoyuan International Airport   \n",
       "1060331  Taiwan Taoyuan International Airport   \n",
       "554909   Taiwan Taoyuan International Airport   \n",
       "792492   Taiwan Taoyuan International Airport   \n",
       "311509   Taiwan Taoyuan International Airport   \n",
       "315696   Taiwan Taoyuan International Airport   \n",
       "337403   Taiwan Taoyuan International Airport   \n",
       "959131   Taiwan Taoyuan International Airport   \n",
       "1069001  Taiwan Taoyuan International Airport   \n",
       "957928   Taiwan Taoyuan International Airport   \n",
       "138451   Taiwan Taoyuan International Airport   \n",
       "266773   Taiwan Taoyuan International Airport   \n",
       "\n",
       "                             destination  scheduled_departure_utc  \\\n",
       "749480   Hong Kong International Airport                      0.0   \n",
       "1034334  Hong Kong International Airport                      0.0   \n",
       "1104197  Hong Kong International Airport                      0.0   \n",
       "113366   Hong Kong International Airport                      0.0   \n",
       "930360   Hong Kong International Airport                      0.0   \n",
       "1069647  Hong Kong International Airport                      0.0   \n",
       "17778    Hong Kong International Airport                      0.0   \n",
       "268583   Hong Kong International Airport                      0.0   \n",
       "730102   Hong Kong International Airport                      0.0   \n",
       "509209   Hong Kong International Airport                      0.0   \n",
       "24196    Hong Kong International Airport                      0.0   \n",
       "469801   Hong Kong International Airport                      0.0   \n",
       "431010   Hong Kong International Airport                      0.0   \n",
       "708040   Hong Kong International Airport                      0.0   \n",
       "93302    Hong Kong International Airport                      0.0   \n",
       "254181   Hong Kong International Airport                      0.0   \n",
       "1102567  Hong Kong International Airport                      0.0   \n",
       "833060   Hong Kong International Airport                      0.0   \n",
       "757536   Hong Kong International Airport                      0.0   \n",
       "789218   Hong Kong International Airport                      0.0   \n",
       "1060331  Hong Kong International Airport                      0.0   \n",
       "554909   Hong Kong International Airport                      0.0   \n",
       "792492   Hong Kong International Airport                      0.0   \n",
       "311509   Hong Kong International Airport                      0.0   \n",
       "315696   Hong Kong International Airport                      0.0   \n",
       "337403   Hong Kong International Airport                      0.0   \n",
       "959131   Hong Kong International Airport                      0.0   \n",
       "1069001  Hong Kong International Airport                      0.0   \n",
       "957928   Hong Kong International Airport                      0.0   \n",
       "138451   Hong Kong International Airport                      0.0   \n",
       "266773   Hong Kong International Airport                      0.0   \n",
       "\n",
       "         scheduled_arrival_utc  real_departure_utc  ...   real_departure_dt  \\\n",
       "749480                     0.0        1.483229e+09  ... 2017-01-01 08:07:58   \n",
       "1034334                    0.0        1.483423e+09  ... 2017-01-03 13:52:36   \n",
       "1104197                    0.0        1.483442e+09  ... 2017-01-03 19:15:53   \n",
       "113366                     0.0        1.483516e+09  ... 2017-01-04 15:51:28   \n",
       "930360                     0.0        1.483777e+09  ... 2017-01-07 16:16:04   \n",
       "1069647                    0.0        1.483786e+09  ... 2017-01-07 18:47:22   \n",
       "17778                      0.0        1.483836e+09  ... 2017-01-08 08:42:00   \n",
       "268583                     0.0        1.484047e+09  ... 2017-01-10 19:16:18   \n",
       "730102                     0.0        1.484120e+09  ... 2017-01-11 15:40:58   \n",
       "509209                     0.0        1.484382e+09  ... 2017-01-14 16:21:43   \n",
       "24196                      0.0        1.484433e+09  ... 2017-01-15 06:37:25   \n",
       "469801                     0.0        1.484437e+09  ... 2017-01-15 07:40:14   \n",
       "431010                     0.0        1.484633e+09  ... 2017-01-17 13:56:34   \n",
       "708040                     0.0        1.484651e+09  ... 2017-01-17 18:58:07   \n",
       "93302                      0.0        1.484702e+09  ... 2017-01-18 09:14:25   \n",
       "254181                     0.0        1.484710e+09  ... 2017-01-18 11:21:25   \n",
       "1102567                    0.0        1.484719e+09  ... 2017-01-18 14:01:45   \n",
       "833060                     0.0        1.484988e+09  ... 2017-01-21 16:43:32   \n",
       "757536                     0.0        1.484998e+09  ... 2017-01-21 19:25:57   \n",
       "789218                     0.0        1.485060e+09  ... 2017-01-22 12:39:19   \n",
       "1060331                    0.0        1.485184e+09  ... 2017-01-23 23:01:37   \n",
       "554909                     0.0        1.485233e+09  ... 2017-01-24 12:49:54   \n",
       "792492                     0.0        1.485236e+09  ... 2017-01-24 13:40:27   \n",
       "311509                     0.0        1.485340e+09  ... 2017-01-25 18:21:20   \n",
       "315696                     0.0        1.485426e+09  ... 2017-01-26 18:23:01   \n",
       "337403                     0.0        1.485454e+09  ... 2017-01-27 02:01:06   \n",
       "959131                     0.0        1.485486e+09  ... 2017-01-27 10:53:09   \n",
       "1069001                    0.0        1.485591e+09  ... 2017-01-28 16:17:51   \n",
       "957928                     0.0        1.485625e+09  ... 2017-01-29 01:39:10   \n",
       "138451                     0.0        1.485672e+09  ... 2017-01-29 14:44:55   \n",
       "266773                     0.0        1.485842e+09  ... 2017-01-31 13:59:46   \n",
       "\n",
       "         estimated_arrival_dt scheduled_arrival_year scheduled_arrival_month  \\\n",
       "749480                    NaT                   1970                       1   \n",
       "1034334                   NaT                   1970                       1   \n",
       "1104197                   NaT                   1970                       1   \n",
       "113366                    NaT                   1970                       1   \n",
       "930360                    NaT                   1970                       1   \n",
       "1069647                   NaT                   1970                       1   \n",
       "17778     2017-01-08 10:14:01                   1970                       1   \n",
       "268583                    NaT                   1970                       1   \n",
       "730102                    NaT                   1970                       1   \n",
       "509209                    NaT                   1970                       1   \n",
       "24196                     NaT                   1970                       1   \n",
       "469801                    NaT                   1970                       1   \n",
       "431010    2017-01-17 15:31:06                   1970                       1   \n",
       "708040                    NaT                   1970                       1   \n",
       "93302                     NaT                   1970                       1   \n",
       "254181                    NaT                   1970                       1   \n",
       "1102567                   NaT                   1970                       1   \n",
       "833060    2017-01-21 18:16:35                   1970                       1   \n",
       "757536                    NaT                   1970                       1   \n",
       "789218    2017-01-22 14:33:18                   1970                       1   \n",
       "1060331                   NaT                   1970                       1   \n",
       "554909                    NaT                   1970                       1   \n",
       "792492                    NaT                   1970                       1   \n",
       "311509    2017-01-25 20:12:33                   1970                       1   \n",
       "315696                    NaT                   1970                       1   \n",
       "337403                    NaT                   1970                       1   \n",
       "959131                    NaT                   1970                       1   \n",
       "1069001                   NaT                   1970                       1   \n",
       "957928                    NaT                   1970                       1   \n",
       "138451                    NaT                   1970                       1   \n",
       "266773                    NaT                   1970                       1   \n",
       "\n",
       "        scheduled_arrival_day scheduled_departure_year  \\\n",
       "749480                      1                     1970   \n",
       "1034334                     1                     1970   \n",
       "1104197                     1                     1970   \n",
       "113366                      1                     1970   \n",
       "930360                      1                     1970   \n",
       "1069647                     1                     1970   \n",
       "17778                       1                     1970   \n",
       "268583                      1                     1970   \n",
       "730102                      1                     1970   \n",
       "509209                      1                     1970   \n",
       "24196                       1                     1970   \n",
       "469801                      1                     1970   \n",
       "431010                      1                     1970   \n",
       "708040                      1                     1970   \n",
       "93302                       1                     1970   \n",
       "254181                      1                     1970   \n",
       "1102567                     1                     1970   \n",
       "833060                      1                     1970   \n",
       "757536                      1                     1970   \n",
       "789218                      1                     1970   \n",
       "1060331                     1                     1970   \n",
       "554909                      1                     1970   \n",
       "792492                      1                     1970   \n",
       "311509                      1                     1970   \n",
       "315696                      1                     1970   \n",
       "337403                      1                     1970   \n",
       "959131                      1                     1970   \n",
       "1069001                     1                     1970   \n",
       "957928                      1                     1970   \n",
       "138451                      1                     1970   \n",
       "266773                      1                     1970   \n",
       "\n",
       "         scheduled_departure_month  scheduled_departure_day  \\\n",
       "749480                           1                        1   \n",
       "1034334                          1                        1   \n",
       "1104197                          1                        1   \n",
       "113366                           1                        1   \n",
       "930360                           1                        1   \n",
       "1069647                          1                        1   \n",
       "17778                            1                        1   \n",
       "268583                           1                        1   \n",
       "730102                           1                        1   \n",
       "509209                           1                        1   \n",
       "24196                            1                        1   \n",
       "469801                           1                        1   \n",
       "431010                           1                        1   \n",
       "708040                           1                        1   \n",
       "93302                            1                        1   \n",
       "254181                           1                        1   \n",
       "1102567                          1                        1   \n",
       "833060                           1                        1   \n",
       "757536                           1                        1   \n",
       "789218                           1                        1   \n",
       "1060331                          1                        1   \n",
       "554909                           1                        1   \n",
       "792492                           1                        1   \n",
       "311509                           1                        1   \n",
       "315696                           1                        1   \n",
       "337403                           1                        1   \n",
       "959131                           1                        1   \n",
       "1069001                          1                        1   \n",
       "957928                           1                        1   \n",
       "138451                           1                        1   \n",
       "266773                           1                        1   \n",
       "\n",
       "         scheduled_flight_duration  \\\n",
       "749480                         0.0   \n",
       "1034334                        0.0   \n",
       "1104197                        0.0   \n",
       "113366                         0.0   \n",
       "930360                         0.0   \n",
       "1069647                        0.0   \n",
       "17778                          0.0   \n",
       "268583                         0.0   \n",
       "730102                         0.0   \n",
       "509209                         0.0   \n",
       "24196                          0.0   \n",
       "469801                         0.0   \n",
       "431010                         0.0   \n",
       "708040                         0.0   \n",
       "93302                          0.0   \n",
       "254181                         0.0   \n",
       "1102567                        0.0   \n",
       "833060                         0.0   \n",
       "757536                         0.0   \n",
       "789218                         0.0   \n",
       "1060331                        0.0   \n",
       "554909                         0.0   \n",
       "792492                         0.0   \n",
       "311509                         0.0   \n",
       "315696                         0.0   \n",
       "337403                         0.0   \n",
       "959131                         0.0   \n",
       "1069001                        0.0   \n",
       "957928                         0.0   \n",
       "138451                         0.0   \n",
       "266773                         0.0   \n",
       "\n",
       "                                                     route  \n",
       "749480   Taiwan Taoyuan International Airport -> Hong K...  \n",
       "1034334  Taiwan Taoyuan International Airport -> Hong K...  \n",
       "1104197  Taiwan Taoyuan International Airport -> Hong K...  \n",
       "113366   Taiwan Taoyuan International Airport -> Hong K...  \n",
       "930360   Taiwan Taoyuan International Airport -> Hong K...  \n",
       "1069647  Taiwan Taoyuan International Airport -> Hong K...  \n",
       "17778    Taiwan Taoyuan International Airport -> Hong K...  \n",
       "268583   Taiwan Taoyuan International Airport -> Hong K...  \n",
       "730102   Taiwan Taoyuan International Airport -> Hong K...  \n",
       "509209   Taiwan Taoyuan International Airport -> Hong K...  \n",
       "24196    Taiwan Taoyuan International Airport -> Hong K...  \n",
       "469801   Taiwan Taoyuan International Airport -> Hong K...  \n",
       "431010   Taiwan Taoyuan International Airport -> Hong K...  \n",
       "708040   Taiwan Taoyuan International Airport -> Hong K...  \n",
       "93302    Taiwan Taoyuan International Airport -> Hong K...  \n",
       "254181   Taiwan Taoyuan International Airport -> Hong K...  \n",
       "1102567  Taiwan Taoyuan International Airport -> Hong K...  \n",
       "833060   Taiwan Taoyuan International Airport -> Hong K...  \n",
       "757536   Taiwan Taoyuan International Airport -> Hong K...  \n",
       "789218   Taiwan Taoyuan International Airport -> Hong K...  \n",
       "1060331  Taiwan Taoyuan International Airport -> Hong K...  \n",
       "554909   Taiwan Taoyuan International Airport -> Hong K...  \n",
       "792492   Taiwan Taoyuan International Airport -> Hong K...  \n",
       "311509   Taiwan Taoyuan International Airport -> Hong K...  \n",
       "315696   Taiwan Taoyuan International Airport -> Hong K...  \n",
       "337403   Taiwan Taoyuan International Airport -> Hong K...  \n",
       "959131   Taiwan Taoyuan International Airport -> Hong K...  \n",
       "1069001  Taiwan Taoyuan International Airport -> Hong K...  \n",
       "957928   Taiwan Taoyuan International Airport -> Hong K...  \n",
       "138451   Taiwan Taoyuan International Airport -> Hong K...  \n",
       "266773   Taiwan Taoyuan International Airport -> Hong K...  \n",
       "\n",
       "[31 rows x 24 columns]"
      ]
     },
     "execution_count": 64,
     "metadata": {},
     "output_type": "execute_result"
    }
   ],
   "source": [
    "flights_in_1970 = df_twn_hkg[(df_twn_hkg['scheduled_arrival_dt'].dt.date == pd.Timestamp(\"1970-01-01 00:00:00\")) & \n",
    "                             (df_twn_hkg['scheduled_departure_dt'].dt.date == pd.Timestamp(\"1970-01-01 00:00:00\"))]\n",
    "flights_in_1970.sort_values(by='real_departure_dt')"
   ]
  },
  {
   "cell_type": "code",
   "execution_count": 73,
   "metadata": {},
   "outputs": [
    {
     "data": {
      "text/plain": [
       "(31, 24)"
      ]
     },
     "execution_count": 73,
     "metadata": {},
     "output_type": "execute_result"
    }
   ],
   "source": [
    "flights_in_1970.shape"
   ]
  },
  {
   "cell_type": "code",
   "execution_count": 74,
   "metadata": {},
   "outputs": [
    {
     "data": {
      "text/plain": [
       "EVA6521    6\n",
       "UPS54      4\n",
       "FDX169     4\n",
       "FDX9171    3\n",
       "CAL6843    3\n",
       "CPA3331    2\n",
       "EVA6529    2\n",
       "CAL2919    2\n",
       "AHK3331    1\n",
       "CPA25      1\n",
       "NCA699     1\n",
       "CRK9269    1\n",
       "HDA867     1\n",
       "Name: flight_callsign, dtype: int64"
      ]
     },
     "execution_count": 74,
     "metadata": {},
     "output_type": "execute_result"
    }
   ],
   "source": [
    "flights_in_1970['flight_callsign'].value_counts()"
   ]
  },
  {
   "cell_type": "code",
   "execution_count": 75,
   "metadata": {},
   "outputs": [
    {
     "data": {
      "text/plain": [
       "Boeing 747-45E(BDSF)        5\n",
       "Boeing 777-FS2              4\n",
       "McDonnell Douglas MD-11F    3\n",
       "Boeing 747-45EF(SCD)        3\n",
       "Boeing 747-409(F)           3\n",
       "Boeing 747-4R7(F)           3\n",
       "Boeing 737-8FH              2\n",
       "Boeing 777-267              2\n",
       "Airbus A330-342             1\n",
       "Boeing 747-481(F)           1\n",
       "Airbus A3004F-605R          1\n",
       "Boeing 747-44A(F)           1\n",
       "Airbus A330-243F            1\n",
       "Airbus A300F4-605R          1\n",
       "Name: aircraft_model, dtype: int64"
      ]
     },
     "execution_count": 75,
     "metadata": {},
     "output_type": "execute_result"
    }
   ],
   "source": [
    "flights_in_1970['aircraft_model'].value_counts()"
   ]
  },
  {
   "cell_type": "code",
   "execution_count": 76,
   "metadata": {},
   "outputs": [
    {
     "data": {
      "text/plain": [
       "B-16406    4\n",
       "B-16481    3\n",
       "B-18657    2\n",
       "N582UP     2\n",
       "B-HNB      2\n",
       "B-LAA      1\n",
       "N583UP     1\n",
       "B-18710    1\n",
       "N623FE     1\n",
       "B-18720    1\n",
       "N574UP     1\n",
       "N857FD     1\n",
       "N612FE     1\n",
       "B-16401    1\n",
       "N861FD     1\n",
       "B-LNZ      1\n",
       "B-LDC      1\n",
       "N573FE     1\n",
       "B-LDA      1\n",
       "N855FD     1\n",
       "B-18723    1\n",
       "JA04KZ     1\n",
       "N885FD     1\n",
       "Name: aircraft_registration, dtype: int64"
      ]
     },
     "execution_count": 76,
     "metadata": {},
     "output_type": "execute_result"
    }
   ],
   "source": [
    "flights_in_1970['aircraft_registration'].value_counts()"
   ]
  },
  {
   "cell_type": "code",
   "execution_count": 77,
   "metadata": {},
   "outputs": [
    {
     "data": {
      "text/plain": [
       "EVA Air Cargo                                     8\n",
       "FedEx                                             7\n",
       "UPS                                               4\n",
       "China Airlines Cargo                              3\n",
       "Air Hong Kong (DHL cs)                            2\n",
       "China Airlines                                    2\n",
       "Cathay Pacific                                    2\n",
       "Hong Kong Airlines                                1\n",
       "Cathay Dragon                                     1\n",
       "Nippon Cargo Airlines (Green freighter Livery)    1\n",
       "Name: airline, dtype: int64"
      ]
     },
     "execution_count": 77,
     "metadata": {},
     "output_type": "execute_result"
    }
   ],
   "source": [
    "flights_in_1970['airline'].value_counts()"
   ]
  },
  {
   "cell_type": "code",
   "execution_count": 79,
   "metadata": {},
   "outputs": [
    {
     "data": {
      "text/plain": [
       "4473.0    8\n",
       "4151.0    8\n",
       "5000.0    7\n",
       "4300.0    4\n",
       "5235.0    3\n",
       "Name: real_flight_duration, dtype: int64"
      ]
     },
     "execution_count": 79,
     "metadata": {},
     "output_type": "execute_result"
    }
   ],
   "source": [
    "df_twn_hkg.loc[df_twn_hkg['airline'] == 'EVA Air Cargo', 'real_flight_duration'].value_counts()"
   ]
  },
  {
   "cell_type": "markdown",
   "metadata": {},
   "source": [
    "## Trails"
   ]
  },
  {
   "cell_type": "code",
   "execution_count": 80,
   "metadata": {},
   "outputs": [],
   "source": [
    "trails = pd.read_feather('./AirTracks/all_csv/Jan2017/trails.feather')"
   ]
  },
  {
   "cell_type": "code",
   "execution_count": 81,
   "metadata": {},
   "outputs": [],
   "source": [
    "trails.rename(columns={\n",
    "    'FlightId': 'flight_id',\n",
    "    'Timestamp': 'timestamp_utc'\n",
    "     }, inplace=True)\n",
    "\n",
    "trails.columns = trails.columns.map(lambda x: x.lower())"
   ]
  },
  {
   "cell_type": "code",
   "execution_count": null,
   "metadata": {},
   "outputs": [],
   "source": [
    "# trails.loc[trails['flight_id'] == 'c0b7b08', 'timestamp'].max() - \\\n",
    "# trails.loc[trails['flight_id'] == 'c0b7b08', 'timestamp'].min()"
   ]
  },
  {
   "cell_type": "code",
   "execution_count": 170,
   "metadata": {},
   "outputs": [],
   "source": [
    "# flight_c24c29f = trails.loc[trails['flight_id'] == 'c24c29f', :]"
   ]
  },
  {
   "cell_type": "code",
   "execution_count": 171,
   "metadata": {},
   "outputs": [],
   "source": [
    "# flight_c24c29f.head()"
   ]
  },
  {
   "cell_type": "code",
   "execution_count": 172,
   "metadata": {},
   "outputs": [],
   "source": [
    "# flight_c24c29f.loc[71866, 'timestamp_utc'] - \\\n",
    "# admin.loc[admin['flight_id'] == 'c24c29f', 'real_departure_utc']"
   ]
  },
  {
   "cell_type": "code",
   "execution_count": 208,
   "metadata": {},
   "outputs": [
    {
     "data": {
      "text/plain": [
       "(289890, 7)"
      ]
     },
     "execution_count": 208,
     "metadata": {},
     "output_type": "execute_result"
    }
   ],
   "source": [
    "trails[trails.flight_id.isin(df_twn_hkg.flight_id.unique())].shape"
   ]
  },
  {
   "cell_type": "code",
   "execution_count": 189,
   "metadata": {},
   "outputs": [],
   "source": [
    "combined_twn_hkg = pd.merge(trails,\n",
    "                            df_twn_hkg,\n",
    "                            on='flight_id')\n",
    "# del trails, df_twn_hkg"
   ]
  },
  {
   "cell_type": "code",
   "execution_count": 207,
   "metadata": {},
   "outputs": [
    {
     "data": {
      "text/plain": [
       "(289890, 31)"
      ]
     },
     "execution_count": 207,
     "metadata": {},
     "output_type": "execute_result"
    }
   ],
   "source": [
    "combined_twn_hkg.shape"
   ]
  },
  {
   "cell_type": "code",
   "execution_count": 194,
   "metadata": {},
   "outputs": [
    {
     "data": {
      "text/html": [
       "<div>\n",
       "<style scoped>\n",
       "    .dataframe tbody tr th:only-of-type {\n",
       "        vertical-align: middle;\n",
       "    }\n",
       "\n",
       "    .dataframe tbody tr th {\n",
       "        vertical-align: top;\n",
       "    }\n",
       "\n",
       "    .dataframe thead th {\n",
       "        text-align: right;\n",
       "    }\n",
       "</style>\n",
       "<table border=\"1\" class=\"dataframe\">\n",
       "  <thead>\n",
       "    <tr style=\"text-align: right;\">\n",
       "      <th></th>\n",
       "      <th>flight_id</th>\n",
       "      <th>timestamp_utc</th>\n",
       "      <th>latitude</th>\n",
       "      <th>longitude</th>\n",
       "      <th>altitude</th>\n",
       "      <th>heading</th>\n",
       "      <th>speed</th>\n",
       "      <th>flight_callsign</th>\n",
       "      <th>aircraft_model</th>\n",
       "      <th>aircraft_registration</th>\n",
       "      <th>airline</th>\n",
       "      <th>origin</th>\n",
       "      <th>destination</th>\n",
       "      <th>scheduled_departure_utc</th>\n",
       "      <th>scheduled_arrival_utc</th>\n",
       "      <th>real_departure_utc</th>\n",
       "      <th>estimated_arrival_utc</th>\n",
       "      <th>real_flight_duration</th>\n",
       "      <th>scheduled_departure_dt</th>\n",
       "      <th>scheduled_arrival_dt</th>\n",
       "      <th>real_departure_dt</th>\n",
       "      <th>estimated_arrival_dt</th>\n",
       "      <th>scheduled_arrival_year</th>\n",
       "      <th>scheduled_arrival_month</th>\n",
       "      <th>scheduled_arrival_day</th>\n",
       "      <th>scheduled_departure_year</th>\n",
       "      <th>scheduled_departure_month</th>\n",
       "      <th>scheduled_departure_day</th>\n",
       "      <th>scheduled_flight_duration</th>\n",
       "      <th>route</th>\n",
       "    </tr>\n",
       "  </thead>\n",
       "  <tbody>\n",
       "    <tr>\n",
       "      <th>0</th>\n",
       "      <td>c36108c</td>\n",
       "      <td>1484814608</td>\n",
       "      <td>25.078995</td>\n",
       "      <td>121.237640</td>\n",
       "      <td>0</td>\n",
       "      <td>317</td>\n",
       "      <td>0</td>\n",
       "      <td>CPA405</td>\n",
       "      <td>Airbus A330-343</td>\n",
       "      <td>B-HLU</td>\n",
       "      <td>Cathay Pacific (Oneworld livery)</td>\n",
       "      <td>Taiwan Taoyuan International Airport</td>\n",
       "      <td>Hong Kong International Airport</td>\n",
       "      <td>1.484814e+09</td>\n",
       "      <td>1.484822e+09</td>\n",
       "      <td>1.484816e+09</td>\n",
       "      <td>1.484821e+09</td>\n",
       "      <td>5550.0</td>\n",
       "      <td>2017-01-19 16:20:00</td>\n",
       "      <td>2017-01-19 18:25:00</td>\n",
       "      <td>2017-01-19 16:49:23</td>\n",
       "      <td>2017-01-19 18:18:40</td>\n",
       "      <td>2017</td>\n",
       "      <td>1</td>\n",
       "      <td>19</td>\n",
       "      <td>2017</td>\n",
       "      <td>1</td>\n",
       "      <td>19</td>\n",
       "      <td>7500.0</td>\n",
       "      <td>Taiwan Taoyuan International Airport -&gt; Hong Kong International Airport</td>\n",
       "    </tr>\n",
       "    <tr>\n",
       "      <th>1</th>\n",
       "      <td>c36108c</td>\n",
       "      <td>1484814671</td>\n",
       "      <td>25.078762</td>\n",
       "      <td>121.237846</td>\n",
       "      <td>0</td>\n",
       "      <td>317</td>\n",
       "      <td>9</td>\n",
       "      <td>CPA405</td>\n",
       "      <td>Airbus A330-343</td>\n",
       "      <td>B-HLU</td>\n",
       "      <td>Cathay Pacific (Oneworld livery)</td>\n",
       "      <td>Taiwan Taoyuan International Airport</td>\n",
       "      <td>Hong Kong International Airport</td>\n",
       "      <td>1.484814e+09</td>\n",
       "      <td>1.484822e+09</td>\n",
       "      <td>1.484816e+09</td>\n",
       "      <td>1.484821e+09</td>\n",
       "      <td>5550.0</td>\n",
       "      <td>2017-01-19 16:20:00</td>\n",
       "      <td>2017-01-19 18:25:00</td>\n",
       "      <td>2017-01-19 16:49:23</td>\n",
       "      <td>2017-01-19 18:18:40</td>\n",
       "      <td>2017</td>\n",
       "      <td>1</td>\n",
       "      <td>19</td>\n",
       "      <td>2017</td>\n",
       "      <td>1</td>\n",
       "      <td>19</td>\n",
       "      <td>7500.0</td>\n",
       "      <td>Taiwan Taoyuan International Airport -&gt; Hong Kong International Airport</td>\n",
       "    </tr>\n",
       "    <tr>\n",
       "      <th>2</th>\n",
       "      <td>c36108c</td>\n",
       "      <td>1484814702</td>\n",
       "      <td>25.078505</td>\n",
       "      <td>121.238098</td>\n",
       "      <td>0</td>\n",
       "      <td>312</td>\n",
       "      <td>10</td>\n",
       "      <td>CPA405</td>\n",
       "      <td>Airbus A330-343</td>\n",
       "      <td>B-HLU</td>\n",
       "      <td>Cathay Pacific (Oneworld livery)</td>\n",
       "      <td>Taiwan Taoyuan International Airport</td>\n",
       "      <td>Hong Kong International Airport</td>\n",
       "      <td>1.484814e+09</td>\n",
       "      <td>1.484822e+09</td>\n",
       "      <td>1.484816e+09</td>\n",
       "      <td>1.484821e+09</td>\n",
       "      <td>5550.0</td>\n",
       "      <td>2017-01-19 16:20:00</td>\n",
       "      <td>2017-01-19 18:25:00</td>\n",
       "      <td>2017-01-19 16:49:23</td>\n",
       "      <td>2017-01-19 18:18:40</td>\n",
       "      <td>2017</td>\n",
       "      <td>1</td>\n",
       "      <td>19</td>\n",
       "      <td>2017</td>\n",
       "      <td>1</td>\n",
       "      <td>19</td>\n",
       "      <td>7500.0</td>\n",
       "      <td>Taiwan Taoyuan International Airport -&gt; Hong Kong International Airport</td>\n",
       "    </tr>\n",
       "  </tbody>\n",
       "</table>\n",
       "</div>"
      ],
      "text/plain": [
       "  flight_id  timestamp_utc   latitude   longitude  altitude  heading  speed flight_callsign   aircraft_model aircraft_registration                           airline                                origin                      destination  scheduled_departure_utc  scheduled_arrival_utc  real_departure_utc  estimated_arrival_utc  real_flight_duration scheduled_departure_dt scheduled_arrival_dt   real_departure_dt estimated_arrival_dt  scheduled_arrival_year  scheduled_arrival_month  scheduled_arrival_day  scheduled_departure_year  scheduled_departure_month  scheduled_departure_day  scheduled_flight_duration                                                                    route\n",
       "0  c36108c   1484814608     25.078995  121.237640  0         317      0      CPA405          Airbus A330-343  B-HLU                 Cathay Pacific (Oneworld livery)  Taiwan Taoyuan International Airport  Hong Kong International Airport  1.484814e+09             1.484822e+09           1.484816e+09        1.484821e+09           5550.0               2017-01-19 16:20:00    2017-01-19 18:25:00  2017-01-19 16:49:23 2017-01-19 18:18:40   2017                    1                        19                     2017                      1                          19                       7500.0                     Taiwan Taoyuan International Airport -> Hong Kong International Airport\n",
       "1  c36108c   1484814671     25.078762  121.237846  0         317      9      CPA405          Airbus A330-343  B-HLU                 Cathay Pacific (Oneworld livery)  Taiwan Taoyuan International Airport  Hong Kong International Airport  1.484814e+09             1.484822e+09           1.484816e+09        1.484821e+09           5550.0               2017-01-19 16:20:00    2017-01-19 18:25:00  2017-01-19 16:49:23 2017-01-19 18:18:40   2017                    1                        19                     2017                      1                          19                       7500.0                     Taiwan Taoyuan International Airport -> Hong Kong International Airport\n",
       "2  c36108c   1484814702     25.078505  121.238098  0         312      10     CPA405          Airbus A330-343  B-HLU                 Cathay Pacific (Oneworld livery)  Taiwan Taoyuan International Airport  Hong Kong International Airport  1.484814e+09             1.484822e+09           1.484816e+09        1.484821e+09           5550.0               2017-01-19 16:20:00    2017-01-19 18:25:00  2017-01-19 16:49:23 2017-01-19 18:18:40   2017                    1                        19                     2017                      1                          19                       7500.0                     Taiwan Taoyuan International Airport -> Hong Kong International Airport"
      ]
     },
     "execution_count": 194,
     "metadata": {},
     "output_type": "execute_result"
    }
   ],
   "source": [
    "combined_twn_hkg.head(3)"
   ]
  },
  {
   "cell_type": "code",
   "execution_count": 195,
   "metadata": {},
   "outputs": [],
   "source": [
    "combined_twn_hkg.sort_values(by=['flight_id', 'timestamp_utc'],\n",
    "                             inplace=True)"
   ]
  },
  {
   "cell_type": "code",
   "execution_count": 220,
   "metadata": {},
   "outputs": [
    {
     "data": {
      "text/html": [
       "<div>\n",
       "<style scoped>\n",
       "    .dataframe tbody tr th:only-of-type {\n",
       "        vertical-align: middle;\n",
       "    }\n",
       "\n",
       "    .dataframe tbody tr th {\n",
       "        vertical-align: top;\n",
       "    }\n",
       "\n",
       "    .dataframe thead th {\n",
       "        text-align: right;\n",
       "    }\n",
       "</style>\n",
       "<table border=\"1\" class=\"dataframe\">\n",
       "  <thead>\n",
       "    <tr style=\"text-align: right;\">\n",
       "      <th></th>\n",
       "      <th>flight_id</th>\n",
       "      <th>timestamp_utc</th>\n",
       "      <th>latitude</th>\n",
       "      <th>longitude</th>\n",
       "      <th>altitude</th>\n",
       "      <th>heading</th>\n",
       "      <th>speed</th>\n",
       "      <th>flight_callsign</th>\n",
       "      <th>aircraft_model</th>\n",
       "      <th>aircraft_registration</th>\n",
       "      <th>airline</th>\n",
       "      <th>origin</th>\n",
       "      <th>destination</th>\n",
       "      <th>scheduled_departure_utc</th>\n",
       "      <th>scheduled_arrival_utc</th>\n",
       "      <th>real_departure_utc</th>\n",
       "      <th>estimated_arrival_utc</th>\n",
       "      <th>real_flight_duration</th>\n",
       "      <th>scheduled_departure_dt</th>\n",
       "      <th>scheduled_arrival_dt</th>\n",
       "      <th>real_departure_dt</th>\n",
       "      <th>estimated_arrival_dt</th>\n",
       "      <th>scheduled_arrival_year</th>\n",
       "      <th>scheduled_arrival_month</th>\n",
       "      <th>scheduled_arrival_day</th>\n",
       "      <th>scheduled_departure_year</th>\n",
       "      <th>scheduled_departure_month</th>\n",
       "      <th>scheduled_departure_day</th>\n",
       "      <th>scheduled_flight_duration</th>\n",
       "      <th>route</th>\n",
       "      <th>time_since_real_departure</th>\n",
       "    </tr>\n",
       "  </thead>\n",
       "  <tbody>\n",
       "    <tr>\n",
       "      <th>136362</th>\n",
       "      <td>c126012</td>\n",
       "      <td>1483506833</td>\n",
       "      <td>22.582352</td>\n",
       "      <td>117.917992</td>\n",
       "      <td>34000</td>\n",
       "      <td>237</td>\n",
       "      <td>461</td>\n",
       "      <td>CPA475</td>\n",
       "      <td>Boeing 777-367(ER)</td>\n",
       "      <td>B-KPQ</td>\n",
       "      <td>Cathay Pacific</td>\n",
       "      <td>Taiwan Taoyuan International Airport</td>\n",
       "      <td>Hong Kong International Airport</td>\n",
       "      <td>1.483500e+09</td>\n",
       "      <td>1.483508e+09</td>\n",
       "      <td>1.483505e+09</td>\n",
       "      <td>1.483510e+09</td>\n",
       "      <td>5725.0</td>\n",
       "      <td>2017-01-04 11:20:00</td>\n",
       "      <td>2017-01-04 13:25:00</td>\n",
       "      <td>2017-01-04 12:35:52</td>\n",
       "      <td>2017-01-04 14:14:21</td>\n",
       "      <td>2017</td>\n",
       "      <td>1</td>\n",
       "      <td>4</td>\n",
       "      <td>2017</td>\n",
       "      <td>1</td>\n",
       "      <td>4</td>\n",
       "      <td>7500.0</td>\n",
       "      <td>Taiwan Taoyuan International Airport -&gt; Hong Kong International Airport</td>\n",
       "      <td>2281.0</td>\n",
       "    </tr>\n",
       "  </tbody>\n",
       "</table>\n",
       "</div>"
      ],
      "text/plain": [
       "       flight_id  timestamp_utc   latitude   longitude  altitude  heading  speed flight_callsign      aircraft_model aircraft_registration         airline                                origin                      destination  scheduled_departure_utc  scheduled_arrival_utc  real_departure_utc  estimated_arrival_utc  real_flight_duration scheduled_departure_dt scheduled_arrival_dt   real_departure_dt estimated_arrival_dt  scheduled_arrival_year  scheduled_arrival_month  scheduled_arrival_day  scheduled_departure_year  scheduled_departure_month  scheduled_departure_day  scheduled_flight_duration                                                                    route  time_since_real_departure\n",
       "136362  c126012   1483506833     22.582352  117.917992  34000     237      461    CPA475          Boeing 777-367(ER)  B-KPQ                 Cathay Pacific  Taiwan Taoyuan International Airport  Hong Kong International Airport  1.483500e+09             1.483508e+09           1.483505e+09        1.483510e+09           5725.0               2017-01-04 11:20:00    2017-01-04 13:25:00  2017-01-04 12:35:52 2017-01-04 14:14:21   2017                    1                        4                      2017                      1                          4                        7500.0                     Taiwan Taoyuan International Airport -> Hong Kong International Airport  2281.0                   "
      ]
     },
     "execution_count": 220,
     "metadata": {},
     "output_type": "execute_result"
    }
   ],
   "source": [
    "combined_twn_hkg[combined_twn_hkg.duplicated(subset=['flight_id', 'timestamp_utc'])]"
   ]
  },
  {
   "cell_type": "code",
   "execution_count": 221,
   "metadata": {},
   "outputs": [
    {
     "data": {
      "text/html": [
       "<div>\n",
       "<style scoped>\n",
       "    .dataframe tbody tr th:only-of-type {\n",
       "        vertical-align: middle;\n",
       "    }\n",
       "\n",
       "    .dataframe tbody tr th {\n",
       "        vertical-align: top;\n",
       "    }\n",
       "\n",
       "    .dataframe thead th {\n",
       "        text-align: right;\n",
       "    }\n",
       "</style>\n",
       "<table border=\"1\" class=\"dataframe\">\n",
       "  <thead>\n",
       "    <tr style=\"text-align: right;\">\n",
       "      <th></th>\n",
       "      <th>flight_id</th>\n",
       "      <th>timestamp_utc</th>\n",
       "      <th>latitude</th>\n",
       "      <th>longitude</th>\n",
       "      <th>altitude</th>\n",
       "      <th>heading</th>\n",
       "      <th>speed</th>\n",
       "      <th>flight_callsign</th>\n",
       "      <th>aircraft_model</th>\n",
       "      <th>aircraft_registration</th>\n",
       "      <th>airline</th>\n",
       "      <th>origin</th>\n",
       "      <th>destination</th>\n",
       "      <th>scheduled_departure_utc</th>\n",
       "      <th>scheduled_arrival_utc</th>\n",
       "      <th>real_departure_utc</th>\n",
       "      <th>estimated_arrival_utc</th>\n",
       "      <th>real_flight_duration</th>\n",
       "      <th>scheduled_departure_dt</th>\n",
       "      <th>scheduled_arrival_dt</th>\n",
       "      <th>real_departure_dt</th>\n",
       "      <th>estimated_arrival_dt</th>\n",
       "      <th>scheduled_arrival_year</th>\n",
       "      <th>scheduled_arrival_month</th>\n",
       "      <th>scheduled_arrival_day</th>\n",
       "      <th>scheduled_departure_year</th>\n",
       "      <th>scheduled_departure_month</th>\n",
       "      <th>scheduled_departure_day</th>\n",
       "      <th>scheduled_flight_duration</th>\n",
       "      <th>route</th>\n",
       "      <th>time_since_real_departure</th>\n",
       "    </tr>\n",
       "  </thead>\n",
       "  <tbody>\n",
       "    <tr>\n",
       "      <th>136361</th>\n",
       "      <td>c126012</td>\n",
       "      <td>1483506833</td>\n",
       "      <td>22.684389</td>\n",
       "      <td>118.088074</td>\n",
       "      <td>34000</td>\n",
       "      <td>237</td>\n",
       "      <td>461</td>\n",
       "      <td>CPA475</td>\n",
       "      <td>Boeing 777-367(ER)</td>\n",
       "      <td>B-KPQ</td>\n",
       "      <td>Cathay Pacific</td>\n",
       "      <td>Taiwan Taoyuan International Airport</td>\n",
       "      <td>Hong Kong International Airport</td>\n",
       "      <td>1.483500e+09</td>\n",
       "      <td>1.483508e+09</td>\n",
       "      <td>1.483505e+09</td>\n",
       "      <td>1.483510e+09</td>\n",
       "      <td>5725.0</td>\n",
       "      <td>2017-01-04 11:20:00</td>\n",
       "      <td>2017-01-04 13:25:00</td>\n",
       "      <td>2017-01-04 12:35:52</td>\n",
       "      <td>2017-01-04 14:14:21</td>\n",
       "      <td>2017</td>\n",
       "      <td>1</td>\n",
       "      <td>4</td>\n",
       "      <td>2017</td>\n",
       "      <td>1</td>\n",
       "      <td>4</td>\n",
       "      <td>7500.0</td>\n",
       "      <td>Taiwan Taoyuan International Airport -&gt; Hong Kong International Airport</td>\n",
       "      <td>2281.0</td>\n",
       "    </tr>\n",
       "    <tr>\n",
       "      <th>136362</th>\n",
       "      <td>c126012</td>\n",
       "      <td>1483506833</td>\n",
       "      <td>22.582352</td>\n",
       "      <td>117.917992</td>\n",
       "      <td>34000</td>\n",
       "      <td>237</td>\n",
       "      <td>461</td>\n",
       "      <td>CPA475</td>\n",
       "      <td>Boeing 777-367(ER)</td>\n",
       "      <td>B-KPQ</td>\n",
       "      <td>Cathay Pacific</td>\n",
       "      <td>Taiwan Taoyuan International Airport</td>\n",
       "      <td>Hong Kong International Airport</td>\n",
       "      <td>1.483500e+09</td>\n",
       "      <td>1.483508e+09</td>\n",
       "      <td>1.483505e+09</td>\n",
       "      <td>1.483510e+09</td>\n",
       "      <td>5725.0</td>\n",
       "      <td>2017-01-04 11:20:00</td>\n",
       "      <td>2017-01-04 13:25:00</td>\n",
       "      <td>2017-01-04 12:35:52</td>\n",
       "      <td>2017-01-04 14:14:21</td>\n",
       "      <td>2017</td>\n",
       "      <td>1</td>\n",
       "      <td>4</td>\n",
       "      <td>2017</td>\n",
       "      <td>1</td>\n",
       "      <td>4</td>\n",
       "      <td>7500.0</td>\n",
       "      <td>Taiwan Taoyuan International Airport -&gt; Hong Kong International Airport</td>\n",
       "      <td>2281.0</td>\n",
       "    </tr>\n",
       "  </tbody>\n",
       "</table>\n",
       "</div>"
      ],
      "text/plain": [
       "       flight_id  timestamp_utc   latitude   longitude  altitude  heading  speed flight_callsign      aircraft_model aircraft_registration         airline                                origin                      destination  scheduled_departure_utc  scheduled_arrival_utc  real_departure_utc  estimated_arrival_utc  real_flight_duration scheduled_departure_dt scheduled_arrival_dt   real_departure_dt estimated_arrival_dt  scheduled_arrival_year  scheduled_arrival_month  scheduled_arrival_day  scheduled_departure_year  scheduled_departure_month  scheduled_departure_day  scheduled_flight_duration                                                                    route  time_since_real_departure\n",
       "136361  c126012   1483506833     22.684389  118.088074  34000     237      461    CPA475          Boeing 777-367(ER)  B-KPQ                 Cathay Pacific  Taiwan Taoyuan International Airport  Hong Kong International Airport  1.483500e+09             1.483508e+09           1.483505e+09        1.483510e+09           5725.0               2017-01-04 11:20:00    2017-01-04 13:25:00  2017-01-04 12:35:52 2017-01-04 14:14:21   2017                    1                        4                      2017                      1                          4                        7500.0                     Taiwan Taoyuan International Airport -> Hong Kong International Airport  2281.0                   \n",
       "136362  c126012   1483506833     22.582352  117.917992  34000     237      461    CPA475          Boeing 777-367(ER)  B-KPQ                 Cathay Pacific  Taiwan Taoyuan International Airport  Hong Kong International Airport  1.483500e+09             1.483508e+09           1.483505e+09        1.483510e+09           5725.0               2017-01-04 11:20:00    2017-01-04 13:25:00  2017-01-04 12:35:52 2017-01-04 14:14:21   2017                    1                        4                      2017                      1                          4                        7500.0                     Taiwan Taoyuan International Airport -> Hong Kong International Airport  2281.0                   "
      ]
     },
     "execution_count": 221,
     "metadata": {},
     "output_type": "execute_result"
    }
   ],
   "source": [
    "combined_twn_hkg[(combined_twn_hkg['flight_id'] == 'c126012') &\n",
    "                 (combined_twn_hkg['timestamp_utc'] == 1483506833)]"
   ]
  },
  {
   "cell_type": "code",
   "execution_count": 226,
   "metadata": {},
   "outputs": [
    {
     "data": {
      "text/html": [
       "<div>\n",
       "<style scoped>\n",
       "    .dataframe tbody tr th:only-of-type {\n",
       "        vertical-align: middle;\n",
       "    }\n",
       "\n",
       "    .dataframe tbody tr th {\n",
       "        vertical-align: top;\n",
       "    }\n",
       "\n",
       "    .dataframe thead th {\n",
       "        text-align: right;\n",
       "    }\n",
       "</style>\n",
       "<table border=\"1\" class=\"dataframe\">\n",
       "  <thead>\n",
       "    <tr style=\"text-align: right;\">\n",
       "      <th></th>\n",
       "      <th>flight_id</th>\n",
       "      <th>timestamp_utc</th>\n",
       "      <th>latitude</th>\n",
       "      <th>longitude</th>\n",
       "      <th>heading</th>\n",
       "      <th>speed</th>\n",
       "    </tr>\n",
       "  </thead>\n",
       "  <tbody>\n",
       "    <tr>\n",
       "      <th>136358</th>\n",
       "      <td>c126012</td>\n",
       "      <td>1483506598</td>\n",
       "      <td>22.827221</td>\n",
       "      <td>118.327026</td>\n",
       "      <td>237</td>\n",
       "      <td>459</td>\n",
       "    </tr>\n",
       "    <tr>\n",
       "      <th>136359</th>\n",
       "      <td>c126012</td>\n",
       "      <td>1483506673</td>\n",
       "      <td>22.739691</td>\n",
       "      <td>118.180527</td>\n",
       "      <td>237</td>\n",
       "      <td>460</td>\n",
       "    </tr>\n",
       "    <tr>\n",
       "      <th>136360</th>\n",
       "      <td>c126012</td>\n",
       "      <td>1483506723</td>\n",
       "      <td>22.684389</td>\n",
       "      <td>118.088074</td>\n",
       "      <td>237</td>\n",
       "      <td>460</td>\n",
       "    </tr>\n",
       "    <tr>\n",
       "      <th>136362</th>\n",
       "      <td>c126012</td>\n",
       "      <td>1483506833</td>\n",
       "      <td>22.582352</td>\n",
       "      <td>117.917992</td>\n",
       "      <td>237</td>\n",
       "      <td>461</td>\n",
       "    </tr>\n",
       "    <tr>\n",
       "      <th>136363</th>\n",
       "      <td>c126012</td>\n",
       "      <td>1483506938</td>\n",
       "      <td>22.434130</td>\n",
       "      <td>117.668556</td>\n",
       "      <td>237</td>\n",
       "      <td>462</td>\n",
       "    </tr>\n",
       "    <tr>\n",
       "      <th>136364</th>\n",
       "      <td>c126012</td>\n",
       "      <td>1483507003</td>\n",
       "      <td>22.357731</td>\n",
       "      <td>117.540176</td>\n",
       "      <td>237</td>\n",
       "      <td>461</td>\n",
       "    </tr>\n",
       "    <tr>\n",
       "      <th>136365</th>\n",
       "      <td>c126012</td>\n",
       "      <td>1483507018</td>\n",
       "      <td>22.345169</td>\n",
       "      <td>117.511490</td>\n",
       "      <td>247</td>\n",
       "      <td>461</td>\n",
       "    </tr>\n",
       "  </tbody>\n",
       "</table>\n",
       "</div>"
      ],
      "text/plain": [
       "       flight_id  timestamp_utc   latitude   longitude  heading  speed\n",
       "136358  c126012   1483506598     22.827221  118.327026  237      459  \n",
       "136359  c126012   1483506673     22.739691  118.180527  237      460  \n",
       "136360  c126012   1483506723     22.684389  118.088074  237      460  \n",
       "136362  c126012   1483506833     22.582352  117.917992  237      461  \n",
       "136363  c126012   1483506938     22.434130  117.668556  237      462  \n",
       "136364  c126012   1483507003     22.357731  117.540176  237      461  \n",
       "136365  c126012   1483507018     22.345169  117.511490  247      461  "
      ]
     },
     "execution_count": 226,
     "metadata": {},
     "output_type": "execute_result"
    }
   ],
   "source": [
    "combined_twn_hkg.loc[136361-3:136361+4, ['flight_id', 'timestamp_utc', 'latitude', 'longitude', 'heading', 'speed']]"
   ]
  },
  {
   "cell_type": "markdown",
   "metadata": {},
   "source": [
    "Drop 136361 since it has the same latitude and longitude as 136360"
   ]
  },
  {
   "cell_type": "code",
   "execution_count": 232,
   "metadata": {},
   "outputs": [
    {
     "ename": "KeyError",
     "evalue": "'[136361] not found in axis'",
     "output_type": "error",
     "traceback": [
      "\u001b[0;31m---------------------------------------------------------------------------\u001b[0m",
      "\u001b[0;31mKeyError\u001b[0m                                  Traceback (most recent call last)",
      "\u001b[0;32m<ipython-input-232-e133a9035675>\u001b[0m in \u001b[0;36m<module>\u001b[0;34m\u001b[0m\n\u001b[0;32m----> 1\u001b[0;31m \u001b[0mcombined_twn_hkg\u001b[0m \u001b[0;34m=\u001b[0m \u001b[0mcombined_twn_hkg\u001b[0m\u001b[0;34m.\u001b[0m\u001b[0mdrop\u001b[0m\u001b[0;34m(\u001b[0m\u001b[0;36m136361\u001b[0m\u001b[0;34m)\u001b[0m\u001b[0;34m\u001b[0m\u001b[0;34m\u001b[0m\u001b[0m\n\u001b[0m\u001b[1;32m      2\u001b[0m \u001b[0mcombined_twn_hkg\u001b[0m\u001b[0;34m.\u001b[0m\u001b[0mshape\u001b[0m\u001b[0;34m\u001b[0m\u001b[0;34m\u001b[0m\u001b[0m\n",
      "\u001b[0;32m~/virtualenvs/ga-dsi-capstone/local/lib/python3.6/site-packages/pandas/core/frame.py\u001b[0m in \u001b[0;36mdrop\u001b[0;34m(self, labels, axis, index, columns, level, inplace, errors)\u001b[0m\n\u001b[1;32m   3995\u001b[0m             \u001b[0mlevel\u001b[0m\u001b[0;34m=\u001b[0m\u001b[0mlevel\u001b[0m\u001b[0;34m,\u001b[0m\u001b[0;34m\u001b[0m\u001b[0;34m\u001b[0m\u001b[0m\n\u001b[1;32m   3996\u001b[0m             \u001b[0minplace\u001b[0m\u001b[0;34m=\u001b[0m\u001b[0minplace\u001b[0m\u001b[0;34m,\u001b[0m\u001b[0;34m\u001b[0m\u001b[0;34m\u001b[0m\u001b[0m\n\u001b[0;32m-> 3997\u001b[0;31m             \u001b[0merrors\u001b[0m\u001b[0;34m=\u001b[0m\u001b[0merrors\u001b[0m\u001b[0;34m,\u001b[0m\u001b[0;34m\u001b[0m\u001b[0;34m\u001b[0m\u001b[0m\n\u001b[0m\u001b[1;32m   3998\u001b[0m         )\n\u001b[1;32m   3999\u001b[0m \u001b[0;34m\u001b[0m\u001b[0m\n",
      "\u001b[0;32m~/virtualenvs/ga-dsi-capstone/local/lib/python3.6/site-packages/pandas/core/generic.py\u001b[0m in \u001b[0;36mdrop\u001b[0;34m(self, labels, axis, index, columns, level, inplace, errors)\u001b[0m\n\u001b[1;32m   3934\u001b[0m         \u001b[0;32mfor\u001b[0m \u001b[0maxis\u001b[0m\u001b[0;34m,\u001b[0m \u001b[0mlabels\u001b[0m \u001b[0;32min\u001b[0m \u001b[0maxes\u001b[0m\u001b[0;34m.\u001b[0m\u001b[0mitems\u001b[0m\u001b[0;34m(\u001b[0m\u001b[0;34m)\u001b[0m\u001b[0;34m:\u001b[0m\u001b[0;34m\u001b[0m\u001b[0;34m\u001b[0m\u001b[0m\n\u001b[1;32m   3935\u001b[0m             \u001b[0;32mif\u001b[0m \u001b[0mlabels\u001b[0m \u001b[0;32mis\u001b[0m \u001b[0;32mnot\u001b[0m \u001b[0;32mNone\u001b[0m\u001b[0;34m:\u001b[0m\u001b[0;34m\u001b[0m\u001b[0;34m\u001b[0m\u001b[0m\n\u001b[0;32m-> 3936\u001b[0;31m                 \u001b[0mobj\u001b[0m \u001b[0;34m=\u001b[0m \u001b[0mobj\u001b[0m\u001b[0;34m.\u001b[0m\u001b[0m_drop_axis\u001b[0m\u001b[0;34m(\u001b[0m\u001b[0mlabels\u001b[0m\u001b[0;34m,\u001b[0m \u001b[0maxis\u001b[0m\u001b[0;34m,\u001b[0m \u001b[0mlevel\u001b[0m\u001b[0;34m=\u001b[0m\u001b[0mlevel\u001b[0m\u001b[0;34m,\u001b[0m \u001b[0merrors\u001b[0m\u001b[0;34m=\u001b[0m\u001b[0merrors\u001b[0m\u001b[0;34m)\u001b[0m\u001b[0;34m\u001b[0m\u001b[0;34m\u001b[0m\u001b[0m\n\u001b[0m\u001b[1;32m   3937\u001b[0m \u001b[0;34m\u001b[0m\u001b[0m\n\u001b[1;32m   3938\u001b[0m         \u001b[0;32mif\u001b[0m \u001b[0minplace\u001b[0m\u001b[0;34m:\u001b[0m\u001b[0;34m\u001b[0m\u001b[0;34m\u001b[0m\u001b[0m\n",
      "\u001b[0;32m~/virtualenvs/ga-dsi-capstone/local/lib/python3.6/site-packages/pandas/core/generic.py\u001b[0m in \u001b[0;36m_drop_axis\u001b[0;34m(self, labels, axis, level, errors)\u001b[0m\n\u001b[1;32m   3968\u001b[0m                 \u001b[0mnew_axis\u001b[0m \u001b[0;34m=\u001b[0m \u001b[0maxis\u001b[0m\u001b[0;34m.\u001b[0m\u001b[0mdrop\u001b[0m\u001b[0;34m(\u001b[0m\u001b[0mlabels\u001b[0m\u001b[0;34m,\u001b[0m \u001b[0mlevel\u001b[0m\u001b[0;34m=\u001b[0m\u001b[0mlevel\u001b[0m\u001b[0;34m,\u001b[0m \u001b[0merrors\u001b[0m\u001b[0;34m=\u001b[0m\u001b[0merrors\u001b[0m\u001b[0;34m)\u001b[0m\u001b[0;34m\u001b[0m\u001b[0;34m\u001b[0m\u001b[0m\n\u001b[1;32m   3969\u001b[0m             \u001b[0;32melse\u001b[0m\u001b[0;34m:\u001b[0m\u001b[0;34m\u001b[0m\u001b[0;34m\u001b[0m\u001b[0m\n\u001b[0;32m-> 3970\u001b[0;31m                 \u001b[0mnew_axis\u001b[0m \u001b[0;34m=\u001b[0m \u001b[0maxis\u001b[0m\u001b[0;34m.\u001b[0m\u001b[0mdrop\u001b[0m\u001b[0;34m(\u001b[0m\u001b[0mlabels\u001b[0m\u001b[0;34m,\u001b[0m \u001b[0merrors\u001b[0m\u001b[0;34m=\u001b[0m\u001b[0merrors\u001b[0m\u001b[0;34m)\u001b[0m\u001b[0;34m\u001b[0m\u001b[0;34m\u001b[0m\u001b[0m\n\u001b[0m\u001b[1;32m   3971\u001b[0m             \u001b[0mresult\u001b[0m \u001b[0;34m=\u001b[0m \u001b[0mself\u001b[0m\u001b[0;34m.\u001b[0m\u001b[0mreindex\u001b[0m\u001b[0;34m(\u001b[0m\u001b[0;34m**\u001b[0m\u001b[0;34m{\u001b[0m\u001b[0maxis_name\u001b[0m\u001b[0;34m:\u001b[0m \u001b[0mnew_axis\u001b[0m\u001b[0;34m}\u001b[0m\u001b[0;34m)\u001b[0m\u001b[0;34m\u001b[0m\u001b[0;34m\u001b[0m\u001b[0m\n\u001b[1;32m   3972\u001b[0m \u001b[0;34m\u001b[0m\u001b[0m\n",
      "\u001b[0;32m~/virtualenvs/ga-dsi-capstone/local/lib/python3.6/site-packages/pandas/core/indexes/base.py\u001b[0m in \u001b[0;36mdrop\u001b[0;34m(self, labels, errors)\u001b[0m\n\u001b[1;32m   5016\u001b[0m         \u001b[0;32mif\u001b[0m \u001b[0mmask\u001b[0m\u001b[0;34m.\u001b[0m\u001b[0many\u001b[0m\u001b[0;34m(\u001b[0m\u001b[0;34m)\u001b[0m\u001b[0;34m:\u001b[0m\u001b[0;34m\u001b[0m\u001b[0;34m\u001b[0m\u001b[0m\n\u001b[1;32m   5017\u001b[0m             \u001b[0;32mif\u001b[0m \u001b[0merrors\u001b[0m \u001b[0;34m!=\u001b[0m \u001b[0;34m\"ignore\"\u001b[0m\u001b[0;34m:\u001b[0m\u001b[0;34m\u001b[0m\u001b[0;34m\u001b[0m\u001b[0m\n\u001b[0;32m-> 5018\u001b[0;31m                 \u001b[0;32mraise\u001b[0m \u001b[0mKeyError\u001b[0m\u001b[0;34m(\u001b[0m\u001b[0;34mf\"{labels[mask]} not found in axis\"\u001b[0m\u001b[0;34m)\u001b[0m\u001b[0;34m\u001b[0m\u001b[0;34m\u001b[0m\u001b[0m\n\u001b[0m\u001b[1;32m   5019\u001b[0m             \u001b[0mindexer\u001b[0m \u001b[0;34m=\u001b[0m \u001b[0mindexer\u001b[0m\u001b[0;34m[\u001b[0m\u001b[0;34m~\u001b[0m\u001b[0mmask\u001b[0m\u001b[0;34m]\u001b[0m\u001b[0;34m\u001b[0m\u001b[0;34m\u001b[0m\u001b[0m\n\u001b[1;32m   5020\u001b[0m         \u001b[0;32mreturn\u001b[0m \u001b[0mself\u001b[0m\u001b[0;34m.\u001b[0m\u001b[0mdelete\u001b[0m\u001b[0;34m(\u001b[0m\u001b[0mindexer\u001b[0m\u001b[0;34m)\u001b[0m\u001b[0;34m\u001b[0m\u001b[0;34m\u001b[0m\u001b[0m\n",
      "\u001b[0;31mKeyError\u001b[0m: '[136361] not found in axis'"
     ]
    }
   ],
   "source": [
    "combined_twn_hkg = combined_twn_hkg.drop(136361)\n",
    "combined_twn_hkg.shape"
   ]
  },
  {
   "cell_type": "code",
   "execution_count": 227,
   "metadata": {},
   "outputs": [],
   "source": [
    "combined_twn_hkg['time_since_real_departure'] = combined_twn_hkg['timestamp_utc'] - combined_twn_hkg['real_departure_utc']"
   ]
  },
  {
   "cell_type": "code",
   "execution_count": 228,
   "metadata": {},
   "outputs": [
    {
     "data": {
      "text/html": [
       "<div>\n",
       "<style scoped>\n",
       "    .dataframe tbody tr th:only-of-type {\n",
       "        vertical-align: middle;\n",
       "    }\n",
       "\n",
       "    .dataframe tbody tr th {\n",
       "        vertical-align: top;\n",
       "    }\n",
       "\n",
       "    .dataframe thead th {\n",
       "        text-align: right;\n",
       "    }\n",
       "</style>\n",
       "<table border=\"1\" class=\"dataframe\">\n",
       "  <thead>\n",
       "    <tr style=\"text-align: right;\">\n",
       "      <th></th>\n",
       "      <th>flight_id</th>\n",
       "      <th>timestamp_utc</th>\n",
       "      <th>prev_latitude</th>\n",
       "      <th>prev_longitude</th>\n",
       "    </tr>\n",
       "  </thead>\n",
       "  <tbody>\n",
       "    <tr>\n",
       "      <th>87482</th>\n",
       "      <td>c0aabc0</td>\n",
       "      <td>1483193923</td>\n",
       "      <td>NaN</td>\n",
       "      <td>NaN</td>\n",
       "    </tr>\n",
       "    <tr>\n",
       "      <th>87483</th>\n",
       "      <td>c0aabc0</td>\n",
       "      <td>1483193942</td>\n",
       "      <td>25.089270</td>\n",
       "      <td>121.240158</td>\n",
       "    </tr>\n",
       "    <tr>\n",
       "      <th>87484</th>\n",
       "      <td>c0aabc0</td>\n",
       "      <td>1483194080</td>\n",
       "      <td>25.089512</td>\n",
       "      <td>121.240349</td>\n",
       "    </tr>\n",
       "    <tr>\n",
       "      <th>87485</th>\n",
       "      <td>c0aabc0</td>\n",
       "      <td>1483194271</td>\n",
       "      <td>25.089546</td>\n",
       "      <td>121.240372</td>\n",
       "    </tr>\n",
       "    <tr>\n",
       "      <th>87486</th>\n",
       "      <td>c0aabc0</td>\n",
       "      <td>1483194304</td>\n",
       "      <td>25.089550</td>\n",
       "      <td>121.240372</td>\n",
       "    </tr>\n",
       "    <tr>\n",
       "      <th>...</th>\n",
       "      <td>...</td>\n",
       "      <td>...</td>\n",
       "      <td>...</td>\n",
       "      <td>...</td>\n",
       "    </tr>\n",
       "    <tr>\n",
       "      <th>227685</th>\n",
       "      <td>c52959e</td>\n",
       "      <td>1485870339</td>\n",
       "      <td>22.308723</td>\n",
       "      <td>113.916298</td>\n",
       "    </tr>\n",
       "    <tr>\n",
       "      <th>227686</th>\n",
       "      <td>c52959e</td>\n",
       "      <td>1485870348</td>\n",
       "      <td>22.308483</td>\n",
       "      <td>113.916603</td>\n",
       "    </tr>\n",
       "    <tr>\n",
       "      <th>227687</th>\n",
       "      <td>c52959e</td>\n",
       "      <td>1485870355</td>\n",
       "      <td>22.308449</td>\n",
       "      <td>113.916817</td>\n",
       "    </tr>\n",
       "    <tr>\n",
       "      <th>227688</th>\n",
       "      <td>c52959e</td>\n",
       "      <td>1485870366</td>\n",
       "      <td>22.308659</td>\n",
       "      <td>113.916946</td>\n",
       "    </tr>\n",
       "    <tr>\n",
       "      <th>227689</th>\n",
       "      <td>c52959e</td>\n",
       "      <td>1485870384</td>\n",
       "      <td>22.308746</td>\n",
       "      <td>113.917175</td>\n",
       "    </tr>\n",
       "  </tbody>\n",
       "</table>\n",
       "<p>289889 rows × 4 columns</p>\n",
       "</div>"
      ],
      "text/plain": [
       "       flight_id timestamp_utc  prev_latitude  prev_longitude\n",
       "87482   c0aabc0   1483193923   NaN            NaN            \n",
       "87483   c0aabc0   1483193942    25.089270      121.240158    \n",
       "87484   c0aabc0   1483194080    25.089512      121.240349    \n",
       "87485   c0aabc0   1483194271    25.089546      121.240372    \n",
       "87486   c0aabc0   1483194304    25.089550      121.240372    \n",
       "...         ...          ...          ...             ...    \n",
       "227685  c52959e   1485870339    22.308723      113.916298    \n",
       "227686  c52959e   1485870348    22.308483      113.916603    \n",
       "227687  c52959e   1485870355    22.308449      113.916817    \n",
       "227688  c52959e   1485870366    22.308659      113.916946    \n",
       "227689  c52959e   1485870384    22.308746      113.917175    \n",
       "\n",
       "[289889 rows x 4 columns]"
      ]
     },
     "execution_count": 228,
     "metadata": {},
     "output_type": "execute_result"
    }
   ],
   "source": [
    "# Shift latitude and longitude by 1\n",
    "# for comparison of distance\n",
    "unique_flight_ids = combined_twn_hkg.flight_id.unique().tolist()\n",
    "\n",
    "df_prev_lat_lon = pd.DataFrame(columns=['flight_id', 'timestamp_utc', 'prev_latitude', 'prev_longitude'])\n",
    "\n",
    "for flight_id in unique_flight_ids:\n",
    "    dummy_df = combined_twn_hkg.loc[combined_twn_hkg['flight_id'] == flight_id, \n",
    "                                    ['flight_id', 'timestamp_utc', 'latitude', 'longitude']]\n",
    "    dummy_df[['latitude', 'longitude']] = dummy_df[['latitude', 'longitude']].shift(1)\n",
    "    dummy_df.rename(columns={'latitude': 'prev_latitude',\n",
    "                             'longitude': 'prev_longitude'}, inplace=True)\n",
    "    df_prev_lat_lon = pd.concat([df_prev_lat_lon, dummy_df])\n",
    "df_prev_lat_lon"
   ]
  },
  {
   "cell_type": "code",
   "execution_count": 229,
   "metadata": {},
   "outputs": [],
   "source": [
    "# print(len(unique_flight_ids))\n",
    "# df_prev_lat_lon[['prev_latitude', 'prev_longitude']].isnull().sum()"
   ]
  },
  {
   "cell_type": "code",
   "execution_count": 230,
   "metadata": {},
   "outputs": [
    {
     "data": {
      "text/plain": [
       "(289889, 33)"
      ]
     },
     "execution_count": 230,
     "metadata": {},
     "output_type": "execute_result"
    }
   ],
   "source": [
    "merged_df = pd.merge(combined_twn_hkg,\n",
    "                     df_prev_lat_lon,\n",
    "                     how='left',\n",
    "                     left_on=['flight_id', 'timestamp_utc'],\n",
    "                     right_on=['flight_id', 'timestamp_utc'])\n",
    "merged_df.shape"
   ]
  },
  {
   "cell_type": "code",
   "execution_count": 216,
   "metadata": {},
   "outputs": [],
   "source": [
    "# np.array_equal(combined_twn_hkg.flight_id.value_counts().sort_index().values,\n",
    "#                df_prev_lat_lon.flight_id.value_counts().sort_index().values)"
   ]
  },
  {
   "cell_type": "code",
   "execution_count": 217,
   "metadata": {},
   "outputs": [],
   "source": [
    "# np.array_equal(combined_twn_hkg.timestamp_utc.tolist(),\n",
    "#                df_prev_lat_lon.timestamp_utc.tolist())"
   ]
  },
  {
   "cell_type": "code",
   "execution_count": 100,
   "metadata": {},
   "outputs": [],
   "source": [
    "def haversine(lon1, lat1, lon2, lat2):\n",
    "    \"\"\"\n",
    "    Calculate the great circle distance between two points \n",
    "    on the earth (specified in decimal degrees)\n",
    "    \"\"\"\n",
    "    # convert decimal degrees to radians \n",
    "    lon1, lat1, lon2, lat2 = map(radians, [lon1, lat1, lon2, lat2])\n",
    "\n",
    "    # haversine formula \n",
    "    dlon = lon2 - lon1 \n",
    "    dlat = lat2 - lat1 \n",
    "    a = sin(dlat/2)**2 + cos(lat1) * cos(lat2) * sin(dlon/2)**2\n",
    "    c = 2 * asin(sqrt(a)) \n",
    "    r = 6371 # Radius of earth in kilometers. Use 3956 for miles\n",
    "    return c * r"
   ]
  },
  {
   "cell_type": "markdown",
   "metadata": {},
   "source": [
    "## Plot of all flights (Jakarta Soekarno Hatta International Airport -> Singapore Changi Airport)"
   ]
  },
  {
   "cell_type": "code",
   "execution_count": null,
   "metadata": {},
   "outputs": [],
   "source": [
    "# Reference: https://pbpython.com/pandas-qcut-cut.html\n",
    "# Reference: https://stackoverflow.com/questions/50145702/pandas-cut-doesnt-bin-zero-values\n",
    "cut_labels = ['0 <= speed < 100', \n",
    "              '100 <= speed < 200',\n",
    "              '200 <= speed < 300',\n",
    "              '300 <= speed < 400',\n",
    "              '400 <= speed < 500',\n",
    "              '500 <= speed < 600',\n",
    "              '600 <= speed < 700',\n",
    "              '700 <= speed < 800']\n",
    "cut_bins = [-np.inf, 99, 199, 299, 399, 499, 599, 699, 799]\n",
    "combined_jkt_sin['speed_interval'] = pd.cut(combined_jkt_sin['speed'], bins=cut_bins, labels=cut_labels)\n",
    "\n",
    "# pd.cut(combined_jkt_sin['speed'], bins=np.linspace(0, 800, 9))"
   ]
  },
  {
   "cell_type": "code",
   "execution_count": null,
   "metadata": {},
   "outputs": [],
   "source": [
    "fig, ax = plt.subplots(figsize=(12, 8))\n",
    "sns.scatterplot(ax = ax, x='longitude', y='latitude', data=combined_jkt_sin)\n",
    "plt.show()"
   ]
  },
  {
   "cell_type": "code",
   "execution_count": null,
   "metadata": {},
   "outputs": [],
   "source": [
    "holding_stack_flight_ids = combined_jkt_sin.loc[combined_jkt_sin['latitude'] > 1.5, 'flight_id'].unique().tolist()"
   ]
  },
  {
   "cell_type": "markdown",
   "metadata": {},
   "source": [
    "## Plot of all flights that did not fly a holding pattern (Jakarta Soekarno Hatta International Airport -> Singapore Changi Airport)"
   ]
  },
  {
   "cell_type": "code",
   "execution_count": null,
   "metadata": {},
   "outputs": [],
   "source": [
    "fig, ax = plt.subplots(figsize=(12, 8))\n",
    "sns.scatterplot(ax = ax, x='longitude', y='latitude', hue='speed_interval', marker='<',\n",
    "#                 palette=sns.color_palette(\"Blues\", 8),\n",
    "                palette=sns.cubehelix_palette(8),\n",
    "                data=combined_jkt_sin[~combined_jkt_sin['flight_id'].isin(holding_stack_flight_ids)])\n",
    "plt.show();"
   ]
  },
  {
   "cell_type": "markdown",
   "metadata": {},
   "source": [
    "## Plot of all flights that flew a holding pattern (Jakarta Soekarno Hatta International Airport -> Singapore Changi Airport)"
   ]
  },
  {
   "cell_type": "code",
   "execution_count": null,
   "metadata": {},
   "outputs": [],
   "source": [
    "combined_jkt_sin.loc[combined_jkt_sin['flight_id'].isin(holding_stack_flight_ids), 'speed_interval'].unique()"
   ]
  },
  {
   "cell_type": "code",
   "execution_count": null,
   "metadata": {},
   "outputs": [],
   "source": [
    "fig, ax = plt.subplots(figsize=(12, 8))\n",
    "sns.scatterplot(ax = ax, x='longitude', y='latitude', hue='speed_interval', marker='<',\n",
    "#                 palette=sns.color_palette(\"Blues\", 7),\n",
    "                palette=sns.cubehelix_palette(7),\n",
    "                data=combined_jkt_sin[combined_jkt_sin['flight_id'].isin(holding_stack_flight_ids)])\n",
    "plt.show();"
   ]
  },
  {
   "cell_type": "code",
   "execution_count": null,
   "metadata": {},
   "outputs": [],
   "source": [
    "combined_jkt_sin['real_departure'].min()"
   ]
  },
  {
   "cell_type": "code",
   "execution_count": null,
   "metadata": {},
   "outputs": [],
   "source": [
    "combined_jkt_sin['real_departure'].max()"
   ]
  }
 ],
 "metadata": {
  "kernelspec": {
   "display_name": "Python 3",
   "language": "python",
   "name": "python3"
  },
  "language_info": {
   "codemirror_mode": {
    "name": "ipython",
    "version": 3
   },
   "file_extension": ".py",
   "mimetype": "text/x-python",
   "name": "python",
   "nbconvert_exporter": "python",
   "pygments_lexer": "ipython3",
   "version": "3.6.9"
  }
 },
 "nbformat": 4,
 "nbformat_minor": 2
}
